{
 "cells": [
  {
   "cell_type": "code",
   "execution_count": 1,
   "id": "365a1374-c61f-4de9-bdc1-0703408d8fef",
   "metadata": {
    "id": "365a1374-c61f-4de9-bdc1-0703408d8fef",
    "tags": []
   },
   "outputs": [],
   "source": [
    "import requests\n",
    "from bs4 import BeautifulSoup \n",
    "import pandas as pd\n",
    "import seaborn as sns\n",
    "import matplotlib.pyplot as plt\n",
    "import numpy as np\n",
    "from sklearn.metrics import mean_absolute_percentage_error\n",
    "import statsmodels.api as sm\n",
    "import scipy.stats as stats \n",
    "from sklearn.linear_model import SGDClassifier\n",
    "from sklearn.model_selection import StratifiedKFold, RandomizedSearchCV, train_test_split\n",
    "from statsmodels.formula.api import glm\n",
    "import statsmodels.api as sm\n",
    "from sklearn.preprocessing import OrdinalEncoder, StandardScaler\n",
    "from sklearn.pipeline import Pipeline\n",
    "from sklearn.metrics import classification_report, accuracy_score\n",
    "from sklearn.tree import DecisionTreeClassifier"
   ]
  },
  {
   "cell_type": "markdown",
   "id": "dae027d8-d948-4d1f-8805-e2edd5fd3980",
   "metadata": {
    "id": "dae027d8-d948-4d1f-8805-e2edd5fd3980"
   },
   "source": [
    "# Data import and aggregation steps: \n",
    "\n",
    "    I.\tCollate the information specific to flights, airports (like type of airport, elevation etc) and runway(length_ft, width_ft, surface etc.). Get all those fields in single dataset which you believe may impact the delay. "
   ]
  },
  {
   "cell_type": "code",
   "execution_count": 2,
   "id": "4332cee7-b98c-41b7-9b33-8f014bb8be0f",
   "metadata": {},
   "outputs": [],
   "source": [
    "airlines = pd.read_excel('Airlines.xlsx')\n",
    "airports = pd.read_excel('airports.xlsx')\n",
    "runways = pd.read_excel('runways.xlsx')"
   ]
  },
  {
   "cell_type": "code",
   "execution_count": 3,
   "id": "9ae147be-5d82-479a-8c07-cdbc63dc9328",
   "metadata": {
    "colab": {
     "base_uri": "https://localhost:8080/",
     "height": 206
    },
    "id": "9ae147be-5d82-479a-8c07-cdbc63dc9328",
    "outputId": "ba12e38d-a390-46b9-f6da-78e6de6d28e1",
    "tags": []
   },
   "outputs": [
    {
     "data": {
      "text/html": [
       "<div>\n",
       "<style scoped>\n",
       "    .dataframe tbody tr th:only-of-type {\n",
       "        vertical-align: middle;\n",
       "    }\n",
       "\n",
       "    .dataframe tbody tr th {\n",
       "        vertical-align: top;\n",
       "    }\n",
       "\n",
       "    .dataframe thead th {\n",
       "        text-align: right;\n",
       "    }\n",
       "</style>\n",
       "<table border=\"1\" class=\"dataframe\">\n",
       "  <thead>\n",
       "    <tr style=\"text-align: right;\">\n",
       "      <th></th>\n",
       "      <th>id</th>\n",
       "      <th>Airline</th>\n",
       "      <th>Flight</th>\n",
       "      <th>AirportFrom</th>\n",
       "      <th>AirportTo</th>\n",
       "      <th>DayOfWeek</th>\n",
       "      <th>Time</th>\n",
       "      <th>Length</th>\n",
       "      <th>Delay</th>\n",
       "    </tr>\n",
       "  </thead>\n",
       "  <tbody>\n",
       "    <tr>\n",
       "      <th>0</th>\n",
       "      <td>1</td>\n",
       "      <td>CO</td>\n",
       "      <td>269</td>\n",
       "      <td>SFO</td>\n",
       "      <td>IAH</td>\n",
       "      <td>3</td>\n",
       "      <td>15</td>\n",
       "      <td>205</td>\n",
       "      <td>1</td>\n",
       "    </tr>\n",
       "    <tr>\n",
       "      <th>1</th>\n",
       "      <td>2</td>\n",
       "      <td>US</td>\n",
       "      <td>1558</td>\n",
       "      <td>PHX</td>\n",
       "      <td>CLT</td>\n",
       "      <td>3</td>\n",
       "      <td>15</td>\n",
       "      <td>222</td>\n",
       "      <td>1</td>\n",
       "    </tr>\n",
       "    <tr>\n",
       "      <th>2</th>\n",
       "      <td>3</td>\n",
       "      <td>AA</td>\n",
       "      <td>2400</td>\n",
       "      <td>LAX</td>\n",
       "      <td>DFW</td>\n",
       "      <td>3</td>\n",
       "      <td>20</td>\n",
       "      <td>165</td>\n",
       "      <td>1</td>\n",
       "    </tr>\n",
       "    <tr>\n",
       "      <th>3</th>\n",
       "      <td>4</td>\n",
       "      <td>AA</td>\n",
       "      <td>2466</td>\n",
       "      <td>SFO</td>\n",
       "      <td>DFW</td>\n",
       "      <td>3</td>\n",
       "      <td>20</td>\n",
       "      <td>195</td>\n",
       "      <td>1</td>\n",
       "    </tr>\n",
       "    <tr>\n",
       "      <th>4</th>\n",
       "      <td>5</td>\n",
       "      <td>AS</td>\n",
       "      <td>108</td>\n",
       "      <td>ANC</td>\n",
       "      <td>SEA</td>\n",
       "      <td>3</td>\n",
       "      <td>30</td>\n",
       "      <td>202</td>\n",
       "      <td>0</td>\n",
       "    </tr>\n",
       "  </tbody>\n",
       "</table>\n",
       "</div>"
      ],
      "text/plain": [
       "   id Airline  Flight AirportFrom AirportTo  DayOfWeek  Time  Length  Delay\n",
       "0   1      CO     269         SFO       IAH          3    15     205      1\n",
       "1   2      US    1558         PHX       CLT          3    15     222      1\n",
       "2   3      AA    2400         LAX       DFW          3    20     165      1\n",
       "3   4      AA    2466         SFO       DFW          3    20     195      1\n",
       "4   5      AS     108         ANC       SEA          3    30     202      0"
      ]
     },
     "execution_count": 3,
     "metadata": {},
     "output_type": "execute_result"
    }
   ],
   "source": [
    "airlines.head()"
   ]
  },
  {
   "cell_type": "code",
   "execution_count": 4,
   "id": "23faa405-2037-4010-8cc7-c838ed09bd5a",
   "metadata": {
    "colab": {
     "base_uri": "https://localhost:8080/",
     "height": 191
    },
    "id": "23faa405-2037-4010-8cc7-c838ed09bd5a",
    "outputId": "09eae030-d267-4294-daf2-5c5f4f4261e7",
    "tags": []
   },
   "outputs": [
    {
     "data": {
      "text/html": [
       "<div>\n",
       "<style scoped>\n",
       "    .dataframe tbody tr th:only-of-type {\n",
       "        vertical-align: middle;\n",
       "    }\n",
       "\n",
       "    .dataframe tbody tr th {\n",
       "        vertical-align: top;\n",
       "    }\n",
       "\n",
       "    .dataframe thead th {\n",
       "        text-align: right;\n",
       "    }\n",
       "</style>\n",
       "<table border=\"1\" class=\"dataframe\">\n",
       "  <thead>\n",
       "    <tr style=\"text-align: right;\">\n",
       "      <th></th>\n",
       "      <th>id</th>\n",
       "      <th>ident</th>\n",
       "      <th>type</th>\n",
       "      <th>name</th>\n",
       "      <th>latitude_deg</th>\n",
       "      <th>longitude_deg</th>\n",
       "      <th>elevation_ft</th>\n",
       "      <th>continent</th>\n",
       "      <th>iso_country</th>\n",
       "      <th>iso_region</th>\n",
       "      <th>municipality</th>\n",
       "      <th>scheduled_service</th>\n",
       "      <th>gps_code</th>\n",
       "      <th>iata_code</th>\n",
       "      <th>local_code</th>\n",
       "      <th>home_link</th>\n",
       "      <th>wikipedia_link</th>\n",
       "      <th>keywords</th>\n",
       "    </tr>\n",
       "  </thead>\n",
       "  <tbody>\n",
       "    <tr>\n",
       "      <th>0</th>\n",
       "      <td>6523</td>\n",
       "      <td>00A</td>\n",
       "      <td>heliport</td>\n",
       "      <td>Total Rf Heliport</td>\n",
       "      <td>40.070801</td>\n",
       "      <td>-74.933601</td>\n",
       "      <td>11.0</td>\n",
       "      <td>NaN</td>\n",
       "      <td>US</td>\n",
       "      <td>US-PA</td>\n",
       "      <td>Bensalem</td>\n",
       "      <td>no</td>\n",
       "      <td>00A</td>\n",
       "      <td>NaN</td>\n",
       "      <td>00A</td>\n",
       "      <td>NaN</td>\n",
       "      <td>NaN</td>\n",
       "      <td>NaN</td>\n",
       "    </tr>\n",
       "    <tr>\n",
       "      <th>1</th>\n",
       "      <td>323361</td>\n",
       "      <td>00AA</td>\n",
       "      <td>small_airport</td>\n",
       "      <td>Aero B Ranch Airport</td>\n",
       "      <td>38.704022</td>\n",
       "      <td>-101.473911</td>\n",
       "      <td>3435.0</td>\n",
       "      <td>NaN</td>\n",
       "      <td>US</td>\n",
       "      <td>US-KS</td>\n",
       "      <td>Leoti</td>\n",
       "      <td>no</td>\n",
       "      <td>00AA</td>\n",
       "      <td>NaN</td>\n",
       "      <td>00AA</td>\n",
       "      <td>NaN</td>\n",
       "      <td>NaN</td>\n",
       "      <td>NaN</td>\n",
       "    </tr>\n",
       "  </tbody>\n",
       "</table>\n",
       "</div>"
      ],
      "text/plain": [
       "       id ident           type                  name  latitude_deg  \\\n",
       "0    6523   00A       heliport     Total Rf Heliport     40.070801   \n",
       "1  323361  00AA  small_airport  Aero B Ranch Airport     38.704022   \n",
       "\n",
       "   longitude_deg  elevation_ft continent iso_country iso_region municipality  \\\n",
       "0     -74.933601          11.0       NaN          US      US-PA     Bensalem   \n",
       "1    -101.473911        3435.0       NaN          US      US-KS        Leoti   \n",
       "\n",
       "  scheduled_service gps_code iata_code local_code home_link wikipedia_link  \\\n",
       "0                no      00A       NaN        00A       NaN            NaN   \n",
       "1                no     00AA       NaN       00AA       NaN            NaN   \n",
       "\n",
       "  keywords  \n",
       "0      NaN  \n",
       "1      NaN  "
      ]
     },
     "execution_count": 4,
     "metadata": {},
     "output_type": "execute_result"
    }
   ],
   "source": [
    "airports.head(2)"
   ]
  },
  {
   "cell_type": "code",
   "execution_count": 5,
   "id": "ca4e92d8-88b4-4412-bfed-acc0aca67a3c",
   "metadata": {
    "colab": {
     "base_uri": "https://localhost:8080/",
     "height": 270
    },
    "id": "ca4e92d8-88b4-4412-bfed-acc0aca67a3c",
    "outputId": "f49784cb-0a14-4edc-a268-67650e9fd520",
    "tags": []
   },
   "outputs": [
    {
     "data": {
      "text/html": [
       "<div>\n",
       "<style scoped>\n",
       "    .dataframe tbody tr th:only-of-type {\n",
       "        vertical-align: middle;\n",
       "    }\n",
       "\n",
       "    .dataframe tbody tr th {\n",
       "        vertical-align: top;\n",
       "    }\n",
       "\n",
       "    .dataframe thead th {\n",
       "        text-align: right;\n",
       "    }\n",
       "</style>\n",
       "<table border=\"1\" class=\"dataframe\">\n",
       "  <thead>\n",
       "    <tr style=\"text-align: right;\">\n",
       "      <th></th>\n",
       "      <th>id</th>\n",
       "      <th>airport_ref</th>\n",
       "      <th>airport_ident</th>\n",
       "      <th>length_ft</th>\n",
       "      <th>width_ft</th>\n",
       "      <th>surface</th>\n",
       "      <th>lighted</th>\n",
       "      <th>closed</th>\n",
       "      <th>le_ident</th>\n",
       "      <th>le_latitude_deg</th>\n",
       "      <th>le_longitude_deg</th>\n",
       "      <th>le_elevation_ft</th>\n",
       "      <th>le_heading_degT</th>\n",
       "      <th>le_displaced_threshold_ft</th>\n",
       "      <th>he_ident</th>\n",
       "      <th>he_latitude_deg</th>\n",
       "      <th>he_longitude_deg</th>\n",
       "      <th>he_elevation_ft</th>\n",
       "      <th>he_heading_degT</th>\n",
       "      <th>he_displaced_threshold_ft</th>\n",
       "    </tr>\n",
       "  </thead>\n",
       "  <tbody>\n",
       "    <tr>\n",
       "      <th>0</th>\n",
       "      <td>269408</td>\n",
       "      <td>6523</td>\n",
       "      <td>00A</td>\n",
       "      <td>80.0</td>\n",
       "      <td>80.0</td>\n",
       "      <td>ASPH-G</td>\n",
       "      <td>1</td>\n",
       "      <td>0</td>\n",
       "      <td>H1</td>\n",
       "      <td>NaN</td>\n",
       "      <td>NaN</td>\n",
       "      <td>NaN</td>\n",
       "      <td>NaN</td>\n",
       "      <td>NaN</td>\n",
       "      <td>NaN</td>\n",
       "      <td>NaN</td>\n",
       "      <td>NaN</td>\n",
       "      <td>NaN</td>\n",
       "      <td>NaN</td>\n",
       "      <td>NaN</td>\n",
       "    </tr>\n",
       "    <tr>\n",
       "      <th>1</th>\n",
       "      <td>255155</td>\n",
       "      <td>6524</td>\n",
       "      <td>00AK</td>\n",
       "      <td>2500.0</td>\n",
       "      <td>70.0</td>\n",
       "      <td>GRVL</td>\n",
       "      <td>0</td>\n",
       "      <td>0</td>\n",
       "      <td>N</td>\n",
       "      <td>NaN</td>\n",
       "      <td>NaN</td>\n",
       "      <td>NaN</td>\n",
       "      <td>NaN</td>\n",
       "      <td>NaN</td>\n",
       "      <td>S</td>\n",
       "      <td>NaN</td>\n",
       "      <td>NaN</td>\n",
       "      <td>NaN</td>\n",
       "      <td>NaN</td>\n",
       "      <td>NaN</td>\n",
       "    </tr>\n",
       "    <tr>\n",
       "      <th>2</th>\n",
       "      <td>254165</td>\n",
       "      <td>6525</td>\n",
       "      <td>00AL</td>\n",
       "      <td>2300.0</td>\n",
       "      <td>200.0</td>\n",
       "      <td>TURF</td>\n",
       "      <td>0</td>\n",
       "      <td>0</td>\n",
       "      <td>1</td>\n",
       "      <td>NaN</td>\n",
       "      <td>NaN</td>\n",
       "      <td>NaN</td>\n",
       "      <td>NaN</td>\n",
       "      <td>NaN</td>\n",
       "      <td>19</td>\n",
       "      <td>NaN</td>\n",
       "      <td>NaN</td>\n",
       "      <td>NaN</td>\n",
       "      <td>NaN</td>\n",
       "      <td>NaN</td>\n",
       "    </tr>\n",
       "    <tr>\n",
       "      <th>3</th>\n",
       "      <td>270932</td>\n",
       "      <td>6526</td>\n",
       "      <td>00AR</td>\n",
       "      <td>40.0</td>\n",
       "      <td>40.0</td>\n",
       "      <td>GRASS</td>\n",
       "      <td>0</td>\n",
       "      <td>0</td>\n",
       "      <td>H1</td>\n",
       "      <td>NaN</td>\n",
       "      <td>NaN</td>\n",
       "      <td>NaN</td>\n",
       "      <td>NaN</td>\n",
       "      <td>NaN</td>\n",
       "      <td>H1</td>\n",
       "      <td>NaN</td>\n",
       "      <td>NaN</td>\n",
       "      <td>NaN</td>\n",
       "      <td>NaN</td>\n",
       "      <td>NaN</td>\n",
       "    </tr>\n",
       "    <tr>\n",
       "      <th>4</th>\n",
       "      <td>322128</td>\n",
       "      <td>322127</td>\n",
       "      <td>00AS</td>\n",
       "      <td>1450.0</td>\n",
       "      <td>60.0</td>\n",
       "      <td>Turf</td>\n",
       "      <td>0</td>\n",
       "      <td>0</td>\n",
       "      <td>1</td>\n",
       "      <td>NaN</td>\n",
       "      <td>NaN</td>\n",
       "      <td>NaN</td>\n",
       "      <td>NaN</td>\n",
       "      <td>NaN</td>\n",
       "      <td>19</td>\n",
       "      <td>NaN</td>\n",
       "      <td>NaN</td>\n",
       "      <td>NaN</td>\n",
       "      <td>NaN</td>\n",
       "      <td>NaN</td>\n",
       "    </tr>\n",
       "  </tbody>\n",
       "</table>\n",
       "</div>"
      ],
      "text/plain": [
       "       id  airport_ref airport_ident  length_ft  width_ft surface  lighted  \\\n",
       "0  269408         6523           00A       80.0      80.0  ASPH-G        1   \n",
       "1  255155         6524          00AK     2500.0      70.0    GRVL        0   \n",
       "2  254165         6525          00AL     2300.0     200.0    TURF        0   \n",
       "3  270932         6526          00AR       40.0      40.0   GRASS        0   \n",
       "4  322128       322127          00AS     1450.0      60.0    Turf        0   \n",
       "\n",
       "   closed le_ident  le_latitude_deg  le_longitude_deg  le_elevation_ft  \\\n",
       "0       0       H1              NaN               NaN              NaN   \n",
       "1       0        N              NaN               NaN              NaN   \n",
       "2       0        1              NaN               NaN              NaN   \n",
       "3       0       H1              NaN               NaN              NaN   \n",
       "4       0        1              NaN               NaN              NaN   \n",
       "\n",
       "   le_heading_degT  le_displaced_threshold_ft he_ident  he_latitude_deg  \\\n",
       "0              NaN                        NaN      NaN              NaN   \n",
       "1              NaN                        NaN        S              NaN   \n",
       "2              NaN                        NaN       19              NaN   \n",
       "3              NaN                        NaN       H1              NaN   \n",
       "4              NaN                        NaN       19              NaN   \n",
       "\n",
       "   he_longitude_deg  he_elevation_ft  he_heading_degT  \\\n",
       "0               NaN              NaN              NaN   \n",
       "1               NaN              NaN              NaN   \n",
       "2               NaN              NaN              NaN   \n",
       "3               NaN              NaN              NaN   \n",
       "4               NaN              NaN              NaN   \n",
       "\n",
       "   he_displaced_threshold_ft  \n",
       "0                        NaN  \n",
       "1                        NaN  \n",
       "2                        NaN  \n",
       "3                        NaN  \n",
       "4                        NaN  "
      ]
     },
     "execution_count": 5,
     "metadata": {},
     "output_type": "execute_result"
    }
   ],
   "source": [
    "runways.head()"
   ]
  },
  {
   "cell_type": "code",
   "execution_count": 6,
   "id": "doyW67zFddcr",
   "metadata": {
    "colab": {
     "base_uri": "https://localhost:8080/",
     "height": 191
    },
    "id": "doyW67zFddcr",
    "outputId": "8a33eeb7-df42-4758-d985-8dc155e8f84e",
    "tags": []
   },
   "outputs": [
    {
     "data": {
      "text/html": [
       "<div>\n",
       "<style scoped>\n",
       "    .dataframe tbody tr th:only-of-type {\n",
       "        vertical-align: middle;\n",
       "    }\n",
       "\n",
       "    .dataframe tbody tr th {\n",
       "        vertical-align: top;\n",
       "    }\n",
       "\n",
       "    .dataframe thead th {\n",
       "        text-align: right;\n",
       "    }\n",
       "</style>\n",
       "<table border=\"1\" class=\"dataframe\">\n",
       "  <thead>\n",
       "    <tr style=\"text-align: right;\">\n",
       "      <th></th>\n",
       "      <th>id</th>\n",
       "      <th>ident</th>\n",
       "      <th>type</th>\n",
       "      <th>name</th>\n",
       "      <th>latitude_deg</th>\n",
       "      <th>longitude_deg</th>\n",
       "      <th>elevation_ft</th>\n",
       "      <th>continent</th>\n",
       "      <th>iso_country</th>\n",
       "      <th>iso_region</th>\n",
       "      <th>municipality</th>\n",
       "      <th>scheduled_service</th>\n",
       "      <th>gps_code</th>\n",
       "      <th>iata_code</th>\n",
       "      <th>local_code</th>\n",
       "      <th>home_link</th>\n",
       "      <th>wikipedia_link</th>\n",
       "      <th>keywords</th>\n",
       "    </tr>\n",
       "  </thead>\n",
       "  <tbody>\n",
       "    <tr>\n",
       "      <th>0</th>\n",
       "      <td>6523</td>\n",
       "      <td>00A</td>\n",
       "      <td>heliport</td>\n",
       "      <td>Total Rf Heliport</td>\n",
       "      <td>40.070801</td>\n",
       "      <td>-74.933601</td>\n",
       "      <td>11.0</td>\n",
       "      <td>NaN</td>\n",
       "      <td>US</td>\n",
       "      <td>US-PA</td>\n",
       "      <td>Bensalem</td>\n",
       "      <td>no</td>\n",
       "      <td>00A</td>\n",
       "      <td>NaN</td>\n",
       "      <td>00A</td>\n",
       "      <td>NaN</td>\n",
       "      <td>NaN</td>\n",
       "      <td>NaN</td>\n",
       "    </tr>\n",
       "    <tr>\n",
       "      <th>1</th>\n",
       "      <td>323361</td>\n",
       "      <td>00AA</td>\n",
       "      <td>small_airport</td>\n",
       "      <td>Aero B Ranch Airport</td>\n",
       "      <td>38.704022</td>\n",
       "      <td>-101.473911</td>\n",
       "      <td>3435.0</td>\n",
       "      <td>NaN</td>\n",
       "      <td>US</td>\n",
       "      <td>US-KS</td>\n",
       "      <td>Leoti</td>\n",
       "      <td>no</td>\n",
       "      <td>00AA</td>\n",
       "      <td>NaN</td>\n",
       "      <td>00AA</td>\n",
       "      <td>NaN</td>\n",
       "      <td>NaN</td>\n",
       "      <td>NaN</td>\n",
       "    </tr>\n",
       "  </tbody>\n",
       "</table>\n",
       "</div>"
      ],
      "text/plain": [
       "       id ident           type                  name  latitude_deg  \\\n",
       "0    6523   00A       heliport     Total Rf Heliport     40.070801   \n",
       "1  323361  00AA  small_airport  Aero B Ranch Airport     38.704022   \n",
       "\n",
       "   longitude_deg  elevation_ft continent iso_country iso_region municipality  \\\n",
       "0     -74.933601          11.0       NaN          US      US-PA     Bensalem   \n",
       "1    -101.473911        3435.0       NaN          US      US-KS        Leoti   \n",
       "\n",
       "  scheduled_service gps_code iata_code local_code home_link wikipedia_link  \\\n",
       "0                no      00A       NaN        00A       NaN            NaN   \n",
       "1                no     00AA       NaN       00AA       NaN            NaN   \n",
       "\n",
       "  keywords  \n",
       "0      NaN  \n",
       "1      NaN  "
      ]
     },
     "execution_count": 6,
     "metadata": {},
     "output_type": "execute_result"
    }
   ],
   "source": [
    "airports.head(2)"
   ]
  },
  {
   "cell_type": "code",
   "execution_count": 7,
   "id": "S7aQ-lOVxEve",
   "metadata": {
    "colab": {
     "base_uri": "https://localhost:8080/",
     "height": 258
    },
    "id": "S7aQ-lOVxEve",
    "outputId": "c2c80ce6-a600-49a5-d4b7-36f431c275e2",
    "tags": []
   },
   "outputs": [
    {
     "data": {
      "text/html": [
       "<div>\n",
       "<style scoped>\n",
       "    .dataframe tbody tr th:only-of-type {\n",
       "        vertical-align: middle;\n",
       "    }\n",
       "\n",
       "    .dataframe tbody tr th {\n",
       "        vertical-align: top;\n",
       "    }\n",
       "\n",
       "    .dataframe thead th {\n",
       "        text-align: right;\n",
       "    }\n",
       "</style>\n",
       "<table border=\"1\" class=\"dataframe\">\n",
       "  <thead>\n",
       "    <tr style=\"text-align: right;\">\n",
       "      <th></th>\n",
       "      <th>id_x</th>\n",
       "      <th>ident</th>\n",
       "      <th>type</th>\n",
       "      <th>name</th>\n",
       "      <th>latitude_deg</th>\n",
       "      <th>longitude_deg</th>\n",
       "      <th>elevation_ft</th>\n",
       "      <th>continent</th>\n",
       "      <th>iso_country</th>\n",
       "      <th>iso_region</th>\n",
       "      <th>...</th>\n",
       "      <th>le_longitude_deg</th>\n",
       "      <th>le_elevation_ft</th>\n",
       "      <th>le_heading_degT</th>\n",
       "      <th>le_displaced_threshold_ft</th>\n",
       "      <th>he_ident</th>\n",
       "      <th>he_latitude_deg</th>\n",
       "      <th>he_longitude_deg</th>\n",
       "      <th>he_elevation_ft</th>\n",
       "      <th>he_heading_degT</th>\n",
       "      <th>he_displaced_threshold_ft</th>\n",
       "    </tr>\n",
       "  </thead>\n",
       "  <tbody>\n",
       "    <tr>\n",
       "      <th>0</th>\n",
       "      <td>6523</td>\n",
       "      <td>00A</td>\n",
       "      <td>heliport</td>\n",
       "      <td>Total Rf Heliport</td>\n",
       "      <td>40.070801</td>\n",
       "      <td>-74.933601</td>\n",
       "      <td>11.0</td>\n",
       "      <td>NaN</td>\n",
       "      <td>US</td>\n",
       "      <td>US-PA</td>\n",
       "      <td>...</td>\n",
       "      <td>NaN</td>\n",
       "      <td>NaN</td>\n",
       "      <td>NaN</td>\n",
       "      <td>NaN</td>\n",
       "      <td>NaN</td>\n",
       "      <td>NaN</td>\n",
       "      <td>NaN</td>\n",
       "      <td>NaN</td>\n",
       "      <td>NaN</td>\n",
       "      <td>NaN</td>\n",
       "    </tr>\n",
       "    <tr>\n",
       "      <th>1</th>\n",
       "      <td>323361</td>\n",
       "      <td>00AA</td>\n",
       "      <td>small_airport</td>\n",
       "      <td>Aero B Ranch Airport</td>\n",
       "      <td>38.704022</td>\n",
       "      <td>-101.473911</td>\n",
       "      <td>3435.0</td>\n",
       "      <td>NaN</td>\n",
       "      <td>US</td>\n",
       "      <td>US-KS</td>\n",
       "      <td>...</td>\n",
       "      <td>NaN</td>\n",
       "      <td>NaN</td>\n",
       "      <td>NaN</td>\n",
       "      <td>NaN</td>\n",
       "      <td>NaN</td>\n",
       "      <td>NaN</td>\n",
       "      <td>NaN</td>\n",
       "      <td>NaN</td>\n",
       "      <td>NaN</td>\n",
       "      <td>NaN</td>\n",
       "    </tr>\n",
       "  </tbody>\n",
       "</table>\n",
       "<p>2 rows × 38 columns</p>\n",
       "</div>"
      ],
      "text/plain": [
       "     id_x ident           type                  name  latitude_deg  \\\n",
       "0    6523   00A       heliport     Total Rf Heliport     40.070801   \n",
       "1  323361  00AA  small_airport  Aero B Ranch Airport     38.704022   \n",
       "\n",
       "   longitude_deg  elevation_ft continent iso_country iso_region  ...  \\\n",
       "0     -74.933601          11.0       NaN          US      US-PA  ...   \n",
       "1    -101.473911        3435.0       NaN          US      US-KS  ...   \n",
       "\n",
       "  le_longitude_deg le_elevation_ft le_heading_degT le_displaced_threshold_ft  \\\n",
       "0              NaN             NaN             NaN                       NaN   \n",
       "1              NaN             NaN             NaN                       NaN   \n",
       "\n",
       "  he_ident he_latitude_deg he_longitude_deg he_elevation_ft  he_heading_degT  \\\n",
       "0      NaN             NaN              NaN             NaN              NaN   \n",
       "1      NaN             NaN              NaN             NaN              NaN   \n",
       "\n",
       "   he_displaced_threshold_ft  \n",
       "0                        NaN  \n",
       "1                        NaN  \n",
       "\n",
       "[2 rows x 38 columns]"
      ]
     },
     "execution_count": 7,
     "metadata": {},
     "output_type": "execute_result"
    }
   ],
   "source": [
    "airport_run = pd.merge(airports, runways, left_on = 'ident', right_on = 'airport_ident', how = \"left\")\n",
    "airport_run.head(2)"
   ]
  },
  {
   "cell_type": "code",
   "execution_count": 8,
   "id": "eQbi0BhJx6Ks",
   "metadata": {
    "colab": {
     "base_uri": "https://localhost:8080/",
     "height": 112
    },
    "id": "eQbi0BhJx6Ks",
    "outputId": "91f0e4da-47df-4fff-989f-582cd33a46ad",
    "tags": []
   },
   "outputs": [
    {
     "data": {
      "text/html": [
       "<div>\n",
       "<style scoped>\n",
       "    .dataframe tbody tr th:only-of-type {\n",
       "        vertical-align: middle;\n",
       "    }\n",
       "\n",
       "    .dataframe tbody tr th {\n",
       "        vertical-align: top;\n",
       "    }\n",
       "\n",
       "    .dataframe thead th {\n",
       "        text-align: right;\n",
       "    }\n",
       "</style>\n",
       "<table border=\"1\" class=\"dataframe\">\n",
       "  <thead>\n",
       "    <tr style=\"text-align: right;\">\n",
       "      <th></th>\n",
       "      <th>airport_ident</th>\n",
       "      <th>id_y</th>\n",
       "    </tr>\n",
       "  </thead>\n",
       "  <tbody>\n",
       "    <tr>\n",
       "      <th>0</th>\n",
       "      <td>KORD</td>\n",
       "      <td>11</td>\n",
       "    </tr>\n",
       "    <tr>\n",
       "      <th>1</th>\n",
       "      <td>KNHU</td>\n",
       "      <td>10</td>\n",
       "    </tr>\n",
       "  </tbody>\n",
       "</table>\n",
       "</div>"
      ],
      "text/plain": [
       "  airport_ident  id_y\n",
       "0          KORD    11\n",
       "1          KNHU    10"
      ]
     },
     "execution_count": 8,
     "metadata": {},
     "output_type": "execute_result"
    }
   ],
   "source": [
    "count_runway = airport_run.groupby('airport_ident')[['id_y']].count().sort_values(by = 'id_y', ascending = False).reset_index()\n",
    "count_runway.head(2)"
   ]
  },
  {
   "cell_type": "code",
   "execution_count": 9,
   "id": "cLkGIw5jzM1M",
   "metadata": {
    "colab": {
     "base_uri": "https://localhost:8080/",
     "height": 112
    },
    "id": "cLkGIw5jzM1M",
    "outputId": "6c38f5db-9ad2-4388-fb3c-fecaf85ffc71",
    "tags": []
   },
   "outputs": [
    {
     "data": {
      "text/html": [
       "<div>\n",
       "<style scoped>\n",
       "    .dataframe tbody tr th:only-of-type {\n",
       "        vertical-align: middle;\n",
       "    }\n",
       "\n",
       "    .dataframe tbody tr th {\n",
       "        vertical-align: top;\n",
       "    }\n",
       "\n",
       "    .dataframe thead th {\n",
       "        text-align: right;\n",
       "    }\n",
       "</style>\n",
       "<table border=\"1\" class=\"dataframe\">\n",
       "  <thead>\n",
       "    <tr style=\"text-align: right;\">\n",
       "      <th></th>\n",
       "      <th>iata_code</th>\n",
       "      <th>type</th>\n",
       "      <th>elevation_ft</th>\n",
       "      <th>runway_count</th>\n",
       "    </tr>\n",
       "  </thead>\n",
       "  <tbody>\n",
       "    <tr>\n",
       "      <th>0</th>\n",
       "      <td>NaN</td>\n",
       "      <td>heliport</td>\n",
       "      <td>11.0</td>\n",
       "      <td>1.0</td>\n",
       "    </tr>\n",
       "    <tr>\n",
       "      <th>1</th>\n",
       "      <td>NaN</td>\n",
       "      <td>small_airport</td>\n",
       "      <td>3435.0</td>\n",
       "      <td>NaN</td>\n",
       "    </tr>\n",
       "  </tbody>\n",
       "</table>\n",
       "</div>"
      ],
      "text/plain": [
       "  iata_code           type  elevation_ft  runway_count\n",
       "0       NaN       heliport          11.0           1.0\n",
       "1       NaN  small_airport        3435.0           NaN"
      ]
     },
     "execution_count": 9,
     "metadata": {},
     "output_type": "execute_result"
    }
   ],
   "source": [
    "air_run = pd.merge(airports, count_runway, how = 'left', left_on = 'ident', right_on = 'airport_ident')[['iata_code', 'type', 'elevation_ft','id_y']]\n",
    "air_run.rename(columns = {'id_y': 'runway_count'}, inplace = True)\n",
    "air_run.head(2)"
   ]
  },
  {
   "cell_type": "code",
   "execution_count": 10,
   "id": "41bef85e-411b-4597-ad9f-23909f8982f1",
   "metadata": {},
   "outputs": [],
   "source": [
    "air_run.dropna().to_csv('run_2.csv', index = False)"
   ]
  },
  {
   "cell_type": "code",
   "execution_count": 13,
   "id": "6be55103-ba80-4711-989b-5163e7198cc4",
   "metadata": {
    "colab": {
     "base_uri": "https://localhost:8080/",
     "height": 112
    },
    "id": "6be55103-ba80-4711-989b-5163e7198cc4",
    "outputId": "5ed2b9a5-9fd3-4472-a5ec-ae41df131694",
    "tags": []
   },
   "outputs": [
    {
     "data": {
      "text/html": [
       "<div>\n",
       "<style scoped>\n",
       "    .dataframe tbody tr th:only-of-type {\n",
       "        vertical-align: middle;\n",
       "    }\n",
       "\n",
       "    .dataframe tbody tr th {\n",
       "        vertical-align: top;\n",
       "    }\n",
       "\n",
       "    .dataframe thead th {\n",
       "        text-align: right;\n",
       "    }\n",
       "</style>\n",
       "<table border=\"1\" class=\"dataframe\">\n",
       "  <thead>\n",
       "    <tr style=\"text-align: right;\">\n",
       "      <th></th>\n",
       "      <th>id</th>\n",
       "      <th>Airline</th>\n",
       "      <th>Flight</th>\n",
       "      <th>AirportFrom</th>\n",
       "      <th>AirportTo</th>\n",
       "      <th>DayOfWeek</th>\n",
       "      <th>Time</th>\n",
       "      <th>Length</th>\n",
       "      <th>Delay</th>\n",
       "    </tr>\n",
       "  </thead>\n",
       "  <tbody>\n",
       "    <tr>\n",
       "      <th>0</th>\n",
       "      <td>1</td>\n",
       "      <td>CO</td>\n",
       "      <td>269</td>\n",
       "      <td>SFO</td>\n",
       "      <td>IAH</td>\n",
       "      <td>3</td>\n",
       "      <td>15</td>\n",
       "      <td>205</td>\n",
       "      <td>1</td>\n",
       "    </tr>\n",
       "    <tr>\n",
       "      <th>1</th>\n",
       "      <td>2</td>\n",
       "      <td>US</td>\n",
       "      <td>1558</td>\n",
       "      <td>PHX</td>\n",
       "      <td>CLT</td>\n",
       "      <td>3</td>\n",
       "      <td>15</td>\n",
       "      <td>222</td>\n",
       "      <td>1</td>\n",
       "    </tr>\n",
       "  </tbody>\n",
       "</table>\n",
       "</div>"
      ],
      "text/plain": [
       "   id Airline  Flight AirportFrom AirportTo  DayOfWeek  Time  Length  Delay\n",
       "0   1      CO     269         SFO       IAH          3    15     205      1\n",
       "1   2      US    1558         PHX       CLT          3    15     222      1"
      ]
     },
     "execution_count": 13,
     "metadata": {},
     "output_type": "execute_result"
    }
   ],
   "source": [
    "airlines.head(2)"
   ]
  },
  {
   "cell_type": "code",
   "execution_count": 11,
   "id": "4f6399cc-0d17-493f-9f59-f9a4df2ae844",
   "metadata": {
    "colab": {
     "base_uri": "https://localhost:8080/",
     "height": 112
    },
    "id": "4f6399cc-0d17-493f-9f59-f9a4df2ae844",
    "outputId": "a2c2ded6-13ef-4934-f47c-777565cd8a6b",
    "tags": []
   },
   "outputs": [
    {
     "data": {
      "text/html": [
       "<div>\n",
       "<style scoped>\n",
       "    .dataframe tbody tr th:only-of-type {\n",
       "        vertical-align: middle;\n",
       "    }\n",
       "\n",
       "    .dataframe tbody tr th {\n",
       "        vertical-align: top;\n",
       "    }\n",
       "\n",
       "    .dataframe thead th {\n",
       "        text-align: right;\n",
       "    }\n",
       "</style>\n",
       "<table border=\"1\" class=\"dataframe\">\n",
       "  <thead>\n",
       "    <tr style=\"text-align: right;\">\n",
       "      <th></th>\n",
       "      <th>id</th>\n",
       "      <th>Airline</th>\n",
       "      <th>Flight</th>\n",
       "      <th>AirportFrom</th>\n",
       "      <th>AirportTo</th>\n",
       "      <th>DayOfWeek</th>\n",
       "      <th>Time</th>\n",
       "      <th>Length</th>\n",
       "      <th>Delay</th>\n",
       "      <th>iata_code_source_airport</th>\n",
       "      <th>type_source_airport</th>\n",
       "      <th>elevation_ft_source_airport</th>\n",
       "      <th>runway_count_source_airport</th>\n",
       "    </tr>\n",
       "  </thead>\n",
       "  <tbody>\n",
       "    <tr>\n",
       "      <th>0</th>\n",
       "      <td>1</td>\n",
       "      <td>CO</td>\n",
       "      <td>269</td>\n",
       "      <td>SFO</td>\n",
       "      <td>IAH</td>\n",
       "      <td>3</td>\n",
       "      <td>15</td>\n",
       "      <td>205</td>\n",
       "      <td>1</td>\n",
       "      <td>SFO</td>\n",
       "      <td>large_airport</td>\n",
       "      <td>13.0</td>\n",
       "      <td>4.0</td>\n",
       "    </tr>\n",
       "    <tr>\n",
       "      <th>1</th>\n",
       "      <td>2</td>\n",
       "      <td>US</td>\n",
       "      <td>1558</td>\n",
       "      <td>PHX</td>\n",
       "      <td>CLT</td>\n",
       "      <td>3</td>\n",
       "      <td>15</td>\n",
       "      <td>222</td>\n",
       "      <td>1</td>\n",
       "      <td>PHX</td>\n",
       "      <td>large_airport</td>\n",
       "      <td>1135.0</td>\n",
       "      <td>3.0</td>\n",
       "    </tr>\n",
       "  </tbody>\n",
       "</table>\n",
       "</div>"
      ],
      "text/plain": [
       "   id Airline  Flight AirportFrom AirportTo  DayOfWeek  Time  Length  Delay  \\\n",
       "0   1      CO     269         SFO       IAH          3    15     205      1   \n",
       "1   2      US    1558         PHX       CLT          3    15     222      1   \n",
       "\n",
       "  iata_code_source_airport type_source_airport  elevation_ft_source_airport  \\\n",
       "0                      SFO       large_airport                         13.0   \n",
       "1                      PHX       large_airport                       1135.0   \n",
       "\n",
       "   runway_count_source_airport  \n",
       "0                          4.0  \n",
       "1                          3.0  "
      ]
     },
     "execution_count": 11,
     "metadata": {},
     "output_type": "execute_result"
    }
   ],
   "source": [
    "combined_data = pd.merge(airlines, air_run, how = 'left', left_on = 'AirportFrom', right_on = 'iata_code')\n",
    "\n",
    "new_names = list(combined_data[air_run.columns].columns + '_source_airport')\n",
    "old_names = list(combined_data[air_run.columns].columns)\n",
    "\n",
    "combined_data.rename(columns = {old:new for old,new in zip(old_names, new_names)}, inplace = True)\n",
    "combined_data.head(2)"
   ]
  },
  {
   "cell_type": "code",
   "execution_count": 12,
   "id": "ghf0prEejtIE",
   "metadata": {
    "colab": {
     "base_uri": "https://localhost:8080/"
    },
    "id": "ghf0prEejtIE",
    "outputId": "ec3bcfed-0bfb-43aa-e4c0-46945f7a3f19",
    "tags": []
   },
   "outputs": [
    {
     "data": {
      "text/plain": [
       "Index(['id', 'Airline', 'Flight', 'AirportFrom', 'AirportTo', 'DayOfWeek',\n",
       "       'Time', 'Length', 'Delay', 'iata_code_source_airport',\n",
       "       'type_source_airport', 'elevation_ft_source_airport',\n",
       "       'runway_count_source_airport'],\n",
       "      dtype='object')"
      ]
     },
     "execution_count": 12,
     "metadata": {},
     "output_type": "execute_result"
    }
   ],
   "source": [
    "combined_data.columns"
   ]
  },
  {
   "cell_type": "code",
   "execution_count": 13,
   "id": "tTwVgeUPw8V3",
   "metadata": {
    "id": "tTwVgeUPw8V3",
    "tags": []
   },
   "outputs": [],
   "source": [
    "combined_data = pd.merge(combined_data, air_run, how = 'left', left_on = 'AirportTo', right_on = 'iata_code')\n"
   ]
  },
  {
   "cell_type": "code",
   "execution_count": 14,
   "id": "P5mF5mGH3is_",
   "metadata": {
    "colab": {
     "base_uri": "https://localhost:8080/",
     "height": 176
    },
    "id": "P5mF5mGH3is_",
    "outputId": "79447893-34b1-4a0d-ba68-87a355f39874",
    "tags": []
   },
   "outputs": [
    {
     "data": {
      "text/html": [
       "<div>\n",
       "<style scoped>\n",
       "    .dataframe tbody tr th:only-of-type {\n",
       "        vertical-align: middle;\n",
       "    }\n",
       "\n",
       "    .dataframe tbody tr th {\n",
       "        vertical-align: top;\n",
       "    }\n",
       "\n",
       "    .dataframe thead th {\n",
       "        text-align: right;\n",
       "    }\n",
       "</style>\n",
       "<table border=\"1\" class=\"dataframe\">\n",
       "  <thead>\n",
       "    <tr style=\"text-align: right;\">\n",
       "      <th></th>\n",
       "      <th>id</th>\n",
       "      <th>Airline</th>\n",
       "      <th>Flight</th>\n",
       "      <th>AirportFrom</th>\n",
       "      <th>AirportTo</th>\n",
       "      <th>DayOfWeek</th>\n",
       "      <th>Time</th>\n",
       "      <th>Length</th>\n",
       "      <th>Delay</th>\n",
       "      <th>iata_code_source_airport</th>\n",
       "      <th>type_source_airport</th>\n",
       "      <th>elevation_ft_source_airport</th>\n",
       "      <th>runway_count_source_airport</th>\n",
       "      <th>iata_code_dest_airport</th>\n",
       "      <th>type_dest_airport</th>\n",
       "      <th>elevation_ft_dest_airport</th>\n",
       "      <th>runway_count_dest_airport</th>\n",
       "    </tr>\n",
       "  </thead>\n",
       "  <tbody>\n",
       "    <tr>\n",
       "      <th>0</th>\n",
       "      <td>1</td>\n",
       "      <td>CO</td>\n",
       "      <td>269</td>\n",
       "      <td>SFO</td>\n",
       "      <td>IAH</td>\n",
       "      <td>3</td>\n",
       "      <td>15</td>\n",
       "      <td>205</td>\n",
       "      <td>1</td>\n",
       "      <td>SFO</td>\n",
       "      <td>large_airport</td>\n",
       "      <td>13.0</td>\n",
       "      <td>4.0</td>\n",
       "      <td>IAH</td>\n",
       "      <td>large_airport</td>\n",
       "      <td>97.0</td>\n",
       "      <td>5.0</td>\n",
       "    </tr>\n",
       "    <tr>\n",
       "      <th>1</th>\n",
       "      <td>2</td>\n",
       "      <td>US</td>\n",
       "      <td>1558</td>\n",
       "      <td>PHX</td>\n",
       "      <td>CLT</td>\n",
       "      <td>3</td>\n",
       "      <td>15</td>\n",
       "      <td>222</td>\n",
       "      <td>1</td>\n",
       "      <td>PHX</td>\n",
       "      <td>large_airport</td>\n",
       "      <td>1135.0</td>\n",
       "      <td>3.0</td>\n",
       "      <td>CLT</td>\n",
       "      <td>large_airport</td>\n",
       "      <td>748.0</td>\n",
       "      <td>4.0</td>\n",
       "    </tr>\n",
       "  </tbody>\n",
       "</table>\n",
       "</div>"
      ],
      "text/plain": [
       "   id Airline  Flight AirportFrom AirportTo  DayOfWeek  Time  Length  Delay  \\\n",
       "0   1      CO     269         SFO       IAH          3    15     205      1   \n",
       "1   2      US    1558         PHX       CLT          3    15     222      1   \n",
       "\n",
       "  iata_code_source_airport type_source_airport  elevation_ft_source_airport  \\\n",
       "0                      SFO       large_airport                         13.0   \n",
       "1                      PHX       large_airport                       1135.0   \n",
       "\n",
       "   runway_count_source_airport iata_code_dest_airport type_dest_airport  \\\n",
       "0                          4.0                    IAH     large_airport   \n",
       "1                          3.0                    CLT     large_airport   \n",
       "\n",
       "   elevation_ft_dest_airport  runway_count_dest_airport  \n",
       "0                       97.0                        5.0  \n",
       "1                      748.0                        4.0  "
      ]
     },
     "execution_count": 14,
     "metadata": {},
     "output_type": "execute_result"
    }
   ],
   "source": [
    "new_names = list(combined_data[air_run.columns].columns + '_dest_airport')\n",
    "old_names = list(combined_data[air_run.columns].columns)\n",
    "combined_data.rename(columns = {old:new for old,new in zip(old_names, new_names)}, inplace = True)\n",
    "combined_data.head(2)"
   ]
  },
  {
   "cell_type": "code",
   "execution_count": 15,
   "id": "-7xnxy8138Rs",
   "metadata": {
    "id": "-7xnxy8138Rs",
    "tags": []
   },
   "outputs": [],
   "source": [
    "# drop iata_code columns \n",
    "combined_data.drop(columns =  list(combined_data.columns[combined_data.columns.str.startswith('iata_code')]), inplace = True)"
   ]
  },
  {
   "cell_type": "code",
   "execution_count": 16,
   "id": "73ba13d0",
   "metadata": {},
   "outputs": [
    {
     "data": {
      "text/html": [
       "<div>\n",
       "<style scoped>\n",
       "    .dataframe tbody tr th:only-of-type {\n",
       "        vertical-align: middle;\n",
       "    }\n",
       "\n",
       "    .dataframe tbody tr th {\n",
       "        vertical-align: top;\n",
       "    }\n",
       "\n",
       "    .dataframe thead th {\n",
       "        text-align: right;\n",
       "    }\n",
       "</style>\n",
       "<table border=\"1\" class=\"dataframe\">\n",
       "  <thead>\n",
       "    <tr style=\"text-align: right;\">\n",
       "      <th></th>\n",
       "      <th>id</th>\n",
       "      <th>Airline</th>\n",
       "      <th>Flight</th>\n",
       "      <th>AirportFrom</th>\n",
       "      <th>AirportTo</th>\n",
       "      <th>DayOfWeek</th>\n",
       "      <th>Time</th>\n",
       "      <th>Length</th>\n",
       "      <th>Delay</th>\n",
       "      <th>type_source_airport</th>\n",
       "      <th>elevation_ft_source_airport</th>\n",
       "      <th>runway_count_source_airport</th>\n",
       "      <th>type_dest_airport</th>\n",
       "      <th>elevation_ft_dest_airport</th>\n",
       "      <th>runway_count_dest_airport</th>\n",
       "    </tr>\n",
       "  </thead>\n",
       "  <tbody>\n",
       "    <tr>\n",
       "      <th>0</th>\n",
       "      <td>1</td>\n",
       "      <td>CO</td>\n",
       "      <td>269</td>\n",
       "      <td>SFO</td>\n",
       "      <td>IAH</td>\n",
       "      <td>3</td>\n",
       "      <td>15</td>\n",
       "      <td>205</td>\n",
       "      <td>1</td>\n",
       "      <td>large_airport</td>\n",
       "      <td>13.0</td>\n",
       "      <td>4.0</td>\n",
       "      <td>large_airport</td>\n",
       "      <td>97.0</td>\n",
       "      <td>5.0</td>\n",
       "    </tr>\n",
       "    <tr>\n",
       "      <th>1</th>\n",
       "      <td>2</td>\n",
       "      <td>US</td>\n",
       "      <td>1558</td>\n",
       "      <td>PHX</td>\n",
       "      <td>CLT</td>\n",
       "      <td>3</td>\n",
       "      <td>15</td>\n",
       "      <td>222</td>\n",
       "      <td>1</td>\n",
       "      <td>large_airport</td>\n",
       "      <td>1135.0</td>\n",
       "      <td>3.0</td>\n",
       "      <td>large_airport</td>\n",
       "      <td>748.0</td>\n",
       "      <td>4.0</td>\n",
       "    </tr>\n",
       "    <tr>\n",
       "      <th>2</th>\n",
       "      <td>3</td>\n",
       "      <td>AA</td>\n",
       "      <td>2400</td>\n",
       "      <td>LAX</td>\n",
       "      <td>DFW</td>\n",
       "      <td>3</td>\n",
       "      <td>20</td>\n",
       "      <td>165</td>\n",
       "      <td>1</td>\n",
       "      <td>large_airport</td>\n",
       "      <td>125.0</td>\n",
       "      <td>4.0</td>\n",
       "      <td>large_airport</td>\n",
       "      <td>607.0</td>\n",
       "      <td>7.0</td>\n",
       "    </tr>\n",
       "    <tr>\n",
       "      <th>3</th>\n",
       "      <td>4</td>\n",
       "      <td>AA</td>\n",
       "      <td>2466</td>\n",
       "      <td>SFO</td>\n",
       "      <td>DFW</td>\n",
       "      <td>3</td>\n",
       "      <td>20</td>\n",
       "      <td>195</td>\n",
       "      <td>1</td>\n",
       "      <td>large_airport</td>\n",
       "      <td>13.0</td>\n",
       "      <td>4.0</td>\n",
       "      <td>large_airport</td>\n",
       "      <td>607.0</td>\n",
       "      <td>7.0</td>\n",
       "    </tr>\n",
       "    <tr>\n",
       "      <th>4</th>\n",
       "      <td>5</td>\n",
       "      <td>AS</td>\n",
       "      <td>108</td>\n",
       "      <td>ANC</td>\n",
       "      <td>SEA</td>\n",
       "      <td>3</td>\n",
       "      <td>30</td>\n",
       "      <td>202</td>\n",
       "      <td>0</td>\n",
       "      <td>large_airport</td>\n",
       "      <td>152.0</td>\n",
       "      <td>3.0</td>\n",
       "      <td>large_airport</td>\n",
       "      <td>433.0</td>\n",
       "      <td>4.0</td>\n",
       "    </tr>\n",
       "  </tbody>\n",
       "</table>\n",
       "</div>"
      ],
      "text/plain": [
       "   id Airline  Flight AirportFrom AirportTo  DayOfWeek  Time  Length  Delay  \\\n",
       "0   1      CO     269         SFO       IAH          3    15     205      1   \n",
       "1   2      US    1558         PHX       CLT          3    15     222      1   \n",
       "2   3      AA    2400         LAX       DFW          3    20     165      1   \n",
       "3   4      AA    2466         SFO       DFW          3    20     195      1   \n",
       "4   5      AS     108         ANC       SEA          3    30     202      0   \n",
       "\n",
       "  type_source_airport  elevation_ft_source_airport  \\\n",
       "0       large_airport                         13.0   \n",
       "1       large_airport                       1135.0   \n",
       "2       large_airport                        125.0   \n",
       "3       large_airport                         13.0   \n",
       "4       large_airport                        152.0   \n",
       "\n",
       "   runway_count_source_airport type_dest_airport  elevation_ft_dest_airport  \\\n",
       "0                          4.0     large_airport                       97.0   \n",
       "1                          3.0     large_airport                      748.0   \n",
       "2                          4.0     large_airport                      607.0   \n",
       "3                          4.0     large_airport                      607.0   \n",
       "4                          3.0     large_airport                      433.0   \n",
       "\n",
       "   runway_count_dest_airport  \n",
       "0                        5.0  \n",
       "1                        4.0  \n",
       "2                        7.0  \n",
       "3                        7.0  \n",
       "4                        4.0  "
      ]
     },
     "execution_count": 16,
     "metadata": {},
     "output_type": "execute_result"
    }
   ],
   "source": [
    "combined_data.head()"
   ]
  },
  {
   "cell_type": "code",
   "execution_count": 17,
   "id": "ff198506",
   "metadata": {},
   "outputs": [],
   "source": [
    "test = pd.read_html(\"https://en.wikipedia.org/wiki/List_of_airlines_of_the_United_States\")"
   ]
  },
  {
   "cell_type": "code",
   "execution_count": 18,
   "id": "bd0055f3",
   "metadata": {},
   "outputs": [
    {
     "data": {
      "text/plain": [
       "21"
      ]
     },
     "execution_count": 18,
     "metadata": {},
     "output_type": "execute_result"
    }
   ],
   "source": [
    "len(test)"
   ]
  },
  {
   "cell_type": "code",
   "execution_count": 19,
   "id": "0315bd0f",
   "metadata": {},
   "outputs": [
    {
     "data": {
      "text/html": [
       "<div>\n",
       "<style scoped>\n",
       "    .dataframe tbody tr th:only-of-type {\n",
       "        vertical-align: middle;\n",
       "    }\n",
       "\n",
       "    .dataframe tbody tr th {\n",
       "        vertical-align: top;\n",
       "    }\n",
       "\n",
       "    .dataframe thead th {\n",
       "        text-align: right;\n",
       "    }\n",
       "</style>\n",
       "<table border=\"1\" class=\"dataframe\">\n",
       "  <thead>\n",
       "    <tr style=\"text-align: right;\">\n",
       "      <th></th>\n",
       "      <th>Airline</th>\n",
       "      <th>Image</th>\n",
       "      <th>IATA</th>\n",
       "      <th>ICAO</th>\n",
       "      <th>Callsign</th>\n",
       "      <th>Primary hubs, secondary hubs</th>\n",
       "      <th>Founded</th>\n",
       "      <th>Notes</th>\n",
       "    </tr>\n",
       "  </thead>\n",
       "  <tbody>\n",
       "    <tr>\n",
       "      <th>0</th>\n",
       "      <td>Alaska Airlines</td>\n",
       "      <td>NaN</td>\n",
       "      <td>AS</td>\n",
       "      <td>ASA</td>\n",
       "      <td>ALASKA</td>\n",
       "      <td>Seattle/Tacoma Anchorage Portland (OR) San Fra...</td>\n",
       "      <td>1932</td>\n",
       "      <td>Founded as McGee Airways and commenced operati...</td>\n",
       "    </tr>\n",
       "    <tr>\n",
       "      <th>1</th>\n",
       "      <td>Allegiant Air</td>\n",
       "      <td>NaN</td>\n",
       "      <td>G4</td>\n",
       "      <td>AAY</td>\n",
       "      <td>ALLEGIANT</td>\n",
       "      <td>Las Vegas Cincinnati Destin/Ft. Walton Beach I...</td>\n",
       "      <td>1997</td>\n",
       "      <td>Founded as WestJet Express and began operation...</td>\n",
       "    </tr>\n",
       "    <tr>\n",
       "      <th>2</th>\n",
       "      <td>American Airlines</td>\n",
       "      <td>NaN</td>\n",
       "      <td>AA</td>\n",
       "      <td>AAL</td>\n",
       "      <td>AMERICAN</td>\n",
       "      <td>Dallas/Fort Worth Charlotte Chicago–O'Hare Mia...</td>\n",
       "      <td>1926</td>\n",
       "      <td>Founded as American Airways and commenced oper...</td>\n",
       "    </tr>\n",
       "    <tr>\n",
       "      <th>3</th>\n",
       "      <td>Avelo Airlines</td>\n",
       "      <td>NaN</td>\n",
       "      <td>XP</td>\n",
       "      <td>VXP</td>\n",
       "      <td>AVELO</td>\n",
       "      <td>Burbank New Haven Orlando Raleigh/Durham Wilmi...</td>\n",
       "      <td>1987</td>\n",
       "      <td>First did business as Casino Express Airlines ...</td>\n",
       "    </tr>\n",
       "    <tr>\n",
       "      <th>4</th>\n",
       "      <td>Breeze Airways</td>\n",
       "      <td>NaN</td>\n",
       "      <td>MX</td>\n",
       "      <td>MXY</td>\n",
       "      <td>MOXY</td>\n",
       "      <td>Charleston (SC) Hartford New Orleans Norfolk P...</td>\n",
       "      <td>2018</td>\n",
       "      <td>Founded as Moxy Airways but was renamed due to...</td>\n",
       "    </tr>\n",
       "    <tr>\n",
       "      <th>5</th>\n",
       "      <td>Delta Air Lines</td>\n",
       "      <td>NaN</td>\n",
       "      <td>DL</td>\n",
       "      <td>DAL</td>\n",
       "      <td>DELTA</td>\n",
       "      <td>Atlanta Detroit Minneapolis/St. Paul New York–...</td>\n",
       "      <td>1924</td>\n",
       "      <td>Founded as Huff Daland Dusters and commenced o...</td>\n",
       "    </tr>\n",
       "    <tr>\n",
       "      <th>6</th>\n",
       "      <td>Eastern Airlines</td>\n",
       "      <td>NaN</td>\n",
       "      <td>2D</td>\n",
       "      <td>EAL</td>\n",
       "      <td>EASTERN</td>\n",
       "      <td>Miami</td>\n",
       "      <td>2010</td>\n",
       "      <td>NaN</td>\n",
       "    </tr>\n",
       "    <tr>\n",
       "      <th>7</th>\n",
       "      <td>Frontier Airlines</td>\n",
       "      <td>NaN</td>\n",
       "      <td>F9</td>\n",
       "      <td>FFT</td>\n",
       "      <td>FRONTIER FLIGHT</td>\n",
       "      <td>Denver Atlanta Chicago–O'Hare Cincinnati Cleve...</td>\n",
       "      <td>1994</td>\n",
       "      <td>NaN</td>\n",
       "    </tr>\n",
       "    <tr>\n",
       "      <th>8</th>\n",
       "      <td>Hawaiian Airlines</td>\n",
       "      <td>NaN</td>\n",
       "      <td>HA</td>\n",
       "      <td>HAL</td>\n",
       "      <td>HAWAIIAN</td>\n",
       "      <td>Honolulu Kahului</td>\n",
       "      <td>1929</td>\n",
       "      <td>Founded as Inter-Island Airways in early 1929 ...</td>\n",
       "    </tr>\n",
       "    <tr>\n",
       "      <th>9</th>\n",
       "      <td>JetBlue</td>\n",
       "      <td>NaN</td>\n",
       "      <td>B6</td>\n",
       "      <td>JBU</td>\n",
       "      <td>JETBLUE</td>\n",
       "      <td>New York–JFK Boston Los Angeles Fort Lauderdal...</td>\n",
       "      <td>1998</td>\n",
       "      <td>Founded as New Air and commenced operations in...</td>\n",
       "    </tr>\n",
       "    <tr>\n",
       "      <th>10</th>\n",
       "      <td>Ravn Alaska</td>\n",
       "      <td>NaN</td>\n",
       "      <td>7H</td>\n",
       "      <td>RVF</td>\n",
       "      <td>RAVN FLIGHT</td>\n",
       "      <td>Ontario</td>\n",
       "      <td>2021</td>\n",
       "      <td>Founded as Northern Pacific Airways.</td>\n",
       "    </tr>\n",
       "    <tr>\n",
       "      <th>11</th>\n",
       "      <td>Southwest Airlines</td>\n",
       "      <td>NaN</td>\n",
       "      <td>WN</td>\n",
       "      <td>SWA</td>\n",
       "      <td>SOUTHWEST</td>\n",
       "      <td>Dallas–Love Atlanta Baltimore Chicago–Midway D...</td>\n",
       "      <td>1967</td>\n",
       "      <td>Founded as Air Southwest and commenced operati...</td>\n",
       "    </tr>\n",
       "    <tr>\n",
       "      <th>12</th>\n",
       "      <td>Spirit Airlines</td>\n",
       "      <td>NaN</td>\n",
       "      <td>NK</td>\n",
       "      <td>NKS</td>\n",
       "      <td>SPIRIT WINGS</td>\n",
       "      <td>Fort Lauderdale Atlantic City Atlanta Detroit ...</td>\n",
       "      <td>1980</td>\n",
       "      <td>Founded as Charter One.</td>\n",
       "    </tr>\n",
       "    <tr>\n",
       "      <th>13</th>\n",
       "      <td>Sun Country Airlines</td>\n",
       "      <td>NaN</td>\n",
       "      <td>SY</td>\n",
       "      <td>SCX</td>\n",
       "      <td>SUN COUNTRY</td>\n",
       "      <td>Minneapolis/St. Paul Dallas/Fort Worth Las Vegas</td>\n",
       "      <td>1982</td>\n",
       "      <td>Commenced operations in 1983. Operates some Am...</td>\n",
       "    </tr>\n",
       "    <tr>\n",
       "      <th>14</th>\n",
       "      <td>United Airlines</td>\n",
       "      <td>NaN</td>\n",
       "      <td>UA</td>\n",
       "      <td>UAL</td>\n",
       "      <td>UNITED</td>\n",
       "      <td>Chicago–O'Hare Denver Houston–Intercontinental...</td>\n",
       "      <td>1926</td>\n",
       "      <td>Founded as Varney Air Lines and commenced oper...</td>\n",
       "    </tr>\n",
       "  </tbody>\n",
       "</table>\n",
       "</div>"
      ],
      "text/plain": [
       "                 Airline  Image IATA ICAO         Callsign  \\\n",
       "0        Alaska Airlines    NaN   AS  ASA           ALASKA   \n",
       "1          Allegiant Air    NaN   G4  AAY        ALLEGIANT   \n",
       "2      American Airlines    NaN   AA  AAL         AMERICAN   \n",
       "3         Avelo Airlines    NaN   XP  VXP            AVELO   \n",
       "4         Breeze Airways    NaN   MX  MXY             MOXY   \n",
       "5        Delta Air Lines    NaN   DL  DAL            DELTA   \n",
       "6       Eastern Airlines    NaN   2D  EAL          EASTERN   \n",
       "7      Frontier Airlines    NaN   F9  FFT  FRONTIER FLIGHT   \n",
       "8      Hawaiian Airlines    NaN   HA  HAL         HAWAIIAN   \n",
       "9                JetBlue    NaN   B6  JBU          JETBLUE   \n",
       "10           Ravn Alaska    NaN   7H  RVF      RAVN FLIGHT   \n",
       "11    Southwest Airlines    NaN   WN  SWA        SOUTHWEST   \n",
       "12       Spirit Airlines    NaN   NK  NKS     SPIRIT WINGS   \n",
       "13  Sun Country Airlines    NaN   SY  SCX      SUN COUNTRY   \n",
       "14       United Airlines    NaN   UA  UAL           UNITED   \n",
       "\n",
       "                         Primary hubs, secondary hubs  Founded  \\\n",
       "0   Seattle/Tacoma Anchorage Portland (OR) San Fra...     1932   \n",
       "1   Las Vegas Cincinnati Destin/Ft. Walton Beach I...     1997   \n",
       "2   Dallas/Fort Worth Charlotte Chicago–O'Hare Mia...     1926   \n",
       "3   Burbank New Haven Orlando Raleigh/Durham Wilmi...     1987   \n",
       "4   Charleston (SC) Hartford New Orleans Norfolk P...     2018   \n",
       "5   Atlanta Detroit Minneapolis/St. Paul New York–...     1924   \n",
       "6                                               Miami     2010   \n",
       "7   Denver Atlanta Chicago–O'Hare Cincinnati Cleve...     1994   \n",
       "8                                    Honolulu Kahului     1929   \n",
       "9   New York–JFK Boston Los Angeles Fort Lauderdal...     1998   \n",
       "10                                            Ontario     2021   \n",
       "11  Dallas–Love Atlanta Baltimore Chicago–Midway D...     1967   \n",
       "12  Fort Lauderdale Atlantic City Atlanta Detroit ...     1980   \n",
       "13   Minneapolis/St. Paul Dallas/Fort Worth Las Vegas     1982   \n",
       "14  Chicago–O'Hare Denver Houston–Intercontinental...     1926   \n",
       "\n",
       "                                                Notes  \n",
       "0   Founded as McGee Airways and commenced operati...  \n",
       "1   Founded as WestJet Express and began operation...  \n",
       "2   Founded as American Airways and commenced oper...  \n",
       "3   First did business as Casino Express Airlines ...  \n",
       "4   Founded as Moxy Airways but was renamed due to...  \n",
       "5   Founded as Huff Daland Dusters and commenced o...  \n",
       "6                                                 NaN  \n",
       "7                                                 NaN  \n",
       "8   Founded as Inter-Island Airways in early 1929 ...  \n",
       "9   Founded as New Air and commenced operations in...  \n",
       "10               Founded as Northern Pacific Airways.  \n",
       "11  Founded as Air Southwest and commenced operati...  \n",
       "12                            Founded as Charter One.  \n",
       "13  Commenced operations in 1983. Operates some Am...  \n",
       "14  Founded as Varney Air Lines and commenced oper...  "
      ]
     },
     "execution_count": 19,
     "metadata": {},
     "output_type": "execute_result"
    }
   ],
   "source": [
    "test[0]"
   ]
  },
  {
   "cell_type": "markdown",
   "id": "a19ee160-7d3f-45e1-b282-4ed39fc24079",
   "metadata": {
    "id": "a19ee160-7d3f-45e1-b282-4ed39fc24079"
   },
   "source": [
    "## II.\tDifferent airline companies may perform differently in terms of on time arrival. The performance may depend on the experience of the airline company. Pull the information specific to different airlines from the Wikipedia page https://en.wikipedia.org/wiki/List_of_airlines_of_the_United_States. Use web scaping to fetch the information about how long the airlines has been in the business. "
   ]
  },
  {
   "cell_type": "code",
   "execution_count": 21,
   "id": "d5086217-8029-4fb2-b935-e860864ef18d",
   "metadata": {
    "id": "d5086217-8029-4fb2-b935-e860864ef18d",
    "tags": []
   },
   "outputs": [],
   "source": [
    "website_url = requests.get('https://en.wikipedia.org/wiki/List_of_airlines_of_the_United_States').text\n",
    "soup = BeautifulSoup(website_url,'lxml')\n",
    "My_table = soup.findAll(\"table\",{\"class\":\"wikitable\"})"
   ]
  },
  {
   "cell_type": "code",
   "execution_count": 22,
   "id": "f972c65f-0faa-402c-a923-ae8ff5fd7bd9",
   "metadata": {
    "colab": {
     "base_uri": "https://localhost:8080/"
    },
    "id": "f972c65f-0faa-402c-a923-ae8ff5fd7bd9",
    "outputId": "0dc5156b-55fa-4d76-da10-b5e094b7f237",
    "tags": []
   },
   "outputs": [
    {
     "data": {
      "text/plain": [
       "7"
      ]
     },
     "execution_count": 22,
     "metadata": {},
     "output_type": "execute_result"
    }
   ],
   "source": [
    "len(My_table) "
   ]
  },
  {
   "cell_type": "code",
   "execution_count": 23,
   "id": "3b684448-a808-4acb-9222-cb0e9293c2f9",
   "metadata": {
    "id": "3b684448-a808-4acb-9222-cb0e9293c2f9",
    "tags": []
   },
   "outputs": [],
   "source": [
    "airlines_wiki_list = []\n",
    "for tab in My_table:\n",
    "    temp = pd.read_html(str(tab))\n",
    "    temp = pd.DataFrame(temp[0])\n",
    "    airlines_wiki_list.append(temp)"
   ]
  },
  {
   "cell_type": "code",
   "execution_count": 24,
   "id": "9187b2e5-3ff9-42f4-86fc-aca9aba9bbd5",
   "metadata": {
    "id": "9187b2e5-3ff9-42f4-86fc-aca9aba9bbd5",
    "tags": []
   },
   "outputs": [],
   "source": [
    "airlines_wiki = pd.concat(airlines_wiki_list)"
   ]
  },
  {
   "cell_type": "code",
   "execution_count": 25,
   "id": "68b74ddb",
   "metadata": {},
   "outputs": [
    {
     "data": {
      "text/html": [
       "<div>\n",
       "<style scoped>\n",
       "    .dataframe tbody tr th:only-of-type {\n",
       "        vertical-align: middle;\n",
       "    }\n",
       "\n",
       "    .dataframe tbody tr th {\n",
       "        vertical-align: top;\n",
       "    }\n",
       "\n",
       "    .dataframe thead th {\n",
       "        text-align: right;\n",
       "    }\n",
       "</style>\n",
       "<table border=\"1\" class=\"dataframe\">\n",
       "  <thead>\n",
       "    <tr style=\"text-align: right;\">\n",
       "      <th></th>\n",
       "      <th>Airline</th>\n",
       "      <th>Image</th>\n",
       "      <th>IATA</th>\n",
       "      <th>ICAO</th>\n",
       "      <th>Callsign</th>\n",
       "      <th>Primary hubs, secondary hubs</th>\n",
       "      <th>Founded</th>\n",
       "      <th>Notes</th>\n",
       "    </tr>\n",
       "  </thead>\n",
       "  <tbody>\n",
       "    <tr>\n",
       "      <th>0</th>\n",
       "      <td>Alaska Airlines</td>\n",
       "      <td>NaN</td>\n",
       "      <td>AS</td>\n",
       "      <td>ASA</td>\n",
       "      <td>ALASKA</td>\n",
       "      <td>Seattle/Tacoma Anchorage Portland (OR) San Fra...</td>\n",
       "      <td>1932.0</td>\n",
       "      <td>Founded as McGee Airways and commenced operati...</td>\n",
       "    </tr>\n",
       "    <tr>\n",
       "      <th>1</th>\n",
       "      <td>Allegiant Air</td>\n",
       "      <td>NaN</td>\n",
       "      <td>G4</td>\n",
       "      <td>AAY</td>\n",
       "      <td>ALLEGIANT</td>\n",
       "      <td>Las Vegas Cincinnati Destin/Ft. Walton Beach I...</td>\n",
       "      <td>1997.0</td>\n",
       "      <td>Founded as WestJet Express and began operation...</td>\n",
       "    </tr>\n",
       "  </tbody>\n",
       "</table>\n",
       "</div>"
      ],
      "text/plain": [
       "           Airline  Image IATA ICAO   Callsign  \\\n",
       "0  Alaska Airlines    NaN   AS  ASA     ALASKA   \n",
       "1    Allegiant Air    NaN   G4  AAY  ALLEGIANT   \n",
       "\n",
       "                        Primary hubs, secondary hubs  Founded  \\\n",
       "0  Seattle/Tacoma Anchorage Portland (OR) San Fra...   1932.0   \n",
       "1  Las Vegas Cincinnati Destin/Ft. Walton Beach I...   1997.0   \n",
       "\n",
       "                                               Notes  \n",
       "0  Founded as McGee Airways and commenced operati...  \n",
       "1  Founded as WestJet Express and began operation...  "
      ]
     },
     "execution_count": 25,
     "metadata": {},
     "output_type": "execute_result"
    }
   ],
   "source": [
    "airlines_wiki.head(2)"
   ]
  },
  {
   "cell_type": "markdown",
   "id": "cbc595e0-d011-486d-9bfe-cf8170a01237",
   "metadata": {
    "id": "cbc595e0-d011-486d-9bfe-cf8170a01237"
   },
   "source": [
    "III.\tGet all the information pulled so far in one table."
   ]
  },
  {
   "cell_type": "code",
   "execution_count": 26,
   "id": "Pn6pWbnZddA1",
   "metadata": {
    "colab": {
     "base_uri": "https://localhost:8080/",
     "height": 176
    },
    "id": "Pn6pWbnZddA1",
    "outputId": "6aa9c062-0698-44df-80f2-3d82aab16aa0",
    "tags": []
   },
   "outputs": [
    {
     "data": {
      "text/html": [
       "<div>\n",
       "<style scoped>\n",
       "    .dataframe tbody tr th:only-of-type {\n",
       "        vertical-align: middle;\n",
       "    }\n",
       "\n",
       "    .dataframe tbody tr th {\n",
       "        vertical-align: top;\n",
       "    }\n",
       "\n",
       "    .dataframe thead th {\n",
       "        text-align: right;\n",
       "    }\n",
       "</style>\n",
       "<table border=\"1\" class=\"dataframe\">\n",
       "  <thead>\n",
       "    <tr style=\"text-align: right;\">\n",
       "      <th></th>\n",
       "      <th>id</th>\n",
       "      <th>Airline</th>\n",
       "      <th>Flight</th>\n",
       "      <th>AirportFrom</th>\n",
       "      <th>AirportTo</th>\n",
       "      <th>DayOfWeek</th>\n",
       "      <th>Time</th>\n",
       "      <th>Length</th>\n",
       "      <th>Delay</th>\n",
       "      <th>type_source_airport</th>\n",
       "      <th>elevation_ft_source_airport</th>\n",
       "      <th>runway_count_source_airport</th>\n",
       "      <th>type_dest_airport</th>\n",
       "      <th>elevation_ft_dest_airport</th>\n",
       "      <th>runway_count_dest_airport</th>\n",
       "    </tr>\n",
       "  </thead>\n",
       "  <tbody>\n",
       "    <tr>\n",
       "      <th>0</th>\n",
       "      <td>1</td>\n",
       "      <td>CO</td>\n",
       "      <td>269</td>\n",
       "      <td>SFO</td>\n",
       "      <td>IAH</td>\n",
       "      <td>3</td>\n",
       "      <td>15</td>\n",
       "      <td>205</td>\n",
       "      <td>1</td>\n",
       "      <td>large_airport</td>\n",
       "      <td>13.0</td>\n",
       "      <td>4.0</td>\n",
       "      <td>large_airport</td>\n",
       "      <td>97.0</td>\n",
       "      <td>5.0</td>\n",
       "    </tr>\n",
       "    <tr>\n",
       "      <th>1</th>\n",
       "      <td>2</td>\n",
       "      <td>US</td>\n",
       "      <td>1558</td>\n",
       "      <td>PHX</td>\n",
       "      <td>CLT</td>\n",
       "      <td>3</td>\n",
       "      <td>15</td>\n",
       "      <td>222</td>\n",
       "      <td>1</td>\n",
       "      <td>large_airport</td>\n",
       "      <td>1135.0</td>\n",
       "      <td>3.0</td>\n",
       "      <td>large_airport</td>\n",
       "      <td>748.0</td>\n",
       "      <td>4.0</td>\n",
       "    </tr>\n",
       "  </tbody>\n",
       "</table>\n",
       "</div>"
      ],
      "text/plain": [
       "   id Airline  Flight AirportFrom AirportTo  DayOfWeek  Time  Length  Delay  \\\n",
       "0   1      CO     269         SFO       IAH          3    15     205      1   \n",
       "1   2      US    1558         PHX       CLT          3    15     222      1   \n",
       "\n",
       "  type_source_airport  elevation_ft_source_airport  \\\n",
       "0       large_airport                         13.0   \n",
       "1       large_airport                       1135.0   \n",
       "\n",
       "   runway_count_source_airport type_dest_airport  elevation_ft_dest_airport  \\\n",
       "0                          4.0     large_airport                       97.0   \n",
       "1                          3.0     large_airport                      748.0   \n",
       "\n",
       "   runway_count_dest_airport  \n",
       "0                        5.0  \n",
       "1                        4.0  "
      ]
     },
     "execution_count": 26,
     "metadata": {},
     "output_type": "execute_result"
    }
   ],
   "source": [
    "combined_data.head(2)"
   ]
  },
  {
   "cell_type": "markdown",
   "id": "a9385c62-2a9d-4696-af78-5d9e3b8e5814",
   "metadata": {
    "id": "a9385c62-2a9d-4696-af78-5d9e3b8e5814"
   },
   "source": [
    "### finding the year founded of airlines"
   ]
  },
  {
   "cell_type": "code",
   "execution_count": 27,
   "id": "0534ced7-a5d1-4da8-a2fa-a9fa31b9760e",
   "metadata": {
    "id": "0534ced7-a5d1-4da8-a2fa-a9fa31b9760e",
    "tags": []
   },
   "outputs": [],
   "source": [
    "airlines_founded = pd.merge(combined_data[['Airline']].drop_duplicates(),airlines_wiki[['IATA', 'Founded']].drop_duplicates(), \n",
    "         how = 'left', left_on = 'Airline', right_on = 'IATA')"
   ]
  },
  {
   "cell_type": "code",
   "execution_count": 28,
   "id": "f993d58d-2aa4-4446-ba71-140d105ebcfa",
   "metadata": {
    "colab": {
     "base_uri": "https://localhost:8080/",
     "height": 582
    },
    "id": "f993d58d-2aa4-4446-ba71-140d105ebcfa",
    "outputId": "4d0ea93e-f9d4-495c-bd35-be625712c2d0",
    "tags": []
   },
   "outputs": [
    {
     "data": {
      "text/html": [
       "<div>\n",
       "<style scoped>\n",
       "    .dataframe tbody tr th:only-of-type {\n",
       "        vertical-align: middle;\n",
       "    }\n",
       "\n",
       "    .dataframe tbody tr th {\n",
       "        vertical-align: top;\n",
       "    }\n",
       "\n",
       "    .dataframe thead th {\n",
       "        text-align: right;\n",
       "    }\n",
       "</style>\n",
       "<table border=\"1\" class=\"dataframe\">\n",
       "  <thead>\n",
       "    <tr style=\"text-align: right;\">\n",
       "      <th></th>\n",
       "      <th>Airline</th>\n",
       "      <th>IATA</th>\n",
       "      <th>Founded</th>\n",
       "    </tr>\n",
       "  </thead>\n",
       "  <tbody>\n",
       "    <tr>\n",
       "      <th>0</th>\n",
       "      <td>CO</td>\n",
       "      <td>NaN</td>\n",
       "      <td>NaN</td>\n",
       "    </tr>\n",
       "    <tr>\n",
       "      <th>1</th>\n",
       "      <td>US</td>\n",
       "      <td>NaN</td>\n",
       "      <td>NaN</td>\n",
       "    </tr>\n",
       "    <tr>\n",
       "      <th>2</th>\n",
       "      <td>AA</td>\n",
       "      <td>AA</td>\n",
       "      <td>1926.0</td>\n",
       "    </tr>\n",
       "    <tr>\n",
       "      <th>3</th>\n",
       "      <td>AS</td>\n",
       "      <td>AS</td>\n",
       "      <td>1932.0</td>\n",
       "    </tr>\n",
       "    <tr>\n",
       "      <th>4</th>\n",
       "      <td>DL</td>\n",
       "      <td>DL</td>\n",
       "      <td>1924.0</td>\n",
       "    </tr>\n",
       "    <tr>\n",
       "      <th>5</th>\n",
       "      <td>B6</td>\n",
       "      <td>B6</td>\n",
       "      <td>1998.0</td>\n",
       "    </tr>\n",
       "    <tr>\n",
       "      <th>6</th>\n",
       "      <td>HA</td>\n",
       "      <td>HA</td>\n",
       "      <td>1929.0</td>\n",
       "    </tr>\n",
       "    <tr>\n",
       "      <th>7</th>\n",
       "      <td>OO</td>\n",
       "      <td>OO</td>\n",
       "      <td>1972.0</td>\n",
       "    </tr>\n",
       "    <tr>\n",
       "      <th>8</th>\n",
       "      <td>9E</td>\n",
       "      <td>9E</td>\n",
       "      <td>1985.0</td>\n",
       "    </tr>\n",
       "    <tr>\n",
       "      <th>9</th>\n",
       "      <td>OH</td>\n",
       "      <td>OH</td>\n",
       "      <td>1979.0</td>\n",
       "    </tr>\n",
       "    <tr>\n",
       "      <th>10</th>\n",
       "      <td>EV</td>\n",
       "      <td>NaN</td>\n",
       "      <td>NaN</td>\n",
       "    </tr>\n",
       "    <tr>\n",
       "      <th>11</th>\n",
       "      <td>XE</td>\n",
       "      <td>XE</td>\n",
       "      <td>2016.0</td>\n",
       "    </tr>\n",
       "    <tr>\n",
       "      <th>12</th>\n",
       "      <td>YV</td>\n",
       "      <td>YV</td>\n",
       "      <td>1980.0</td>\n",
       "    </tr>\n",
       "    <tr>\n",
       "      <th>13</th>\n",
       "      <td>UA</td>\n",
       "      <td>UA</td>\n",
       "      <td>1926.0</td>\n",
       "    </tr>\n",
       "    <tr>\n",
       "      <th>14</th>\n",
       "      <td>MQ</td>\n",
       "      <td>MQ</td>\n",
       "      <td>1984.0</td>\n",
       "    </tr>\n",
       "    <tr>\n",
       "      <th>15</th>\n",
       "      <td>F9</td>\n",
       "      <td>F9</td>\n",
       "      <td>1994.0</td>\n",
       "    </tr>\n",
       "    <tr>\n",
       "      <th>16</th>\n",
       "      <td>WN</td>\n",
       "      <td>WN</td>\n",
       "      <td>1967.0</td>\n",
       "    </tr>\n",
       "  </tbody>\n",
       "</table>\n",
       "</div>"
      ],
      "text/plain": [
       "   Airline IATA  Founded\n",
       "0       CO  NaN      NaN\n",
       "1       US  NaN      NaN\n",
       "2       AA   AA   1926.0\n",
       "3       AS   AS   1932.0\n",
       "4       DL   DL   1924.0\n",
       "5       B6   B6   1998.0\n",
       "6       HA   HA   1929.0\n",
       "7       OO   OO   1972.0\n",
       "8       9E   9E   1985.0\n",
       "9       OH   OH   1979.0\n",
       "10      EV  NaN      NaN\n",
       "11      XE   XE   2016.0\n",
       "12      YV   YV   1980.0\n",
       "13      UA   UA   1926.0\n",
       "14      MQ   MQ   1984.0\n",
       "15      F9   F9   1994.0\n",
       "16      WN   WN   1967.0"
      ]
     },
     "execution_count": 28,
     "metadata": {},
     "output_type": "execute_result"
    }
   ],
   "source": [
    "airlines_founded"
   ]
  },
  {
   "cell_type": "code",
   "execution_count": null,
   "id": "89326bf7-3e84-40ca-b825-e005d41cfddc",
   "metadata": {
    "id": "89326bf7-3e84-40ca-b825-e005d41cfddc",
    "tags": []
   },
   "outputs": [],
   "source": [
    "# will fill in missing values later"
   ]
  },
  {
   "cell_type": "markdown",
   "id": "dc926751-29d8-48ca-8ff3-0f6f87c1a2dd",
   "metadata": {
    "id": "dc926751-29d8-48ca-8ff3-0f6f87c1a2dd"
   },
   "source": [
    "IV.\tLook into Wikipedia page:\n",
    " https://en.wikipedia.org/wiki/List_of_the_busiest_airports_in_the_United_States\n",
    "Total passenger traffic may also contribute to the delay of flights. The term hub is used to identify busy commercial airports. Large hubs are the airports that each account for at least one percent of total U.S. passenger enplanements. Medium hubs are defined as airports that each account for between 0.25 percent and 1 percent of the total passenger enplanements.\n",
    "\n",
    "Pull passenger traffic data using web scraping and collate in a table. "
   ]
  },
  {
   "cell_type": "code",
   "execution_count": 29,
   "id": "2be284e4-d859-474c-b125-74d4ee478cc8",
   "metadata": {
    "id": "2be284e4-d859-474c-b125-74d4ee478cc8",
    "tags": []
   },
   "outputs": [],
   "source": [
    "website_url = requests.get('https://en.wikipedia.org/wiki/List_of_the_busiest_airports_in_the_United_States').text\n",
    "soup = BeautifulSoup(website_url,'lxml')\n",
    "My_table = soup.findAll(\"table\",{\"class\":\"wikitable\"})"
   ]
  },
  {
   "cell_type": "code",
   "execution_count": 30,
   "id": "6917c6da-945b-40cc-9492-71eeaaf55106",
   "metadata": {
    "id": "6917c6da-945b-40cc-9492-71eeaaf55106",
    "tags": []
   },
   "outputs": [],
   "source": [
    "hub_data = {}\n",
    "i = 0\n",
    "for tab in My_table:\n",
    "    hub_data[i] = pd.read_html(str(tab))\n",
    "    hub_data[i] = pd.DataFrame(hub_data[i][0])\n",
    "    i +=1"
   ]
  },
  {
   "cell_type": "markdown",
   "id": "afc3d03f-04ea-40ff-99de-4b3faa2016db",
   "metadata": {
    "id": "afc3d03f-04ea-40ff-99de-4b3faa2016db"
   },
   "source": [
    "## We need only hub data hence first two table"
   ]
  },
  {
   "cell_type": "code",
   "execution_count": 34,
   "id": "5d85a7ce",
   "metadata": {},
   "outputs": [
    {
     "data": {
      "text/plain": [
       "{0:     Rank (2022)                                  Airports (large) IATA Code  \\\n",
       " 0             1  Hartsfield–Jackson Atlanta International Airport       ATL   \n",
       " 1             2           Dallas/Fort Worth International Airport       DFW   \n",
       " 2             3                      Denver International Airport       DEN   \n",
       " 3             4                      O'Hare International Airport       ORD   \n",
       " 4             5                 Los Angeles International Airport       LAX   \n",
       " 5             6             John F. Kennedy International Airport       JFK   \n",
       " 6             7                  Harry Reid International Airport       LAS   \n",
       " 7             8                     Orlando International Airport       MCO   \n",
       " 8             9                       Miami International Airport       MIA   \n",
       " 9            10           Charlotte Douglas International Airport       CLT   \n",
       " 10           11              Seattle–Tacoma International Airport       SEA   \n",
       " 11           12          Phoenix Sky Harbor International Airport       PHX   \n",
       " 12           13              Newark Liberty International Airport       EWR   \n",
       " 13           14               San Francisco International Airport       SFO   \n",
       " 14           15              George Bush Intercontinental Airport       IAH   \n",
       " 15           16                       Logan International Airport       BOS   \n",
       " 16           17   Fort Lauderdale–Hollywood International Airport       FLL   \n",
       " 17           18      Minneapolis–Saint Paul International Airport       MSP   \n",
       " 18           19                                 LaGuardia Airport       LGA   \n",
       " 19           20                      Detroit Metropolitan Airport       DTW   \n",
       " 20           21                Philadelphia International Airport       PHL   \n",
       " 21           22              Salt Lake City International Airport       SLC   \n",
       " 22           23         Ronald Reagan Washington National Airport       DCA   \n",
       " 23           24                   San Diego International Airport       SAN   \n",
       " 24           25        Baltimore/Washington International Airport       BWI   \n",
       " 25           26                       Tampa International Airport       TPA   \n",
       " 26           27            Austin–Bergstrom International Airport       AUS   \n",
       " 27           28                      Dulles International Airport       IAD   \n",
       " 28           29                   Nashville International Airport       BNA   \n",
       " 29           30                      Midway International Airport       MDW   \n",
       " 30           31            Daniel K. Inouye International Airport       HNL   \n",
       " \n",
       "                Major cities served              Metro area State   2022[2]  \\\n",
       " 0                          Atlanta                 Atlanta    GA  45396001   \n",
       " 1            Dallas and Fort Worth       Dallas–Fort Worth    TX  35345138   \n",
       " 2                           Denver                  Denver    CO  33773832   \n",
       " 3                          Chicago             Chicagoland    IL  33120474   \n",
       " 4                      Los Angeles     Greater Los Angeles    CA  32326616   \n",
       " 5                    New York City          New York Metro    NY  26919982   \n",
       " 6                        Las Vegas               Las Vegas    NV  25480500   \n",
       " 7                          Orlando                 Orlando    FL  24469733   \n",
       " 8                            Miami             Miami Metro    FL  23949892   \n",
       " 9                        Charlotte               Charlotte    NC  23100300   \n",
       " 10              Seattle and Tacoma           Seattle Metro    WA  22157862   \n",
       " 11                         Phoenix                 Phoenix    AZ  21852586   \n",
       " 12        Newark and New York City          New York Metro    NJ  21572147   \n",
       " 13                   San Francisco  San Francisco Bay Area    CA  20411420   \n",
       " 14                         Houston                 Houston    TX  19814052   \n",
       " 15                          Boston                  Boston    MA  17443775   \n",
       " 16   Fort Lauderdale and Hollywood             Miami Metro    FL  15370165   \n",
       " 17      Minneapolis and Saint Paul  Minneapolis–Saint Paul    MN  15242089   \n",
       " 18                   New York City          New York Metro    NY  14367463   \n",
       " 19                         Detroit                 Detroit    MI  13751197   \n",
       " 20                    Philadelphia            Philadelphia    PA  12421168   \n",
       " 21                  Salt Lake City          Salt Lake City    UT  12383843   \n",
       " 22                Washington, D.C.        Washington Metro    VA  11553850   \n",
       " 23                       San Diego               San Diego    CA  11162224   \n",
       " 24  Baltimore and Washington, D.C.               Baltimore    MD  11151169   \n",
       " 25                           Tampa                   Tampa    FL  10539459   \n",
       " 26                          Austin                  Austin    TX  10382573   \n",
       " 27                Washington, D.C.        Washington Metro    VA  10266324   \n",
       " 28                       Nashville               Nashville    TN   9829062   \n",
       " 29                         Chicago             Chicagoland    IL   9650281   \n",
       " 30                        Honolulu                Honolulu    HI   8828395   \n",
       " \n",
       "      2021[3]   2020[4]   2019[5]   2018[6]   2017[7]   2016[8]   2015[9]  \\\n",
       " 0   36676010  20559866  53505795  51865797  50251964  50501858  49340732   \n",
       " 1   30005266  18593421  35778573  32821799  31816933  31283579  31589839   \n",
       " 2   28645527  16243216  33592945  31362941  29809097  28267394  26280043   \n",
       " 3   26350976  14606034  40871223  39873927  38593028  37589899  36305668   \n",
       " 4   23663410  14055777  42939104  42624050  41232432  39636042  36351272   \n",
       " 5   15273342   8269819  31036655  30620769  29533154  29239151  27782369   \n",
       " 6   19160342  10584059  24728361  23795012  23364393  22833267  21857693   \n",
       " 7   19618838  10467728  24562271  23202480  21565448  20283541  18759938   \n",
       " 8   17500096   8786007  21421031  21021640  20709225  20875813  20986349   \n",
       " 9   20900875  12952869  24199688  22281949  22011251  21511880  21913166   \n",
       " 10  17430195   9462411  25001762  24024908  22639124  21887110  20148980   \n",
       " 11  18940287  10531436  22433552  21622580  21185458  20896265  21351504   \n",
       " 12  14514049   7985474  23160763  22797602  21571198  19923009  18684818   \n",
       " 13  11725347   7745057  27779230  27790717  26900048  25707101  24190560   \n",
       " 14  16242821   8682558  21905309  21157398  19603731  20062072  20595881   \n",
       " 15  10909817   6035452  20699377  20006521  18759742  17759044  16290362   \n",
       " 16  13598994   8015744  17950989  17612331  15817043  14263270  13061632   \n",
       " 17  12211409   7069720  19192917  18361942  18409704  18123844  17634273   \n",
       " 18   7827307   4147116  15393601  15058501  14614802  14762593  14319924   \n",
       " 19  11517696   6822324  18143040  17436837  17036092  16847135  16255520   \n",
       " 20   9820222   5753239  16006389  15292670  14271243  14564419  15101349   \n",
       " 21  10795906   5753239  12840841  12226730  11615954  11143738  10634538   \n",
       " 22   6731737   3573489  11595454  11367176  11506310  11470854  11242375   \n",
       " 23   7836360   4637856  12648692  12174224  11139933  10340164   9985763   \n",
       " 24   9253561   5451355  13284687  13371816  12976554  12340972  11738845   \n",
       " 25   8847197   4966775  10978756  10368514   9548580   9194994   9150458   \n",
       " 26   6666215   3141505   8683711   7921797   6973115   6095545   5797547   \n",
       " 27   7227875   3862658  11884117  11621623  11024306  10596942  10363974   \n",
       " 28   7594049   4013995   8935654   8017347   6902771   6338517   5715205   \n",
       " 29   7680617   4236603  10081781  10678018  10912074  11044387  10830850   \n",
       " 30   5830928   3126391   9988678   9578505   9743989   9656340   9656340   \n",
       " \n",
       "     2014[10]  2013[11]  \n",
       " 0   46604273  45308407  \n",
       " 1   30804567  29038128  \n",
       " 2   26000591  25496885  \n",
       " 3   33843426  32317835  \n",
       " 4   34314197  32425892  \n",
       " 5   26244928  25036358  \n",
       " 6   20620248  19946179  \n",
       " 7   17278608  16884524  \n",
       " 8   19471466  19420089  \n",
       " 9   21537725  21346601  \n",
       " 10  17888080  16690295  \n",
       " 11  20344867  19525109  \n",
       " 12  17773405  17546506  \n",
       " 13  22770783  21704626  \n",
       " 14  19772087  18952840  \n",
       " 15  15507561  14810153  \n",
       " 16  12031860  11538140  \n",
       " 17  16972678  16280835  \n",
       " 18  13535372  13372269  \n",
       " 19  15775941  15683523  \n",
       " 20  14792339  14727945  \n",
       " 21  10139065   9668048  \n",
       " 22  10057794   9838034  \n",
       " 23   9333152   8878772  \n",
       " 24  11022200  11132731  \n",
       " 25   8531561   8267752  \n",
       " 26   5219982   4900959  \n",
       " 27  10415948  10570993  \n",
       " 28   5396958   5050989  \n",
       " 29  10311996   9915646  \n",
       " 30   9463000   9466995  ,\n",
       " 1:     Rank (2021)                             Airports (medium hubs) IATA Code  \\\n",
       " 0            32                                  Dallas Love Field       DAL   \n",
       " 1            33                     Portland International Airport       PDX   \n",
       " 2            34            St. Louis Lambert International Airport       STL   \n",
       " 3            35                           William P. Hobby Airport       HOU   \n",
       " 4            36                   Sacramento International Airport       SMF   \n",
       " 5            37  Louis Armstrong New Orleans International Airport       MSY   \n",
       " 6            38               Raleigh–Durham International Airport       RDU   \n",
       " 7            39    Norman Y. Mineta San José International Airport       SJC   \n",
       " 8            40                                 John Wayne Airport       SNA   \n",
       " 9            41    San Francisco Bay Oakland International Airport       OAK   \n",
       " 10           42            Southwest Florida International Airport       RSW   \n",
       " 11           43             Luis Muñoz Marín International Airport       SJU   \n",
       " 12           44                  Kansas City International Airport       MCI   \n",
       " 13           45                  San Antonio International Airport       SAT   \n",
       " 14           46            Cleveland Hopkins International Airport       CLE   \n",
       " 15           47                 Indianapolis International Airport       IND   \n",
       " 16           48                                    Kahului Airport       OGG   \n",
       " 17           49                   Pittsburgh International Airport       PIT   \n",
       " 18           50  Cincinnati/Northern Kentucky International Air...       CVG   \n",
       " 19           51          John Glenn Columbus International Airport       CMH   \n",
       " 20           52                   Palm Beach International Airport       PBI   \n",
       " 21           53                 Jacksonville International Airport       JAX   \n",
       " 22           54                          Hollywood Burbank Airport       BUR   \n",
       " 23           55                      Bradley International Airport       BDL   \n",
       " 24           56                      Ontario International Airport       ONT   \n",
       " 25           57           Milwaukee Mitchell International Airport       MKE   \n",
       " 26           58                   Charleston International Airport       CHS   \n",
       " 27           59        Ted Stevens Anchorage International Airport       ANC   \n",
       " 28           60                  Albuquerque International Sunport       ABQ   \n",
       " 29           61                                      Boise Airport       BOI   \n",
       " 30           62                                    Eppley Airfield       OMA   \n",
       " 31           63                      Memphis International Airport       MEM   \n",
       " 32           64                     Richmond International Airport       RIC   \n",
       " 33           65                   Reno–Tahoe International Airport       RNO   \n",
       " \n",
       "         City served              Metro Area State  2022[2]  2021[3]  2020[4]  \\\n",
       " 0            Dallas       Dallas–Fort Worth    TX  7819129  6487563  3669930   \n",
       " 1          Portland                Portland    OR  7241882  5759879  3455877   \n",
       " 2         St. Louis               St. Louis    MO  6709080  5070471  3041765   \n",
       " 3           Houston                 Houston    TX  6462948  5560780  3127178   \n",
       " 4        Sacramento              Sacramento    CA  6040824  4760275  2710342   \n",
       " 5       New Orleans             New Orleans    LA  5931899  4017147  2632606   \n",
       " 6           Raleigh                 Raleigh    NC  5849665  4311049  2337496   \n",
       " 7          San Jose  San Francisco Bay Area    CA  5590137  3619690  2283186   \n",
       " 8         Santa Ana     Greater Los Angeles    CA  5536313  3807205  1824836   \n",
       " 9           Oakland  San Francisco Bay Area    CA  5506232  4011953  2271294   \n",
       " 10       Fort Myers       Southwest Florida    FL  5132694  5080805  2947139   \n",
       " 11         San Juan                San Juan    PR  5039771  4738725  2362851   \n",
       " 12      Kansas City             Kansas City    MO  4796476  3795290  2167616   \n",
       " 13      San Antonio             San Antonio    TX  4751610  3677643  1919958   \n",
       " 14        Cleveland               Cleveland    OH  4237795  3552402  1990156   \n",
       " 15     Indianapolis            Indianapolis    IN  4209416  3487100  1989126   \n",
       " 16          Kahului                    Maui    HI  4125311  2933315  1135141   \n",
       " 17       Pittsburgh              Pittsburgh    PA  3918968  3069259  1742406   \n",
       " 18       Cincinnati              Cincinnati    KY  3702997  3050597  1729395   \n",
       " 19         Columbus                Columbus    OH  3618555  2825259  1577596   \n",
       " 20  West Palm Beach             Miami Metro    FL  3257730  2567897  1518732   \n",
       " 21     Jacksonville            Jacksonville    FL  3177393  2425685  1367501   \n",
       " 22          Burbank     Greater Los Angeles    CA  3054729  1942417  1056838   \n",
       " 23         Hartford                Hartford    CT  2844713  2273259  1150033   \n",
       " 24          Ontario     Greater Los Angeles    CA  2840758  2201528  1237946   \n",
       " 25        Milwaukee               Milwaukee    WI  2660187  2231010  1263385   \n",
       " 26       Charleston              Charleston    SC  2608497  2015277   944660   \n",
       " 27        Anchorage               Anchorage    AK  2604308  2184959  1157301   \n",
       " 28      Albuquerque             Albuquerque    NM  2317836  1688646   868922   \n",
       " 29            Boise                   Boise    ID  2230467  1809000   991241   \n",
       " 30            Omaha                   Omaha    NE  2204395  1829912  1036245   \n",
       " 31          Memphis                 Memphis    TN  2163692  1793073  1015981   \n",
       " 32         Richmond                Richmond    VA  4068689  2033816  1604459   \n",
       " 33             Reno                    Reno    NV  2132856  1781785   976937   \n",
       " \n",
       "     2019[5]  2018[6]  2017[7]  2016[8]    2015[9]   2014[10]   2013[11]  \n",
       " 0   8408457  8134848  7876769  7554596  7040921.0  4522341.0  4023779.0  \n",
       " 1   9797408  9940866  9435473  9071154  8340234.0  7878760.0  7452603.0  \n",
       " 2   7946986  7822274  7372805  6793076  6239231.0  6108758.0  6216104.0  \n",
       " 3   7069614  6937061  6741870  6285181  5937944.0  5800726.0  5377050.0  \n",
       " 4   6454413  6031630  5460526  4969366  4816440.0  4384616.0  4255145.0  \n",
       " 5   6717105  6565482  6005527  5569705  5329696.0  4870569.0  4576539.0  \n",
       " 6   6919429  6416822  5851004  5401714  4954717.0  4673869.0  4482016.0  \n",
       " 7   7828885  7140616  6225148  5321603  4885690.0  4621003.0  4315839.0  \n",
       " 8   5153276  5317149  5195047  5217242  4945175.0  4584147.0  4540628.0  \n",
       " 9   6560230  6798321  6530308  5934639  5506672.0  5069257.0  4770716.0  \n",
       " 10  5144467  4719568  4461304  4350650  4231134.0  4025959.0  3788870.0  \n",
       " 11  4590117  4033412  4163587  4343354  4218785.0  4150828.0  4103197.0  \n",
       " 12  5759419  5935131  5744918  5391557  5135127.0  4982722.0  4836221.0  \n",
       " 13  5022980  4844427  4521611  4179994  4091389.0  4046856.0  4005874.0  \n",
       " 14  4894541  4836580  4562740  4205739  4083476.0  3686315.0  4375448.0  \n",
       " 15  4709183  4695040  4376432  4216766  3889567.0  3605908.0  3535015.0  \n",
       " 16  3791807  3572133  3442189  3352813  3220753.0  3019338.0  2955304.0  \n",
       " 17  4715947  4670033  4327431  3986114  3890677.0  3827860.0  3812460.0  \n",
       " 18  4413457  4269258  3926158  3269979  3036697.0  2874684.0  2776377.0  \n",
       " 19  4172067  4054572  3765007  3567864  3312496.0  3115501.0  3063822.0  \n",
       " 20  3460429  3263042  3166532  3100624  3113485.0  2926242.0  2844507.0  \n",
       " 21  3479923  3118540  2759067  2799587  2716465.0  2589198.0  2549070.0  \n",
       " 22  2988720  2680240  2402106  2077892  1973897.0  1928491.0  1918011.0  \n",
       " 23  3323614  3330734  3214976  2982194  2926047.0  2913380.0  2681181.0  \n",
       " 24  2723002  2499171  2247645  2127387  2089801.0  2037346.0  1970538.0  \n",
       " 25  3374073  3548817  3452544  3383271  3229876.0  3228607.0  3214811.0  \n",
       " 26  2375868  2192893  1945699  1811695  1669988.0  1539326.0  1441415.0  \n",
       " 27  2713843  2642901  2556188  2563524  2525876.0  2381826.0  2325030.0  \n",
       " 28  2641450  2647269  2412328  2341719  2323883.0  2354184.0  2477783.0  \n",
       " 29  2057750  1943181  1777642  1633507  1487777.0  1378352.0  1313741.0  \n",
       " 30  2455274  2457087  2303223  2127387  2046155.0  2020354.0  1975339.0  \n",
       " 31  2318442  2213083  2102739  2016089  1873716.0  1800268.0  2301003.0  \n",
       " 32  4038000  4077763  3657479  3421034        NaN        NaN        NaN  \n",
       " 33  2162250  2048916  1953028  1771864  1669876.0  1611572.0  1671926.0  ,\n",
       " 2:     Rank                                       Airport name  \\\n",
       " 0      1              John F. Kennedy International Airport   \n",
       " 1      2                        Miami International Airport   \n",
       " 2      3                  Los Angeles International Airport   \n",
       " 3      4               George Bush Intercontinental Airport   \n",
       " 4      5               Newark Liberty International Airport   \n",
       " 5      6            Dallas/Fort Worth International Airport   \n",
       " 6      7   Hartsfield–Jackson Atlanta International Airport   \n",
       " 7      8                       O'Hare International Airport   \n",
       " 8      9    Fort Lauderdale–Hollywood International Airport   \n",
       " 9     10            Washington Dulles International Airport   \n",
       " 10    11                San Francisco International Airport   \n",
       " 11    12  General Edward Lawrence Logan International Ai...   \n",
       " 12    13            Charlotte Douglas International Airport   \n",
       " 13    14                       Denver International Airport   \n",
       " 14    15                      Orlando International Airport   \n",
       " 15    16               Seattle–Tacoma International Airport   \n",
       " 16    17           Phoenix Sky Harbor International Airport   \n",
       " 17    18                 Philadelphia International Airport   \n",
       " 18    19          Detroit Metropolitan Wayne County Airport   \n",
       " 19    20                   Harry Reid International Airport   \n",
       " \n",
       "                            Location IATA Code  2021[12]  2020[13]  2019[14]  \n",
       " 0                  Queens, New York       JFK  12466165   8219317  33432159  \n",
       " 1                    Miami, Florida       MIA  11592445   6565834  20735658  \n",
       " 2           Los Angeles, California       LAX   7862532   6246602  25210140  \n",
       " 3                    Houston, Texas       IAH   6458473   3491935  10764589  \n",
       " 4                Newark, New Jersey       EWR   6250880   3688541  14087622  \n",
       " 5                     Irving, Texas       DFW   5852397   3268822   9103438  \n",
       " 6             College Park, Georgia       ATL   5474264   3347184  12268779  \n",
       " 7                 Chicago, Illinois       ORD   5148494   3481860  13412885  \n",
       " 8          Fort Lauderdale, Florida       FLL   4016553   2839383   8524251  \n",
       " 9                  Dulles, Virginia       IAD   3230027   1917510   7990292  \n",
       " 10  South San Francisco, California       SFO   3139041   3210024  14357960  \n",
       " 11            Boston, Massachusetts       BOS   2046561   1574712   7534504  \n",
       " 12        Charlotte, North Carolina       CLT   1989704   1069001   3405907  \n",
       " 13                 Denver, Colorado       DEN   1856124    934563   3037012  \n",
       " 14                 Orlando, Florida       MCO   1837706   1525177   6957048  \n",
       " 15               SeaTac, Washington       SEA   1393603   1273179   5392147  \n",
       " 16                 Phoenix, Arizona       PHX   1223856    750138   1958468  \n",
       " 17       Philadelphia, Pennsylvania       PHL    988733    682030   3847253  \n",
       " 18                Romulus, Michigan       DTW    966375    873744   3717775  \n",
       " 19                 Paradise, Nevada       LAS    738257    711614   3462627  ,\n",
       " 3:   Rank                                       Airport name  \\\n",
       "   Rank                                       Airport name   \n",
       " 0    1                      Memphis International Airport   \n",
       " 1    2        Ted Stevens Anchorage International Airport   \n",
       " 2    3      Louisville Muhammad Ali International Airport   \n",
       " 3    4                       O'Hare International Airport   \n",
       " 4    5                        Miami International Airport   \n",
       " 5    6                  Los Angeles International Airport   \n",
       " 6    7  Cincinnati/Northern Kentucky International Air...   \n",
       " 7    8                 Indianapolis International Airport   \n",
       " 8    9            Dallas/Fort Worth International Airport   \n",
       " 9   10                      Ontario International Airport   \n",
       " \n",
       "                   Location IATA code        Cargo                 \n",
       "                   Location IATA code         Ibs. % chg. 2017/16  \n",
       " 0       Memphis, Tennessee       MEM  23949525780         00.35%  \n",
       " 1        Anchorage, Alaska       ANC  17337337377         02.79%  \n",
       " 2     Louisville, Kentucky       SDF  13403682652         04.68%  \n",
       " 3        Chicago, Illinois       ORD  10373559593        010.84%  \n",
       " 4           Miami, Florida       MIA   7963988407         00.82%  \n",
       " 5  Los Angeles, California       LAX   7197930264         03.85%  \n",
       " 6         Hebron, Kentucky       CVG   5700282994        033.32%  \n",
       " 7    Indianapolis, Indiana       IND   5138500318        0-3.58%  \n",
       " 8            Irving, Texas       DFW   4155362297         07.65%  \n",
       " 9      Ontario, California       ONT   3522510318        015.81%  }"
      ]
     },
     "execution_count": 34,
     "metadata": {},
     "output_type": "execute_result"
    }
   ],
   "source": [
    "hub_data"
   ]
  },
  {
   "cell_type": "code",
   "execution_count": 35,
   "id": "9d175bf2-0ccd-41c1-a675-bc894e956f33",
   "metadata": {
    "id": "9d175bf2-0ccd-41c1-a675-bc894e956f33",
    "tags": []
   },
   "outputs": [],
   "source": [
    "large_hub = hub_data[0].copy()\n",
    "med_hub = hub_data[1].copy()"
   ]
  },
  {
   "cell_type": "code",
   "execution_count": 36,
   "id": "4d6d637b-8c6c-464f-a36f-d7891531e17e",
   "metadata": {
    "id": "4d6d637b-8c6c-464f-a36f-d7891531e17e",
    "tags": []
   },
   "outputs": [],
   "source": [
    "large_hub.insert(loc =1, column= 'Hub_type', value = 'large')\n",
    "med_hub.insert(loc =1, column= 'Hub_type', value = 'medium')"
   ]
  },
  {
   "cell_type": "code",
   "execution_count": 37,
   "id": "06d3826a-0a5e-4df2-a16a-98bc7b545288",
   "metadata": {
    "id": "06d3826a-0a5e-4df2-a16a-98bc7b545288",
    "tags": []
   },
   "outputs": [],
   "source": [
    "# before combinig lets work with column names "
   ]
  },
  {
   "cell_type": "code",
   "execution_count": 38,
   "id": "5da41854-31da-405a-b7ba-6bfb97d38315",
   "metadata": {
    "id": "5da41854-31da-405a-b7ba-6bfb97d38315",
    "tags": []
   },
   "outputs": [
    {
     "data": {
      "text/plain": [
       "Index(['Rank (2022)', 'Hub_type', 'Airports (large)', 'IATA Code',\n",
       "       'Major cities served', 'Metro area', 'State', '2022[2]', '2021[3]',\n",
       "       '2020[4]', '2019[5]', '2018[6]', '2017[7]', '2016[8]', '2015[9]',\n",
       "       '2014[10]', '2013[11]'],\n",
       "      dtype='object')"
      ]
     },
     "execution_count": 38,
     "metadata": {},
     "output_type": "execute_result"
    }
   ],
   "source": [
    "# remove any special characters or things in bracket\n",
    "large_hub.columns"
   ]
  },
  {
   "cell_type": "code",
   "execution_count": 39,
   "id": "3e6afba5-6e43-47e3-9e9f-3478dac97b52",
   "metadata": {
    "colab": {
     "base_uri": "https://localhost:8080/"
    },
    "id": "3e6afba5-6e43-47e3-9e9f-3478dac97b52",
    "outputId": "a0168064-f7c1-4ea5-b261-0a28725a5957",
    "tags": []
   },
   "outputs": [
    {
     "data": {
      "text/plain": [
       "Index(['rank', 'hub_type', 'airports', 'iata_code', 'major_cities_served',\n",
       "       'metro_area', 'state', 'data_2022', 'data_2021', 'data_2020',\n",
       "       'data_2019', 'data_2018', 'data_2017', 'data_2016', 'data_2015',\n",
       "       'data_2014', 'data_2013'],\n",
       "      dtype='object')"
      ]
     },
     "execution_count": 39,
     "metadata": {},
     "output_type": "execute_result"
    }
   ],
   "source": [
    "# remove refrences from brackets \n",
    "column_temp = large_hub.columns.str.split('[([]').str[0].str.strip().str.lower().str.replace(' ','_').values\n",
    "column_temp[list(map( lambda x : x.isnumeric(), column_temp))]  = 'data_' + column_temp[list(map( lambda x : x.isnumeric(), column_temp))] \n",
    "large_hub.columns = column_temp\n",
    "large_hub.columns"
   ]
  },
  {
   "cell_type": "code",
   "execution_count": 40,
   "id": "bb6f6bba-0f98-4dca-b8d8-f82623601a83",
   "metadata": {
    "colab": {
     "base_uri": "https://localhost:8080/"
    },
    "id": "bb6f6bba-0f98-4dca-b8d8-f82623601a83",
    "outputId": "0efe184c-97e5-4c27-d772-5ae4666b6dda",
    "tags": []
   },
   "outputs": [
    {
     "data": {
      "text/plain": [
       "Index(['rank', 'hub_type', 'airports', 'iata_code', 'city_served',\n",
       "       'metro_area', 'state', 'data_2022', 'data_2021', 'data_2020',\n",
       "       'data_2019', 'data_2018', 'data_2017', 'data_2016', 'data_2015',\n",
       "       'data_2014', 'data_2013'],\n",
       "      dtype='object')"
      ]
     },
     "execution_count": 40,
     "metadata": {},
     "output_type": "execute_result"
    }
   ],
   "source": [
    "# remove refrences from brackets \n",
    "column_temp = med_hub.columns.str.split('[([]').str[0].str.strip().str.lower().str.replace(' ','_').values\n",
    "column_temp[list(map( lambda x : x.isnumeric(), column_temp))]  = 'data_' + column_temp[list(map( lambda x : x.isnumeric(), column_temp))] \n",
    "med_hub.columns = column_temp\n",
    "med_hub.columns"
   ]
  },
  {
   "cell_type": "code",
   "execution_count": 41,
   "id": "9475c22d-87d9-460b-992e-ce444cf09c0d",
   "metadata": {
    "id": "9475c22d-87d9-460b-992e-ce444cf09c0d",
    "tags": []
   },
   "outputs": [],
   "source": [
    "large_hub.rename(columns = {'major_cities_served':'city_served'}, inplace = True)"
   ]
  },
  {
   "cell_type": "code",
   "execution_count": 43,
   "id": "28167d9e-fc16-4ba0-aeec-db753177e516",
   "metadata": {
    "id": "28167d9e-fc16-4ba0-aeec-db753177e516",
    "tags": []
   },
   "outputs": [],
   "source": [
    "final_hub_data = pd.concat([large_hub, med_hub])"
   ]
  },
  {
   "cell_type": "code",
   "execution_count": 44,
   "id": "2jLCS77QeLb1",
   "metadata": {
    "colab": {
     "base_uri": "https://localhost:8080/",
     "height": 112
    },
    "id": "2jLCS77QeLb1",
    "outputId": "17899aed-22ef-4241-9848-46a4467342d5",
    "tags": []
   },
   "outputs": [
    {
     "data": {
      "text/html": [
       "<div>\n",
       "<style scoped>\n",
       "    .dataframe tbody tr th:only-of-type {\n",
       "        vertical-align: middle;\n",
       "    }\n",
       "\n",
       "    .dataframe tbody tr th {\n",
       "        vertical-align: top;\n",
       "    }\n",
       "\n",
       "    .dataframe thead th {\n",
       "        text-align: right;\n",
       "    }\n",
       "</style>\n",
       "<table border=\"1\" class=\"dataframe\">\n",
       "  <thead>\n",
       "    <tr style=\"text-align: right;\">\n",
       "      <th></th>\n",
       "      <th>rank</th>\n",
       "      <th>hub_type</th>\n",
       "      <th>airports</th>\n",
       "      <th>iata_code</th>\n",
       "      <th>city_served</th>\n",
       "      <th>metro_area</th>\n",
       "      <th>state</th>\n",
       "      <th>data_2022</th>\n",
       "      <th>data_2021</th>\n",
       "      <th>data_2020</th>\n",
       "      <th>data_2019</th>\n",
       "      <th>data_2018</th>\n",
       "      <th>data_2017</th>\n",
       "      <th>data_2016</th>\n",
       "      <th>data_2015</th>\n",
       "      <th>data_2014</th>\n",
       "      <th>data_2013</th>\n",
       "    </tr>\n",
       "  </thead>\n",
       "  <tbody>\n",
       "    <tr>\n",
       "      <th>0</th>\n",
       "      <td>1</td>\n",
       "      <td>large</td>\n",
       "      <td>Hartsfield–Jackson Atlanta International Airport</td>\n",
       "      <td>ATL</td>\n",
       "      <td>Atlanta</td>\n",
       "      <td>Atlanta</td>\n",
       "      <td>GA</td>\n",
       "      <td>45396001</td>\n",
       "      <td>36676010</td>\n",
       "      <td>20559866</td>\n",
       "      <td>53505795</td>\n",
       "      <td>51865797</td>\n",
       "      <td>50251964</td>\n",
       "      <td>50501858</td>\n",
       "      <td>49340732.0</td>\n",
       "      <td>46604273.0</td>\n",
       "      <td>45308407.0</td>\n",
       "    </tr>\n",
       "    <tr>\n",
       "      <th>1</th>\n",
       "      <td>2</td>\n",
       "      <td>large</td>\n",
       "      <td>Dallas/Fort Worth International Airport</td>\n",
       "      <td>DFW</td>\n",
       "      <td>Dallas and Fort Worth</td>\n",
       "      <td>Dallas–Fort Worth</td>\n",
       "      <td>TX</td>\n",
       "      <td>35345138</td>\n",
       "      <td>30005266</td>\n",
       "      <td>18593421</td>\n",
       "      <td>35778573</td>\n",
       "      <td>32821799</td>\n",
       "      <td>31816933</td>\n",
       "      <td>31283579</td>\n",
       "      <td>31589839.0</td>\n",
       "      <td>30804567.0</td>\n",
       "      <td>29038128.0</td>\n",
       "    </tr>\n",
       "  </tbody>\n",
       "</table>\n",
       "</div>"
      ],
      "text/plain": [
       "   rank hub_type                                          airports iata_code  \\\n",
       "0     1    large  Hartsfield–Jackson Atlanta International Airport       ATL   \n",
       "1     2    large           Dallas/Fort Worth International Airport       DFW   \n",
       "\n",
       "             city_served         metro_area state  data_2022  data_2021  \\\n",
       "0                Atlanta            Atlanta    GA   45396001   36676010   \n",
       "1  Dallas and Fort Worth  Dallas–Fort Worth    TX   35345138   30005266   \n",
       "\n",
       "   data_2020  data_2019  data_2018  data_2017  data_2016   data_2015  \\\n",
       "0   20559866   53505795   51865797   50251964   50501858  49340732.0   \n",
       "1   18593421   35778573   32821799   31816933   31283579  31589839.0   \n",
       "\n",
       "    data_2014   data_2013  \n",
       "0  46604273.0  45308407.0  \n",
       "1  30804567.0  29038128.0  "
      ]
     },
     "execution_count": 44,
     "metadata": {},
     "output_type": "execute_result"
    }
   ],
   "source": [
    "final_hub_data.head(2)"
   ]
  },
  {
   "cell_type": "code",
   "execution_count": 45,
   "id": "eU83ZnUjpAb-",
   "metadata": {
    "colab": {
     "base_uri": "https://localhost:8080/"
    },
    "id": "eU83ZnUjpAb-",
    "outputId": "cde00809-0c14-46c9-d998-06922d3d0016",
    "tags": []
   },
   "outputs": [
    {
     "data": {
      "text/plain": [
       "0"
      ]
     },
     "execution_count": 45,
     "metadata": {},
     "output_type": "execute_result"
    }
   ],
   "source": [
    "final_hub_data.data_2019.isnull().sum()"
   ]
  },
  {
   "cell_type": "code",
   "execution_count": 45,
   "id": "c6f27c3e",
   "metadata": {},
   "outputs": [
    {
     "data": {
      "text/plain": [
       "rank           0\n",
       "hub_type       0\n",
       "airports       0\n",
       "iata_code      0\n",
       "city_served    0\n",
       "metro_area     0\n",
       "state          0\n",
       "data_2022      0\n",
       "data_2021      0\n",
       "data_2020      0\n",
       "data_2019      0\n",
       "data_2018      0\n",
       "data_2017      0\n",
       "data_2016      0\n",
       "data_2015      1\n",
       "data_2014      1\n",
       "data_2013      1\n",
       "dtype: int64"
      ]
     },
     "execution_count": 45,
     "metadata": {},
     "output_type": "execute_result"
    }
   ],
   "source": [
    "final_hub_data.isnull().sum()"
   ]
  },
  {
   "cell_type": "code",
   "execution_count": 47,
   "id": "b90fffd6-9255-4c9f-b796-f9b7f0717033",
   "metadata": {},
   "outputs": [
    {
     "data": {
      "text/plain": [
       "Index(['rank', 'hub_type', 'airports', 'iata_code', 'city_served',\n",
       "       'metro_area', 'state', 'data_2022', 'data_2021', 'data_2020',\n",
       "       'data_2019', 'data_2018', 'data_2017', 'data_2016', 'data_2015',\n",
       "       'data_2014', 'data_2013'],\n",
       "      dtype='object')"
      ]
     },
     "execution_count": 47,
     "metadata": {},
     "output_type": "execute_result"
    }
   ],
   "source": [
    "final_hub_data.columns"
   ]
  },
  {
   "cell_type": "code",
   "execution_count": 46,
   "id": "X83kncVGeRcG",
   "metadata": {
    "id": "X83kncVGeRcG",
    "tags": []
   },
   "outputs": [],
   "source": [
    "combined_data_pax = pd.merge(combined_data, final_hub_data[['iata_code', 'data_2019']],how = 'left' , left_on = 'AirportFrom', right_on = 'iata_code')"
   ]
  },
  {
   "cell_type": "code",
   "execution_count": 47,
   "id": "c1IDE3Azgt7C",
   "metadata": {
    "id": "c1IDE3Azgt7C",
    "tags": []
   },
   "outputs": [],
   "source": [
    "combined_data_pax.rename(columns = {'iatacode': 'iatacode_source' ,'data_2019': 'data_2019_source_airport'}, inplace = True)"
   ]
  },
  {
   "cell_type": "code",
   "execution_count": 48,
   "id": "hVk4fXdpsIPR",
   "metadata": {
    "id": "hVk4fXdpsIPR",
    "tags": []
   },
   "outputs": [],
   "source": [
    "combined_data_pax = pd.merge(combined_data_pax, final_hub_data[['iata_code', 'data_2019']],how = 'left' , left_on = 'AirportTo', right_on = 'iata_code')"
   ]
  },
  {
   "cell_type": "code",
   "execution_count": 49,
   "id": "jZp0KQF4fijy",
   "metadata": {
    "id": "jZp0KQF4fijy",
    "tags": []
   },
   "outputs": [],
   "source": [
    "combined_data_pax.rename(columns = {'iata_code': 'iatacode_dest' ,'data_2019': 'data_2019_dest_airport'}, inplace = True)"
   ]
  },
  {
   "cell_type": "code",
   "execution_count": 50,
   "id": "zaCN-nlhfTtd",
   "metadata": {
    "id": "zaCN-nlhfTtd",
    "tags": []
   },
   "outputs": [],
   "source": [
    "combined_data_pax = combined_data_pax.loc[:,~combined_data_pax.columns.str.startswith('iatacode')].copy()"
   ]
  },
  {
   "cell_type": "code",
   "execution_count": 51,
   "id": "6df63f00-feaf-4b22-8662-e385fb822c0a",
   "metadata": {
    "colab": {
     "base_uri": "https://localhost:8080/",
     "height": 488
    },
    "id": "6df63f00-feaf-4b22-8662-e385fb822c0a",
    "outputId": "1735dd5a-3d92-4a29-d439-f147fef9641b",
    "tags": []
   },
   "outputs": [
    {
     "data": {
      "text/html": [
       "<div>\n",
       "<style scoped>\n",
       "    .dataframe tbody tr th:only-of-type {\n",
       "        vertical-align: middle;\n",
       "    }\n",
       "\n",
       "    .dataframe tbody tr th {\n",
       "        vertical-align: top;\n",
       "    }\n",
       "\n",
       "    .dataframe thead th {\n",
       "        text-align: right;\n",
       "    }\n",
       "</style>\n",
       "<table border=\"1\" class=\"dataframe\">\n",
       "  <thead>\n",
       "    <tr style=\"text-align: right;\">\n",
       "      <th></th>\n",
       "      <th>id</th>\n",
       "      <th>Airline</th>\n",
       "      <th>Flight</th>\n",
       "      <th>AirportFrom</th>\n",
       "      <th>AirportTo</th>\n",
       "      <th>DayOfWeek</th>\n",
       "      <th>Time</th>\n",
       "      <th>Length</th>\n",
       "      <th>Delay</th>\n",
       "      <th>type_source_airport</th>\n",
       "      <th>elevation_ft_source_airport</th>\n",
       "      <th>runway_count_source_airport</th>\n",
       "      <th>type_dest_airport</th>\n",
       "      <th>elevation_ft_dest_airport</th>\n",
       "      <th>runway_count_dest_airport</th>\n",
       "      <th>iata_code_x</th>\n",
       "      <th>data_2019_source_airport</th>\n",
       "      <th>iata_code_y</th>\n",
       "      <th>data_2019_dest_airport</th>\n",
       "    </tr>\n",
       "  </thead>\n",
       "  <tbody>\n",
       "    <tr>\n",
       "      <th>0</th>\n",
       "      <td>1</td>\n",
       "      <td>CO</td>\n",
       "      <td>269</td>\n",
       "      <td>SFO</td>\n",
       "      <td>IAH</td>\n",
       "      <td>3</td>\n",
       "      <td>15</td>\n",
       "      <td>205</td>\n",
       "      <td>1</td>\n",
       "      <td>large_airport</td>\n",
       "      <td>13.0</td>\n",
       "      <td>4.0</td>\n",
       "      <td>large_airport</td>\n",
       "      <td>97.0</td>\n",
       "      <td>5.0</td>\n",
       "      <td>SFO</td>\n",
       "      <td>27779230.0</td>\n",
       "      <td>IAH</td>\n",
       "      <td>21905309.0</td>\n",
       "    </tr>\n",
       "    <tr>\n",
       "      <th>1</th>\n",
       "      <td>2</td>\n",
       "      <td>US</td>\n",
       "      <td>1558</td>\n",
       "      <td>PHX</td>\n",
       "      <td>CLT</td>\n",
       "      <td>3</td>\n",
       "      <td>15</td>\n",
       "      <td>222</td>\n",
       "      <td>1</td>\n",
       "      <td>large_airport</td>\n",
       "      <td>1135.0</td>\n",
       "      <td>3.0</td>\n",
       "      <td>large_airport</td>\n",
       "      <td>748.0</td>\n",
       "      <td>4.0</td>\n",
       "      <td>PHX</td>\n",
       "      <td>22433552.0</td>\n",
       "      <td>CLT</td>\n",
       "      <td>24199688.0</td>\n",
       "    </tr>\n",
       "    <tr>\n",
       "      <th>2</th>\n",
       "      <td>3</td>\n",
       "      <td>AA</td>\n",
       "      <td>2400</td>\n",
       "      <td>LAX</td>\n",
       "      <td>DFW</td>\n",
       "      <td>3</td>\n",
       "      <td>20</td>\n",
       "      <td>165</td>\n",
       "      <td>1</td>\n",
       "      <td>large_airport</td>\n",
       "      <td>125.0</td>\n",
       "      <td>4.0</td>\n",
       "      <td>large_airport</td>\n",
       "      <td>607.0</td>\n",
       "      <td>7.0</td>\n",
       "      <td>LAX</td>\n",
       "      <td>42939104.0</td>\n",
       "      <td>DFW</td>\n",
       "      <td>35778573.0</td>\n",
       "    </tr>\n",
       "    <tr>\n",
       "      <th>3</th>\n",
       "      <td>4</td>\n",
       "      <td>AA</td>\n",
       "      <td>2466</td>\n",
       "      <td>SFO</td>\n",
       "      <td>DFW</td>\n",
       "      <td>3</td>\n",
       "      <td>20</td>\n",
       "      <td>195</td>\n",
       "      <td>1</td>\n",
       "      <td>large_airport</td>\n",
       "      <td>13.0</td>\n",
       "      <td>4.0</td>\n",
       "      <td>large_airport</td>\n",
       "      <td>607.0</td>\n",
       "      <td>7.0</td>\n",
       "      <td>SFO</td>\n",
       "      <td>27779230.0</td>\n",
       "      <td>DFW</td>\n",
       "      <td>35778573.0</td>\n",
       "    </tr>\n",
       "    <tr>\n",
       "      <th>4</th>\n",
       "      <td>5</td>\n",
       "      <td>AS</td>\n",
       "      <td>108</td>\n",
       "      <td>ANC</td>\n",
       "      <td>SEA</td>\n",
       "      <td>3</td>\n",
       "      <td>30</td>\n",
       "      <td>202</td>\n",
       "      <td>0</td>\n",
       "      <td>large_airport</td>\n",
       "      <td>152.0</td>\n",
       "      <td>3.0</td>\n",
       "      <td>large_airport</td>\n",
       "      <td>433.0</td>\n",
       "      <td>4.0</td>\n",
       "      <td>ANC</td>\n",
       "      <td>2713843.0</td>\n",
       "      <td>SEA</td>\n",
       "      <td>25001762.0</td>\n",
       "    </tr>\n",
       "    <tr>\n",
       "      <th>...</th>\n",
       "      <td>...</td>\n",
       "      <td>...</td>\n",
       "      <td>...</td>\n",
       "      <td>...</td>\n",
       "      <td>...</td>\n",
       "      <td>...</td>\n",
       "      <td>...</td>\n",
       "      <td>...</td>\n",
       "      <td>...</td>\n",
       "      <td>...</td>\n",
       "      <td>...</td>\n",
       "      <td>...</td>\n",
       "      <td>...</td>\n",
       "      <td>...</td>\n",
       "      <td>...</td>\n",
       "      <td>...</td>\n",
       "      <td>...</td>\n",
       "      <td>...</td>\n",
       "      <td>...</td>\n",
       "    </tr>\n",
       "    <tr>\n",
       "      <th>518551</th>\n",
       "      <td>539377</td>\n",
       "      <td>B6</td>\n",
       "      <td>717</td>\n",
       "      <td>JFK</td>\n",
       "      <td>SJU</td>\n",
       "      <td>5</td>\n",
       "      <td>1439</td>\n",
       "      <td>220</td>\n",
       "      <td>1</td>\n",
       "      <td>large_airport</td>\n",
       "      <td>13.0</td>\n",
       "      <td>4.0</td>\n",
       "      <td>large_airport</td>\n",
       "      <td>9.0</td>\n",
       "      <td>2.0</td>\n",
       "      <td>JFK</td>\n",
       "      <td>31036655.0</td>\n",
       "      <td>SJU</td>\n",
       "      <td>4590117.0</td>\n",
       "    </tr>\n",
       "    <tr>\n",
       "      <th>518552</th>\n",
       "      <td>539378</td>\n",
       "      <td>B6</td>\n",
       "      <td>739</td>\n",
       "      <td>JFK</td>\n",
       "      <td>PSE</td>\n",
       "      <td>5</td>\n",
       "      <td>1439</td>\n",
       "      <td>223</td>\n",
       "      <td>1</td>\n",
       "      <td>large_airport</td>\n",
       "      <td>13.0</td>\n",
       "      <td>4.0</td>\n",
       "      <td>medium_airport</td>\n",
       "      <td>29.0</td>\n",
       "      <td>1.0</td>\n",
       "      <td>JFK</td>\n",
       "      <td>31036655.0</td>\n",
       "      <td>NaN</td>\n",
       "      <td>NaN</td>\n",
       "    </tr>\n",
       "    <tr>\n",
       "      <th>518553</th>\n",
       "      <td>539379</td>\n",
       "      <td>CO</td>\n",
       "      <td>178</td>\n",
       "      <td>OGG</td>\n",
       "      <td>SNA</td>\n",
       "      <td>5</td>\n",
       "      <td>1439</td>\n",
       "      <td>326</td>\n",
       "      <td>0</td>\n",
       "      <td>medium_airport</td>\n",
       "      <td>54.0</td>\n",
       "      <td>2.0</td>\n",
       "      <td>large_airport</td>\n",
       "      <td>56.0</td>\n",
       "      <td>2.0</td>\n",
       "      <td>OGG</td>\n",
       "      <td>3791807.0</td>\n",
       "      <td>SNA</td>\n",
       "      <td>5153276.0</td>\n",
       "    </tr>\n",
       "    <tr>\n",
       "      <th>518554</th>\n",
       "      <td>539382</td>\n",
       "      <td>UA</td>\n",
       "      <td>78</td>\n",
       "      <td>HNL</td>\n",
       "      <td>SFO</td>\n",
       "      <td>5</td>\n",
       "      <td>1439</td>\n",
       "      <td>313</td>\n",
       "      <td>1</td>\n",
       "      <td>large_airport</td>\n",
       "      <td>13.0</td>\n",
       "      <td>6.0</td>\n",
       "      <td>large_airport</td>\n",
       "      <td>13.0</td>\n",
       "      <td>4.0</td>\n",
       "      <td>HNL</td>\n",
       "      <td>9988678.0</td>\n",
       "      <td>SFO</td>\n",
       "      <td>27779230.0</td>\n",
       "    </tr>\n",
       "    <tr>\n",
       "      <th>518555</th>\n",
       "      <td>539383</td>\n",
       "      <td>US</td>\n",
       "      <td>1442</td>\n",
       "      <td>LAX</td>\n",
       "      <td>PHL</td>\n",
       "      <td>5</td>\n",
       "      <td>1439</td>\n",
       "      <td>301</td>\n",
       "      <td>1</td>\n",
       "      <td>large_airport</td>\n",
       "      <td>125.0</td>\n",
       "      <td>4.0</td>\n",
       "      <td>large_airport</td>\n",
       "      <td>36.0</td>\n",
       "      <td>4.0</td>\n",
       "      <td>LAX</td>\n",
       "      <td>42939104.0</td>\n",
       "      <td>PHL</td>\n",
       "      <td>16006389.0</td>\n",
       "    </tr>\n",
       "  </tbody>\n",
       "</table>\n",
       "<p>518556 rows × 19 columns</p>\n",
       "</div>"
      ],
      "text/plain": [
       "            id Airline  Flight AirportFrom AirportTo  DayOfWeek  Time  Length  \\\n",
       "0            1      CO     269         SFO       IAH          3    15     205   \n",
       "1            2      US    1558         PHX       CLT          3    15     222   \n",
       "2            3      AA    2400         LAX       DFW          3    20     165   \n",
       "3            4      AA    2466         SFO       DFW          3    20     195   \n",
       "4            5      AS     108         ANC       SEA          3    30     202   \n",
       "...        ...     ...     ...         ...       ...        ...   ...     ...   \n",
       "518551  539377      B6     717         JFK       SJU          5  1439     220   \n",
       "518552  539378      B6     739         JFK       PSE          5  1439     223   \n",
       "518553  539379      CO     178         OGG       SNA          5  1439     326   \n",
       "518554  539382      UA      78         HNL       SFO          5  1439     313   \n",
       "518555  539383      US    1442         LAX       PHL          5  1439     301   \n",
       "\n",
       "        Delay type_source_airport  elevation_ft_source_airport  \\\n",
       "0           1       large_airport                         13.0   \n",
       "1           1       large_airport                       1135.0   \n",
       "2           1       large_airport                        125.0   \n",
       "3           1       large_airport                         13.0   \n",
       "4           0       large_airport                        152.0   \n",
       "...       ...                 ...                          ...   \n",
       "518551      1       large_airport                         13.0   \n",
       "518552      1       large_airport                         13.0   \n",
       "518553      0      medium_airport                         54.0   \n",
       "518554      1       large_airport                         13.0   \n",
       "518555      1       large_airport                        125.0   \n",
       "\n",
       "        runway_count_source_airport type_dest_airport  \\\n",
       "0                               4.0     large_airport   \n",
       "1                               3.0     large_airport   \n",
       "2                               4.0     large_airport   \n",
       "3                               4.0     large_airport   \n",
       "4                               3.0     large_airport   \n",
       "...                             ...               ...   \n",
       "518551                          4.0     large_airport   \n",
       "518552                          4.0    medium_airport   \n",
       "518553                          2.0     large_airport   \n",
       "518554                          6.0     large_airport   \n",
       "518555                          4.0     large_airport   \n",
       "\n",
       "        elevation_ft_dest_airport  runway_count_dest_airport iata_code_x  \\\n",
       "0                            97.0                        5.0         SFO   \n",
       "1                           748.0                        4.0         PHX   \n",
       "2                           607.0                        7.0         LAX   \n",
       "3                           607.0                        7.0         SFO   \n",
       "4                           433.0                        4.0         ANC   \n",
       "...                           ...                        ...         ...   \n",
       "518551                        9.0                        2.0         JFK   \n",
       "518552                       29.0                        1.0         JFK   \n",
       "518553                       56.0                        2.0         OGG   \n",
       "518554                       13.0                        4.0         HNL   \n",
       "518555                       36.0                        4.0         LAX   \n",
       "\n",
       "        data_2019_source_airport iata_code_y  data_2019_dest_airport  \n",
       "0                     27779230.0         IAH              21905309.0  \n",
       "1                     22433552.0         CLT              24199688.0  \n",
       "2                     42939104.0         DFW              35778573.0  \n",
       "3                     27779230.0         DFW              35778573.0  \n",
       "4                      2713843.0         SEA              25001762.0  \n",
       "...                          ...         ...                     ...  \n",
       "518551                31036655.0         SJU               4590117.0  \n",
       "518552                31036655.0         NaN                     NaN  \n",
       "518553                 3791807.0         SNA               5153276.0  \n",
       "518554                 9988678.0         SFO              27779230.0  \n",
       "518555                42939104.0         PHL              16006389.0  \n",
       "\n",
       "[518556 rows x 19 columns]"
      ]
     },
     "execution_count": 51,
     "metadata": {},
     "output_type": "execute_result"
    }
   ],
   "source": [
    "combined_data_pax"
   ]
  },
  {
   "cell_type": "markdown",
   "id": "06f9ba79-40de-4ebe-b467-fdb6cc849ec2",
   "metadata": {
    "id": "06f9ba79-40de-4ebe-b467-fdb6cc849ec2"
   },
   "source": [
    "## addd founded column"
   ]
  },
  {
   "cell_type": "code",
   "execution_count": 52,
   "id": "1880833d-9101-4dc4-acb7-937cf011fa97",
   "metadata": {
    "colab": {
     "base_uri": "https://localhost:8080/",
     "height": 582
    },
    "id": "1880833d-9101-4dc4-acb7-937cf011fa97",
    "outputId": "060ecb8d-cbc3-419b-c5e0-68d5fd76e435",
    "tags": []
   },
   "outputs": [
    {
     "data": {
      "text/html": [
       "<div>\n",
       "<style scoped>\n",
       "    .dataframe tbody tr th:only-of-type {\n",
       "        vertical-align: middle;\n",
       "    }\n",
       "\n",
       "    .dataframe tbody tr th {\n",
       "        vertical-align: top;\n",
       "    }\n",
       "\n",
       "    .dataframe thead th {\n",
       "        text-align: right;\n",
       "    }\n",
       "</style>\n",
       "<table border=\"1\" class=\"dataframe\">\n",
       "  <thead>\n",
       "    <tr style=\"text-align: right;\">\n",
       "      <th></th>\n",
       "      <th>Airline</th>\n",
       "      <th>IATA</th>\n",
       "      <th>Founded</th>\n",
       "    </tr>\n",
       "  </thead>\n",
       "  <tbody>\n",
       "    <tr>\n",
       "      <th>0</th>\n",
       "      <td>CO</td>\n",
       "      <td>NaN</td>\n",
       "      <td>NaN</td>\n",
       "    </tr>\n",
       "    <tr>\n",
       "      <th>1</th>\n",
       "      <td>US</td>\n",
       "      <td>NaN</td>\n",
       "      <td>NaN</td>\n",
       "    </tr>\n",
       "    <tr>\n",
       "      <th>2</th>\n",
       "      <td>AA</td>\n",
       "      <td>AA</td>\n",
       "      <td>1926.0</td>\n",
       "    </tr>\n",
       "    <tr>\n",
       "      <th>3</th>\n",
       "      <td>AS</td>\n",
       "      <td>AS</td>\n",
       "      <td>1932.0</td>\n",
       "    </tr>\n",
       "    <tr>\n",
       "      <th>4</th>\n",
       "      <td>DL</td>\n",
       "      <td>DL</td>\n",
       "      <td>1924.0</td>\n",
       "    </tr>\n",
       "    <tr>\n",
       "      <th>5</th>\n",
       "      <td>B6</td>\n",
       "      <td>B6</td>\n",
       "      <td>1998.0</td>\n",
       "    </tr>\n",
       "    <tr>\n",
       "      <th>6</th>\n",
       "      <td>HA</td>\n",
       "      <td>HA</td>\n",
       "      <td>1929.0</td>\n",
       "    </tr>\n",
       "    <tr>\n",
       "      <th>7</th>\n",
       "      <td>OO</td>\n",
       "      <td>OO</td>\n",
       "      <td>1972.0</td>\n",
       "    </tr>\n",
       "    <tr>\n",
       "      <th>8</th>\n",
       "      <td>9E</td>\n",
       "      <td>9E</td>\n",
       "      <td>1985.0</td>\n",
       "    </tr>\n",
       "    <tr>\n",
       "      <th>9</th>\n",
       "      <td>OH</td>\n",
       "      <td>OH</td>\n",
       "      <td>1979.0</td>\n",
       "    </tr>\n",
       "    <tr>\n",
       "      <th>10</th>\n",
       "      <td>EV</td>\n",
       "      <td>NaN</td>\n",
       "      <td>NaN</td>\n",
       "    </tr>\n",
       "    <tr>\n",
       "      <th>11</th>\n",
       "      <td>XE</td>\n",
       "      <td>XE</td>\n",
       "      <td>2016.0</td>\n",
       "    </tr>\n",
       "    <tr>\n",
       "      <th>12</th>\n",
       "      <td>YV</td>\n",
       "      <td>YV</td>\n",
       "      <td>1980.0</td>\n",
       "    </tr>\n",
       "    <tr>\n",
       "      <th>13</th>\n",
       "      <td>UA</td>\n",
       "      <td>UA</td>\n",
       "      <td>1926.0</td>\n",
       "    </tr>\n",
       "    <tr>\n",
       "      <th>14</th>\n",
       "      <td>MQ</td>\n",
       "      <td>MQ</td>\n",
       "      <td>1984.0</td>\n",
       "    </tr>\n",
       "    <tr>\n",
       "      <th>15</th>\n",
       "      <td>F9</td>\n",
       "      <td>F9</td>\n",
       "      <td>1994.0</td>\n",
       "    </tr>\n",
       "    <tr>\n",
       "      <th>16</th>\n",
       "      <td>WN</td>\n",
       "      <td>WN</td>\n",
       "      <td>1967.0</td>\n",
       "    </tr>\n",
       "  </tbody>\n",
       "</table>\n",
       "</div>"
      ],
      "text/plain": [
       "   Airline IATA  Founded\n",
       "0       CO  NaN      NaN\n",
       "1       US  NaN      NaN\n",
       "2       AA   AA   1926.0\n",
       "3       AS   AS   1932.0\n",
       "4       DL   DL   1924.0\n",
       "5       B6   B6   1998.0\n",
       "6       HA   HA   1929.0\n",
       "7       OO   OO   1972.0\n",
       "8       9E   9E   1985.0\n",
       "9       OH   OH   1979.0\n",
       "10      EV  NaN      NaN\n",
       "11      XE   XE   2016.0\n",
       "12      YV   YV   1980.0\n",
       "13      UA   UA   1926.0\n",
       "14      MQ   MQ   1984.0\n",
       "15      F9   F9   1994.0\n",
       "16      WN   WN   1967.0"
      ]
     },
     "execution_count": 52,
     "metadata": {},
     "output_type": "execute_result"
    }
   ],
   "source": [
    "airlines_founded"
   ]
  },
  {
   "cell_type": "code",
   "execution_count": 53,
   "id": "a8eb6ff3-cbbb-4945-a9d7-2e634824fc28",
   "metadata": {
    "id": "a8eb6ff3-cbbb-4945-a9d7-2e634824fc28",
    "tags": []
   },
   "outputs": [],
   "source": [
    "combined_data_pax = pd.merge(combined_data_pax, airlines_founded[['Airline', 'Founded']], on = 'Airline')"
   ]
  },
  {
   "cell_type": "code",
   "execution_count": 54,
   "id": "9756d464-0be2-4680-b453-31605cf22d98",
   "metadata": {
    "colab": {
     "base_uri": "https://localhost:8080/",
     "height": 176
    },
    "id": "9756d464-0be2-4680-b453-31605cf22d98",
    "outputId": "5806da93-3c2f-4455-c2b5-a4b8392cac6c",
    "tags": []
   },
   "outputs": [
    {
     "data": {
      "text/html": [
       "<div>\n",
       "<style scoped>\n",
       "    .dataframe tbody tr th:only-of-type {\n",
       "        vertical-align: middle;\n",
       "    }\n",
       "\n",
       "    .dataframe tbody tr th {\n",
       "        vertical-align: top;\n",
       "    }\n",
       "\n",
       "    .dataframe thead th {\n",
       "        text-align: right;\n",
       "    }\n",
       "</style>\n",
       "<table border=\"1\" class=\"dataframe\">\n",
       "  <thead>\n",
       "    <tr style=\"text-align: right;\">\n",
       "      <th></th>\n",
       "      <th>id</th>\n",
       "      <th>Airline</th>\n",
       "      <th>Flight</th>\n",
       "      <th>AirportFrom</th>\n",
       "      <th>AirportTo</th>\n",
       "      <th>DayOfWeek</th>\n",
       "      <th>Time</th>\n",
       "      <th>Length</th>\n",
       "      <th>Delay</th>\n",
       "      <th>type_source_airport</th>\n",
       "      <th>elevation_ft_source_airport</th>\n",
       "      <th>runway_count_source_airport</th>\n",
       "      <th>type_dest_airport</th>\n",
       "      <th>elevation_ft_dest_airport</th>\n",
       "      <th>runway_count_dest_airport</th>\n",
       "      <th>iata_code_x</th>\n",
       "      <th>data_2019_source_airport</th>\n",
       "      <th>iata_code_y</th>\n",
       "      <th>data_2019_dest_airport</th>\n",
       "      <th>Founded</th>\n",
       "    </tr>\n",
       "  </thead>\n",
       "  <tbody>\n",
       "    <tr>\n",
       "      <th>0</th>\n",
       "      <td>1</td>\n",
       "      <td>CO</td>\n",
       "      <td>269</td>\n",
       "      <td>SFO</td>\n",
       "      <td>IAH</td>\n",
       "      <td>3</td>\n",
       "      <td>15</td>\n",
       "      <td>205</td>\n",
       "      <td>1</td>\n",
       "      <td>large_airport</td>\n",
       "      <td>13.0</td>\n",
       "      <td>4.0</td>\n",
       "      <td>large_airport</td>\n",
       "      <td>97.0</td>\n",
       "      <td>5.0</td>\n",
       "      <td>SFO</td>\n",
       "      <td>27779230.0</td>\n",
       "      <td>IAH</td>\n",
       "      <td>21905309.0</td>\n",
       "      <td>NaN</td>\n",
       "    </tr>\n",
       "    <tr>\n",
       "      <th>1</th>\n",
       "      <td>6</td>\n",
       "      <td>CO</td>\n",
       "      <td>1094</td>\n",
       "      <td>LAX</td>\n",
       "      <td>IAH</td>\n",
       "      <td>3</td>\n",
       "      <td>30</td>\n",
       "      <td>181</td>\n",
       "      <td>1</td>\n",
       "      <td>large_airport</td>\n",
       "      <td>125.0</td>\n",
       "      <td>4.0</td>\n",
       "      <td>large_airport</td>\n",
       "      <td>97.0</td>\n",
       "      <td>5.0</td>\n",
       "      <td>LAX</td>\n",
       "      <td>42939104.0</td>\n",
       "      <td>IAH</td>\n",
       "      <td>21905309.0</td>\n",
       "      <td>NaN</td>\n",
       "    </tr>\n",
       "  </tbody>\n",
       "</table>\n",
       "</div>"
      ],
      "text/plain": [
       "   id Airline  Flight AirportFrom AirportTo  DayOfWeek  Time  Length  Delay  \\\n",
       "0   1      CO     269         SFO       IAH          3    15     205      1   \n",
       "1   6      CO    1094         LAX       IAH          3    30     181      1   \n",
       "\n",
       "  type_source_airport  elevation_ft_source_airport  \\\n",
       "0       large_airport                         13.0   \n",
       "1       large_airport                        125.0   \n",
       "\n",
       "   runway_count_source_airport type_dest_airport  elevation_ft_dest_airport  \\\n",
       "0                          4.0     large_airport                       97.0   \n",
       "1                          4.0     large_airport                       97.0   \n",
       "\n",
       "   runway_count_dest_airport iata_code_x  data_2019_source_airport  \\\n",
       "0                        5.0         SFO                27779230.0   \n",
       "1                        5.0         LAX                42939104.0   \n",
       "\n",
       "  iata_code_y  data_2019_dest_airport  Founded  \n",
       "0         IAH              21905309.0      NaN  \n",
       "1         IAH              21905309.0      NaN  "
      ]
     },
     "execution_count": 54,
     "metadata": {},
     "output_type": "execute_result"
    }
   ],
   "source": [
    "combined_data_pax.head(2)"
   ]
  },
  {
   "cell_type": "markdown",
   "id": "c8d8e85c-7c14-4666-9435-747b72cf2a4c",
   "metadata": {
    "id": "c8d8e85c-7c14-4666-9435-747b72cf2a4c",
    "tags": []
   },
   "source": [
    "## 1.\tCheck the missing values in each field. Perform missing value treatment. Justify your actions"
   ]
  },
  {
   "cell_type": "markdown",
   "id": "a32fa61b-ee1b-4f98-89cc-4fe5da0df636",
   "metadata": {
    "id": "a32fa61b-ee1b-4f98-89cc-4fe5da0df636"
   },
   "source": [
    "### combined pax"
   ]
  },
  {
   "cell_type": "code",
   "execution_count": 56,
   "id": "0bef16b1",
   "metadata": {},
   "outputs": [
    {
     "data": {
      "text/plain": [
       "(518556, 20)"
      ]
     },
     "execution_count": 56,
     "metadata": {},
     "output_type": "execute_result"
    }
   ],
   "source": [
    "combined_data_pax.shape"
   ]
  },
  {
   "cell_type": "code",
   "execution_count": 57,
   "id": "45ac0e72-25a5-4703-bad7-aed2aaa21eab",
   "metadata": {
    "colab": {
     "base_uri": "https://localhost:8080/"
    },
    "id": "45ac0e72-25a5-4703-bad7-aed2aaa21eab",
    "outputId": "2a3d9d51-7964-4cd1-9bc6-3a05f4c1415d",
    "tags": []
   },
   "outputs": [
    {
     "data": {
      "text/plain": [
       "Founded                        83601\n",
       "data_2019_source_airport       83586\n",
       "iata_code_x                    83586\n",
       "data_2019_dest_airport         83536\n",
       "iata_code_y                    83536\n",
       "runway_count_source_airport       31\n",
       "runway_count_dest_airport         31\n",
       "elevation_ft_dest_airport         31\n",
       "type_dest_airport                 31\n",
       "elevation_ft_source_airport       31\n",
       "type_source_airport               31\n",
       "Airline                            0\n",
       "Delay                              0\n",
       "Length                             0\n",
       "Time                               0\n",
       "DayOfWeek                          0\n",
       "AirportTo                          0\n",
       "AirportFrom                        0\n",
       "Flight                             0\n",
       "id                                 0\n",
       "dtype: int64"
      ]
     },
     "execution_count": 57,
     "metadata": {},
     "output_type": "execute_result"
    }
   ],
   "source": [
    "combined_data_pax.isna().sum().sort_values(ascending = False)"
   ]
  },
  {
   "cell_type": "markdown",
   "id": "1RwTq8YltwmP",
   "metadata": {
    "id": "1RwTq8YltwmP"
   },
   "source": [
    "#### for type runway count and elevation lets get the airports for which information is missing"
   ]
  },
  {
   "cell_type": "code",
   "execution_count": 61,
   "id": "55lTFvmytnBJ",
   "metadata": {
    "colab": {
     "base_uri": "https://localhost:8080/"
    },
    "id": "55lTFvmytnBJ",
    "outputId": "1fbe188d-8807-46e4-9c52-7c7954bbe077",
    "tags": []
   },
   "outputs": [
    {
     "data": {
      "text/plain": [
       "array(['CYS'], dtype=object)"
      ]
     },
     "execution_count": 61,
     "metadata": {},
     "output_type": "execute_result"
    }
   ],
   "source": [
    "combined_data_pax[combined_data_pax.type_source_airport.isna()].AirportFrom.unique()"
   ]
  },
  {
   "cell_type": "code",
   "execution_count": 62,
   "id": "ZfizlgXHuFO_",
   "metadata": {
    "colab": {
     "base_uri": "https://localhost:8080/"
    },
    "id": "ZfizlgXHuFO_",
    "outputId": "c52fce17-12e8-4df7-a5bf-9fee4f98da51",
    "tags": []
   },
   "outputs": [
    {
     "data": {
      "text/plain": [
       "array(['CYS'], dtype=object)"
      ]
     },
     "execution_count": 62,
     "metadata": {},
     "output_type": "execute_result"
    }
   ],
   "source": [
    "combined_data_pax[combined_data_pax.type_dest_airport.isna()].AirportTo.unique()"
   ]
  },
  {
   "cell_type": "markdown",
   "id": "7c1xi4CuuKFP",
   "metadata": {
    "id": "7c1xi4CuuKFP"
   },
   "source": [
    "As we see information for only CYS is missing Lets check for this information using data dictionary and match the description and name of the airport to fetch information "
   ]
  },
  {
   "cell_type": "code",
   "execution_count": 60,
   "id": "0992c308",
   "metadata": {
    "id": "ae2ea7d4-65b5-4ec2-a275-9fe4b584a8b4",
    "outputId": "7569f2aa-aae9-4aae-adcf-265bc2d90017"
   },
   "outputs": [
    {
     "data": {
      "text/html": [
       "<div>\n",
       "<style scoped>\n",
       "    .dataframe tbody tr th:only-of-type {\n",
       "        vertical-align: middle;\n",
       "    }\n",
       "\n",
       "    .dataframe tbody tr th {\n",
       "        vertical-align: top;\n",
       "    }\n",
       "\n",
       "    .dataframe thead th {\n",
       "        text-align: right;\n",
       "    }\n",
       "</style>\n",
       "<table border=\"1\" class=\"dataframe\">\n",
       "  <thead>\n",
       "    <tr style=\"text-align: right;\">\n",
       "      <th></th>\n",
       "      <th>Aiport ID</th>\n",
       "      <th>Description</th>\n",
       "      <th>Unnamed: 2</th>\n",
       "    </tr>\n",
       "  </thead>\n",
       "  <tbody>\n",
       "    <tr>\n",
       "      <th>0</th>\n",
       "      <td>ABE</td>\n",
       "      <td>RAF Calveley</td>\n",
       "      <td>NaN</td>\n",
       "    </tr>\n",
       "    <tr>\n",
       "      <th>1</th>\n",
       "      <td>ABE</td>\n",
       "      <td>Bisho Airport</td>\n",
       "      <td>NaN</td>\n",
       "    </tr>\n",
       "  </tbody>\n",
       "</table>\n",
       "</div>"
      ],
      "text/plain": [
       "  Aiport ID    Description  Unnamed: 2\n",
       "0       ABE   RAF Calveley         NaN\n",
       "1       ABE  Bisho Airport         NaN"
      ]
     },
     "execution_count": 60,
     "metadata": {},
     "output_type": "execute_result"
    }
   ],
   "source": [
    "airport_dict = pd.read_excel('Data Dictionary.xlsx', sheet_name = 'airlines',header = 29)\n",
    "airport_dict.head(2)"
   ]
  },
  {
   "cell_type": "code",
   "execution_count": 61,
   "id": "4e6698e2-e5ca-4548-a8b8-e8784d11d700",
   "metadata": {
    "colab": {
     "base_uri": "https://localhost:8080/",
     "height": 112
    },
    "id": "4e6698e2-e5ca-4548-a8b8-e8784d11d700",
    "outputId": "b32def11-8a07-412a-f12a-8508331546f0",
    "tags": []
   },
   "outputs": [
    {
     "data": {
      "text/html": [
       "<div>\n",
       "<style scoped>\n",
       "    .dataframe tbody tr th:only-of-type {\n",
       "        vertical-align: middle;\n",
       "    }\n",
       "\n",
       "    .dataframe tbody tr th {\n",
       "        vertical-align: top;\n",
       "    }\n",
       "\n",
       "    .dataframe thead th {\n",
       "        text-align: right;\n",
       "    }\n",
       "</style>\n",
       "<table border=\"1\" class=\"dataframe\">\n",
       "  <thead>\n",
       "    <tr style=\"text-align: right;\">\n",
       "      <th></th>\n",
       "      <th>Aiport ID</th>\n",
       "      <th>Description</th>\n",
       "    </tr>\n",
       "  </thead>\n",
       "  <tbody>\n",
       "    <tr>\n",
       "      <th>0</th>\n",
       "      <td>ABE</td>\n",
       "      <td>RAF Calveley</td>\n",
       "    </tr>\n",
       "    <tr>\n",
       "      <th>1</th>\n",
       "      <td>ABE</td>\n",
       "      <td>Bisho Airport</td>\n",
       "    </tr>\n",
       "  </tbody>\n",
       "</table>\n",
       "</div>"
      ],
      "text/plain": [
       "  Aiport ID    Description\n",
       "0       ABE   RAF Calveley\n",
       "1       ABE  Bisho Airport"
      ]
     },
     "execution_count": 61,
     "metadata": {},
     "output_type": "execute_result"
    }
   ],
   "source": [
    "airport_dict = pd.read_excel('Data Dictionary.xlsx', sheet_name = 'airlines',header = 29, usecols = [0,1])\n",
    "airport_dict.head(2)"
   ]
  },
  {
   "cell_type": "code",
   "execution_count": 62,
   "id": "85fe5b3e",
   "metadata": {},
   "outputs": [
    {
     "data": {
      "text/plain": [
       "194    Cheyenne Regional Jerry Olson Field\n",
       "Name: Description, dtype: object"
      ]
     },
     "execution_count": 62,
     "metadata": {},
     "output_type": "execute_result"
    }
   ],
   "source": [
    "airport_dict[airport_dict['Aiport ID'] == 'CYS'].Description"
   ]
  },
  {
   "cell_type": "code",
   "execution_count": 63,
   "id": "fIUPJ61vvAKv",
   "metadata": {
    "colab": {
     "base_uri": "https://localhost:8080/",
     "height": 35
    },
    "id": "fIUPJ61vvAKv",
    "outputId": "52fa3730-9123-4b4d-de7d-e6b1a775082f",
    "tags": []
   },
   "outputs": [
    {
     "data": {
      "text/plain": [
       "'cheyenne regional jerry olson field'"
      ]
     },
     "execution_count": 63,
     "metadata": {},
     "output_type": "execute_result"
    }
   ],
   "source": [
    "name = airport_dict[airport_dict['Aiport ID'] == 'CYS'].Description.values[0]\n",
    "name.lower()"
   ]
  },
  {
   "cell_type": "code",
   "execution_count": 64,
   "id": "CJ1Qq_kNvP6B",
   "metadata": {
    "id": "CJ1Qq_kNvP6B",
    "tags": []
   },
   "outputs": [],
   "source": [
    "air_miss = airports.loc[name.lower() == airports.name.str.lower(), ['ident', 'name', 'iata_code', 'type', 'elevation_ft']]"
   ]
  },
  {
   "cell_type": "code",
   "execution_count": 65,
   "id": "fefb69dd",
   "metadata": {},
   "outputs": [
    {
     "data": {
      "text/html": [
       "<div>\n",
       "<style scoped>\n",
       "    .dataframe tbody tr th:only-of-type {\n",
       "        vertical-align: middle;\n",
       "    }\n",
       "\n",
       "    .dataframe tbody tr th {\n",
       "        vertical-align: top;\n",
       "    }\n",
       "\n",
       "    .dataframe thead th {\n",
       "        text-align: right;\n",
       "    }\n",
       "</style>\n",
       "<table border=\"1\" class=\"dataframe\">\n",
       "  <thead>\n",
       "    <tr style=\"text-align: right;\">\n",
       "      <th></th>\n",
       "      <th>ident</th>\n",
       "      <th>name</th>\n",
       "      <th>iata_code</th>\n",
       "      <th>type</th>\n",
       "      <th>elevation_ft</th>\n",
       "    </tr>\n",
       "  </thead>\n",
       "  <tbody>\n",
       "    <tr>\n",
       "      <th>34675</th>\n",
       "      <td>KCYS</td>\n",
       "      <td>Cheyenne Regional Jerry Olson Field</td>\n",
       "      <td>NaN</td>\n",
       "      <td>medium_airport</td>\n",
       "      <td>6159.0</td>\n",
       "    </tr>\n",
       "  </tbody>\n",
       "</table>\n",
       "</div>"
      ],
      "text/plain": [
       "      ident                                 name iata_code            type  \\\n",
       "34675  KCYS  Cheyenne Regional Jerry Olson Field       NaN  medium_airport   \n",
       "\n",
       "       elevation_ft  \n",
       "34675        6159.0  "
      ]
     },
     "execution_count": 65,
     "metadata": {},
     "output_type": "execute_result"
    }
   ],
   "source": [
    "air_miss.head(2)"
   ]
  },
  {
   "cell_type": "code",
   "execution_count": 66,
   "id": "_yiNGuIhwI58",
   "metadata": {
    "colab": {
     "base_uri": "https://localhost:8080/",
     "height": 81
    },
    "id": "_yiNGuIhwI58",
    "outputId": "1126147d-1173-4f30-da77-b39d0f43d1e9",
    "tags": []
   },
   "outputs": [
    {
     "data": {
      "text/html": [
       "<div>\n",
       "<style scoped>\n",
       "    .dataframe tbody tr th:only-of-type {\n",
       "        vertical-align: middle;\n",
       "    }\n",
       "\n",
       "    .dataframe tbody tr th {\n",
       "        vertical-align: top;\n",
       "    }\n",
       "\n",
       "    .dataframe thead th {\n",
       "        text-align: right;\n",
       "    }\n",
       "</style>\n",
       "<table border=\"1\" class=\"dataframe\">\n",
       "  <thead>\n",
       "    <tr style=\"text-align: right;\">\n",
       "      <th></th>\n",
       "      <th>ident</th>\n",
       "      <th>id</th>\n",
       "    </tr>\n",
       "  </thead>\n",
       "  <tbody>\n",
       "    <tr>\n",
       "      <th>0</th>\n",
       "      <td>KCYS</td>\n",
       "      <td>2</td>\n",
       "    </tr>\n",
       "  </tbody>\n",
       "</table>\n",
       "</div>"
      ],
      "text/plain": [
       "  ident  id\n",
       "0  KCYS   2"
      ]
     },
     "execution_count": 66,
     "metadata": {},
     "output_type": "execute_result"
    }
   ],
   "source": [
    "air_miss_comb = pd.merge(air_miss, runways[['airport_ident', 'id']], how = 'left', left_on = 'ident', right_on = 'airport_ident')\n",
    "runway_count_miss = air_miss_comb.groupby('ident')[['id']].count().sort_values(by = 'id', ascending = False).reset_index()\n",
    "runway_count_miss"
   ]
  },
  {
   "cell_type": "code",
   "execution_count": 68,
   "id": "msSHy4bqyFR4",
   "metadata": {
    "id": "msSHy4bqyFR4",
    "tags": []
   },
   "outputs": [],
   "source": [
    "air_miss_data = pd.merge(air_miss,runway_count_miss ).rename(columns = {'id' : 'runway_count'})[['iata_code', 'type', 'elevation_ft', 'runway_count']]"
   ]
  },
  {
   "cell_type": "code",
   "execution_count": 69,
   "id": "IFqAXdJHyu4p",
   "metadata": {
    "id": "IFqAXdJHyu4p",
    "tags": []
   },
   "outputs": [],
   "source": [
    "combined_data_pax.loc[combined_data_pax.AirportFrom == 'CYS', 'type_source_airport'] = air_miss_data.type.values[0]\n",
    "combined_data_pax.loc[combined_data_pax.AirportFrom == 'CYS', 'elevation_ft_source_airport'] = air_miss_data.elevation_ft.values[0]\n",
    "combined_data_pax.loc[combined_data_pax.AirportFrom == 'CYS', 'runway_count_source_airport'] = air_miss_data.runway_count.values[0]"
   ]
  },
  {
   "cell_type": "code",
   "execution_count": 70,
   "id": "8fwfzA5dzRmc",
   "metadata": {
    "id": "8fwfzA5dzRmc",
    "tags": []
   },
   "outputs": [],
   "source": [
    "combined_data_pax.loc[combined_data_pax.AirportTo == 'CYS', 'type_dest_airport'] = air_miss_data.type.values[0]\n",
    "combined_data_pax.loc[combined_data_pax.AirportTo == 'CYS', 'elevation_ft_dest_airport'] = air_miss_data.elevation_ft.values[0]\n",
    "combined_data_pax.loc[combined_data_pax.AirportTo == 'CYS', 'runway_count_dest_airport'] = air_miss_data.runway_count.values[0]"
   ]
  },
  {
   "cell_type": "code",
   "execution_count": 71,
   "id": "ZtomrSw6zp0h",
   "metadata": {
    "colab": {
     "base_uri": "https://localhost:8080/"
    },
    "id": "ZtomrSw6zp0h",
    "outputId": "41e5314b-b389-4ef9-bb88-05aaf86ad2a7",
    "tags": []
   },
   "outputs": [
    {
     "data": {
      "text/plain": [
       "Founded                        83601\n",
       "data_2019_source_airport       83586\n",
       "iata_code_x                    83586\n",
       "data_2019_dest_airport         83536\n",
       "iata_code_y                    83536\n",
       "Airline                            0\n",
       "runway_count_dest_airport          0\n",
       "elevation_ft_dest_airport          0\n",
       "type_dest_airport                  0\n",
       "runway_count_source_airport        0\n",
       "id                                 0\n",
       "type_source_airport                0\n",
       "Delay                              0\n",
       "Length                             0\n",
       "Time                               0\n",
       "DayOfWeek                          0\n",
       "AirportTo                          0\n",
       "AirportFrom                        0\n",
       "Flight                             0\n",
       "elevation_ft_source_airport        0\n",
       "dtype: int64"
      ]
     },
     "execution_count": 71,
     "metadata": {},
     "output_type": "execute_result"
    }
   ],
   "source": [
    "combined_data_pax.isna().sum().sort_values(ascending = False)"
   ]
  },
  {
   "cell_type": "code",
   "execution_count": 72,
   "id": "36462588-b16d-4692-ae83-2ff11b955ab1",
   "metadata": {
    "colab": {
     "base_uri": "https://localhost:8080/",
     "height": 112
    },
    "id": "36462588-b16d-4692-ae83-2ff11b955ab1",
    "outputId": "2315c107-dfbf-488a-a85f-3938296c35a9",
    "tags": []
   },
   "outputs": [
    {
     "data": {
      "text/html": [
       "<div>\n",
       "<style scoped>\n",
       "    .dataframe tbody tr th:only-of-type {\n",
       "        vertical-align: middle;\n",
       "    }\n",
       "\n",
       "    .dataframe tbody tr th {\n",
       "        vertical-align: top;\n",
       "    }\n",
       "\n",
       "    .dataframe thead th {\n",
       "        text-align: right;\n",
       "    }\n",
       "</style>\n",
       "<table border=\"1\" class=\"dataframe\">\n",
       "  <thead>\n",
       "    <tr style=\"text-align: right;\">\n",
       "      <th></th>\n",
       "      <th>Airlines ID</th>\n",
       "      <th>Description</th>\n",
       "    </tr>\n",
       "  </thead>\n",
       "  <tbody>\n",
       "    <tr>\n",
       "      <th>0</th>\n",
       "      <td>WN</td>\n",
       "      <td>Southwest</td>\n",
       "    </tr>\n",
       "    <tr>\n",
       "      <th>1</th>\n",
       "      <td>DL</td>\n",
       "      <td>Delta</td>\n",
       "    </tr>\n",
       "  </tbody>\n",
       "</table>\n",
       "</div>"
      ],
      "text/plain": [
       "  Airlines ID Description\n",
       "0          WN   Southwest\n",
       "1          DL       Delta"
      ]
     },
     "execution_count": 72,
     "metadata": {},
     "output_type": "execute_result"
    }
   ],
   "source": [
    "airline_dict = pd.read_excel('Data Dictionary.xlsx', sheet_name = 'airlines',header = 10, usecols = [0,1])\n",
    "airline_dict.head(2)"
   ]
  },
  {
   "cell_type": "code",
   "execution_count": 76,
   "id": "001d5b6b-20ad-4838-8222-6967b29176eb",
   "metadata": {
    "colab": {
     "base_uri": "https://localhost:8080/"
    },
    "id": "001d5b6b-20ad-4838-8222-6967b29176eb",
    "outputId": "43db41e4-0647-4450-f669-79983beeabeb",
    "tags": []
   },
   "outputs": [
    {
     "name": "stdout",
     "output_type": "stream",
     "text": [
      "  Airlines ID                        Description\n",
      "5          US  PSA (initially US Airway Express)\n",
      "7          EV                         ExpressJet\n",
      "9          CO     United Airlines (initially CO)\n"
     ]
    }
   ],
   "source": [
    "miss_founded = combined_data_pax[combined_data_pax.Founded.isna()].Airline.unique()\n",
    "print(airline_dict[airline_dict['Airlines ID'].isin( ['EV', 'CO', 'US'])])"
   ]
  },
  {
   "cell_type": "raw",
   "id": "b1a34cfd-96e4-48ac-9e3e-6a361e9fcdd9",
   "metadata": {
    "id": "b1a34cfd-96e4-48ac-9e3e-6a361e9fcdd9"
   },
   "source": [
    "US - 1967\n",
    "CO - 1934\n",
    "EV - 1986\n",
    "# use google for these years"
   ]
  },
  {
   "cell_type": "code",
   "execution_count": 77,
   "id": "4847ad06-fd04-4f08-9e29-a976fada6ceb",
   "metadata": {
    "id": "4847ad06-fd04-4f08-9e29-a976fada6ceb",
    "tags": []
   },
   "outputs": [],
   "source": [
    "miss_val = {'US' : 1967, 'CO' : 1934, 'EV' : 1986}\n",
    "for aline in miss_founded:\n",
    "    combined_data_pax.loc[(combined_data_pax.Founded.isna()) & \n",
    "                      (combined_data_pax.Airline == aline), 'Founded'] = miss_val[aline] "
   ]
  },
  {
   "cell_type": "code",
   "execution_count": 78,
   "id": "6581c87d-fae4-40b3-b981-6f62e5d1d91e",
   "metadata": {
    "colab": {
     "base_uri": "https://localhost:8080/"
    },
    "id": "6581c87d-fae4-40b3-b981-6f62e5d1d91e",
    "outputId": "7bc0c662-6ac4-4f09-c0bc-6b1f970c75a2",
    "tags": []
   },
   "outputs": [
    {
     "data": {
      "text/plain": [
       "data_2019_source_airport       16.118992\n",
       "iata_code_x                    16.118992\n",
       "data_2019_dest_airport         16.109350\n",
       "iata_code_y                    16.109350\n",
       "id                              0.000000\n",
       "Airline                         0.000000\n",
       "runway_count_dest_airport       0.000000\n",
       "elevation_ft_dest_airport       0.000000\n",
       "type_dest_airport               0.000000\n",
       "runway_count_source_airport     0.000000\n",
       "elevation_ft_source_airport     0.000000\n",
       "type_source_airport             0.000000\n",
       "Delay                           0.000000\n",
       "Length                          0.000000\n",
       "Time                            0.000000\n",
       "DayOfWeek                       0.000000\n",
       "AirportTo                       0.000000\n",
       "AirportFrom                     0.000000\n",
       "Flight                          0.000000\n",
       "Founded                         0.000000\n",
       "dtype: float64"
      ]
     },
     "execution_count": 78,
     "metadata": {},
     "output_type": "execute_result"
    }
   ],
   "source": [
    "(combined_data_pax.isna().sum().sort_values(ascending = False)/combined_data_pax.shape[0])*100"
   ]
  },
  {
   "cell_type": "markdown",
   "id": "UJIWU1qBzxtU",
   "metadata": {
    "id": "UJIWU1qBzxtU"
   },
   "source": [
    "For missing pax data use median value based on 'type' of airport"
   ]
  },
  {
   "cell_type": "code",
   "execution_count": 79,
   "id": "SJcwtXDgzxCQ",
   "metadata": {
    "colab": {
     "base_uri": "https://localhost:8080/",
     "height": 175
    },
    "id": "SJcwtXDgzxCQ",
    "outputId": "e7b5681a-46fd-43dd-f505-dee6ef415530",
    "tags": []
   },
   "outputs": [
    {
     "data": {
      "text/html": [
       "<div>\n",
       "<style scoped>\n",
       "    .dataframe tbody tr th:only-of-type {\n",
       "        vertical-align: middle;\n",
       "    }\n",
       "\n",
       "    .dataframe tbody tr th {\n",
       "        vertical-align: top;\n",
       "    }\n",
       "\n",
       "    .dataframe thead th {\n",
       "        text-align: right;\n",
       "    }\n",
       "</style>\n",
       "<table border=\"1\" class=\"dataframe\">\n",
       "  <thead>\n",
       "    <tr style=\"text-align: right;\">\n",
       "      <th></th>\n",
       "      <th>data_2019_source_airport</th>\n",
       "    </tr>\n",
       "    <tr>\n",
       "      <th>type_source_airport</th>\n",
       "      <th></th>\n",
       "    </tr>\n",
       "  </thead>\n",
       "  <tbody>\n",
       "    <tr>\n",
       "      <th>large_airport</th>\n",
       "      <td>21905309.0</td>\n",
       "    </tr>\n",
       "    <tr>\n",
       "      <th>medium_airport</th>\n",
       "      <td>3323614.0</td>\n",
       "    </tr>\n",
       "    <tr>\n",
       "      <th>small_airport</th>\n",
       "      <td>NaN</td>\n",
       "    </tr>\n",
       "  </tbody>\n",
       "</table>\n",
       "</div>"
      ],
      "text/plain": [
       "                     data_2019_source_airport\n",
       "type_source_airport                          \n",
       "large_airport                      21905309.0\n",
       "medium_airport                      3323614.0\n",
       "small_airport                             NaN"
      ]
     },
     "execution_count": 79,
     "metadata": {},
     "output_type": "execute_result"
    }
   ],
   "source": [
    "combined_data_pax.groupby('type_source_airport')[['data_2019_source_airport']].median()"
   ]
  },
  {
   "cell_type": "code",
   "execution_count": 80,
   "id": "CiwpcOdqOQRJ",
   "metadata": {
    "colab": {
     "base_uri": "https://localhost:8080/",
     "height": 175
    },
    "id": "CiwpcOdqOQRJ",
    "outputId": "f28cbdd9-7c29-4a55-8121-fa72be24c770",
    "tags": []
   },
   "outputs": [
    {
     "data": {
      "text/html": [
       "<div>\n",
       "<style scoped>\n",
       "    .dataframe tbody tr th:only-of-type {\n",
       "        vertical-align: middle;\n",
       "    }\n",
       "\n",
       "    .dataframe tbody tr th {\n",
       "        vertical-align: top;\n",
       "    }\n",
       "\n",
       "    .dataframe thead th {\n",
       "        text-align: right;\n",
       "    }\n",
       "</style>\n",
       "<table border=\"1\" class=\"dataframe\">\n",
       "  <thead>\n",
       "    <tr style=\"text-align: right;\">\n",
       "      <th></th>\n",
       "      <th>data_2019_source_airport</th>\n",
       "    </tr>\n",
       "    <tr>\n",
       "      <th>type_source_airport</th>\n",
       "      <th></th>\n",
       "    </tr>\n",
       "  </thead>\n",
       "  <tbody>\n",
       "    <tr>\n",
       "      <th>large_airport</th>\n",
       "      <td>21905309.0</td>\n",
       "    </tr>\n",
       "    <tr>\n",
       "      <th>medium_airport</th>\n",
       "      <td>3323614.0</td>\n",
       "    </tr>\n",
       "    <tr>\n",
       "      <th>small_airport</th>\n",
       "      <td>NaN</td>\n",
       "    </tr>\n",
       "  </tbody>\n",
       "</table>\n",
       "</div>"
      ],
      "text/plain": [
       "                     data_2019_source_airport\n",
       "type_source_airport                          \n",
       "large_airport                      21905309.0\n",
       "medium_airport                      3323614.0\n",
       "small_airport                             NaN"
      ]
     },
     "execution_count": 80,
     "metadata": {},
     "output_type": "execute_result"
    }
   ],
   "source": [
    "med_val = combined_data_pax.groupby('type_source_airport')[['data_2019_source_airport']].median()\n",
    "med_val"
   ]
  },
  {
   "cell_type": "code",
   "execution_count": 81,
   "id": "ZbvJWAoBOU_d",
   "metadata": {
    "id": "ZbvJWAoBOU_d",
    "tags": []
   },
   "outputs": [],
   "source": [
    "for typ in combined_data_pax.type_source_airport.unique():\n",
    "      combined_data_pax.loc[(combined_data_pax.type_source_airport == typ)& (combined_data_pax.data_2019_source_airport.isna()),\n",
    "                      'data_2019_source_airport'] = med_val.loc[typ].values[0]"
   ]
  },
  {
   "cell_type": "code",
   "execution_count": 82,
   "id": "f278fbd4",
   "metadata": {},
   "outputs": [
    {
     "data": {
      "text/plain": [
       "Index(['id', 'Airline', 'Flight', 'AirportFrom', 'AirportTo', 'DayOfWeek',\n",
       "       'Time', 'Length', 'Delay', 'type_source_airport',\n",
       "       'elevation_ft_source_airport', 'runway_count_source_airport',\n",
       "       'type_dest_airport', 'elevation_ft_dest_airport',\n",
       "       'runway_count_dest_airport', 'iata_code_x', 'data_2019_source_airport',\n",
       "       'iata_code_y', 'data_2019_dest_airport', 'Founded'],\n",
       "      dtype='object')"
      ]
     },
     "execution_count": 82,
     "metadata": {},
     "output_type": "execute_result"
    }
   ],
   "source": [
    "combined_data_pax.columns"
   ]
  },
  {
   "cell_type": "code",
   "execution_count": 89,
   "id": "hyF597KJQJoW",
   "metadata": {
    "colab": {
     "base_uri": "https://localhost:8080/",
     "height": 175
    },
    "id": "hyF597KJQJoW",
    "outputId": "94b5c2b5-6c21-4ad0-8b11-e48cf0450bf0",
    "tags": []
   },
   "outputs": [],
   "source": [
    "# med_val_dest = combined_data_pax.groupby('type_dest_airport')[['data_2019_dest_airport']].median()\n",
    "# med_val_dest"
   ]
  },
  {
   "cell_type": "code",
   "execution_count": 83,
   "id": "1ZC9ScIlP2FV",
   "metadata": {
    "id": "1ZC9ScIlP2FV",
    "tags": []
   },
   "outputs": [],
   "source": [
    "for typ in combined_data_pax.type_source_airport.unique():\n",
    "      combined_data_pax.loc[(combined_data_pax.type_dest_airport == typ)& (combined_data_pax.data_2019_dest_airport.isna()),\n",
    "                      'data_2019_dest_airport'] = med_val.loc[typ].values[0]"
   ]
  },
  {
   "cell_type": "code",
   "execution_count": 84,
   "id": "0be8a773-bd7e-48f7-b1f9-8db6f05fc8e6",
   "metadata": {
    "colab": {
     "base_uri": "https://localhost:8080/",
     "height": 176
    },
    "id": "0be8a773-bd7e-48f7-b1f9-8db6f05fc8e6",
    "outputId": "a6bce7f5-bb62-4c58-fa5b-ad1b19524c49",
    "tags": []
   },
   "outputs": [
    {
     "data": {
      "text/html": [
       "<div>\n",
       "<style scoped>\n",
       "    .dataframe tbody tr th:only-of-type {\n",
       "        vertical-align: middle;\n",
       "    }\n",
       "\n",
       "    .dataframe tbody tr th {\n",
       "        vertical-align: top;\n",
       "    }\n",
       "\n",
       "    .dataframe thead th {\n",
       "        text-align: right;\n",
       "    }\n",
       "</style>\n",
       "<table border=\"1\" class=\"dataframe\">\n",
       "  <thead>\n",
       "    <tr style=\"text-align: right;\">\n",
       "      <th></th>\n",
       "      <th>id</th>\n",
       "      <th>Airline</th>\n",
       "      <th>Flight</th>\n",
       "      <th>AirportFrom</th>\n",
       "      <th>AirportTo</th>\n",
       "      <th>DayOfWeek</th>\n",
       "      <th>Time</th>\n",
       "      <th>Length</th>\n",
       "      <th>Delay</th>\n",
       "      <th>type_source_airport</th>\n",
       "      <th>elevation_ft_source_airport</th>\n",
       "      <th>runway_count_source_airport</th>\n",
       "      <th>type_dest_airport</th>\n",
       "      <th>elevation_ft_dest_airport</th>\n",
       "      <th>runway_count_dest_airport</th>\n",
       "      <th>iata_code_x</th>\n",
       "      <th>data_2019_source_airport</th>\n",
       "      <th>iata_code_y</th>\n",
       "      <th>data_2019_dest_airport</th>\n",
       "      <th>Founded</th>\n",
       "    </tr>\n",
       "  </thead>\n",
       "  <tbody>\n",
       "    <tr>\n",
       "      <th>0</th>\n",
       "      <td>1</td>\n",
       "      <td>CO</td>\n",
       "      <td>269</td>\n",
       "      <td>SFO</td>\n",
       "      <td>IAH</td>\n",
       "      <td>3</td>\n",
       "      <td>15</td>\n",
       "      <td>205</td>\n",
       "      <td>1</td>\n",
       "      <td>large_airport</td>\n",
       "      <td>13.0</td>\n",
       "      <td>4.0</td>\n",
       "      <td>large_airport</td>\n",
       "      <td>97.0</td>\n",
       "      <td>5.0</td>\n",
       "      <td>SFO</td>\n",
       "      <td>27779230.0</td>\n",
       "      <td>IAH</td>\n",
       "      <td>21905309.0</td>\n",
       "      <td>1934.0</td>\n",
       "    </tr>\n",
       "    <tr>\n",
       "      <th>1</th>\n",
       "      <td>6</td>\n",
       "      <td>CO</td>\n",
       "      <td>1094</td>\n",
       "      <td>LAX</td>\n",
       "      <td>IAH</td>\n",
       "      <td>3</td>\n",
       "      <td>30</td>\n",
       "      <td>181</td>\n",
       "      <td>1</td>\n",
       "      <td>large_airport</td>\n",
       "      <td>125.0</td>\n",
       "      <td>4.0</td>\n",
       "      <td>large_airport</td>\n",
       "      <td>97.0</td>\n",
       "      <td>5.0</td>\n",
       "      <td>LAX</td>\n",
       "      <td>42939104.0</td>\n",
       "      <td>IAH</td>\n",
       "      <td>21905309.0</td>\n",
       "      <td>1934.0</td>\n",
       "    </tr>\n",
       "  </tbody>\n",
       "</table>\n",
       "</div>"
      ],
      "text/plain": [
       "   id Airline  Flight AirportFrom AirportTo  DayOfWeek  Time  Length  Delay  \\\n",
       "0   1      CO     269         SFO       IAH          3    15     205      1   \n",
       "1   6      CO    1094         LAX       IAH          3    30     181      1   \n",
       "\n",
       "  type_source_airport  elevation_ft_source_airport  \\\n",
       "0       large_airport                         13.0   \n",
       "1       large_airport                        125.0   \n",
       "\n",
       "   runway_count_source_airport type_dest_airport  elevation_ft_dest_airport  \\\n",
       "0                          4.0     large_airport                       97.0   \n",
       "1                          4.0     large_airport                       97.0   \n",
       "\n",
       "   runway_count_dest_airport iata_code_x  data_2019_source_airport  \\\n",
       "0                        5.0         SFO                27779230.0   \n",
       "1                        5.0         LAX                42939104.0   \n",
       "\n",
       "  iata_code_y  data_2019_dest_airport  Founded  \n",
       "0         IAH              21905309.0   1934.0  \n",
       "1         IAH              21905309.0   1934.0  "
      ]
     },
     "execution_count": 84,
     "metadata": {},
     "output_type": "execute_result"
    }
   ],
   "source": [
    "combined_data_pax.head(2)"
   ]
  },
  {
   "cell_type": "code",
   "execution_count": 85,
   "id": "20caYMODPtPW",
   "metadata": {
    "colab": {
     "base_uri": "https://localhost:8080/"
    },
    "id": "20caYMODPtPW",
    "outputId": "399d8027-a524-42a9-eb2e-27fbcc49eca3",
    "tags": []
   },
   "outputs": [
    {
     "data": {
      "text/plain": [
       "iata_code_x                    16.118992\n",
       "iata_code_y                    16.109350\n",
       "data_2019_source_airport        0.226205\n",
       "data_2019_dest_airport          0.224855\n",
       "id                              0.000000\n",
       "Airline                         0.000000\n",
       "runway_count_dest_airport       0.000000\n",
       "elevation_ft_dest_airport       0.000000\n",
       "type_dest_airport               0.000000\n",
       "runway_count_source_airport     0.000000\n",
       "elevation_ft_source_airport     0.000000\n",
       "type_source_airport             0.000000\n",
       "Delay                           0.000000\n",
       "Length                          0.000000\n",
       "Time                            0.000000\n",
       "DayOfWeek                       0.000000\n",
       "AirportTo                       0.000000\n",
       "AirportFrom                     0.000000\n",
       "Flight                          0.000000\n",
       "Founded                         0.000000\n",
       "dtype: float64"
      ]
     },
     "execution_count": 85,
     "metadata": {},
     "output_type": "execute_result"
    }
   ],
   "source": [
    "(combined_data_pax.isna().sum().sort_values(ascending = False)/combined_data_pax.shape[0])*100"
   ]
  },
  {
   "cell_type": "markdown",
   "id": "86DhG1uaQs5a",
   "metadata": {
    "id": "86DhG1uaQs5a"
   },
   "source": [
    "### Since % of values missing is 0.2% we can simply eliminate these rows"
   ]
  },
  {
   "cell_type": "markdown",
   "id": "d91923fd-fcdb-47bb-b017-e4aaa3eeeeb6",
   "metadata": {
    "id": "d91923fd-fcdb-47bb-b017-e4aaa3eeeeb6"
   },
   "source": [
    "## 2.\tPerform data visualization and share your insights related to following aspects:\n",
    "![image.png](data:image/png;base64,iVBORw0KGgoAAAANSUhEUgAAAdYAAABYCAYAAABI19ZGAAAYS2lDQ1BJQ0MgUHJvZmlsZQAAWIWVeQk4Vd33/z53vtd8r3meZzLP8zzPMwnXdE1xjaFEkjFRIaSSjJVKoRKRBqUMvSRJJEOlUFGh+h1Dve/3/f6f/+/57efZZ3/O2muvtfba4zoHAK4q38jIMAQjAOERMVQHUwN+N3cPfuwMIAA+sJGEfMnRkfp2dlYbL7/L/0wrwwDaKJ/KbMj67/r/b2LyD4gmAwDZwdjPP5ocDuOrAKDKyZHUGAAwG3Sh+JjIDQxnwEyFDYRx5gYO2sLlG9hvC1/a5HFyMIRxNwA4Wl9fahAA9P0wnT+OHATLoF+E64gR/pQIAFhQMNYJD9/tDwCXEcwjDvNEwnijH2p+/5AT9B8y/f7I9PUN+oO3+rKZcEaU6Mgw3z3/R3f87yk8LPa3DlE40wZTzRw2+gz7bSR0t+UGpoXxfISfjS2MiTD+RvHf5IcxghAca+a8xY/gJkcbwj4DrDCW8/c1soQxN4xNIsJsrLbpfoEUE3MYwzMEkUCJMXeCMTuMMwOijR23eU5Tdzts60I0B1IN9bfpD3ypm3o3dI3Hhjrrb8v/FBxgvi0fSZ8Y7OQKYwKMheMoLjYwpoexbHSoo+U2j1ZisKHNbx5qrMOG/cIwdgiIMDXYko+MC6SaOGzzZ4dH/+4v8nQwxdxmG1+JCXYy2/IPspvsu2k/3Bdkf0CEvvNvOQHRbla/++IfYGS81XfkXECEs+O2nG+RMQYOW21RhMgwu21+lGBAmOkGXRDGStFxjtttUS4x8ITcko8KjIyxc9qyE5UY4mtht2UP6giwAobACPCDWDj7gd0gBFCezLfMw29bNSbAF1BBEAgAMtuU3y1cN2si4KcjSAQfYBQAov+0M9isDQBxMP3HH+rWUwYEbtbGbbYIBTMwDgeWIAx+j91sFfFHmwt4A1Mo/6XdF85k2N4wOG/U/7/pv6l/U/RhitU2Jfa3Rn6G35wYY4wRxgxjgpFAcaJ0UJooK/ipB2cFlBpK/Xc//uZHz6AH0K/RQ+gJ9PNdlDTqv6y0BhOwfJNtX/j90xcoUVimMsoApQ1LhyWjWFGcQAalBOvRR+nCmpVhquG23Rte4f+X7P/owT9GY5sPL4dH4Nnwenjxf7ekl6RX/iNlw9f/9M+WrX5//G34p+bf+g3/4X1/uLT8NycyE9mEvI/sRPYg25AtgB/ZgWxF9iJvbeA/s+vN5uz6rc1h055QWA7lv/T9HtkNT0bLNci9lVvfqosJSNjYo4Hh7sg9VEpQcAy/PnwiBPCbR5BlpfkV5BQUANg4X7a2r88Om+cGxNr3N418EABVeH/Gr/5NC/8MwCV47fNb/00T8YaXHwaA2hlyLDVui4baeKDhXYIBXmkcgBcIAXG4PwpABWgCPWAMLIAtcALuwBu2Phie51QQD5JBKsgAOeAIOA5KwSlwFtSCC+AKaAFtoBPcA49APxgCL+DZMw3eg0WwAtYgCMJCdBAJ4oD4IBFIClKA1CAdyBiyghwgd8gHCoIioFgoGToA5UCFUCl0BqqDLkPXoU6oBxqAnkOT0FvoE7SKQCJoEcwIHoQoYgdCDaGPsEQ4IXYighBRiEREOuIwogRRiTiPaEZ0Ih4hhhATiPeIZSRA0iBZkQJIGaQa0hBpi/RABiKpyH3IbGQRshJ5EXkDHuenyAnkPPI7CoMiofhRMvAMNkM5o8ioKNQ+VC6qFFWLakZ1o56iJlGLqJ9oOjQ3WgqtgTZHu6GD0PHoDHQRuhp9DX0XXkvT6BUMBsOKEcOowmvRHROCScLkYk5iGjG3MQOYKcwyFovlwEphtbG2WF9sDDYDewJ7HtuBHcROY7/haHB8OAWcCc4DF4FLwxXh6nHtuEHcLG4Nz4gXwWvgbfH++D34fHwV/ga+Dz+NXyMwEcQI2gQnQgghlVBCuEi4SxgjfKahoRGkUaexp6HQ7KcpoblE84BmkuY7LZFWktaQ1os2lvYwbQ3tbdrntJ/p6OhE6fToPOhi6A7T1dHdoRun+0ZPopelN6f3p0+hL6Nvph+k/8iAZxBh0GfwZkhkKGJoYuhjmGfEM4oyGjL6Mu5jLGO8zviMcZmJxCTPZMsUzpTLVM/UwzRHxBJFicZEf2I68SzxDnGKhCQJkQxJZNIBUhXpLmmaGcMsxmzOHMKcw3yB+QnzIguRRYnFhSWBpYzlFssEK5JVlNWcNYw1n/UK6zDrKhsPmz5bAFsW20W2Qbav7FzseuwB7NnsjexD7Ksc/BzGHKEcBRwtHC85UZySnPac8ZwVnHc557mYuTS5yFzZXFe4RrkR3JLcDtxJ3Ge5e7mXeXh5THkieU7w3OGZ52Xl1eMN4T3G2877lo/Ep8NH4TvG18H3jp+FX58/jL+Ev5t/UYBbwEwgVuCMwBOBNUExQWfBNMFGwZdCBCE1oUChY0JdQovCfMLWwsnCDcKjIngRNZFgkWKR+yJfRcVEXUUPibaIzomxi5mLJYo1iI2J04nrikeJV4r/JYGRUJMIlTgp0S+JkFSWDJYsk+yTQkipSFGkTkoNSKOl1aUjpCuln8nQyujLxMk0yEzKsspayabJtsh+3CG8w2NHwY77O37KKcuFyVXJvZAnylvIp8nfkP+kIKlAVihT+EuRTtFEMUWxVXFJSUopQKlCaUSZpGytfEi5S/mHiqoKVeWiyltVYVUf1XLVZ2rManZquWoP1NHqBuop6m3q3zVUNGI0rmgsaMpohmrWa85piWkFaFVpTWkLavtqn9Ge0OHX8dE5rTOhK6Drq1up+1pPSM9fr1pvVl9CP0T/vP5HAzkDqsE1g6+GGoZ7DW8bIY1MjbKNnhgTjZ2NS43HTQRNgkwaTBZNlU2TTG+boc0szQrMnpnzmJPN68wXLVQt9lp0W9JaOlqWWr62krSiWt2wRlhbWB+1HrMRsYmwabEFtua2R21f2onZRdndtMfY29mX2c84yDskO9x3JDnucqx3XHEycMp3euEs7hzr3OXC4OLlUufy1dXItdB1wm2H2163R+6c7hT3Vg+sh4tHtceyp7Hncc9pL2WvDK/hnWI7E3b2eHN6h3nf2sWwy3dXkw/ax9Wn3mfd19a30nfZz9yv3G+RbEguJr/31/M/5v82QDugMGA2UDuwMHAuSDvoaNDbYN3gouB5iiGllLIUYhZyKuRrqG1oTeivMNewxnBcuE/49QhiRGhE927e3Qm7ByKlIjMiJ6I0oo5HLVItqdXRUPTO6NYYZvgi3xsrHnswdjJOJ64s7lu8S3xTAlNCRELvHsk9WXtmE00SzyWhkshJXckCyanJk3v1957ZB+3z29eVIpSSnjK933R/bSohNTT1cZpcWmHalwOuB26k86TvT586aHqwIYM+g5rx7JDmoVOZqExK5pMsxawTWT+z/bMf5sjlFOWs55JzH+bJ55Xk/TocePhJvkp+xRHMkYgjwwW6BbWFTIWJhVNHrY82H+M/ln3sy/Fdx3uKlIpOFROKY4snSqxKWk8InzhyYr00uHSozKCssZy7PKv860n/k4MVehUXT/Gcyjm1eppyeuSM6ZnmStHKorOYs3FnZ6pcqu6fUztXV81ZnVP9oyaiZqLWoba7TrWurp67Pr8B0RDb8Pa81/n+C0YXWi/KXDzTyNqYcwlcir307rLP5eErlle6mtSaLl4VuVp+jXQtuxlq3tO82BLcMtHq3jpw3eJ61w3NG9duyt6saRNoK7vFciu/ndCe3v6rI7Fj+Xbk7fnOoM6prl1dL+643fmr2777yV3Luw/umdy7c1//fscD7QdtPRo91x+qPWx5pPKouVe599pj5cfXnqg8ae5T7WvtV++/MaA10D6oO9j51Ojpvb/M/3o0ZDM0MOw8PPLM69nEiP/I3POw50ujcaNrL/aPoceyXzK+LBrnHq98JfGqcUJl4tak0WTva8fXL6bIU+/fRL9Zn06foZspmuWbrZtTmGt7a/K2/53nu+n3ke/X5jM+MH0o/yj+8eqC3kLvotvi9BJ16den3M8cn2u+KH3pWrZbHl8JX1n7mv2N41vtd7Xv91ddV2fX4tex6yU/JH7c+Gn5c+xX+K9fkb5U382rABLOiMBAAD7VAEDnDgAJjs8Inlvx33ZCwpcPBFy6QLLQe0Q6fKL2oTLQJhgk5hG2BBeBtyJI0GBp5mkH6VroaxiqGRuZWoldpEfM/SwjrK/Y5tjfcyxxrnL94EHwYvkI/HQCREGiEKswuwibKLsYtziPBL8kv5SgtLCMqKzYDmk5OXlFBRVFDSVdZWMVc1VzNRN1Ew0TTUMtfW0tHQ1dJT1ZfVEDHkNmI4LRL+PPJjOmz816zdssai2PWqVYh9i42RrbKduLOXA5MjrhnJEukCvCDeWO92D05PAS3injLbFL2IfPl9OPhUzyJwaQAlmDuIIFKdIhqqEmYS7hlIjk3YWRVVGnqSXRBTG5sVlx2fGHE0r21Ca2J73YC/ZJp+zafyL1xQHB9N0HOw9hMoWyFLINchxzA/MSDxfk1x65XTBauHyM6bhMkUVxYMmBExWl18sGy9+cXD6FPc1xRrJS66xtld+5mOqDNUW1tXXX6x82jJ5/d+F7I+4S22XxK7pN7lejrmU1n2xpbO243nOj72Z/26NbXe2XO8pup3Tu6tK4Q7wz0339bv298vs5DxJ6/B6aP5Ltpe+df3z3SXlfZL/BAGlgavDK09S/7IdEhlHDb5/1jjQ+LxyNeeEypvaS8+X6+Pirzolzk1mvd085v9GaFoZn2crsX3NX3xa/S3kfNk/+QP4YuZCzeG1p4bPelzMrpK8l36VWn6yn/NT49esf46+AnEMVoi0xLJiX2CZcLj6IYEQjSctAu043Sz/CMML4iukN8QPpM/MKyw/WNbYf7D85fnCucH3mXuCZ4R3jG+S/K3BdsFooRzhMxEpUUgwv9k68R6JOMluKIm0pIyNLJ7uwY0DuqnyxQrIiWcle2UBFQVVAjaj2S/2jxphmj1azdqVOrm68no++hYGCIacRwuit8ROTS6YFZtHmThYqlmyWa1avrO/Y1NsW2CXZBzo4Ouo7yTsLuJBcsa6rbu/dxzx6PW95Ne487X101yGfZF+qH4Xs6+8R4BRoH2QTbEmxDDEL1QyTDReIYNlNE4mIXI/6Rv0e/SMWHUeMF0rQ2OOUGJ1UlNy2dyaFZj9fqkya9gGbdL+D8Rl5h6ozO7JGs7/mMucpHLbPjziSV9BQ+ODom2O/ijiLlUvsToSWHiw7Vd56sr9i7tTPM8yVEme1q+zOkatjaw7VlsD7XG/DwgXiRcVGx0tRl/OvNDR1Xx279qkF08pxXfKGxk2LNrdbge0xHSm3UzsPdB28k9F96G7mvez7uQ/yevIe5j3K6819nPMkq+9Qf/pA6uDep3F/RQ3tHo58FjOS9Pzg6NEXlWNNL++NP3/1YRK8Jk4JvpGf1pkxn/WbO/32w3vl+aQP7R9/LmouxX26+PnNMvuK5deUb03fZ9e41x1+ZP/s3h5/Y4Q+cgfyI6oTfQjjiBXHLuGu4zMIDjTcNOO0Z+nC6dUZEAydjOlMFkQGYj/pCLMtCwPLY9ZsNhN2iL2VI4JTiHOEK4dbh/sDTxmvGe8Xvgp+M/6PAscENQTHhPYK8wu3i3iLrIuWiCmJ9YoHiK9LHJWUkuyQcpSakU6VEZEZkc3dYbDji1yNvKcCnUKHYqSSgNKgcpqKgsqkar6attoH9TINc41lzbNa9lo/tRt03HWxutf0yPpE/dsGkYb8hv1GacZKxrMmpaa28L3jpnmUhZTFG8sKKw9rVuunNoW2DnYku2H7Ew7ejsKO75wuOye6GLsyuI66VbtHexh40noOe53aGeyt4L22665Pga+Xn4TfCrnb/2iAb6BiECpoOLiekhLiFCodhg57FX4jomR3fKRrlAaVNxoVPR8zFNsZ1xhfkZC/JzUxPik02X/vzn1uKU77HVLt0+wPOKQ7HXTP2HkoIDM0Kzo7JScztzCv4nBdfvOROwUDheNHPx5HFUkUe5UcOXG3dK1c9qRfxfFTD0+vVyqcDagqPddXg6rVqouvb2x4f0HyYkhj/aWFKypN+6/2NnO0hLV23+C7mdL2ut2qo61Tvut8t9Tdy/cNHow+TOjle9zflzfg9FR0CAy/H3kz+u4leCUyuWuqfgY9l/gefKhaJH/WXVH77rxesjH+W98BNxJGBYDjhwDY+M7jUAdA7nkAxPYAwAbHnnZ0ADipA4SAKYCWuwBkof3n/IDgwJMASIAHSAI1YAbHl2FwTFkMGkEPmAI/IHZIGXKEoqHjUCv0Eo75pBEuiFREI2IcyYA0QMYjLyBn4CjNC1WGegFHYj7oc+gPGBVMKuYJlgcbju3AkXAUXCeeEx+LHyQoEooJ6zRkmse06rS1dOx0ufQI+iT6rwyxDCuMiUwQUzaRlVhFUiP1M4ewYFnOsRqzzrBlskux93PEcHJwtnP5c9NwX+Hx4EXyXuDzhCOCAYF8QVshJqGnwsUinqICojNi58WjJTQkIckeqQJpT3h2LsoO7miTq5YvVNinSFFyVNZQ4VOFVCfU2tSPaYRoamvRa41p1+nE6Orq4fQG9JsMrhq2GN0wbje5Y9pj1mc+bDFuOWu1ZL1mi7NjtRd1UHO0ciI7J7uUuLa7zXmQPPW9IndWeg/5EHz1/ZLIrf5fA9WCkoI7QwihzmFV4cu7zSIrohaitWJyYsfjlRKO7FlKck2+t087pT3VMm0qPStDOxNkDeRcyivPLywwO4o8dreooCSg1LBcukLwtEilUpVNdVRtWf2jC6BR9bJNk/u14Jbk68dvXrk12LHSxdttdi/mwemHT3p/9MkM7Hx6eOj2CGmUPHZhfH6Se0ptWm9W/i39u2fzhz/uWOhcMvvU/UVhuXRl9Zv993OrS+saP1J+3t7cP7bGnwiPvwRQBSbAFYSAfeAYaADdYBx8g0iQHGQDRUBHoCboOQIgJOAoPw1xGfEajuOtkOnIDuQaSht1ANWLZkcHopsxeIw3phnLiA3DPsJJ4/Jxy3gv/D2CLKGYBkkTRTNJ60z7kM6Qrp1ei/4WHMU+YLRnHIfj1F/EYyRZ0mPmCDjybGX1ZaNha2UP5GDluM+5h0uaa5K7mMeWF8fbxbef30AAI/BYsEjIV1hWeF2kV7RCLErcWIJL4pPkQ6mz0ikynrKaOyTk2OXx8usKC4pTSs+UH6rcVD2vVqp+SIOq6allqC2pw6izrDuq167faHDZsMmoxfimSYdpt9lD836LZ5avrGatl2zW7HD2rA5ijupO1s7+LntdS92uu496/PAS3GnhHbPrtE+fH0RW8Y8IqAucCRalhIRcDl0NN40o2j0XpUXdG90Ri4qzii9OmElUTzqcPLvPOKU2lT5tz4FZeD/pz7TIup9jltt72CF/oiDlKO+x20WBJfQnWsv8T5Iq7p3eW6ly9tO5yzWxdVoNmPNDF89dSr7idVWlmb5l6vrVmwdu2XSw357squum3tN6gO0ZflT3eH+f14DOU5EhpuEHI87Pp18kvmQevzLhNLk+VTvtPssw1/Muc97yI+PCs6XTn0OWVb4ivvWtlq0H/VTcHn8kwADazR1AHKjAM8ANhIOD4BS4CUbh9S8IWUCxUBU0jKBBGMErvwuJQ9ojTyE/oSxQNWg8mop+hXGCV7sNdghHxn3HFxHUCdM0J2j1aMfokuj56XsY4hklGaeYThH9SBKkr8z3WSpYk9g82fU4pDjZuWi4EdzrPKu86/xAAAvfQHmEZUW0RR3EgsT3S5yQvAbH3YuyjDsU5Fzl9ylUKfYpralIqLqrFaoPajJruWtX6SzoaevnGbwyUjTOMZk00zIvsvhkZWd9wZbWLsz+oaOkU47zO1cLt3oPvCfF67636K6DPtN+huTqAGSgf9AdimhIRuhcuFVEYyRLVAJ1IsYo9mI8e8K+Pe+T3OB1qpJSk8qRdjgddTA541OmR9bl7F+5Tnk1h1ePOBZcPEo4Rjl+r1iqJPfEQplr+a0K0VMF8N7vf7b3nGZ1TS1TXWL9zHnHC22NopfyL680eV+91yzTcqR18Yb9zYu3CO2BHe2dxK6AO813Uffs7pc9mHoo8YjSW/14so+z337g4ODVp6+HCMNyzxxGqM8Pj9a9uDM29HJmfOnV+iT0GjuFeYOZBtOrMx9mx+cev219V/k+cz7ig/VHqQXswqvF1qWsTx6fJT5/+tK2nLZi9BXztftbynfN70ur59Y81gnrzT/IP+l+XvnlvjH+W/+ONs8PRgBOc22ggUufPv77v83Wf6V/xCb/LsHm6bKRNk6XzRI+acD/AOkO0MZEm+BWAAAAOGVYSWZNTQAqAAAACAABh2kABAAAAAEAAAAaAAAAAAACoAIABAAAAAEAAAHWoAMABAAAAAEAAABYAAAAANCy77UAAD9pSURBVHgB7Z0HmFXVub9FFLuIvQCCBXuJNTYUxBK74dpiA71KoteYYqK5KooFvfFRE/8auwGJxJZgR2ygqGjsFTuKNRFJrGhs//c9s9dkudl7z5lhhrp+z/POXr1861tr7TNyxrnmSkoWSBZIFkgWSBZIFkgWSBZIFkgWSBZIFkgWSBZIFkgWSBZIFkgWSBZIFkgWaIEFOlFnkxbUa+sqW9GBY5tWzazza+68tqbCfM2otDpluzaj/IwoOrONsTNG2BNWqDDGguRtW5HfVJZruDO451aGNaEeTWu/9fQxLWXq2WfNmW9zx1LVv7beFeZtbqNtXL4t7dHGQ2+d5nekmbNbp6nKVrYkdzR8r7JU62a6yZ/KmhzI8/xWaL4bbbRvZjtLUr5jVGc84T5RvKXBeH5lbeT7LivX1ukb0MFLMHdBR5+R1qMgvSxpCBnHl2XOJOlFY9yLsd2eY0A23h143gpj4cgsbXmeI+BOWCdL036jwPL1alEKTgbb6gexuhEJ/rw2Ycu1VFdT8TG4EAbBxaCa2ntV/c4M/lvPPovn2zDr1vtZ1n9fupgE10P3Fna3DfX0p8fhPCjanyQ3qfw6taU94sF0IxL8N06vheeZKmX6JXShqw2nQ3c/oY9N4TA4Yjr0l+/iRhJa463Oi/r74OVYr86k4EQ4pd4KrVhuRvYdT+MVIsfBN3HiHBb+G/P9PJqzF4+X5irgpfdjeAc8KF+DXuBF9TacAPvAMfAxeBjWq7UoOAX2LKjQEn8uaKaW5Mvz3vAgeLAGTcvem1n8N8xlZnpuwWCGwc9bOKgO1LsJTgTXTP/yjPwCmqsZtU6V/tvSt4TmTn5GlV+YjneHo8CNFy64+QmfAQ+Bh8mKoHyzvxvuhd1AbQe3gA4wGKyrLgMPm0dhW1gd3MhjYBcI8o1/8yxinX5wF9hmD1B+QrgKHoGRcDPEa3Mp8YXAA1FnVNa5Ajw0r4ZVIdZBRPx0cSDYV3iJ6k3YOcb9mzcQnOMNsC7kVTa/TSno4fwEuNmWgKK+fanRruPgWMjLcWpP5/IA/BhUV7gCLoCHYF4omrvltN0CoNYA13Yx+BGo+eFccAy+bASbEJxrJ/DScIyHQpDjug+uBfuokn2dD66jF1dPULYxELT7maC2A9dAmw8Gx6aGwpq10Fxzbczzwiwc7KON74f9s3QfTY3xDcroUzIJOsIfQX/3tzlXgj55HewOS8IEeBUsuz74gjoAilS2Hr+nsDa5DWL/LPLn9pTxBci18RNMB1BdwDk/DKYvDLG0z9LwWzgkziAc773tid8N+pbj+Q2oon4PIn0H0K6ukX5yGLhWtqFvxdqUyAh4Ahyre0Dlz4hp2Wf11D2CPvN77BLS+jiYTMN5ur/L7Lo6eUXnWFa9tpf6EtFPrsgSy3w5P//Qhj61CGhP98oxEC7VsraK9kXROtHUXMuAPn0/uE8WgDtgKVAnwI9robnm6szz1ixcZpP82hf5b9bEjH842DFtPAwNr3HdPO+BzqAGwfPg5vHS3RF0Nt/qPUBMPxFWgylwIGwGz8JgUONhIngBrwTm/QG2hxfBNxplXxfXQg11XiGs83iI3ZCluxmt6xheAxc+1npEPgWdZFVoB4+CC/w9uAjsc24IWoGAh8Jl4NiVY34Z8v2HA20t8s4AD1X7CDJcNj9to1211Vg4CYr6PoX0jWEr0Kbh8iBYk3b6N/SHveFL2ADWhm9hOOwBzrFo7q7xW7AXqNPhGrD+ZFAnw9OwNWhz2+0Bjv1D6AM7wyewCVj3C9gH9AvHdzyUaQ0yfgG2NxCeA+Xc7Ms2nL/52qDIr1z/nqAcS+xH2mRAhr7q4dTcMep3wR/1m3MgSD+4EQ6Gx2E0mPYM7AD6QV6mFa3HfKS7t96GLWABCMr7s3PQPkOhF1hnf1C2fRro5/fDWRDLPePa9QcPyUEQ5hfC85L2MewE+8LXoP+V9bsCefHe8aL8CuxrS9BnYrmO+T1gvvttIuwGK4G2HAdrwRkwAdpBkOGyfVZWN8zRNor22NmkjzATaUPtsCAU2bWqf6rUtDw/PbeuhPVhNSjz5fz8Kdoo/dB1OxEWzVKr2iraF/l1shnt4T4dkPE5T/eJdj0I1LvwZC3UUO6eLFxkk6K1z/tvVn3meBzGMMa08VDuoP3/yfrwbdfFVA+BB2CsXxIZFycQPgZui9IOIazxlU6zZy0011zL8vRg6JjF3UhPZeHY8a2zQ5a+M89nsrDj/FkWdpG1TV46oQe3WhG+AR1G+bR/N28sL9WBUUJZ/w9Q5mpwDJa3LTdQUNX8LLMReBDeDJeAyvftwerc+8E7sB3E0k6XRwn3Ef4prA2fwHygqub+W/Kvr5Waa65XeLoO1p+cpXnx/3cW9hCZAh6SzvuF7GnYukeD/Y+CIC/j40Ok5Kmt+oJ2/GdWxrkNz8I+qvzqNfJ7ZmX1kdiPYvv4oqU/NGeM3Sn/JXipqCHgwRvkuFxDtQH4InQO/D8YAtroFtB2QVXr0YtCL4eCuWfsz66R8dDuEMLaTx/UF38NrssN4OWa1/skrJ8lDuKZv1gXI+0b6AxLgm2aVtYvWd/x3/mJ/yNL01+KtBGJ+T0QnxHWmZZ9VlY3nm/RHluHfr+ATnAmDIUyuza1z6la0x/4OTgL6zP1nJFZ8cbH3IT6gXvtDVgOqtoq2xeXUU9fCdIeRfvkdNKvgbVgArh/VoAbwb1eZpOytY/9l+rflZObXaWhtoX/Aw+4w2BX6JjxOs9YprvAsbywPooSPiM8TxT/OAtbzs3qYqmvGx6FP0Oezh7aepPwGaDzuAH+AlWyP9sJ/XlB2H9oj2CpivpfmNK24Zg8pAbAJAiqmp+b9UroDh2gHeRl+uNwOCwNZX73FXlBnxMIbf2bsGNTVXO/inwvo23Ag3MkxHKeYc20lyjTbT9wNmHrmv4JBAXbhXj+uRkJz4NPxxnGT7CxX8PmlfmVY2pvoQLF9nGslmvOGD1AxoBjVJPAwzTIsBeIcr0WBV+GvFh7wurQFTycgqrWI5Sp56ltw3rEc7Oufm7aKBgMzZW+rV8/Bc+CLwv/AlXUb0POf37qixuD7WiXPSFW1R4I/mZ518o2nEtz91lTdcv22DP09RzsBfvAn8C2VN6urqVrYLpqyt8tU+XL5sfzNx70DYEhsC7YT1+oaqtqX1D1OyraJzdSYnv4AdwEY2AP8I4wr8wmTa09VadW2QE3dcm2TelB8xq2NbUfjT0ALtYSoOH+DjqYm8v+PPg8JDYC07aGJcGy5j8JvcEDx0PMNsdBXm+SoDPuAjr4AdAcbUFhN+dx0A98EcjLy6UzuGZewG7QvUH5puzcJhiJZJ0u0NQ6e+A47ovgQvAAs25Q1fx2ptBZMBjiyyLueyXyVoP+4MaOLxyijepDaEVwnpuB48qrau6WfwX+CNfClxBrPJHdsgTXcv4s7Dp74V8Pzt+6b4Plt4RO0B16QdD2BBxjLMf/MBwDHsBlqvKrSVTaEOaDg8saiNKrxhgVq71QHkLC76LE+wg7D+fui+UP4XZQi8GlcCB8BR6ESpt+Wws1/Khaj6jYVMHYn6fKzBLe4PkhvAOuy2Wg7ZqrHlRwD/wMDoVzoSnF/uv6e/gfBfrv1hCrbA/EZQzrnx2gJfusqbpVe2wIfZ4C+tTdUGbXqn1OtUK5Hr1hWWgP7quiM5LkRnkW7ATtYCHQJvp9VVtl+yJeJ5oo1SPkTIFj4S64DU6GV+B1KLNJ2dpX+q/ONqPkRg0b1MPu+FYeiBfon8F+xI0xHEw/CTwUJ8NoWAD+Cg/BRHgH1oMbYSS8Cr7JLwrWVaFdw5/DcWB/OqcHdpibzxCO68ThFymzI3iwOY6bIS/HYvow+AwGgBvUC3UwHAj5i+RW0g4GnXIeiPuMwwPJWwOct+MfCrGq5jeEghfABOgGYa5x3+aNBe3oUwcP5Qg2yjQ310twHYwB0+KyTc1d+3QDnyqufzrxnvABHA7aznzHegu4yezbl6yuYNqj8CaMhglgeeUhu1st9J8fvglvBG7SI/+T/J0xmFzlV2eTfyq8Bx0g9OczhAk2tlk1RssFHUTgXfBACTJ8O7yWcTdP/U+dD15kj8MEcF9oC1/6noegqvX4hkLxmEMdn7E/5+cW6n1BucPAC9610T/3hrzi+kVh5z0vuF6u+3PQD+KyRGv7wzQV+28X4vrlC7ArXAmxhhC5ACZANwhtOA8JGkigpfusrG6Yg/YZC0V7bDjpi4NPx1Nm16p9TrVG2WeYV5UvWyaUa6xMwHtHe30E7i39zv1e1VbZvojXyTMu2INgTSHu0/YXhTGg7y8BI0CV2WR58orWPvbfWgMzy492DERDqDjckDLtP91IedlPnL4U8TCGUFbDLxQi2dOLcpFcWtxOyJqPwAJZJOTrRO1zaVm0NpaORFz07lnidjw/yML5RycS4vE6H52jSguSuXBWIIwplM/HFyPD+ZepaH6WtX3n7XjCXAnW/pFE6Nu4Y7VMPAfT1SC4GGynHltXzb0DbcSK52k956nidOPOb2mwTCzXyDTXUpaE92EVyMu5uU4qzDP2gYachp9FfmWO43DdVBhjvo2Q3lCq4RNnPMaQHp75+iHdp305llhrEbFOrPy6xHn2XeSL+XHGdWJ/jsvpQ3Hftu265Nc1tBXXjecZwodS0JeCIC/qi7JIXDffb7x3XMtlIB5X1kTtUbQH4rbjsi3dZ7aRrxvmGNov2mPa2ZfZ9UKh7Flm17J9Hqrn7WR6kS+XzT+04/mb97uytkwv2hemx+uUt0c8Bucbx/Un02IV2aRs7WP/jdtI4ZnEAn9lHB7UD8HfYQDMaRrEhL1YZwXtxCAPnhUGmsZYs8Aq/JwAL8OT2XNNnnOKjmCiT88pk03zTBaILeCvavyVU/iUE+fNCWE/DYVPenPCfNMcp68F/CTSGfyUNKfJ30JV/SZqTrNHmm+yQLJAskCyQLJAskCyQLJAskCyQLJAskCyQLJAsgAWWBlmx//2siDz2jat8DRbYFa0o7/+3BNWmObZVzcwo20zu+7daqun3GSBmcQCAxmHXyUoUvwPaB6hwPZFhVopzf+e6j8z91+cxrqGyPehapxx+XrCa1NoclawNdrtRlv+y8A5Qd2YZJhrbMdZYe7+dzXXfQT0g9ZWNxqcnrap8t1471aVa20bpPaSBaaywJz4D2VuxArxP7meyihZwqk8nyjLbIX0t2ijB+wBQ7P21uG5OxwO/vP4esZJsWap3vlXNfoUmV7+46sKzSZ5s/Jc/cqMfrRnG63F9LbNjcyjnj1Rb7k2Mktqdk63QNl3smYHu/h9Lz+Z+snzTugJystr81qo4QvwxxD2O27bZmnhsSsBvxzcFS6H42AcnAd+/0n5qXMYPAym+102dRg8CH4iXQOK5HdXr4Z9osy9CN8KH0I8znx7K5Nv3aBfEtg3ixzB815wrMdmafEjbvccMvyitIRP8WVzCm34HcCFwK/GnJglbsfzFnDOg6Hou2nOTXs4tt1AldW7jLxDYTTcBOuCdn4Agr1cl0vATyeuseNxXKrIBpa/Ai4Av9Y0L7Rkru2p1xxfoHhN/qr0ItDXwovUpoT9NOkLnPML3wOtZ/4UL/0/8pjnfH8P7gPXd1XQn7XB30D/MU0dCAPB9TkTYoX5jiXxDtg7yyzyg1C23n3iPIv2Xz17t2rMsY/bRz+4C/TRHqD8UOGc9dkbQB9T64F7UBv1h6RkgWSByAJeaL+A1cAN9ByoQRC+Lzme8ETwoF8J8nl9SPPXf16CHoa94G3YH5SH5GnwPbgfzgIPx6/AjbolhI1McCpZ70sIB6rj6ZuVCmMpam9DyryXlfMxBI43gE6BjWErmAJrgnOYDCq0a9gDqCc49j+BKppTQ07DTw+eT0EbeDBrX/vxoNsMngUv11ja4nP4CewAJ0JVPe3wEvQBx6aNXMuj4BPoAGFdLie8OTwDZ4Aqs4HrOBz2gLmhuXMNfdbrC3TRqAGEnEsXCC9B2mx30BZeXCeBqmf+1vEFTBvtDNplEwjSRtpLf90CFgDneynod17yL4J20Ce0jeuzFcQ6jsjzoI1/BK7jBpD3g5bYxnlOhLD/CNZUz97Njzn26zhsH6/AdnAdeIkq5zUO1oIzYAK0Ay/g/4VVYHtIShZotgXcVLOr3FAeom54tXzDY6qfR5Pip6LXpsr5T8JHBPvBaLgTVgbb84Izb2uYBF4sXjpeYj+Ff8BLUKYnyHDT/xAcp23eCrGa0571PCQWB8f4T1gByuRl5GHiQXYMlM2JrEY9RegreBxehl1BuwwDD6pzIH8geag51wthFJwKTdXzUvCQ8zC8A2z3D7AgLANK2/83PAgXw5agymygLfuDh+uyULR+JDcqP1cz7LMf1OMLFGvU64TWgT0hrLE28+LbCP4F8Vo1Nf8fUP5d0G9WBV+09L+gfxN4Fj6DB2Bp2AB+Aa7Fr6AHdAP1Z3B9xhqJ5HjPAm08HJy369latjmatm6CeP/Vu3fLxkxz39GRxNy3Q2BlUPrfG+BcpkA3WA5eh76wKlgnKVmg2RaYnS9WDxnftH0uAu2gSB8XJebSvib+bZb2Bc/2sHAW97A2bRQMBt/oNwY3q5ePB1OVPKz2gb3gr2D9WGXtOYa8OpBgn4eDB2lT6zs/ZS6BX4MHc9mcyCqVtvWyCfqMwDwhkj078vQQi9VUPW2uvCC8yFVYhzCvEDdPO7nGVTawLddKtWSu1ov7bMoXLB+kf3hge6C/AEvAmXAldAfHHftoU/N3/PYfOJvwSCiT9rZN/VXpn/p0WKuyfdDUOtlWUEtsU9TvZjTYWnvXsQVbaqswX+2nDUx7HwbAJDgChsKF4NokJQs02wLByZpdcRao0IcxPgx+EtuvDcb7Bm1+CO/ACJgXloJO4EY+CkzbGm6Dg2EYuJljDSdyEqwOh8QZWbioPT+9LQ4eyF6wvcFPjyvBarApeHD8Eqrkr8gd/+VZobI55dvwguoML8KT8BNYFjygtPU4iOUnp8NgSfAC3AHqqUexSnlh+0LyF+gLT0G9NmjJXGm+UPW05brcB6PhXTC+M5wFQ+EaaI6035FwPWj3JUDblslPhPre3nA17A9/hwlQJW26L/jStwL0ggtAxX7QkDL1z3psk6/V1nvX/pyXLzMXwbewIjifdeE8eA6uBLULOI9njCQlCzRlgbmbKjAL5/vrpY3ADeEBFOQmEvVNRi3Cj6K8OM1y1jHNN10vi0vhFfCC8tBaHjz0XoBdwc25HHgYeRnl9SoJj4AX5N1RZui3qL2JlPMgdvOPgQlgeccxFmzTpwdpaMenCnHDXkZbwifgIVs2J7K+oxuJ3QzDwPBIsE9/9b0onASxPJQfAsetndaDqnrxusTjpVpt/Oarr8G+/MTcFfwEWI8NKNaiuebH0pQv2E+QvuDcJ4AH9GMwBPQL07qB7at65n8r5W4B5/sSPAvaIFYYn2mfwQDwInGtB8OB8CXk50VSo04g5EvAB6C/XQz3gIr9IN9G6LvKpywjedWzd/P9xfE4HPcRhwfS6RrgmrwJQ0E5vwng/joXlGW9XJOSBZIFsICfyDtllgifzn2ZaJ+l+YkyVlleXM66lgtqR2Bp6BASeNrXMhCXC/1HxRqDtpnPj8dS1J6VFwPLBUxTS4DjitsMc4jbtWyRiuaUL6dd4/bnJ75IvlAu7qW7UC6tqF4Yq0UdS1gv4yFvbcKTwfksCXlV2SAu29y5hv5tox5fiPtamEjwx5Bu2gIQzzPuI063TpxnfD7Q/yxXpHx5y2mbWPX4RH69Q/04Pe6rHtvE5UN74alvBVsFP4vHGYetE8fjcL6PfNw9pF/GWoqIfhmUrxPS0zNZIFkgWWC2skC4WGerSaXJJAskCyQLJAskC8woC/iJyP/ml5QskCyQLJAskCyQLJAskCyQLJAskCyQLJAskCyQLJAskCyQLJAskCyQLJAskCyQLJAskCww81pga4bmv8Isk38VaNuyzFZIL+u/M23vCf43x60g/GtKgpVamdw1K0tM/8x65uioNgG/wjK7/IvNetbCdXXeM4PqGW/ROFuyR1anoa5FjbVhWj3+1VIbtMWwW2LXthhHUZv12LKoXkqr0wI7Uu7srGwcrrN6s4p54N4Iv4hqbUD4/Cje3OBnVOhRUamt/6VqUf9+VcCvnfhHKvrBeOgDyu/Hbl8LFf8YRLLf2ytSNxLbF2W0cVqYo2vl9zP96kR+jn1JmwTXQ3doK/kS5UvL9FDVWoT+dybwVIi0wdMxHBa125uw31EOX3cx6xLoBWXjjdfN8nm1ZI8MoZHj8w21YbzMv/L+UGaDNhxaadMtsWtpY62YUWbLprrI2zou79fr/OMwM608tKanutDZhlmHcbgtxuAb3G7wfxA+lfnd0s1hdtJaTGYK7AlDINapRJ6IE5oR9gCveoloRlMtKuofPjgO/FJ/fo5bkDYM/gv8Mn9baRsavr2tGp8J2/2UMfWPxuWh6AuwnziUh9khMNFIieJ1Kyky0yeX+dc2jHxO8ofWWKgyWzbVdpWtz6Ty0U01MCPzp/fFOiPm6qea3xZ07KcxD+6xcAfsDXnNT8K5MA5OgfjNfSfio+BeOBTy2pSEEfAEeAksAQfAqRA0gMBPwXb96y4Pwg2wLqiq/s3312O/B7/kfhusCrH8Veny0A5OAudxN1jWXxkrXzauhPthf1CXwkLgp9kTwZeUi+BRGAp52ccV8De4GsI4DiR8DDj/uH2ijSqbo3P6EeTn+HPSPPB3B/tURWthPfMvgIdgXugCjuVhOA8WBnUZ9IO74BbwhWIlOA1WBO21DQT9gIB2V66d+WsYQY752FqoeFyWHwj5tc6q1B6D+Ol6qdXhRhgDu0BQc/xrPSrdCq5P/9BAwXMkaZuAvyFQvWAi7GAEbQ2vwatGUJHvhHVrKNHwJyfvJnIv+KKr2oN7T390HTpAXvrOfXAtuJZBRxCwLesGO19CuA8EDSfgHjoMtLP9h/Uh2KjtCLnelhkM+qLrl/cvkkr9ocgGli/ySdPVAnAH+Ico1Anw41qo4TckrpUqa6MsvaFWw3+Oso35QkL2LLKdtr0CLoCm9knWTOF5sCmZ+fOuyJZFY1+QuvH5UrX3DqKs/qh/uHbup+XBOfwNroZw/hCcM6Sjj8mmGofbYvYdafRb6AGfQW/wQHwclBv7edgcdIDPwV9jxTqZyNPggeKBHNpbjfCH4Gb213OfgAfS2jAZlAvv4W/ZsXASfB8cS/gLRS8TdhM7lnHgJ7MzYAK0g5OhqH+Sa+rAz6PgbfDN0A07HsIhE8JesC+Ah8sQ8MDSPoPg3zAgQxs4tvXgU/CiXRXMvx+6wL4Qy3F64XoZfw8ughdhbrD9LyHfPkmNOplQ0RyDLfNzdNP58nElrA+rQdlauF7DYQ9wPI7zNHCczucsUNrpFdgOrgPb95D9ObgW2rYTBGlH7bYomGc//wvKQ/wnUDau48gbB/m11lbhReZlwiuAtn0W/gDbg3Z9ClRz/MsXBse3CthOld4kU79dFj4CD3zHq86D39VC5b4T1s1iXm6fg/bYAU4E87XXUOgF+u7+EMsyX8A+YF1tfTyoU2Bj2AqmwJpwNowA5dp+DJ3hK3AMW0IPiOX6WF87bgbaeTAsD65/8C+CNRX5g2vm2AZkOFf3j21/CH1gZwjnA8FG2Z+XhHoXnqyFGtq6h3BZG2Xpwe4bUdczaM+svfhRZLuwHsMpuAdU7ZPQ1gAC7p8usG+WqB31G8cXzru8LcvGnm+vyNZZN7V9cQuRy8B1c488CpeCa38RuE+cxwzTDO18Os16Iv14GHiIughBOp5pD4JONRo8WGNtS8TD5F5wE7hx1A/gXdApvXjeAxc51jAiHho6+r/Ag/IhcDw/hA1hSdBJvPjeAPt3s3eD5aCsf7JqclM/C17WD4B1i7QsiR/AeHgYnIcbXznOizO+5umB9BR4KD0OL8PrsA5oM9+EY3UlsgH8Ap6AX0EP6AbqSsi3X8vIfjR3jq9R7x14CzyMqtbCl4P+cANoA23+EWwNkyBesyOJ3wlDYGXQRs+DbWjbf0KQdnwdXC+xnG/iHqpbwE1QNq6ytaZKzb4/47kNvA3LwFrwG7gDtG2Q62aZevzrdcr5ArcqOMcq3U6mc9oGPDz1z41hMXCtRkKQY6haW9vRJy6EUXAqKNegH7jnHM/KEKs3kTFwDVjXZ9AZBBYH67gmK8AQ0P6dYB/4K7i+XjA/hX/ASxDLdbD/YTAOzoHtQd+K/YtoTWX+YP28DcrWPmuq9riRnzuD62vbro1zcR7mlbVRlk6V2vxv46kPjTAhpyLbWaQ5+8Tyr0P+PNAOb0Psj3lblo09316ZrWm+1ofn7URw3Zo6fygy/TX39O9yhvR4Jr36duWmC/IQdIMHeTnNEyLZc2Gevv2qbzMMm/5FxNmER0Is+7wSukMHaAdqKOwP+8J1YDu2NyULv89zAHgwlPVPVrP0JqV1eJ8ng+MN8gINciztQyR6jiLswbwrvABLQJB29EJ2cyrnoa2CLZtqf1rnaP2ytfDFwzxlOeU4TXNOgyHIOSjzwthrCSU/vDw9GL08jgXtuzc8DR4wZeMyvWitSa69+MzLc3MjSNtqy2DbMEbzmuNfR1Bev7sQ9MkqeTA7p95wD7wFL8KB0A3uhaCm1rYjBd8IhaOn83BeSnvnfU4bfWJmpjBv99HjcDgsDeH8eobwc7AX7AN/Ag/njUFbW8eXwljatqn9H5cvCxfZoGzt4za8PLcHLxt9aQzsAduCeWVtlKVTpXZWjee5i5GcymxnsebsE8u7d/LnQZk/Wj6obOxF7YU6TT2bOn+aqt8m+cEx26TxZjTag7IuVFvJDTQIDoo6eIqwl1s76Ay9wDegWDrpblnCfjznz8JP8nRjXw8XwrXgYRrLQ/csGAzxBh5GfBvoBx4AyrHo+BeB7eloOntZ/2Q1Sx7UHpLHgXZ+AJqS/WsXfWQ1uA92BA9+40GvEZgCXirKl4a/wwQjdWha51jPWjgMD/gP4R3QxpeBdav0BZnLgHPWT2J5+P0Q1gDX6yHwcDFdlY2rbK2t8wIcBpeDNn4TvFQ9KPWPAyCoOf61OpXOg0Ohd9aAba6ThePHXUS6g5fU6CzD+Z2cxT/P0up5PEuhrWFJ8FCtd4/rE1tCJ3AsvUCtBNqlP7h32kHQEAKnwHxwN1jXC/kosKzjiOX6aItloT3sB+OgSlX+ENcrW/u4zCNEpsCxoM19oTkZXoHXoayNsnSq1H7LtC/PnnC0CZGqbBcVq2ufuAb3QXwelPlj3HbZ2Ivaq7K1Z1MXmBum9fyJx9dqYQc2PfUNnX2bdRiHvbyOb+WB2E/Api+GJyAcDCcQdkE/gOfA/Hsg1ulEeoJlDgcvDNu8FW4BN8FL4AHSFeL+hhC/ACZANzBPvQWj4VMYC2ogeEB76HuYDgVV1n9DbsPPb3iEtk0xLiqEXyS8PvwABsPr0BmsF9eN414QN8Mw2BUc2wR4Bh6DoM8IDICLQPvY/oHwJcTtEZ0qblrZHOO6+TmaF+ZYz1rYjxvVS+tScN2cT3gZCHYiqdFmhvUXD7/JkL8UHiTNNl1D56o/eIHcAKpsXAPJK1rrMN9ryHf9h4O+ehz8GfSL+cFyagjU61/69gSw7XNBOQ4v17w+JsFD00vJ+auRsDg4x6Aw3nw8Tv8rmQ/BRNDe60GcT7Rmb9Ni2c+j4JxHwwSwjOumvV/Nnq5NqKu9HKNP13N58CB/AfTfKyGW/u28bMtfFS8KJ4GyTdvIK+8Plgv9WzbEy9Y+bs+yjsF+x4AX6xIwAlRZG2Xpoe93qbsfnAG+UAWV2S7UC+Wq9kkoU3QeDCGzyB9tP9iybOxF7eVtHfr2aTsHwyTwki07f8iaM+Qb5jzZVMvCrWmJeQsay79M+GYbxlRQvPZWvFiWkW9vPtKXBucSFJfxLX0BML99KMDzJjg9ioeg/bjRYlm3rP9QLu6zKDyKgsdmhc1/H3qDtojHFdclq/bWH2zjXLRVmRynB0OsptoPZcvmGI8nDjvm/Do2tRZxX65Zh5DAM27b5DhuX16YRdI28TjiNkP5onGZl1/rvK3itmxDP1Lx2JrjX0tR14s5KG4npIWnYwnrHtLi8ZiWH2/cXhy2rD69kIFMcX7RWoZyHQnoG/YlQfqZ6fEY9U0v2vUgyPxlIK4b8sJTmywSItmzakyxP1TZwKbK1j505xxiW2hj02KVtVGUHrcVh+P2imxXVNZx5PdJ3E7ReVDkj0W2LBp7UXuxreO+DS8I1glyvPnzJ+Sl5xxggWWZ41cQv0229bQPpYPJ8Bi8CX5yKdpMJCfN4haYEf41M5jM/4789MwwkDSGZIFkgelvAd+i/TXV9JZvw10g/uQwvceQ+mt7C8wo/2r7mVX34Kfi/G97qmuk3GSBZIFkgWSBZIFkgWSBZIFkgWSBZIFkgWSBZIFkgWSBZIFkgWSBZIFkgWSBZIFkgRllga3ouOpfy86ocaV+kwWSBZIFkgWSBVrdAt1o0X+y3ZYaT+N92rKD1HayQLJAskCywKxjgarvd806sygf6VNk9SjPTjnJAskCyQLJAskCrWuB2fli9S/s+NUS/+rMidAVrgD/OshD4Jf+z4dH4E7oCZYZCeHL+GsQvh6UX1UZBg/DeRB/OZloUrJAskCyQLJAskD1XySZ1e3jpemf5/JivRr8jlt/8L+Hngn+VZHX4AAYCxfCW7AO7ALKvK9roYY/NfYG4R/DBnBSlp4eyQLJAskCyQLJAo0WmJ0/sfprYP/C0ePwcjbjT3l6ud4Az8NwWBuUf7ThGzBtH1A+rwLzNoSPYGuYBJtBUrJAskCyQLJAssB3LOBfaZmT5B9s9lOs8mL0jzlfAf6haP/WpPIi9VfF24B/z9VfDXcH5cXs5TsK/PSalCyQLJAskCyQLDBHWeB9Zrsd+MncT6aTIcj/7uqlqfaDf9VCDT+e4TEB/pCl+Uejzd8zi/t3dsOfJRxP2H8VbJnDIfz3WYJJyQLJAskCyQLJArOXBS5jOp+Dn0LXgg8gyP8Lhhevnzzvh/hi/TVxP8X6qTZoLwL+CvgVsN7PQD0HvaEb+L8PWxWSkgWSBZIFkgWSBWZbC/iPlcKvvP2kGct081Uo0xD77v9WLKS1I+A/euoQEnjGbebbiIqlYLJAskCyQLJAskCyQLJAskCyQLJAskCyQLJAskCyQLJAskCyQLJAskCyQLJAskCyQLJAskCyQLJAskCyQLJAskCyQLJAssDUFliZpDWnTm4ypaX1mmp4KwqEf1TVVNmU37oW8A+A+NWpvDqT4NetVshnTEN8Vlxn/XKTaZhzW1ddnQ665jpZkPi2ubTWjLbVORCPcVp9pS38Nx5fVXh62Keq/9kyb0dmdXY2s7JwW0x8EI0eFjXsV2L83mr8L3cvId4LLHsx5DWQBP80YpnK6pWVj9MfIbJ9nBCFw3dj/dOJL4Hfw21teXm42ZK+a4HPiPb4blLtz2H6HegR0C+XNy3RsM7T0kY3KreflgaaWXdnyj+V1WlqfzSz6VYpPoRWjs+1lP8Oey57mqPTcg6Ude7fMu8YZU6Lr/jnXMv8N99P1GWrBdvCPq02uLZoqC0O7Pw4u5DgnwNUZeGG3Nb96V9J6h812ZewF3t429ZpD4GJUKYbyRhSljmN6adS/4km2vA7s8eBf+2ptbUNDd7e2o3Opu2txbymgJ9Yh8DMJC+5/IvA9BpfW+6P6TWHmbWfMxnY0a00uCr/bc1+Wmm4s34z0+NinVFWGknHXqK+rale4CW6gxHkr/xeg1eNoGXgSrgf9gflH+TfvBaaa675eZ4BD8H1sCKoonoNOQ0/N+UxArxEh8ESoHYF/3pTV7gCLgDbjr8XuxjxH4Gy3OXgRTsO/D/shO/T7kTYP7N4LxwKyl9/XQSPwlCItRKR08A53AbbgJ96bHss3AF7Q14HkjAQ7gY3pJ/+jT8IN8C6oIpsVdZ+mJefMvw/B9nuVjAGboGVQdn3r2A42N8ucAz8DX4H4TcRXQgPg/z/hegy0vrBXWC7PUA51nNBm54CoR2CNTm+34Nroa1WBdftCrDvq8E05Ri1x93gPGKtR+RWsE78wtebuOXjMZXZKt/+pdRbCPxty4lQJutNi+1Wp76X6BjQ7kHx/tDH1swyNuZ5YRaut++seM3O5xN5BO6EnlmG7bjeru39EPYowZrd7+N5LbheVSqzrfUuh6L9tT3pd8MDoA/8BspUtifKxq8vXQXOdyTcDAeD55R19Ivgk0W+QnajivzSeeX9N1Q4iEC+H/eJdvbc2BaOAM8V98exoCxjXtBwAu79srmHcunZihY4jLbGZO2VhVuxu+809Sax3WFZ8A/o/xh0EOXF5IGsBsG/YUDG5zwXAdPDr4gNPw864lGwI5TVI6tRbg7HsBqMhZNAjYc+sDZ8CzrnHjA3xHn+CkeFckMJ94K3wcPFdj8E29oZPoFNwLncD11gX4g1P5GfwwTYAjqBB4rz2xx+BNrAX0XHcr6O9SewFVhnHKwFZ4DttQPL5W1V1n6Y1xXU+QF8Bq9n4Rt5eugo23SNDs3C3/AcAc77H6DtlAfCafA9cP5ngdKmr8B2cB3cAOpkeBq2hmHg/HpAUAcCrrf21lYLgH1cCvZxEbwIrlvePiQ1ygv9f2EV2D5LdUwvQ35MZbbKt+9l/SnsD6tCmabFdu1o9Fn4Azhu5/oUKNsN++M1wj1NRPphXKaedatV5Mca8AtYDQbCc6Ds60sYkPE5T/eo/vMF7AP6pX0dD7EsE/ZRmW0t49oPhV7gemvXeeFj2An2ha9hTYgV28H2x0HRnigavz6nbb2YtOEJsAJ4oXqBbQaqzFcachv2XZFfzkeBvP+GOmX9TKTAbrASnAK+KLnfp4Bz99y8FtT64JmzEFTNPfgJxWZ/zTObT/F25ueh5WHoIauzng+LwbbgBg7SwcPin0O4c8jInjvw1NFHZZis0xfVcxMEmb9Rxr946sx5eTj2hy/yGbn4R8T7gQfAnbAyLAXvggeDeg8c1wuwDuwJf4RYnxPx4rPfB7IMy50FD2YcyFPbPQ6x/kzkwizhTJ5vgOXcdN1gOSiylYdPUfu3ku68DgXnZX+XwkjoCEdDkLa8HOzDQ3d/8CIeCx4Cy8OG4KbfGiaBtgg6koB287J07GpbOA/uhfvgvyCWB/WzYD/aakXYAHqBB+6vwPF3AxXbpyGl4efrPPrCE6BfBv0PgfyYytbCOvn2vyJNm71sZoVaartlaHMt2AI+BOd7KjRHTfUdtzWeyD/B/pRrGnQlgYuzSNijvYmPgWuy9M2zZ9mjzLbBD/tRUT90TVaGhTKe5um+mRvegTLtSsYbkN8Tli8av/Z9DGz/dfg7vA3u44kwDoKKfCXkdSVQ5JcrkB77byjvs6wf99xNWcEzePYE95zrYntXgftlYdgHRsCnUDV3succ6SSzs25jcjp4b7gH3oIXwUujG+gcQR5QQV8QaB8i2bMjz9dzaUabqucB7obqDh7o7SAvD2/7bEpfU8BNr8IYdW7DgbMJj4RR4EGus3vJLgFVWoTMj6ICXiRFL15eJkH2PQXs+30YAJOgyFZV7cfz0hbGleHYR4Otv6zl/qecccs5HuUmd0zaYDAEhXbNC3OzTpiTtg32DXXyT+dhO/ahnL91QnuhLfNiHUFkKFwI+kNQ0ZiqbFXWfmiv7NlS2zkW5xfmG8ab78cy+T0TyjTVdyjnczN4Pnvad7xfQjsk19bX/ly/T0zIVDa+kF9lW+uG9ddHbN/11befAi8oL3RfkMvkeIr2hOWLxv8m6V5er0En+AuUKcwt9t9Q1nmZH9Yp75ehXD3P4GOeV760HQ5LQ9iLjxB23LvB3vAnUFVzbygxh/wMhprR0+3BAPq2wSDuok0vtL1gdNb+KJ4nZ3HfQOuVm8oxutHXgo2gHu1MobPAAz6+uOqpW0+ZJymk018PHtp+WvNNdDW4D3aEebM4j0a5OZcB85yTB8e+Wbgzz14wDqpkHTffRWDf2tbLsMhWLWmfppqlNyj9IbwDjucy0D5VGk+mB4TaD+avhcp/eABOAQ8UtT/4KWOCkQqtTt55cCj0rihnVnNspb1dr7CXjyS8BDRXZbbzAPWw3gVc6wOgSJNI3BDmg4OLCtSZ1odyD8Mx4KHelFy/LaETdAf9tkrNsa3t9ABt+zNw7c6FKtl+0Z4oq7MFGb58Hwf94J+gXNcuENbVtCq11C+r+lmJDj1H+oOXZzsIuorA6bAQ3JUl1jN3/WidrPxs+6h30abFAN9QObwFloU92I6flk5K6n5M+n3gm9wTWZmRPBeHW7K4D8cXxhjH4/STyNgMJsNoWADifKJTxU0bAhfABOgG1lHaItgjpNUySvLyfYW6t1LeubwCL4GXWlfYFbxg7PcZeAxiaQ8vCOfTF04AN9EH8BxcDPdArPwYBpK5BtiPB/BQUCdB3lZl7efbNO7cVJyXD4d8n5Y3/ws4DC4F7eG4wgVomdBuHPZw6AnO+3DwkrStWJYPaZ8RHgC+TFh2MBwIX0I8RqLfkfacANdAOJzjccThem1lBzfCzTAMfCk4H1aEWPG4DKvwDHMrs93nlPXQ/zO4xvYR6sbtnk36qfAedCgpE9ejSOO6GQ66icBG8Ab4khAU92VaiOv7j4JjGw0TwLxYoaxp9do22OVd6swLnlH6h3ujH8SK2x9IRtGeiMtYN8RfJLwj/BD+Cq6lcl8fDL6wzAOxf8Rhsmqq8sswl1A2flb14x4aC69mT88Lx62ugq4wHDxf1UBoau6W8XJNmkYL+JajY6h6wg0lW++nLw+h/9CqGz+WZdpHCW4klU83bSkI7eXzQz3LxVqYyALg/EM/cdk4bL04Xha2HfsPmo/A0mAfQfbbKUQKnraxZC7d8mF+uaxCe1hmMVg0X5h4bKuQXdR+PEf7jucQxlJla+cR1zGsLeJ1jvsg6zs2trxzUPlyDalTp1tniZCZPfNjzGXX7OHFFJTvKx/P26qs/VDOg/h+iG1hX/l6cT/12M429C99WIX6+XYts2CtRHmZUNdi+b6zqjX/c06qnvW3XEdw3o5J8or7NS/YLC4Xl3FstnMoPBoV8qXNl6pYeTuYl98T+TL25Zi9qLqD2g58wQvSlu5hFY+tKF4rxI8iv6wqb15VP+br57Yb1sI05ZhMz6tq7vl55OumeLJAskCywExlgdMYzaoz1Yhm/cGswhQmwMvwZPZck2dryU+p78ND8HcYAEnJAskCyQLJAskCs7UF/FTWGfwNTFvI/zTVBfKfCNuir9RmskCyQLJAskCyQLJAskCyQLJAskCyQLJAskCyQLJAskCyQLJAskCyQLJAssC0W8B/+TaraSsG/DH4NYCkWccC/svDnuA/BJkVtQmD3gAc/zclE9iadL9uEr5+UFJslkz2vzFuC+49CfJfAvt1Ef+Vrf/ieTnwH+M0penhD/HY3o4GND3PkNXp17l+GPWfgnOABfxKws1wO1wHp4CbY2aVXwjvM7MObgaMqxt9xi9I+XhrDclLxe/J+rWBetWNgmFsaxOeXG/FgnLdSAtttWQsBU3WndSXkpPgeuheUcvvEvaoyG+NrG40EuzQGu3V04ZfpXLtRkA/iHU1kcfgQhgEF4N6BLavhYp/VPlDN6q0xhzjscWjmJ5nyBA6Pj7ufBrCvij4ghPkd0L93nLSTGiB8F2qHzK2fcHL9Z/gPzOfGTU9N8XMOP/8mHwT9kvZQfl4SJ/Wp4erPtIcxWOpOkjraTNuqyVjqaePsjLnkHFuWWaUPj0u1tgOUddtGtyM1uNPfHFnbxHZPEuIL9bdSKv6V7RV/tBac4zHFo95ep4hQ+i4tS7WHWjr2Wgi6xHeKIqn4ExkgXCxxpvgFsb3p2yMy/O8Av4GvgHmvyd3AGmnQtAAAj8F3ziPg7FwB+wNamWwnaBfEvBCz2s7EhzHgzAY5gflpjgL7oNbYX1QOplxx9kflP+EfRg8DOfBwqAug2PgUdgPRkL48ruX1PWgdoJRcC8cCnltSsIIeALsZwlQtt8P7gLn4KcYx2I//lpIxf00pDT8BR/HpX0egB9nGX7h+nzwU8Cd4K9U1aXwFWiLEwviJBXOoSvprukF8BCsBJeD6zUOtFUHiGWdYBfDTZXPj21t6nhgFvWhbYrWieSa8m3FYzmQEr+C4fAg7ALaUD/4HcwDqqk+LFPkcz8i/Q14Da6AWPrkuaDNToF/g2utinzHcV8CA8G19NPdQqCOAP3Mto4FZXn7DOukX8XrvTJxfSUo3kuW1Q6PwragHexXG90A60Jey5Ngf9rOdt3rjsH4p3AbmBZ0IQHnfD8cAoPAOSnXzD2ptoe7QZ+2jd9AmT/k13pByl4EzmMo5NWeBH1qLNwB4ZzJj42sRo0n1CeLFa25WdqvH9wFt0BYV210Fbh+I+FmmBti6ZP3wbVwDxwPyvGvWQs1/B9jHKOyvGujjc6ETSF/rqxEmn1+DNpwGzgAPGtV0dqZbtv6wTBwnfaHpOlggY708S0sFfXVj/Bz0A50aJ39e6CDvwixI32f+GewCKiXoS/o7M/D5vAj+Bw2gA3hPQgaQiA4XkhbjcAU0Ck2g2dhMKjxGf73LB3T/hynG+B/YRVwIyvHfho4dp3qLFC2MRF8q14Z3oK9QJ0O14Bj8CLoAzvDJ7AJxHJ8u4Nl3dgngbL9V8BNex14kDnG12E/UM4nPhRNGwT/hv6wN3wJ2sxL+BdgP25A10Z5cH0K+8OqBfGyOXiouebDYQ9YJ4sP5dkL3gbbjGWdyVlCqF9VPj+2qjqP0m7ROoX+i9oKYxlEIW12KBj+BkaA6/YPcH6qqT601RTI+9zypLl+V8L6EOtkIk+DvujBpU17QFN2v5wym8MzcAaoU2Bj2AochwdwsFlYJ/uP17tqL8U+vhL13I/jYC2wzwnQDoIMa6NLId7r8xE/CvSJLWABCFqXgHukP3QG7X8xKPt3DeaFj2En2Be+hnhuQ4n3guBz+bUeQN790AWsn5fzKjpn8mOL64WxrUaitj4Qis6Z/B62Ddf5D2D7r8EJEMs1+wL2gZ+Avnk8KMv3rIWm/l/r6TuWd/0dz+7g+MK5Mj/hn4Pr5jp0gmDvdoSL1m7urMyXPLWjfA7hrCaY1FYW6EjDLupSUQcHEH4BVgQPqrAQPi3rRo1l2YPBjf5PmA8ehv4QNJLAsVB1GISyvmHdFiI8DwEdR42HHWqhhv/PquNZFi6Dx+AHoKN5IJr3a/gZeDi6QZVt7FkLNfz4LY/rs7ibaTewjvPyKaYfDXltRML+cDNckmXGY/RSfiZLP5XnLVn4VZ67ZOHwcKNcHiI874OfZnHn2BcGgjYO8mBbI0R4xvGyOaxNOV8UXCdl3HraTQ0B+4llmclZQj3lLRqPpaxO1Tpl3dUe+bbCWGKbLUdJ13zBrOJfePpCUk8fVT7nQeqLUF4eev+dJWq7KeDFWmX32M7/Q1nbUAuAft0P3oHtQJvF60T0Ozat2kt5H3+Aur7IOTbXVjtpl6AVCZTt9V7kvRwK5p7vE18/S3Mt8hfrYqTZbmdYEuzXtDJ/IOs7c9Qm2sx9EM4hgo0qO2csEI+tsQIBbeOlX7XmZXv4DuppQ3UPHFYL/eeH4xz1n2jtIj4+i7/Gs2cW9lx4KgtrN1+eYm1EJH+uaItno0LB3lVrZ5n4TPHFLD4vouZSsLUs4BtNkXxzfhF05K/BxVAeHG6MeYxEGkpYJ9gXroMvwLofQdBnBEK99iGx5FlV1yqOSYVxOY8jwHFcCFfCwqAs43h09vhw/Jh40FUEdPRtwE0/EqxvvcDZWTqPRp1JyL66QwdoB0FhjNYP83Z828NOsCjcDnl9FSV8Ttg2N4Pns6e2ifshWqqqOfybWo4tyPG6tsr0ptaoueVtt6hOU+tkvaYUbPZlVjDY3ri+UU8fTflc0RhsN/iRtgv2q7J7bIOwvvrO43A4LA2OOSi/TiE9PKvWKYzNso7J/evaeuEMgEkQ5PwdW9hTZXs9lK/3aTv25yXipXAO/AtUbIsynxtFub6wK7wAS0CslqxbqN9U3eBHji3s4TcJnwFekp3gLxBLO38SJYQ2TNI/ytYrXquqcyVqujHoPKrWLuwPK5TZubGxFJh2C8Qb2Nb89HowuMHdADqPG2NvUF6ef4cJRiINI7wN9IM/gXIj7QteAr6t9oJx4CZbHLrDKtAb8nqSBNOXBR1xP7Bu0EEE5oW94B/wHqwO58GhYN034EN4By6Ey8B2i+RYX4E/wrXggWxZD7nrwfqmvw2xvIzPgsEQv0TEZeKwffwNroCr4SvIqw8JK0Jn2Awcm2m+mR8DHsCxPHgtO3eWGMfrmUPcVmuH47GUtV3vOtXT1rT00ZTPFbU9nsTdsgx9dP4sXGV395h+63p5Ybi+K8Fq0B/cP+2gTLEd6tlLoR376QAXgf48CmwrqN69HsrX++xBQef6M3BvngtNKZ6jdrkPdgT3vPFYzqvonInLlIVbsuZb0NiZcBz0g/i3R0Rrn4a35NkJukMvCPJFZkOYDzxny1R2rnxBhWVAO8Q+0lZrVza+lN6EBXR4LxF5F16HAeCGvxc+y+JuRi9UL5ADwfKx3iIyGnzbHZtlnMBzNfgAnoOL4R6YCNeAaWNgAnwLsW4kMhJeBS/OReEkUN+AF4kO/Xs4EkyzfduybTevTngYXAqvwDsQXhAsL7GGEekGPtWtcAtY9yXwbbsrxBpC5AKw324Q5hG3H4cpMtcQcHN4gBbJNtzw9nkdjIGbYCN4A5xvLG11M4Rxx/GyOdhHGKtt5eOOOc7Pl6mnvHXisZTVqVon2wgqaytuN4w5PMM86unD9st8zvZsK6/TSegJ+vjh4B6xbJndyap9sjiJpy9iXcFDWh9z3+jvPqeA7QQINiq2Q9VecrzxmAcSXwPcB2/CUIhVtddtx7EUKR5jHA79e654EfgCoo2eg34QlyVaG2voI57jruQ55gnwDDwGsU4gUnTOWCbfR6gXxla15qGMdeLwi8S95H8IfwX3XizPjEdBG48Gx+041NlwKrwHHSCk+wxhgrUzouhceYI8fWMyeEaHelVrF8pQvKZ8PKSn5wywQDv6XKKJfj38PWjy6kTCPPlE4ouBF3ugoEjtE8AiuQw3qVoc8u0uRdr8ZkZy7EuDjhwU2gjx8IzLhLT5CFjfdorkr34WAPPbZwXy7cdxX0y8NIs0iMSLwfby83au2lLl5523cT5eNId4TLYZx52H65JXXCYOl5W3fjyWqjpF65Tvv6gtxxnsbvl8H/G61dOH/pO3fdX8bFNfVnHfxvN2X5s0D0XHvCTk5R6zvXh9821aJ7aD8aK9VFQvlF3UQInsv2ivl7UXp8drEdIPpT0vmiBfdH1RV6GM4byN4zm6x4xXKS4fysXthzSf+fSiNc+XMd4RvJi6g9oOPqiFpv5hWW2pTSRIn1gwi4Q+YruFckXninnaKfhOvl7R2uXLhD5DP+k5E1tgWcb2Faw+E49xZhnaGAZyYslgBpHuxZo0e1ogXKyz5+yKZ7UKyRPgZfA3MT7XhFlVfkp9Hx4Cf0MxAJKSBdrEAr5hL98mLc9+jS7HlMreGv2k1NSb+exnkTlnRn7aWGHOmW7jTP0k1Rn8jdLsIH9b1gXi3yzMDvNKc2glC/x/Cy0fCScmdbcAAAAASUVORK5CYII=)"
   ]
  },
  {
   "cell_type": "raw",
   "id": "b16f8a8f-bda1-4692-9cf9-05287ecd62c1",
   "metadata": {
    "id": "b16f8a8f-bda1-4692-9cf9-05287ecd62c1"
   },
   "source": [
    "airline_dict = pd.read_excel('/content/drive/MyDrive/capstone 3/Data Dictionary.xlsx', sheet_name = 'airlines',header = 11)\n",
    "airline_dict.head(2)"
   ]
  },
  {
   "cell_type": "code",
   "execution_count": 86,
   "id": "c1053e84-d1f3-47a0-902e-20bda2b1554b",
   "metadata": {
    "id": "c1053e84-d1f3-47a0-902e-20bda2b1554b",
    "tags": []
   },
   "outputs": [],
   "source": [
    "# get id for \"southwest Airlines\"\n",
    "id_airline = airline_dict.loc[airline_dict['Description'].str.strip().str.lower() == 'southwest', 'Airlines ID'].values[0]"
   ]
  },
  {
   "cell_type": "code",
   "execution_count": 87,
   "id": "ECouQmhKRJCF",
   "metadata": {
    "colab": {
     "base_uri": "https://localhost:8080/"
    },
    "id": "ECouQmhKRJCF",
    "outputId": "d548380d-59fe-4b3f-a269-b9e2239e1886",
    "tags": []
   },
   "outputs": [
    {
     "data": {
      "text/plain": [
       "70"
      ]
     },
     "execution_count": 87,
     "metadata": {},
     "output_type": "execute_result"
    }
   ],
   "source": [
    "round(combined_data_pax[combined_data_pax.Airline == id_airline].Delay.sum()/\n",
    "      combined_data_pax[combined_data_pax.Airline == id_airline].Delay.size*100)"
   ]
  },
  {
   "cell_type": "code",
   "execution_count": 88,
   "id": "fc744672-c26a-4222-8370-f5f0d95a97ab",
   "metadata": {
    "id": "fc744672-c26a-4222-8370-f5f0d95a97ab",
    "tags": []
   },
   "outputs": [],
   "source": [
    "def percent_Delay(x):\n",
    "    return round(x.sum()/x.size * 100,2)"
   ]
  },
  {
   "cell_type": "code",
   "execution_count": 89,
   "id": "fd870b56-7b25-49d8-aea4-018d7ce525d8",
   "metadata": {
    "id": "fd870b56-7b25-49d8-aea4-018d7ce525d8",
    "tags": []
   },
   "outputs": [],
   "source": [
    "delay_perc = combined_data_pax.groupby('Airline')['Delay'].agg(percent_Delay)\n"
   ]
  },
  {
   "cell_type": "code",
   "execution_count": 90,
   "id": "5db322b0",
   "metadata": {},
   "outputs": [
    {
     "data": {
      "text/plain": [
       "Airline\n",
       "9E    39.77\n",
       "AA    38.85\n",
       "AS    33.93\n",
       "B6    46.70\n",
       "CO    56.62\n",
       "DL    45.05\n",
       "EV    40.22\n",
       "F9    44.90\n",
       "HA    32.02\n",
       "MQ    34.81\n",
       "OH    27.73\n",
       "OO    45.29\n",
       "UA    32.39\n",
       "US    33.60\n",
       "WN    69.78\n",
       "XE    37.89\n",
       "YV    24.29\n",
       "Name: Delay, dtype: float64"
      ]
     },
     "execution_count": 90,
     "metadata": {},
     "output_type": "execute_result"
    }
   ],
   "source": [
    "delay_perc"
   ]
  },
  {
   "cell_type": "code",
   "execution_count": 91,
   "id": "8520cdad",
   "metadata": {},
   "outputs": [],
   "source": [
    "delay_perc = delay_perc.reset_index()"
   ]
  },
  {
   "cell_type": "code",
   "execution_count": 92,
   "id": "e0f70c9e-2430-48f0-9cba-88d870578c2c",
   "metadata": {
    "colab": {
     "base_uri": "https://localhost:8080/",
     "height": 582
    },
    "id": "e0f70c9e-2430-48f0-9cba-88d870578c2c",
    "outputId": "e0280119-1bd1-45fc-a467-ee1baef07618",
    "tags": []
   },
   "outputs": [
    {
     "data": {
      "text/html": [
       "<div>\n",
       "<style scoped>\n",
       "    .dataframe tbody tr th:only-of-type {\n",
       "        vertical-align: middle;\n",
       "    }\n",
       "\n",
       "    .dataframe tbody tr th {\n",
       "        vertical-align: top;\n",
       "    }\n",
       "\n",
       "    .dataframe thead th {\n",
       "        text-align: right;\n",
       "    }\n",
       "</style>\n",
       "<table border=\"1\" class=\"dataframe\">\n",
       "  <thead>\n",
       "    <tr style=\"text-align: right;\">\n",
       "      <th></th>\n",
       "      <th>Airline</th>\n",
       "      <th>Description</th>\n",
       "      <th>Delay</th>\n",
       "    </tr>\n",
       "  </thead>\n",
       "  <tbody>\n",
       "    <tr>\n",
       "      <th>0</th>\n",
       "      <td>9E</td>\n",
       "      <td>Endeavor</td>\n",
       "      <td>39.77</td>\n",
       "    </tr>\n",
       "    <tr>\n",
       "      <th>1</th>\n",
       "      <td>AA</td>\n",
       "      <td>American Airlines</td>\n",
       "      <td>38.85</td>\n",
       "    </tr>\n",
       "    <tr>\n",
       "      <th>2</th>\n",
       "      <td>AS</td>\n",
       "      <td>Alaska</td>\n",
       "      <td>33.93</td>\n",
       "    </tr>\n",
       "    <tr>\n",
       "      <th>3</th>\n",
       "      <td>B6</td>\n",
       "      <td>Jetblue</td>\n",
       "      <td>46.70</td>\n",
       "    </tr>\n",
       "    <tr>\n",
       "      <th>4</th>\n",
       "      <td>CO</td>\n",
       "      <td>United Airlines (initially CO)</td>\n",
       "      <td>56.62</td>\n",
       "    </tr>\n",
       "    <tr>\n",
       "      <th>5</th>\n",
       "      <td>DL</td>\n",
       "      <td>Delta</td>\n",
       "      <td>45.05</td>\n",
       "    </tr>\n",
       "    <tr>\n",
       "      <th>6</th>\n",
       "      <td>EV</td>\n",
       "      <td>ExpressJet</td>\n",
       "      <td>40.22</td>\n",
       "    </tr>\n",
       "    <tr>\n",
       "      <th>7</th>\n",
       "      <td>F9</td>\n",
       "      <td>Frontier</td>\n",
       "      <td>44.90</td>\n",
       "    </tr>\n",
       "    <tr>\n",
       "      <th>8</th>\n",
       "      <td>HA</td>\n",
       "      <td>Hawaiian</td>\n",
       "      <td>32.02</td>\n",
       "    </tr>\n",
       "    <tr>\n",
       "      <th>9</th>\n",
       "      <td>MQ</td>\n",
       "      <td>Envoy</td>\n",
       "      <td>34.81</td>\n",
       "    </tr>\n",
       "    <tr>\n",
       "      <th>10</th>\n",
       "      <td>OH</td>\n",
       "      <td>PSA</td>\n",
       "      <td>27.73</td>\n",
       "    </tr>\n",
       "    <tr>\n",
       "      <th>11</th>\n",
       "      <td>OO</td>\n",
       "      <td>Skywest</td>\n",
       "      <td>45.29</td>\n",
       "    </tr>\n",
       "    <tr>\n",
       "      <th>12</th>\n",
       "      <td>UA</td>\n",
       "      <td>United Airlines</td>\n",
       "      <td>32.39</td>\n",
       "    </tr>\n",
       "    <tr>\n",
       "      <th>13</th>\n",
       "      <td>US</td>\n",
       "      <td>PSA (initially US Airway Express)</td>\n",
       "      <td>33.60</td>\n",
       "    </tr>\n",
       "    <tr>\n",
       "      <th>14</th>\n",
       "      <td>WN</td>\n",
       "      <td>Southwest</td>\n",
       "      <td>69.78</td>\n",
       "    </tr>\n",
       "    <tr>\n",
       "      <th>15</th>\n",
       "      <td>XE</td>\n",
       "      <td>JSX</td>\n",
       "      <td>37.89</td>\n",
       "    </tr>\n",
       "    <tr>\n",
       "      <th>16</th>\n",
       "      <td>YV</td>\n",
       "      <td>Mesa</td>\n",
       "      <td>24.29</td>\n",
       "    </tr>\n",
       "  </tbody>\n",
       "</table>\n",
       "</div>"
      ],
      "text/plain": [
       "   Airline                        Description  Delay\n",
       "0       9E                           Endeavor  39.77\n",
       "1       AA                  American Airlines  38.85\n",
       "2       AS                             Alaska  33.93\n",
       "3       B6                            Jetblue  46.70\n",
       "4       CO     United Airlines (initially CO)  56.62\n",
       "5       DL                              Delta  45.05\n",
       "6       EV                         ExpressJet  40.22\n",
       "7       F9                           Frontier  44.90\n",
       "8       HA                           Hawaiian  32.02\n",
       "9       MQ                              Envoy  34.81\n",
       "10      OH                                PSA  27.73\n",
       "11      OO                            Skywest  45.29\n",
       "12      UA                    United Airlines  32.39\n",
       "13      US  PSA (initially US Airway Express)  33.60\n",
       "14      WN                          Southwest  69.78\n",
       "15      XE                                JSX  37.89\n",
       "16      YV                               Mesa  24.29"
      ]
     },
     "execution_count": 92,
     "metadata": {},
     "output_type": "execute_result"
    }
   ],
   "source": [
    "plot_data = pd.merge(delay_perc, airline_dict, left_on = 'Airline', \n",
    "                     right_on = 'Airlines ID', how = 'left')[['Airline', 'Description', 'Delay']]\n",
    "plot_data"
   ]
  },
  {
   "cell_type": "code",
   "execution_count": 93,
   "id": "96cb1217-2e02-4c53-85dc-a23f41e223d7",
   "metadata": {
    "colab": {
     "base_uri": "https://localhost:8080/",
     "height": 580
    },
    "id": "96cb1217-2e02-4c53-85dc-a23f41e223d7",
    "outputId": "47beb06a-92e5-4647-d939-503e41e14f9d",
    "tags": []
   },
   "outputs": [
    {
     "name": "stderr",
     "output_type": "stream",
     "text": [
      "findfont: Font family 'times' not found.\n",
      "findfont: Font family 'times' not found.\n",
      "findfont: Font family 'times' not found.\n",
      "findfont: Font family 'times' not found.\n",
      "findfont: Font family 'times' not found.\n",
      "findfont: Font family 'times' not found.\n",
      "findfont: Font family 'times' not found.\n",
      "findfont: Font family 'times' not found.\n",
      "findfont: Font family 'times' not found.\n",
      "findfont: Font family 'times' not found.\n",
      "findfont: Font family 'times' not found.\n",
      "findfont: Font family 'times' not found.\n",
      "findfont: Font family 'times' not found.\n",
      "findfont: Font family 'times' not found.\n",
      "findfont: Font family 'times' not found.\n",
      "findfont: Font family 'times' not found.\n",
      "findfont: Font family 'times' not found.\n",
      "findfont: Font family 'times' not found.\n",
      "findfont: Font family 'times' not found.\n",
      "findfont: Font family 'times' not found.\n",
      "findfont: Font family 'times' not found.\n",
      "findfont: Font family 'times' not found.\n",
      "findfont: Font family 'times' not found.\n",
      "findfont: Font family 'times' not found.\n",
      "findfont: Font family 'times' not found.\n",
      "findfont: Font family 'times' not found.\n",
      "findfont: Font family 'times' not found.\n",
      "findfont: Font family 'times' not found.\n",
      "findfont: Font family 'times' not found.\n",
      "findfont: Font family 'times' not found.\n",
      "findfont: Font family 'times' not found.\n",
      "findfont: Font family 'times' not found.\n",
      "findfont: Font family 'times' not found.\n",
      "findfont: Font family 'times' not found.\n",
      "findfont: Font family 'times' not found.\n",
      "findfont: Font family 'times' not found.\n",
      "findfont: Font family 'times' not found.\n",
      "findfont: Font family 'times' not found.\n",
      "findfont: Font family 'times' not found.\n",
      "findfont: Font family 'times' not found.\n",
      "findfont: Font family 'times' not found.\n",
      "findfont: Font family 'times' not found.\n",
      "findfont: Font family 'times' not found.\n",
      "findfont: Font family 'times' not found.\n",
      "findfont: Font family 'times' not found.\n",
      "findfont: Font family 'times' not found.\n",
      "findfont: Font family 'times' not found.\n",
      "findfont: Font family 'times' not found.\n",
      "findfont: Font family 'times' not found.\n",
      "findfont: Font family 'times' not found.\n",
      "findfont: Font family 'times' not found.\n",
      "findfont: Font family 'times' not found.\n",
      "findfont: Font family 'times' not found.\n",
      "findfont: Font family 'times' not found.\n",
      "findfont: Font family 'times' not found.\n",
      "findfont: Font family 'times' not found.\n",
      "findfont: Font family 'times' not found.\n",
      "findfont: Font family 'times' not found.\n"
     ]
    },
    {
     "data": {
      "image/png": "[encoded data removed]",
      "text/plain": [
       "<Figure size 2200x500 with 1 Axes>"
      ]
     },
     "metadata": {},
     "output_type": "display_data"
    }
   ],
   "source": [
    "plt.figure(figsize = (22,5))\n",
    "plt.bar(plot_data.Description, height =  plot_data.Delay, color = plt.get_cmap('Set3').colors)\n",
    "for v, idx in zip(plot_data.Delay.values,plot_data.index ):\n",
    "    plt.annotate('{:.1f}%'.format(v), xy = (idx-0.15, v), size = 18, family = 'times')\n",
    "plt.ylim(1,85)\n",
    "plt.xticks(size = 13, rotation = 75)\n",
    "plt.yticks(size = 13)\n",
    "plt.title('% delays for each airline', size = 25, color = 'midnightblue', weight = 'heavy', family = 'times')\n",
    "plt.show()"
   ]
  },
  {
   "cell_type": "markdown",
   "id": "e01d541f-7fcf-41cb-bf24-3011c18982f2",
   "metadata": {
    "id": "e01d541f-7fcf-41cb-bf24-3011c18982f2"
   },
   "source": [
    "## \n",
    "    II.\tNo delayed flights on different weekdays. Which days of the week are safest to travel."
   ]
  },
  {
   "cell_type": "code",
   "execution_count": 94,
   "id": "35341280-962c-433c-80e3-f6119e074990",
   "metadata": {
    "colab": {
     "base_uri": "https://localhost:8080/",
     "height": 270
    },
    "id": "35341280-962c-433c-80e3-f6119e074990",
    "outputId": "1b037e32-872a-416d-f521-8b3b2c20b259",
    "tags": []
   },
   "outputs": [
    {
     "data": {
      "text/html": [
       "<div>\n",
       "<style scoped>\n",
       "    .dataframe tbody tr th:only-of-type {\n",
       "        vertical-align: middle;\n",
       "    }\n",
       "\n",
       "    .dataframe tbody tr th {\n",
       "        vertical-align: top;\n",
       "    }\n",
       "\n",
       "    .dataframe thead th {\n",
       "        text-align: right;\n",
       "    }\n",
       "</style>\n",
       "<table border=\"1\" class=\"dataframe\">\n",
       "  <thead>\n",
       "    <tr style=\"text-align: right;\">\n",
       "      <th></th>\n",
       "      <th>id</th>\n",
       "      <th>Airline</th>\n",
       "      <th>Flight</th>\n",
       "      <th>AirportFrom</th>\n",
       "      <th>AirportTo</th>\n",
       "      <th>DayOfWeek</th>\n",
       "      <th>Time</th>\n",
       "      <th>Length</th>\n",
       "      <th>Delay</th>\n",
       "      <th>type_source_airport</th>\n",
       "      <th>elevation_ft_source_airport</th>\n",
       "      <th>runway_count_source_airport</th>\n",
       "      <th>type_dest_airport</th>\n",
       "      <th>elevation_ft_dest_airport</th>\n",
       "      <th>runway_count_dest_airport</th>\n",
       "      <th>iata_code_x</th>\n",
       "      <th>data_2019_source_airport</th>\n",
       "      <th>iata_code_y</th>\n",
       "      <th>data_2019_dest_airport</th>\n",
       "      <th>Founded</th>\n",
       "    </tr>\n",
       "  </thead>\n",
       "  <tbody>\n",
       "    <tr>\n",
       "      <th>0</th>\n",
       "      <td>1</td>\n",
       "      <td>CO</td>\n",
       "      <td>269</td>\n",
       "      <td>SFO</td>\n",
       "      <td>IAH</td>\n",
       "      <td>3</td>\n",
       "      <td>15</td>\n",
       "      <td>205</td>\n",
       "      <td>1</td>\n",
       "      <td>large_airport</td>\n",
       "      <td>13.0</td>\n",
       "      <td>4.0</td>\n",
       "      <td>large_airport</td>\n",
       "      <td>97.0</td>\n",
       "      <td>5.0</td>\n",
       "      <td>SFO</td>\n",
       "      <td>27779230.0</td>\n",
       "      <td>IAH</td>\n",
       "      <td>21905309.0</td>\n",
       "      <td>1934.0</td>\n",
       "    </tr>\n",
       "    <tr>\n",
       "      <th>1</th>\n",
       "      <td>6</td>\n",
       "      <td>CO</td>\n",
       "      <td>1094</td>\n",
       "      <td>LAX</td>\n",
       "      <td>IAH</td>\n",
       "      <td>3</td>\n",
       "      <td>30</td>\n",
       "      <td>181</td>\n",
       "      <td>1</td>\n",
       "      <td>large_airport</td>\n",
       "      <td>125.0</td>\n",
       "      <td>4.0</td>\n",
       "      <td>large_airport</td>\n",
       "      <td>97.0</td>\n",
       "      <td>5.0</td>\n",
       "      <td>LAX</td>\n",
       "      <td>42939104.0</td>\n",
       "      <td>IAH</td>\n",
       "      <td>21905309.0</td>\n",
       "      <td>1934.0</td>\n",
       "    </tr>\n",
       "    <tr>\n",
       "      <th>2</th>\n",
       "      <td>11</td>\n",
       "      <td>CO</td>\n",
       "      <td>223</td>\n",
       "      <td>ANC</td>\n",
       "      <td>SEA</td>\n",
       "      <td>3</td>\n",
       "      <td>49</td>\n",
       "      <td>201</td>\n",
       "      <td>1</td>\n",
       "      <td>large_airport</td>\n",
       "      <td>152.0</td>\n",
       "      <td>3.0</td>\n",
       "      <td>large_airport</td>\n",
       "      <td>433.0</td>\n",
       "      <td>4.0</td>\n",
       "      <td>ANC</td>\n",
       "      <td>2713843.0</td>\n",
       "      <td>SEA</td>\n",
       "      <td>25001762.0</td>\n",
       "      <td>1934.0</td>\n",
       "    </tr>\n",
       "    <tr>\n",
       "      <th>3</th>\n",
       "      <td>18</td>\n",
       "      <td>CO</td>\n",
       "      <td>1496</td>\n",
       "      <td>LAS</td>\n",
       "      <td>IAH</td>\n",
       "      <td>3</td>\n",
       "      <td>60</td>\n",
       "      <td>162</td>\n",
       "      <td>0</td>\n",
       "      <td>large_airport</td>\n",
       "      <td>2181.0</td>\n",
       "      <td>4.0</td>\n",
       "      <td>large_airport</td>\n",
       "      <td>97.0</td>\n",
       "      <td>5.0</td>\n",
       "      <td>LAS</td>\n",
       "      <td>24728361.0</td>\n",
       "      <td>IAH</td>\n",
       "      <td>21905309.0</td>\n",
       "      <td>1934.0</td>\n",
       "    </tr>\n",
       "    <tr>\n",
       "      <th>4</th>\n",
       "      <td>20</td>\n",
       "      <td>CO</td>\n",
       "      <td>507</td>\n",
       "      <td>ONT</td>\n",
       "      <td>IAH</td>\n",
       "      <td>3</td>\n",
       "      <td>75</td>\n",
       "      <td>167</td>\n",
       "      <td>0</td>\n",
       "      <td>large_airport</td>\n",
       "      <td>944.0</td>\n",
       "      <td>2.0</td>\n",
       "      <td>large_airport</td>\n",
       "      <td>97.0</td>\n",
       "      <td>5.0</td>\n",
       "      <td>ONT</td>\n",
       "      <td>2723002.0</td>\n",
       "      <td>IAH</td>\n",
       "      <td>21905309.0</td>\n",
       "      <td>1934.0</td>\n",
       "    </tr>\n",
       "  </tbody>\n",
       "</table>\n",
       "</div>"
      ],
      "text/plain": [
       "   id Airline  Flight AirportFrom AirportTo  DayOfWeek  Time  Length  Delay  \\\n",
       "0   1      CO     269         SFO       IAH          3    15     205      1   \n",
       "1   6      CO    1094         LAX       IAH          3    30     181      1   \n",
       "2  11      CO     223         ANC       SEA          3    49     201      1   \n",
       "3  18      CO    1496         LAS       IAH          3    60     162      0   \n",
       "4  20      CO     507         ONT       IAH          3    75     167      0   \n",
       "\n",
       "  type_source_airport  elevation_ft_source_airport  \\\n",
       "0       large_airport                         13.0   \n",
       "1       large_airport                        125.0   \n",
       "2       large_airport                        152.0   \n",
       "3       large_airport                       2181.0   \n",
       "4       large_airport                        944.0   \n",
       "\n",
       "   runway_count_source_airport type_dest_airport  elevation_ft_dest_airport  \\\n",
       "0                          4.0     large_airport                       97.0   \n",
       "1                          4.0     large_airport                       97.0   \n",
       "2                          3.0     large_airport                      433.0   \n",
       "3                          4.0     large_airport                       97.0   \n",
       "4                          2.0     large_airport                       97.0   \n",
       "\n",
       "   runway_count_dest_airport iata_code_x  data_2019_source_airport  \\\n",
       "0                        5.0         SFO                27779230.0   \n",
       "1                        5.0         LAX                42939104.0   \n",
       "2                        4.0         ANC                 2713843.0   \n",
       "3                        5.0         LAS                24728361.0   \n",
       "4                        5.0         ONT                 2723002.0   \n",
       "\n",
       "  iata_code_y  data_2019_dest_airport  Founded  \n",
       "0         IAH              21905309.0   1934.0  \n",
       "1         IAH              21905309.0   1934.0  \n",
       "2         SEA              25001762.0   1934.0  \n",
       "3         IAH              21905309.0   1934.0  \n",
       "4         IAH              21905309.0   1934.0  "
      ]
     },
     "execution_count": 94,
     "metadata": {},
     "output_type": "execute_result"
    }
   ],
   "source": [
    "combined_data_pax.head()"
   ]
  },
  {
   "cell_type": "code",
   "execution_count": 95,
   "id": "a7c2fee4-cfbb-4154-9fc9-ff2c3262c635",
   "metadata": {
    "colab": {
     "base_uri": "https://localhost:8080/"
    },
    "id": "a7c2fee4-cfbb-4154-9fc9-ff2c3262c635",
    "outputId": "7752e8f6-cc32-4227-f52f-e7253338c9b6",
    "tags": []
   },
   "outputs": [
    {
     "data": {
      "text/plain": [
       "DayOfWeek\n",
       "1    47.22\n",
       "2    45.21\n",
       "3    47.58\n",
       "4    45.78\n",
       "5    42.56\n",
       "6    40.56\n",
       "7    45.77\n",
       "Name: Delay, dtype: float64"
      ]
     },
     "execution_count": 95,
     "metadata": {},
     "output_type": "execute_result"
    }
   ],
   "source": [
    "delay_perc_weekday = combined_data_pax.groupby('DayOfWeek')['Delay'].agg(percent_Delay)\n",
    "delay_perc_weekday"
   ]
  },
  {
   "cell_type": "code",
   "execution_count": 77,
   "id": "507cf602-1c90-41be-b7e9-090506a2a67d",
   "metadata": {
    "colab": {
     "base_uri": "https://localhost:8080/",
     "height": 348
    },
    "id": "507cf602-1c90-41be-b7e9-090506a2a67d",
    "outputId": "99e8db8f-647b-486a-b7c2-f45ea9e80de3",
    "tags": []
   },
   "outputs": [
    {
     "name": "stderr",
     "output_type": "stream",
     "text": [
      "findfont: Font family 'times' not found.\n",
      "findfont: Font family 'times' not found.\n",
      "findfont: Font family 'times' not found.\n",
      "findfont: Font family 'times' not found.\n",
      "findfont: Font family 'times' not found.\n",
      "findfont: Font family 'times' not found.\n",
      "findfont: Font family 'times' not found.\n",
      "findfont: Font family 'times' not found.\n",
      "findfont: Font family 'times' not found.\n",
      "findfont: Font family 'times' not found.\n",
      "findfont: Font family 'times' not found.\n",
      "findfont: Font family 'times' not found.\n",
      "findfont: Font family 'times' not found.\n",
      "findfont: Font family 'times' not found.\n",
      "findfont: Font family 'times' not found.\n",
      "findfont: Font family 'times' not found.\n",
      "findfont: Font family 'times' not found.\n",
      "findfont: Font family 'times' not found.\n",
      "findfont: Font family 'times' not found.\n",
      "findfont: Font family 'times' not found.\n",
      "findfont: Font family 'times' not found.\n",
      "findfont: Font family 'times' not found.\n",
      "findfont: Font family 'times' not found.\n",
      "findfont: Font family 'times' not found.\n",
      "findfont: Font family 'times' not found.\n",
      "findfont: Font family 'times' not found.\n"
     ]
    },
    {
     "data": {
      "image/png": "[encoded data removed]",
      "text/plain": [
       "<Figure size 1440x360 with 1 Axes>"
      ]
     },
     "metadata": {
      "needs_background": "light"
     },
     "output_type": "display_data"
    }
   ],
   "source": [
    "plt.figure(figsize = (20,5))\n",
    "plt.bar(delay_perc_weekday.index, height =  delay_perc_weekday.values, color = plt.get_cmap('Set3').colors)\n",
    "for v, idx in zip(delay_perc_weekday.values, range(1, len(delay_perc_weekday.index)+1)):\n",
    "    # print(v, idx)\n",
    "    plt.annotate('{:.1f}%'.format(v), xy = (idx-0.15, v), size = 18, family = 'times')\n",
    "plt.ylim(1,65)\n",
    "plt.xticks(size = 13)\n",
    "plt.yticks(size = 13)\n",
    "plt.title('% delays for each airline', size = 25, color = 'midnightblue', weight = 'heavy', family = 'times')\n",
    "plt.show()"
   ]
  },
  {
   "cell_type": "markdown",
   "id": "65828718-1552-4487-8012-45e73333fa78",
   "metadata": {
    "id": "65828718-1552-4487-8012-45e73333fa78",
    "tags": []
   },
   "source": [
    "##\n",
    "    III.\tWhich airlines to recommend for short, medium and long length of travel."
   ]
  },
  {
   "cell_type": "code",
   "execution_count": 108,
   "id": "d580c821-f623-4d6d-96a9-1fa1414a49c7",
   "metadata": {
    "id": "d580c821-f623-4d6d-96a9-1fa1414a49c7",
    "tags": []
   },
   "outputs": [],
   "source": [
    "duration_data = combined_data_pax[['Airline', 'Length', 'Delay']].copy()"
   ]
  },
  {
   "cell_type": "code",
   "execution_count": 109,
   "id": "b331ed2f",
   "metadata": {},
   "outputs": [
    {
     "data": {
      "text/html": [
       "<div>\n",
       "<style scoped>\n",
       "    .dataframe tbody tr th:only-of-type {\n",
       "        vertical-align: middle;\n",
       "    }\n",
       "\n",
       "    .dataframe tbody tr th {\n",
       "        vertical-align: top;\n",
       "    }\n",
       "\n",
       "    .dataframe thead th {\n",
       "        text-align: right;\n",
       "    }\n",
       "</style>\n",
       "<table border=\"1\" class=\"dataframe\">\n",
       "  <thead>\n",
       "    <tr style=\"text-align: right;\">\n",
       "      <th></th>\n",
       "      <th>Airline</th>\n",
       "      <th>Length</th>\n",
       "      <th>Delay</th>\n",
       "    </tr>\n",
       "  </thead>\n",
       "  <tbody>\n",
       "    <tr>\n",
       "      <th>0</th>\n",
       "      <td>CO</td>\n",
       "      <td>205</td>\n",
       "      <td>1</td>\n",
       "    </tr>\n",
       "    <tr>\n",
       "      <th>1</th>\n",
       "      <td>CO</td>\n",
       "      <td>181</td>\n",
       "      <td>1</td>\n",
       "    </tr>\n",
       "    <tr>\n",
       "      <th>2</th>\n",
       "      <td>CO</td>\n",
       "      <td>201</td>\n",
       "      <td>1</td>\n",
       "    </tr>\n",
       "    <tr>\n",
       "      <th>3</th>\n",
       "      <td>CO</td>\n",
       "      <td>162</td>\n",
       "      <td>0</td>\n",
       "    </tr>\n",
       "    <tr>\n",
       "      <th>4</th>\n",
       "      <td>CO</td>\n",
       "      <td>167</td>\n",
       "      <td>0</td>\n",
       "    </tr>\n",
       "  </tbody>\n",
       "</table>\n",
       "</div>"
      ],
      "text/plain": [
       "  Airline  Length  Delay\n",
       "0      CO     205      1\n",
       "1      CO     181      1\n",
       "2      CO     201      1\n",
       "3      CO     162      0\n",
       "4      CO     167      0"
      ]
     },
     "execution_count": 109,
     "metadata": {},
     "output_type": "execute_result"
    }
   ],
   "source": [
    "duration_data.head()"
   ]
  },
  {
   "cell_type": "code",
   "execution_count": 110,
   "id": "780aad6b",
   "metadata": {},
   "outputs": [],
   "source": [
    "duration_data['duration'] = pd.cut(duration_data.Length, 3, labels = ['short', 'medium', 'long'])\n"
   ]
  },
  {
   "cell_type": "code",
   "execution_count": 111,
   "id": "abd4082f",
   "metadata": {},
   "outputs": [
    {
     "data": {
      "text/html": [
       "<div>\n",
       "<style scoped>\n",
       "    .dataframe tbody tr th:only-of-type {\n",
       "        vertical-align: middle;\n",
       "    }\n",
       "\n",
       "    .dataframe tbody tr th {\n",
       "        vertical-align: top;\n",
       "    }\n",
       "\n",
       "    .dataframe thead th {\n",
       "        text-align: right;\n",
       "    }\n",
       "</style>\n",
       "<table border=\"1\" class=\"dataframe\">\n",
       "  <thead>\n",
       "    <tr style=\"text-align: right;\">\n",
       "      <th></th>\n",
       "      <th>Airline</th>\n",
       "      <th>Length</th>\n",
       "      <th>Delay</th>\n",
       "      <th>duration</th>\n",
       "    </tr>\n",
       "  </thead>\n",
       "  <tbody>\n",
       "    <tr>\n",
       "      <th>0</th>\n",
       "      <td>CO</td>\n",
       "      <td>205</td>\n",
       "      <td>1</td>\n",
       "      <td>short</td>\n",
       "    </tr>\n",
       "    <tr>\n",
       "      <th>1</th>\n",
       "      <td>CO</td>\n",
       "      <td>181</td>\n",
       "      <td>1</td>\n",
       "      <td>short</td>\n",
       "    </tr>\n",
       "    <tr>\n",
       "      <th>2</th>\n",
       "      <td>CO</td>\n",
       "      <td>201</td>\n",
       "      <td>1</td>\n",
       "      <td>short</td>\n",
       "    </tr>\n",
       "    <tr>\n",
       "      <th>3</th>\n",
       "      <td>CO</td>\n",
       "      <td>162</td>\n",
       "      <td>0</td>\n",
       "      <td>short</td>\n",
       "    </tr>\n",
       "    <tr>\n",
       "      <th>4</th>\n",
       "      <td>CO</td>\n",
       "      <td>167</td>\n",
       "      <td>0</td>\n",
       "      <td>short</td>\n",
       "    </tr>\n",
       "  </tbody>\n",
       "</table>\n",
       "</div>"
      ],
      "text/plain": [
       "  Airline  Length  Delay duration\n",
       "0      CO     205      1    short\n",
       "1      CO     181      1    short\n",
       "2      CO     201      1    short\n",
       "3      CO     162      0    short\n",
       "4      CO     167      0    short"
      ]
     },
     "execution_count": 111,
     "metadata": {},
     "output_type": "execute_result"
    }
   ],
   "source": [
    "duration_data.head()"
   ]
  },
  {
   "cell_type": "code",
   "execution_count": 112,
   "id": "0d8a6f30-aa12-4571-898e-e2550b82ced5",
   "metadata": {
    "colab": {
     "base_uri": "https://localhost:8080/"
    },
    "id": "0d8a6f30-aa12-4571-898e-e2550b82ced5",
    "outputId": "6481093a-6365-4379-8924-4ea61a95ccb0",
    "tags": []
   },
   "outputs": [
    {
     "data": {
      "text/html": [
       "<div>\n",
       "<style scoped>\n",
       "    .dataframe tbody tr th:only-of-type {\n",
       "        vertical-align: middle;\n",
       "    }\n",
       "\n",
       "    .dataframe tbody tr th {\n",
       "        vertical-align: top;\n",
       "    }\n",
       "\n",
       "    .dataframe thead th {\n",
       "        text-align: right;\n",
       "    }\n",
       "</style>\n",
       "<table border=\"1\" class=\"dataframe\">\n",
       "  <thead>\n",
       "    <tr style=\"text-align: right;\">\n",
       "      <th>duration</th>\n",
       "      <th>Airline</th>\n",
       "      <th>short</th>\n",
       "      <th>medium</th>\n",
       "      <th>long</th>\n",
       "    </tr>\n",
       "  </thead>\n",
       "  <tbody>\n",
       "    <tr>\n",
       "      <th>0</th>\n",
       "      <td>9E</td>\n",
       "      <td>39.77</td>\n",
       "      <td>0.00</td>\n",
       "      <td>0.00</td>\n",
       "    </tr>\n",
       "    <tr>\n",
       "      <th>1</th>\n",
       "      <td>AA</td>\n",
       "      <td>37.62</td>\n",
       "      <td>43.25</td>\n",
       "      <td>60.40</td>\n",
       "    </tr>\n",
       "    <tr>\n",
       "      <th>2</th>\n",
       "      <td>AS</td>\n",
       "      <td>32.58</td>\n",
       "      <td>38.17</td>\n",
       "      <td>0.00</td>\n",
       "    </tr>\n",
       "    <tr>\n",
       "      <th>3</th>\n",
       "      <td>B6</td>\n",
       "      <td>45.70</td>\n",
       "      <td>51.05</td>\n",
       "      <td>0.00</td>\n",
       "    </tr>\n",
       "    <tr>\n",
       "      <th>4</th>\n",
       "      <td>CO</td>\n",
       "      <td>52.88</td>\n",
       "      <td>64.96</td>\n",
       "      <td>66.87</td>\n",
       "    </tr>\n",
       "    <tr>\n",
       "      <th>5</th>\n",
       "      <td>DL</td>\n",
       "      <td>43.88</td>\n",
       "      <td>50.24</td>\n",
       "      <td>48.62</td>\n",
       "    </tr>\n",
       "    <tr>\n",
       "      <th>6</th>\n",
       "      <td>EV</td>\n",
       "      <td>40.22</td>\n",
       "      <td>50.00</td>\n",
       "      <td>0.00</td>\n",
       "    </tr>\n",
       "    <tr>\n",
       "      <th>7</th>\n",
       "      <td>F9</td>\n",
       "      <td>45.03</td>\n",
       "      <td>43.56</td>\n",
       "      <td>0.00</td>\n",
       "    </tr>\n",
       "    <tr>\n",
       "      <th>8</th>\n",
       "      <td>HA</td>\n",
       "      <td>30.16</td>\n",
       "      <td>40.48</td>\n",
       "      <td>0.00</td>\n",
       "    </tr>\n",
       "    <tr>\n",
       "      <th>9</th>\n",
       "      <td>MQ</td>\n",
       "      <td>34.82</td>\n",
       "      <td>27.42</td>\n",
       "      <td>0.00</td>\n",
       "    </tr>\n",
       "    <tr>\n",
       "      <th>10</th>\n",
       "      <td>OH</td>\n",
       "      <td>27.61</td>\n",
       "      <td>39.20</td>\n",
       "      <td>0.00</td>\n",
       "    </tr>\n",
       "    <tr>\n",
       "      <th>11</th>\n",
       "      <td>OO</td>\n",
       "      <td>45.25</td>\n",
       "      <td>53.03</td>\n",
       "      <td>0.00</td>\n",
       "    </tr>\n",
       "    <tr>\n",
       "      <th>12</th>\n",
       "      <td>UA</td>\n",
       "      <td>29.92</td>\n",
       "      <td>37.10</td>\n",
       "      <td>39.26</td>\n",
       "    </tr>\n",
       "    <tr>\n",
       "      <th>13</th>\n",
       "      <td>US</td>\n",
       "      <td>31.96</td>\n",
       "      <td>40.72</td>\n",
       "      <td>0.00</td>\n",
       "    </tr>\n",
       "    <tr>\n",
       "      <th>14</th>\n",
       "      <td>WN</td>\n",
       "      <td>69.12</td>\n",
       "      <td>77.61</td>\n",
       "      <td>0.00</td>\n",
       "    </tr>\n",
       "    <tr>\n",
       "      <th>15</th>\n",
       "      <td>XE</td>\n",
       "      <td>37.87</td>\n",
       "      <td>53.70</td>\n",
       "      <td>0.00</td>\n",
       "    </tr>\n",
       "    <tr>\n",
       "      <th>16</th>\n",
       "      <td>YV</td>\n",
       "      <td>24.28</td>\n",
       "      <td>25.86</td>\n",
       "      <td>0.00</td>\n",
       "    </tr>\n",
       "  </tbody>\n",
       "</table>\n",
       "</div>"
      ],
      "text/plain": [
       "duration Airline  short  medium   long\n",
       "0             9E  39.77    0.00   0.00\n",
       "1             AA  37.62   43.25  60.40\n",
       "2             AS  32.58   38.17   0.00\n",
       "3             B6  45.70   51.05   0.00\n",
       "4             CO  52.88   64.96  66.87\n",
       "5             DL  43.88   50.24  48.62\n",
       "6             EV  40.22   50.00   0.00\n",
       "7             F9  45.03   43.56   0.00\n",
       "8             HA  30.16   40.48   0.00\n",
       "9             MQ  34.82   27.42   0.00\n",
       "10            OH  27.61   39.20   0.00\n",
       "11            OO  45.25   53.03   0.00\n",
       "12            UA  29.92   37.10  39.26\n",
       "13            US  31.96   40.72   0.00\n",
       "14            WN  69.12   77.61   0.00\n",
       "15            XE  37.87   53.70   0.00\n",
       "16            YV  24.28   25.86   0.00"
      ]
     },
     "execution_count": 112,
     "metadata": {},
     "output_type": "execute_result"
    }
   ],
   "source": [
    "duration_data_grp = duration_data.groupby(['Airline','duration'])['Delay'].agg(\n",
    "    percent_Delay).reset_index().pivot(index = 'Airline', \n",
    "                                       columns = 'duration').fillna(0)['Delay']\n",
    "duration_data_grp.columns = duration_data_grp.columns.astype(str)\n",
    "duration_data_grp.reset_index()"
   ]
  },
  {
   "cell_type": "code",
   "execution_count": 113,
   "id": "aDlu7xEAvtjR",
   "metadata": {
    "colab": {
     "base_uri": "https://localhost:8080/"
    },
    "id": "aDlu7xEAvtjR",
    "outputId": "7ca8cea2-3643-4c85-b7de-e32c9837f26c"
   },
   "outputs": [
    {
     "data": {
      "text/plain": [
       "RangeIndex(start=0, stop=518556, step=1)"
      ]
     },
     "execution_count": 113,
     "metadata": {},
     "output_type": "execute_result"
    }
   ],
   "source": [
    "duration_data.index"
   ]
  },
  {
   "cell_type": "code",
   "execution_count": 114,
   "id": "36807126-133f-45b5-8e17-01597fec3ec1",
   "metadata": {
    "id": "36807126-133f-45b5-8e17-01597fec3ec1",
    "tags": []
   },
   "outputs": [],
   "source": [
    "# get names of airlines also"
   ]
  },
  {
   "cell_type": "code",
   "execution_count": 115,
   "id": "de3429f0-bd97-464a-8597-6dae8eb99258",
   "metadata": {
    "colab": {
     "base_uri": "https://localhost:8080/",
     "height": 424
    },
    "id": "de3429f0-bd97-464a-8597-6dae8eb99258",
    "outputId": "9a0abba7-d12f-4b8f-aef8-e6ad4ae37d20",
    "tags": []
   },
   "outputs": [
    {
     "data": {
      "text/html": [
       "<div>\n",
       "<style scoped>\n",
       "    .dataframe tbody tr th:only-of-type {\n",
       "        vertical-align: middle;\n",
       "    }\n",
       "\n",
       "    .dataframe tbody tr th {\n",
       "        vertical-align: top;\n",
       "    }\n",
       "\n",
       "    .dataframe thead th {\n",
       "        text-align: right;\n",
       "    }\n",
       "</style>\n",
       "<table border=\"1\" class=\"dataframe\">\n",
       "  <thead>\n",
       "    <tr style=\"text-align: right;\">\n",
       "      <th></th>\n",
       "      <th>Airlines ID</th>\n",
       "      <th>Description</th>\n",
       "    </tr>\n",
       "  </thead>\n",
       "  <tbody>\n",
       "    <tr>\n",
       "      <th>0</th>\n",
       "      <td>WN</td>\n",
       "      <td>Southwest</td>\n",
       "    </tr>\n",
       "    <tr>\n",
       "      <th>1</th>\n",
       "      <td>DL</td>\n",
       "      <td>Delta</td>\n",
       "    </tr>\n",
       "    <tr>\n",
       "      <th>2</th>\n",
       "      <td>OO</td>\n",
       "      <td>Skywest</td>\n",
       "    </tr>\n",
       "    <tr>\n",
       "      <th>3</th>\n",
       "      <td>AA</td>\n",
       "      <td>American Airlines</td>\n",
       "    </tr>\n",
       "    <tr>\n",
       "      <th>4</th>\n",
       "      <td>MQ</td>\n",
       "      <td>Envoy</td>\n",
       "    </tr>\n",
       "    <tr>\n",
       "      <th>...</th>\n",
       "      <td>...</td>\n",
       "      <td>...</td>\n",
       "    </tr>\n",
       "    <tr>\n",
       "      <th>683</th>\n",
       "      <td>XNA</td>\n",
       "      <td>Nambour Hospital Helipad</td>\n",
       "    </tr>\n",
       "    <tr>\n",
       "      <th>684</th>\n",
       "      <td>YAK</td>\n",
       "      <td>Aussenkehr Airport</td>\n",
       "    </tr>\n",
       "    <tr>\n",
       "      <th>685</th>\n",
       "      <td>YAK</td>\n",
       "      <td>Congo Town Airport</td>\n",
       "    </tr>\n",
       "    <tr>\n",
       "      <th>686</th>\n",
       "      <td>YAK</td>\n",
       "      <td>Yalkulka Airport</td>\n",
       "    </tr>\n",
       "    <tr>\n",
       "      <th>687</th>\n",
       "      <td>YUM</td>\n",
       "      <td>Yuinmery Airport</td>\n",
       "    </tr>\n",
       "  </tbody>\n",
       "</table>\n",
       "<p>688 rows × 2 columns</p>\n",
       "</div>"
      ],
      "text/plain": [
       "    Airlines ID               Description\n",
       "0            WN                 Southwest\n",
       "1            DL                     Delta\n",
       "2            OO                   Skywest\n",
       "3            AA         American Airlines\n",
       "4            MQ                     Envoy\n",
       "..          ...                       ...\n",
       "683         XNA  Nambour Hospital Helipad\n",
       "684         YAK        Aussenkehr Airport\n",
       "685         YAK        Congo Town Airport\n",
       "686         YAK          Yalkulka Airport\n",
       "687         YUM          Yuinmery Airport\n",
       "\n",
       "[688 rows x 2 columns]"
      ]
     },
     "execution_count": 115,
     "metadata": {},
     "output_type": "execute_result"
    }
   ],
   "source": [
    "airline_dict"
   ]
  },
  {
   "cell_type": "code",
   "execution_count": 116,
   "id": "8ac45401-204d-48eb-ba96-b08930c2b538",
   "metadata": {
    "colab": {
     "base_uri": "https://localhost:8080/",
     "height": 582
    },
    "id": "8ac45401-204d-48eb-ba96-b08930c2b538",
    "outputId": "49db81b5-cdb8-4b36-d45c-70890415fc68",
    "tags": []
   },
   "outputs": [
    {
     "data": {
      "text/html": [
       "<div>\n",
       "<style scoped>\n",
       "    .dataframe tbody tr th:only-of-type {\n",
       "        vertical-align: middle;\n",
       "    }\n",
       "\n",
       "    .dataframe tbody tr th {\n",
       "        vertical-align: top;\n",
       "    }\n",
       "\n",
       "    .dataframe thead th {\n",
       "        text-align: right;\n",
       "    }\n",
       "</style>\n",
       "<table border=\"1\" class=\"dataframe\">\n",
       "  <thead>\n",
       "    <tr style=\"text-align: right;\">\n",
       "      <th></th>\n",
       "      <th>short</th>\n",
       "      <th>medium</th>\n",
       "      <th>long</th>\n",
       "      <th>Airlines ID</th>\n",
       "      <th>Description</th>\n",
       "    </tr>\n",
       "  </thead>\n",
       "  <tbody>\n",
       "    <tr>\n",
       "      <th>0</th>\n",
       "      <td>39.77</td>\n",
       "      <td>0.00</td>\n",
       "      <td>0.00</td>\n",
       "      <td>9E</td>\n",
       "      <td>Endeavor</td>\n",
       "    </tr>\n",
       "    <tr>\n",
       "      <th>1</th>\n",
       "      <td>37.62</td>\n",
       "      <td>43.25</td>\n",
       "      <td>60.40</td>\n",
       "      <td>AA</td>\n",
       "      <td>American Airlines</td>\n",
       "    </tr>\n",
       "    <tr>\n",
       "      <th>2</th>\n",
       "      <td>32.58</td>\n",
       "      <td>38.17</td>\n",
       "      <td>0.00</td>\n",
       "      <td>AS</td>\n",
       "      <td>Alaska</td>\n",
       "    </tr>\n",
       "    <tr>\n",
       "      <th>3</th>\n",
       "      <td>45.70</td>\n",
       "      <td>51.05</td>\n",
       "      <td>0.00</td>\n",
       "      <td>B6</td>\n",
       "      <td>Jetblue</td>\n",
       "    </tr>\n",
       "    <tr>\n",
       "      <th>4</th>\n",
       "      <td>52.88</td>\n",
       "      <td>64.96</td>\n",
       "      <td>66.87</td>\n",
       "      <td>CO</td>\n",
       "      <td>United Airlines (initially CO)</td>\n",
       "    </tr>\n",
       "    <tr>\n",
       "      <th>5</th>\n",
       "      <td>43.88</td>\n",
       "      <td>50.24</td>\n",
       "      <td>48.62</td>\n",
       "      <td>DL</td>\n",
       "      <td>Delta</td>\n",
       "    </tr>\n",
       "    <tr>\n",
       "      <th>6</th>\n",
       "      <td>40.22</td>\n",
       "      <td>50.00</td>\n",
       "      <td>0.00</td>\n",
       "      <td>EV</td>\n",
       "      <td>ExpressJet</td>\n",
       "    </tr>\n",
       "    <tr>\n",
       "      <th>7</th>\n",
       "      <td>45.03</td>\n",
       "      <td>43.56</td>\n",
       "      <td>0.00</td>\n",
       "      <td>F9</td>\n",
       "      <td>Frontier</td>\n",
       "    </tr>\n",
       "    <tr>\n",
       "      <th>8</th>\n",
       "      <td>30.16</td>\n",
       "      <td>40.48</td>\n",
       "      <td>0.00</td>\n",
       "      <td>HA</td>\n",
       "      <td>Hawaiian</td>\n",
       "    </tr>\n",
       "    <tr>\n",
       "      <th>9</th>\n",
       "      <td>34.82</td>\n",
       "      <td>27.42</td>\n",
       "      <td>0.00</td>\n",
       "      <td>MQ</td>\n",
       "      <td>Envoy</td>\n",
       "    </tr>\n",
       "    <tr>\n",
       "      <th>10</th>\n",
       "      <td>27.61</td>\n",
       "      <td>39.20</td>\n",
       "      <td>0.00</td>\n",
       "      <td>OH</td>\n",
       "      <td>PSA</td>\n",
       "    </tr>\n",
       "    <tr>\n",
       "      <th>11</th>\n",
       "      <td>45.25</td>\n",
       "      <td>53.03</td>\n",
       "      <td>0.00</td>\n",
       "      <td>OO</td>\n",
       "      <td>Skywest</td>\n",
       "    </tr>\n",
       "    <tr>\n",
       "      <th>12</th>\n",
       "      <td>29.92</td>\n",
       "      <td>37.10</td>\n",
       "      <td>39.26</td>\n",
       "      <td>UA</td>\n",
       "      <td>United Airlines</td>\n",
       "    </tr>\n",
       "    <tr>\n",
       "      <th>13</th>\n",
       "      <td>31.96</td>\n",
       "      <td>40.72</td>\n",
       "      <td>0.00</td>\n",
       "      <td>US</td>\n",
       "      <td>PSA (initially US Airway Express)</td>\n",
       "    </tr>\n",
       "    <tr>\n",
       "      <th>14</th>\n",
       "      <td>69.12</td>\n",
       "      <td>77.61</td>\n",
       "      <td>0.00</td>\n",
       "      <td>WN</td>\n",
       "      <td>Southwest</td>\n",
       "    </tr>\n",
       "    <tr>\n",
       "      <th>15</th>\n",
       "      <td>37.87</td>\n",
       "      <td>53.70</td>\n",
       "      <td>0.00</td>\n",
       "      <td>XE</td>\n",
       "      <td>JSX</td>\n",
       "    </tr>\n",
       "    <tr>\n",
       "      <th>16</th>\n",
       "      <td>24.28</td>\n",
       "      <td>25.86</td>\n",
       "      <td>0.00</td>\n",
       "      <td>YV</td>\n",
       "      <td>Mesa</td>\n",
       "    </tr>\n",
       "  </tbody>\n",
       "</table>\n",
       "</div>"
      ],
      "text/plain": [
       "    short  medium   long Airlines ID                        Description\n",
       "0   39.77    0.00   0.00          9E                           Endeavor\n",
       "1   37.62   43.25  60.40          AA                  American Airlines\n",
       "2   32.58   38.17   0.00          AS                             Alaska\n",
       "3   45.70   51.05   0.00          B6                            Jetblue\n",
       "4   52.88   64.96  66.87          CO     United Airlines (initially CO)\n",
       "5   43.88   50.24  48.62          DL                              Delta\n",
       "6   40.22   50.00   0.00          EV                         ExpressJet\n",
       "7   45.03   43.56   0.00          F9                           Frontier\n",
       "8   30.16   40.48   0.00          HA                           Hawaiian\n",
       "9   34.82   27.42   0.00          MQ                              Envoy\n",
       "10  27.61   39.20   0.00          OH                                PSA\n",
       "11  45.25   53.03   0.00          OO                            Skywest\n",
       "12  29.92   37.10  39.26          UA                    United Airlines\n",
       "13  31.96   40.72   0.00          US  PSA (initially US Airway Express)\n",
       "14  69.12   77.61   0.00          WN                          Southwest\n",
       "15  37.87   53.70   0.00          XE                                JSX\n",
       "16  24.28   25.86   0.00          YV                               Mesa"
      ]
     },
     "execution_count": 116,
     "metadata": {},
     "output_type": "execute_result"
    }
   ],
   "source": [
    "airline_dict.Description = airline_dict.Description.str.strip()\n",
    "duration_data_grp = pd.merge(duration_data_grp,airline_dict[['Airlines ID', 'Description']],\n",
    "         left_on = 'Airline', right_on = 'Airlines ID', \n",
    "         how = 'left')\n",
    "duration_data_grp"
   ]
  },
  {
   "cell_type": "code",
   "execution_count": 117,
   "id": "be29404e-13b0-456c-aceb-77e90a6b80c1",
   "metadata": {
    "colab": {
     "base_uri": "https://localhost:8080/"
    },
    "id": "be29404e-13b0-456c-aceb-77e90a6b80c1",
    "outputId": "dd8e4885-bf35-402b-c6f0-16a98e8b61d5"
   },
   "outputs": [
    {
     "data": {
      "text/plain": [
       "17"
      ]
     },
     "execution_count": 117,
     "metadata": {},
     "output_type": "execute_result"
    }
   ],
   "source": [
    "combined_data_pax.Airline.nunique()"
   ]
  },
  {
   "cell_type": "code",
   "execution_count": 118,
   "id": "036d93ef-2243-4c9f-b0eb-d695a1f9ebbb",
   "metadata": {
    "colab": {
     "base_uri": "https://localhost:8080/"
    },
    "id": "036d93ef-2243-4c9f-b0eb-d695a1f9ebbb",
    "outputId": "e9cd4b28-03e7-4209-cb70-df8eeef50ffb",
    "tags": []
   },
   "outputs": [
    {
     "name": "stdout",
     "output_type": "stream",
     "text": [
      "Airlines with no delays for long flights :\n",
      " Endeavor, Alaska, Jetblue, ExpressJet, Frontier, Hawaiian, Envoy, PSA, Skywest, PSA (initially US Airway Express), Southwest, JSX, Mesa\n",
      "\n",
      "Airlines with no delays for medium flights :\n",
      " Endeavor\n",
      "\n",
      "Airlines with no delays for short flights :\n",
      " Mesa\n"
     ]
    }
   ],
   "source": [
    "long = duration_data_grp[duration_data_grp.long == duration_data_grp.long.min()].Description.values.tolist()\n",
    "print('Airlines with no delays for long flights :\\n',', '.join(long))\n",
    "medium = duration_data_grp[duration_data_grp.medium == duration_data_grp.medium.min()].Description.values.tolist()\n",
    "print('\\nAirlines with no delays for medium flights :\\n', ', '.join(medium))\n",
    "short = duration_data_grp[duration_data_grp.short == duration_data_grp.short.min()].Description.values.tolist()\n",
    "print('\\nAirlines with no delays for short flights :\\n',  ', '.join(short)     )"
   ]
  },
  {
   "cell_type": "markdown",
   "id": "f9998747-8d44-4875-8b4c-31983a21637d",
   "metadata": {
    "id": "f9998747-8d44-4875-8b4c-31983a21637d"
   },
   "source": [
    "## \n",
    "    IV.\tDo you observe any pattern in the time of departure of flights of long duration"
   ]
  },
  {
   "cell_type": "code",
   "execution_count": 107,
   "id": "09304aa9-1861-478b-af12-009373871d14",
   "metadata": {
    "id": "09304aa9-1861-478b-af12-009373871d14",
    "tags": []
   },
   "outputs": [],
   "source": [
    "combined_data_pax['duration'] = pd.cut(combined_data_pax.Length, 3, labels = ['short', 'medium', 'long'])"
   ]
  },
  {
   "cell_type": "code",
   "execution_count": 108,
   "id": "81967353-6b82-440d-ba57-b4d65c5d3650",
   "metadata": {
    "colab": {
     "base_uri": "https://localhost:8080/",
     "height": 176
    },
    "id": "81967353-6b82-440d-ba57-b4d65c5d3650",
    "outputId": "29d6d87c-01ca-4275-f50e-81ae5aff2f32",
    "tags": []
   },
   "outputs": [
    {
     "data": {
      "text/html": [
       "<div>\n",
       "<style scoped>\n",
       "    .dataframe tbody tr th:only-of-type {\n",
       "        vertical-align: middle;\n",
       "    }\n",
       "\n",
       "    .dataframe tbody tr th {\n",
       "        vertical-align: top;\n",
       "    }\n",
       "\n",
       "    .dataframe thead th {\n",
       "        text-align: right;\n",
       "    }\n",
       "</style>\n",
       "<table border=\"1\" class=\"dataframe\">\n",
       "  <thead>\n",
       "    <tr style=\"text-align: right;\">\n",
       "      <th></th>\n",
       "      <th>id</th>\n",
       "      <th>Airline</th>\n",
       "      <th>Flight</th>\n",
       "      <th>AirportFrom</th>\n",
       "      <th>AirportTo</th>\n",
       "      <th>DayOfWeek</th>\n",
       "      <th>Time</th>\n",
       "      <th>Length</th>\n",
       "      <th>Delay</th>\n",
       "      <th>type_source_airport</th>\n",
       "      <th>...</th>\n",
       "      <th>type_dest_airport</th>\n",
       "      <th>elevation_ft_dest_airport</th>\n",
       "      <th>runway_count_dest_airport</th>\n",
       "      <th>iata_code_x</th>\n",
       "      <th>data_2019_source_airport</th>\n",
       "      <th>iata_code_y</th>\n",
       "      <th>data_2019_x</th>\n",
       "      <th>data_2019_y</th>\n",
       "      <th>Founded</th>\n",
       "      <th>duration</th>\n",
       "    </tr>\n",
       "  </thead>\n",
       "  <tbody>\n",
       "    <tr>\n",
       "      <th>0</th>\n",
       "      <td>1</td>\n",
       "      <td>CO</td>\n",
       "      <td>269</td>\n",
       "      <td>SFO</td>\n",
       "      <td>IAH</td>\n",
       "      <td>3</td>\n",
       "      <td>15</td>\n",
       "      <td>205</td>\n",
       "      <td>1</td>\n",
       "      <td>large_airport</td>\n",
       "      <td>...</td>\n",
       "      <td>large_airport</td>\n",
       "      <td>97.0</td>\n",
       "      <td>5.0</td>\n",
       "      <td>SFO</td>\n",
       "      <td>27779230.0</td>\n",
       "      <td>IAH</td>\n",
       "      <td>21905309.0</td>\n",
       "      <td>21905309.0</td>\n",
       "      <td>1934.0</td>\n",
       "      <td>short</td>\n",
       "    </tr>\n",
       "    <tr>\n",
       "      <th>1</th>\n",
       "      <td>6</td>\n",
       "      <td>CO</td>\n",
       "      <td>1094</td>\n",
       "      <td>LAX</td>\n",
       "      <td>IAH</td>\n",
       "      <td>3</td>\n",
       "      <td>30</td>\n",
       "      <td>181</td>\n",
       "      <td>1</td>\n",
       "      <td>large_airport</td>\n",
       "      <td>...</td>\n",
       "      <td>large_airport</td>\n",
       "      <td>97.0</td>\n",
       "      <td>5.0</td>\n",
       "      <td>LAX</td>\n",
       "      <td>42939104.0</td>\n",
       "      <td>IAH</td>\n",
       "      <td>21905309.0</td>\n",
       "      <td>21905309.0</td>\n",
       "      <td>1934.0</td>\n",
       "      <td>short</td>\n",
       "    </tr>\n",
       "  </tbody>\n",
       "</table>\n",
       "<p>2 rows × 22 columns</p>\n",
       "</div>"
      ],
      "text/plain": [
       "   id Airline  Flight AirportFrom AirportTo  DayOfWeek  Time  Length  Delay  \\\n",
       "0   1      CO     269         SFO       IAH          3    15     205      1   \n",
       "1   6      CO    1094         LAX       IAH          3    30     181      1   \n",
       "\n",
       "  type_source_airport  ...  type_dest_airport  elevation_ft_dest_airport  \\\n",
       "0       large_airport  ...      large_airport                       97.0   \n",
       "1       large_airport  ...      large_airport                       97.0   \n",
       "\n",
       "  runway_count_dest_airport  iata_code_x  data_2019_source_airport  \\\n",
       "0                       5.0          SFO                27779230.0   \n",
       "1                       5.0          LAX                42939104.0   \n",
       "\n",
       "  iata_code_y  data_2019_x data_2019_y  Founded  duration  \n",
       "0         IAH   21905309.0  21905309.0   1934.0     short  \n",
       "1         IAH   21905309.0  21905309.0   1934.0     short  \n",
       "\n",
       "[2 rows x 22 columns]"
      ]
     },
     "execution_count": 108,
     "metadata": {},
     "output_type": "execute_result"
    }
   ],
   "source": [
    "combined_data_pax.head(2)"
   ]
  },
  {
   "cell_type": "code",
   "execution_count": 109,
   "id": "5e6ca4ee-2e23-4151-bf01-08ccaca4ea1d",
   "metadata": {
    "colab": {
     "base_uri": "https://localhost:8080/"
    },
    "id": "5e6ca4ee-2e23-4151-bf01-08ccaca4ea1d",
    "outputId": "26f68007-9f15-44aa-a2cd-153bd6c7bb96",
    "tags": []
   },
   "outputs": [
    {
     "data": {
      "text/plain": [
       "Time\n",
       "10      0\n",
       "15      0\n",
       "20      0\n",
       "21      0\n",
       "25      0\n",
       "       ..\n",
       "1428    0\n",
       "1430    0\n",
       "1431    0\n",
       "1435    0\n",
       "1439    0\n",
       "Name: long, Length: 1131, dtype: int64"
      ]
     },
     "execution_count": 109,
     "metadata": {},
     "output_type": "execute_result"
    }
   ],
   "source": [
    "pd.crosstab(combined_data_pax.Time, combined_data_pax.duration)['long']"
   ]
  },
  {
   "cell_type": "code",
   "execution_count": 110,
   "id": "4bc76bd1-b628-440d-96e6-ca5584291e73",
   "metadata": {
    "id": "4bc76bd1-b628-440d-96e6-ca5584291e73",
    "tags": []
   },
   "outputs": [],
   "source": [
    "y = pd.crosstab(combined_data_pax.Time, combined_data_pax.duration)['long'].index\n",
    "x = pd.crosstab(combined_data_pax.Time, combined_data_pax.duration)['long'].values"
   ]
  },
  {
   "cell_type": "code",
   "execution_count": 111,
   "id": "81e2c6ce-0c68-49e2-be8e-38116a25f856",
   "metadata": {
    "id": "81e2c6ce-0c68-49e2-be8e-38116a25f856",
    "tags": []
   },
   "outputs": [],
   "source": [
    "filter_data = combined_data_pax.loc[combined_data_pax.duration == 'long', ['Time', 'duration']]"
   ]
  },
  {
   "cell_type": "code",
   "execution_count": 112,
   "id": "df82d84b-ce84-4148-b7c0-98d8d981bf07",
   "metadata": {
    "colab": {
     "base_uri": "https://localhost:8080/"
    },
    "id": "df82d84b-ce84-4148-b7c0-98d8d981bf07",
    "outputId": "bc1ab9b3-75a9-4a06-e56b-10015c35b048",
    "tags": []
   },
   "outputs": [
    {
     "data": {
      "text/plain": [
       "count     559.000000\n",
       "mean      840.635063\n",
       "std       221.020092\n",
       "min       540.000000\n",
       "25%       670.000000\n",
       "50%       717.000000\n",
       "75%      1045.000000\n",
       "max      1310.000000\n",
       "Name: Time, dtype: float64"
      ]
     },
     "execution_count": 112,
     "metadata": {},
     "output_type": "execute_result"
    }
   ],
   "source": [
    "filter_data.Time.describe()"
   ]
  },
  {
   "cell_type": "code",
   "execution_count": 113,
   "id": "bf981db6-3369-4438-87e3-e4e6d1c764a6",
   "metadata": {
    "colab": {
     "base_uri": "https://localhost:8080/",
     "height": 265
    },
    "id": "bf981db6-3369-4438-87e3-e4e6d1c764a6",
    "outputId": "7e677e1a-7664-4a3a-bcae-2ae234b673c7",
    "tags": []
   },
   "outputs": [
    {
     "data": {
      "image/png": "[encoded data removed]",
      "text/plain": [
       "<Figure size 640x480 with 1 Axes>"
      ]
     },
     "metadata": {},
     "output_type": "display_data"
    }
   ],
   "source": [
    "plt.hist(filter_data.Time, bins = 12)\n",
    "plt.show()"
   ]
  },
  {
   "cell_type": "markdown",
   "id": "1475a843-f690-4380-a076-3ecd93027e45",
   "metadata": {
    "id": "1475a843-f690-4380-a076-3ecd93027e45",
    "tags": []
   },
   "source": [
    "## 3.\tHow Large Hubs compare to Medium hubs in terms of count of delayed flights. Use appropriate visualization to represent your findings."
   ]
  },
  {
   "cell_type": "code",
   "execution_count": 93,
   "id": "36627640-f1d4-4083-adae-6c2c5160179c",
   "metadata": {
    "colab": {
     "base_uri": "https://localhost:8080/",
     "height": 270
    },
    "id": "36627640-f1d4-4083-adae-6c2c5160179c",
    "outputId": "1ffcafe2-b57e-46e9-a4f3-4d5974059552",
    "tags": []
   },
   "outputs": [
    {
     "data": {
      "text/html": [
       "<div>\n",
       "<style scoped>\n",
       "    .dataframe tbody tr th:only-of-type {\n",
       "        vertical-align: middle;\n",
       "    }\n",
       "\n",
       "    .dataframe tbody tr th {\n",
       "        vertical-align: top;\n",
       "    }\n",
       "\n",
       "    .dataframe thead th {\n",
       "        text-align: right;\n",
       "    }\n",
       "</style>\n",
       "<table border=\"1\" class=\"dataframe\">\n",
       "  <thead>\n",
       "    <tr style=\"text-align: right;\">\n",
       "      <th></th>\n",
       "      <th>id</th>\n",
       "      <th>Airline</th>\n",
       "      <th>Flight</th>\n",
       "      <th>AirportFrom</th>\n",
       "      <th>AirportTo</th>\n",
       "      <th>DayOfWeek</th>\n",
       "      <th>Time</th>\n",
       "      <th>Length</th>\n",
       "      <th>Delay</th>\n",
       "      <th>type_source_airport</th>\n",
       "      <th>...</th>\n",
       "      <th>runway_count_source_airport</th>\n",
       "      <th>type_dest_airport</th>\n",
       "      <th>elevation_ft_dest_airport</th>\n",
       "      <th>runway_count_dest_airport</th>\n",
       "      <th>iata_code_x</th>\n",
       "      <th>data_2019_source_airport</th>\n",
       "      <th>iata_code_y</th>\n",
       "      <th>data_2019_dest_airport</th>\n",
       "      <th>Founded</th>\n",
       "      <th>duration</th>\n",
       "    </tr>\n",
       "  </thead>\n",
       "  <tbody>\n",
       "    <tr>\n",
       "      <th>0</th>\n",
       "      <td>1</td>\n",
       "      <td>CO</td>\n",
       "      <td>269</td>\n",
       "      <td>SFO</td>\n",
       "      <td>IAH</td>\n",
       "      <td>3</td>\n",
       "      <td>15</td>\n",
       "      <td>205</td>\n",
       "      <td>1</td>\n",
       "      <td>large_airport</td>\n",
       "      <td>...</td>\n",
       "      <td>4.0</td>\n",
       "      <td>large_airport</td>\n",
       "      <td>97.0</td>\n",
       "      <td>5.0</td>\n",
       "      <td>SFO</td>\n",
       "      <td>27779230.0</td>\n",
       "      <td>IAH</td>\n",
       "      <td>21905309.0</td>\n",
       "      <td>1934.0</td>\n",
       "      <td>short</td>\n",
       "    </tr>\n",
       "    <tr>\n",
       "      <th>1</th>\n",
       "      <td>6</td>\n",
       "      <td>CO</td>\n",
       "      <td>1094</td>\n",
       "      <td>LAX</td>\n",
       "      <td>IAH</td>\n",
       "      <td>3</td>\n",
       "      <td>30</td>\n",
       "      <td>181</td>\n",
       "      <td>1</td>\n",
       "      <td>large_airport</td>\n",
       "      <td>...</td>\n",
       "      <td>4.0</td>\n",
       "      <td>large_airport</td>\n",
       "      <td>97.0</td>\n",
       "      <td>5.0</td>\n",
       "      <td>LAX</td>\n",
       "      <td>42939104.0</td>\n",
       "      <td>IAH</td>\n",
       "      <td>21905309.0</td>\n",
       "      <td>1934.0</td>\n",
       "      <td>short</td>\n",
       "    </tr>\n",
       "    <tr>\n",
       "      <th>2</th>\n",
       "      <td>11</td>\n",
       "      <td>CO</td>\n",
       "      <td>223</td>\n",
       "      <td>ANC</td>\n",
       "      <td>SEA</td>\n",
       "      <td>3</td>\n",
       "      <td>49</td>\n",
       "      <td>201</td>\n",
       "      <td>1</td>\n",
       "      <td>large_airport</td>\n",
       "      <td>...</td>\n",
       "      <td>3.0</td>\n",
       "      <td>large_airport</td>\n",
       "      <td>433.0</td>\n",
       "      <td>4.0</td>\n",
       "      <td>ANC</td>\n",
       "      <td>2713843.0</td>\n",
       "      <td>SEA</td>\n",
       "      <td>25001762.0</td>\n",
       "      <td>1934.0</td>\n",
       "      <td>short</td>\n",
       "    </tr>\n",
       "    <tr>\n",
       "      <th>3</th>\n",
       "      <td>18</td>\n",
       "      <td>CO</td>\n",
       "      <td>1496</td>\n",
       "      <td>LAS</td>\n",
       "      <td>IAH</td>\n",
       "      <td>3</td>\n",
       "      <td>60</td>\n",
       "      <td>162</td>\n",
       "      <td>0</td>\n",
       "      <td>large_airport</td>\n",
       "      <td>...</td>\n",
       "      <td>4.0</td>\n",
       "      <td>large_airport</td>\n",
       "      <td>97.0</td>\n",
       "      <td>5.0</td>\n",
       "      <td>LAS</td>\n",
       "      <td>24728361.0</td>\n",
       "      <td>IAH</td>\n",
       "      <td>21905309.0</td>\n",
       "      <td>1934.0</td>\n",
       "      <td>short</td>\n",
       "    </tr>\n",
       "    <tr>\n",
       "      <th>4</th>\n",
       "      <td>20</td>\n",
       "      <td>CO</td>\n",
       "      <td>507</td>\n",
       "      <td>ONT</td>\n",
       "      <td>IAH</td>\n",
       "      <td>3</td>\n",
       "      <td>75</td>\n",
       "      <td>167</td>\n",
       "      <td>0</td>\n",
       "      <td>large_airport</td>\n",
       "      <td>...</td>\n",
       "      <td>2.0</td>\n",
       "      <td>large_airport</td>\n",
       "      <td>97.0</td>\n",
       "      <td>5.0</td>\n",
       "      <td>ONT</td>\n",
       "      <td>2723002.0</td>\n",
       "      <td>IAH</td>\n",
       "      <td>21905309.0</td>\n",
       "      <td>1934.0</td>\n",
       "      <td>short</td>\n",
       "    </tr>\n",
       "  </tbody>\n",
       "</table>\n",
       "<p>5 rows × 21 columns</p>\n",
       "</div>"
      ],
      "text/plain": [
       "   id Airline  Flight AirportFrom AirportTo  DayOfWeek  Time  Length  Delay  \\\n",
       "0   1      CO     269         SFO       IAH          3    15     205      1   \n",
       "1   6      CO    1094         LAX       IAH          3    30     181      1   \n",
       "2  11      CO     223         ANC       SEA          3    49     201      1   \n",
       "3  18      CO    1496         LAS       IAH          3    60     162      0   \n",
       "4  20      CO     507         ONT       IAH          3    75     167      0   \n",
       "\n",
       "  type_source_airport  ...  runway_count_source_airport  type_dest_airport  \\\n",
       "0       large_airport  ...                          4.0      large_airport   \n",
       "1       large_airport  ...                          4.0      large_airport   \n",
       "2       large_airport  ...                          3.0      large_airport   \n",
       "3       large_airport  ...                          4.0      large_airport   \n",
       "4       large_airport  ...                          2.0      large_airport   \n",
       "\n",
       "  elevation_ft_dest_airport  runway_count_dest_airport  iata_code_x  \\\n",
       "0                      97.0                        5.0          SFO   \n",
       "1                      97.0                        5.0          LAX   \n",
       "2                     433.0                        4.0          ANC   \n",
       "3                      97.0                        5.0          LAS   \n",
       "4                      97.0                        5.0          ONT   \n",
       "\n",
       "  data_2019_source_airport  iata_code_y data_2019_dest_airport  Founded  \\\n",
       "0               27779230.0          IAH             21905309.0   1934.0   \n",
       "1               42939104.0          IAH             21905309.0   1934.0   \n",
       "2                2713843.0          SEA             25001762.0   1934.0   \n",
       "3               24728361.0          IAH             21905309.0   1934.0   \n",
       "4                2723002.0          IAH             21905309.0   1934.0   \n",
       "\n",
       "   duration  \n",
       "0     short  \n",
       "1     short  \n",
       "2     short  \n",
       "3     short  \n",
       "4     short  \n",
       "\n",
       "[5 rows x 21 columns]"
      ]
     },
     "execution_count": 93,
     "metadata": {},
     "output_type": "execute_result"
    }
   ],
   "source": [
    "combined_data_pax.head()"
   ]
  },
  {
   "cell_type": "code",
   "execution_count": 94,
   "id": "d2ed667c-156d-4945-8fdd-09df80272bf0",
   "metadata": {
    "colab": {
     "base_uri": "https://localhost:8080/",
     "height": 368
    },
    "id": "d2ed667c-156d-4945-8fdd-09df80272bf0",
    "outputId": "66073436-2830-48e2-fe0a-b47cd7f0a716",
    "tags": []
   },
   "outputs": [
    {
     "data": {
      "text/plain": [
       "<AxesSubplot: xlabel='type_source_airport'>"
      ]
     },
     "execution_count": 94,
     "metadata": {},
     "output_type": "execute_result"
    },
    {
     "data": {
      "image/png": "[encoded data removed]",
      "text/plain": [
       "<Figure size 432x288 with 1 Axes>"
      ]
     },
     "metadata": {
      "needs_background": "light"
     },
     "output_type": "display_data"
    }
   ],
   "source": [
    "combined_data_pax.groupby('type_source_airport')[['Delay']].agg('sum').plot.bar()"
   ]
  },
  {
   "cell_type": "code",
   "execution_count": 95,
   "id": "8e1db61e-e39f-4a7f-bfba-81ad05d88a55",
   "metadata": {
    "colab": {
     "base_uri": "https://localhost:8080/",
     "height": 368
    },
    "id": "8e1db61e-e39f-4a7f-bfba-81ad05d88a55",
    "outputId": "eb62566c-c101-48c9-ced9-daa0e8dfe4bb",
    "tags": []
   },
   "outputs": [
    {
     "data": {
      "text/plain": [
       "<AxesSubplot: xlabel='type_dest_airport'>"
      ]
     },
     "execution_count": 95,
     "metadata": {},
     "output_type": "execute_result"
    },
    {
     "data": {
      "image/png": "[encoded data removed]",
      "text/plain": [
       "<Figure size 432x288 with 1 Axes>"
      ]
     },
     "metadata": {
      "needs_background": "light"
     },
     "output_type": "display_data"
    }
   ],
   "source": [
    "combined_data_pax.groupby('type_dest_airport')[['Delay']].agg('sum').plot.bar()"
   ]
  },
  {
   "cell_type": "markdown",
   "id": "0af044d7-5ed3-4f0c-bfc2-65635f7c9000",
   "metadata": {
    "id": "0af044d7-5ed3-4f0c-bfc2-65635f7c9000"
   },
   "source": [
    "4.\tPerform hypothesis testing techniques to learn:\n",
    "\n",
    "    I.\tHas the altitude of the airport anything to do with flight delays. Check for incoming and outgoing flights\n",
    "    II.\tHas surface-type of runways of airports anything to do with flight delays\n",
    "    III.\t Has length, duration of flight, anything to do with flight delays\n"
   ]
  },
  {
   "cell_type": "markdown",
   "id": "b6cc7cd6-7374-4daf-8cf1-708cb1f9795a",
   "metadata": {
    "id": "b6cc7cd6-7374-4daf-8cf1-708cb1f9795a"
   },
   "source": [
    "# I.\tHas the altitude of the airport anything to do with flight delays. Check for incoming and outgoing flights"
   ]
  },
  {
   "cell_type": "markdown",
   "id": "f911d00e-f80d-45d0-a455-eb2648a15e1b",
   "metadata": {
    "id": "f911d00e-f80d-45d0-a455-eb2648a15e1b",
    "tags": []
   },
   "source": [
    "# 2 sample t test "
   ]
  },
  {
   "cell_type": "markdown",
   "id": "81dab424-5769-4d62-90e8-58b0c6a32e80",
   "metadata": {
    "id": "81dab424-5769-4d62-90e8-58b0c6a32e80",
    "tags": []
   },
   "source": [
    "# for outgoing"
   ]
  },
  {
   "cell_type": "raw",
   "id": "6bcf7dee-c777-456a-8b46-801deb0125fb",
   "metadata": {
    "id": "6bcf7dee-c777-456a-8b46-801deb0125fb"
   },
   "source": [
    "H0 : avg elevation for Delayed flights - avg elevation for not Delayed flights = 0\n",
    "Ha : avg elevation for Delayed flights - avg elevation for not Delayed flights != 0"
   ]
  },
  {
   "cell_type": "code",
   "execution_count": 96,
   "id": "05a7123a-a162-4f9b-b7aa-a77bdd734696",
   "metadata": {
    "id": "05a7123a-a162-4f9b-b7aa-a77bdd734696",
    "tags": []
   },
   "outputs": [],
   "source": [
    "sample1 = combined_data_pax[combined_data_pax.Delay == 1].elevation_ft_source_airport\n",
    "sample2 = combined_data_pax[combined_data_pax.Delay == 0].elevation_ft_source_airport"
   ]
  },
  {
   "cell_type": "code",
   "execution_count": 97,
   "id": "8854bf5a-f536-4554-b837-84aec84bf7ca",
   "metadata": {
    "id": "8854bf5a-f536-4554-b837-84aec84bf7ca",
    "tags": []
   },
   "outputs": [],
   "source": [
    "t, p = stats.ttest_ind(sample1, sample2)"
   ]
  },
  {
   "cell_type": "code",
   "execution_count": 98,
   "id": "fd5bc6fd-1228-43f8-acd6-f642d5d99cef",
   "metadata": {
    "id": "fd5bc6fd-1228-43f8-acd6-f642d5d99cef",
    "tags": []
   },
   "outputs": [],
   "source": [
    "if p < 0.05:\n",
    "    result = 'reject null'\n",
    "else :\n",
    "    result = 'fail to reject null'"
   ]
  },
  {
   "cell_type": "code",
   "execution_count": 99,
   "id": "d40635c3-86a4-427f-a4d8-71ab0eccbf98",
   "metadata": {
    "colab": {
     "base_uri": "https://localhost:8080/",
     "height": 35
    },
    "id": "d40635c3-86a4-427f-a4d8-71ab0eccbf98",
    "outputId": "48a90107-5133-433b-ac91-c8145d7d71fa",
    "tags": []
   },
   "outputs": [
    {
     "data": {
      "text/plain": [
       "'reject null'"
      ]
     },
     "execution_count": 99,
     "metadata": {},
     "output_type": "execute_result"
    }
   ],
   "source": [
    "result"
   ]
  },
  {
   "cell_type": "markdown",
   "id": "d27f7624-161f-4795-8fa0-60dfd04f95da",
   "metadata": {
    "id": "d27f7624-161f-4795-8fa0-60dfd04f95da",
    "jupyter": {
     "outputs_hidden": true
    },
    "tags": []
   },
   "source": [
    "## for incoming flights"
   ]
  },
  {
   "cell_type": "raw",
   "id": "01cbe1a0-5835-46b1-b0e8-e6630a53ad0d",
   "metadata": {
    "id": "01cbe1a0-5835-46b1-b0e8-e6630a53ad0d"
   },
   "source": [
    "H0 : avg elevation for Delayed flights - avg elevation for not Delayed flights = 0\n",
    "Ha : avg elevation for Delayed flights - avg elevation for not Delayed flights != 0"
   ]
  },
  {
   "cell_type": "code",
   "execution_count": 100,
   "id": "ba006ccf-d99f-4835-993a-70c130c042e8",
   "metadata": {
    "id": "ba006ccf-d99f-4835-993a-70c130c042e8",
    "tags": []
   },
   "outputs": [],
   "source": [
    "sample1 = combined_data_pax[combined_data_pax.Delay == 1].elevation_ft_dest_airport\n",
    "sample2 = combined_data_pax[combined_data_pax.Delay == 0].elevation_ft_dest_airport"
   ]
  },
  {
   "cell_type": "code",
   "execution_count": 101,
   "id": "657453ca-f0c8-4a4a-bd07-2a79d23b1a1c",
   "metadata": {
    "id": "657453ca-f0c8-4a4a-bd07-2a79d23b1a1c",
    "tags": []
   },
   "outputs": [],
   "source": [
    "t, p = stats.ttest_ind(sample1, sample2)"
   ]
  },
  {
   "cell_type": "code",
   "execution_count": 102,
   "id": "08477980-1a9a-4f6d-af22-7c62128ce88d",
   "metadata": {
    "id": "08477980-1a9a-4f6d-af22-7c62128ce88d",
    "tags": []
   },
   "outputs": [],
   "source": [
    "if p < 0.05:\n",
    "    result = 'reject null'\n",
    "else :\n",
    "    result = 'fail to reject null'"
   ]
  },
  {
   "cell_type": "code",
   "execution_count": 103,
   "id": "196e82a1-31f5-4146-a72a-c14ca5400bff",
   "metadata": {
    "colab": {
     "base_uri": "https://localhost:8080/",
     "height": 0
    },
    "id": "196e82a1-31f5-4146-a72a-c14ca5400bff",
    "outputId": "8b0a3ebc-5a79-49d5-91cb-96deec7ffa28",
    "tags": []
   },
   "outputs": [
    {
     "data": {
      "text/plain": [
       "'reject null'"
      ]
     },
     "execution_count": 103,
     "metadata": {},
     "output_type": "execute_result"
    }
   ],
   "source": [
    "result"
   ]
  },
  {
   "cell_type": "markdown",
   "id": "e7ffffba-c474-4c00-864e-0bad926f8521",
   "metadata": {
    "id": "e7ffffba-c474-4c00-864e-0bad926f8521",
    "tags": []
   },
   "source": [
    "## Conclusion : Significant difference in avg elevation wrt flight delay for both incoming and outgoing flights"
   ]
  },
  {
   "cell_type": "markdown",
   "id": "d89563a6-ecf1-4770-9041-bac99116a37e",
   "metadata": {
    "id": "d89563a6-ecf1-4770-9041-bac99116a37e"
   },
   "source": [
    "## is no. of runway at airport for delayed < for non delayed "
   ]
  },
  {
   "cell_type": "raw",
   "id": "0b9093ce-dbb8-4e29-a29c-ba8ed476d9b6",
   "metadata": {
    "id": "0b9093ce-dbb8-4e29-a29c-ba8ed476d9b6"
   },
   "source": [
    "# t test :\n",
    "H0 : avg runway count for delayed filghts - avg runway count for non delayed flights => 0 \n",
    "Ha : avg runway count for delayed filghts - avg runway count for non delayed flights < 0 "
   ]
  },
  {
   "cell_type": "code",
   "execution_count": 104,
   "id": "dc60fd1a-80f7-43ad-89bb-2f253cd78458",
   "metadata": {
    "colab": {
     "base_uri": "https://localhost:8080/",
     "height": 488
    },
    "id": "dc60fd1a-80f7-43ad-89bb-2f253cd78458",
    "outputId": "97d2e6f5-ab67-49a4-f689-d13e6dbc2873",
    "tags": []
   },
   "outputs": [
    {
     "data": {
      "text/html": [
       "<div>\n",
       "<style scoped>\n",
       "    .dataframe tbody tr th:only-of-type {\n",
       "        vertical-align: middle;\n",
       "    }\n",
       "\n",
       "    .dataframe tbody tr th {\n",
       "        vertical-align: top;\n",
       "    }\n",
       "\n",
       "    .dataframe thead th {\n",
       "        text-align: right;\n",
       "    }\n",
       "</style>\n",
       "<table border=\"1\" class=\"dataframe\">\n",
       "  <thead>\n",
       "    <tr style=\"text-align: right;\">\n",
       "      <th></th>\n",
       "      <th>id</th>\n",
       "      <th>Airline</th>\n",
       "      <th>Flight</th>\n",
       "      <th>AirportFrom</th>\n",
       "      <th>AirportTo</th>\n",
       "      <th>DayOfWeek</th>\n",
       "      <th>Time</th>\n",
       "      <th>Length</th>\n",
       "      <th>Delay</th>\n",
       "      <th>type_source_airport</th>\n",
       "      <th>...</th>\n",
       "      <th>runway_count_source_airport</th>\n",
       "      <th>type_dest_airport</th>\n",
       "      <th>elevation_ft_dest_airport</th>\n",
       "      <th>runway_count_dest_airport</th>\n",
       "      <th>iata_code_x</th>\n",
       "      <th>data_2019_source_airport</th>\n",
       "      <th>iata_code_y</th>\n",
       "      <th>data_2019_dest_airport</th>\n",
       "      <th>Founded</th>\n",
       "      <th>duration</th>\n",
       "    </tr>\n",
       "  </thead>\n",
       "  <tbody>\n",
       "    <tr>\n",
       "      <th>0</th>\n",
       "      <td>1</td>\n",
       "      <td>CO</td>\n",
       "      <td>269</td>\n",
       "      <td>SFO</td>\n",
       "      <td>IAH</td>\n",
       "      <td>3</td>\n",
       "      <td>15</td>\n",
       "      <td>205</td>\n",
       "      <td>1</td>\n",
       "      <td>large_airport</td>\n",
       "      <td>...</td>\n",
       "      <td>4.0</td>\n",
       "      <td>large_airport</td>\n",
       "      <td>97.0</td>\n",
       "      <td>5.0</td>\n",
       "      <td>SFO</td>\n",
       "      <td>27779230.0</td>\n",
       "      <td>IAH</td>\n",
       "      <td>21905309.0</td>\n",
       "      <td>1934.0</td>\n",
       "      <td>short</td>\n",
       "    </tr>\n",
       "    <tr>\n",
       "      <th>1</th>\n",
       "      <td>6</td>\n",
       "      <td>CO</td>\n",
       "      <td>1094</td>\n",
       "      <td>LAX</td>\n",
       "      <td>IAH</td>\n",
       "      <td>3</td>\n",
       "      <td>30</td>\n",
       "      <td>181</td>\n",
       "      <td>1</td>\n",
       "      <td>large_airport</td>\n",
       "      <td>...</td>\n",
       "      <td>4.0</td>\n",
       "      <td>large_airport</td>\n",
       "      <td>97.0</td>\n",
       "      <td>5.0</td>\n",
       "      <td>LAX</td>\n",
       "      <td>42939104.0</td>\n",
       "      <td>IAH</td>\n",
       "      <td>21905309.0</td>\n",
       "      <td>1934.0</td>\n",
       "      <td>short</td>\n",
       "    </tr>\n",
       "    <tr>\n",
       "      <th>2</th>\n",
       "      <td>11</td>\n",
       "      <td>CO</td>\n",
       "      <td>223</td>\n",
       "      <td>ANC</td>\n",
       "      <td>SEA</td>\n",
       "      <td>3</td>\n",
       "      <td>49</td>\n",
       "      <td>201</td>\n",
       "      <td>1</td>\n",
       "      <td>large_airport</td>\n",
       "      <td>...</td>\n",
       "      <td>3.0</td>\n",
       "      <td>large_airport</td>\n",
       "      <td>433.0</td>\n",
       "      <td>4.0</td>\n",
       "      <td>ANC</td>\n",
       "      <td>2713843.0</td>\n",
       "      <td>SEA</td>\n",
       "      <td>25001762.0</td>\n",
       "      <td>1934.0</td>\n",
       "      <td>short</td>\n",
       "    </tr>\n",
       "    <tr>\n",
       "      <th>3</th>\n",
       "      <td>18</td>\n",
       "      <td>CO</td>\n",
       "      <td>1496</td>\n",
       "      <td>LAS</td>\n",
       "      <td>IAH</td>\n",
       "      <td>3</td>\n",
       "      <td>60</td>\n",
       "      <td>162</td>\n",
       "      <td>0</td>\n",
       "      <td>large_airport</td>\n",
       "      <td>...</td>\n",
       "      <td>4.0</td>\n",
       "      <td>large_airport</td>\n",
       "      <td>97.0</td>\n",
       "      <td>5.0</td>\n",
       "      <td>LAS</td>\n",
       "      <td>24728361.0</td>\n",
       "      <td>IAH</td>\n",
       "      <td>21905309.0</td>\n",
       "      <td>1934.0</td>\n",
       "      <td>short</td>\n",
       "    </tr>\n",
       "    <tr>\n",
       "      <th>4</th>\n",
       "      <td>20</td>\n",
       "      <td>CO</td>\n",
       "      <td>507</td>\n",
       "      <td>ONT</td>\n",
       "      <td>IAH</td>\n",
       "      <td>3</td>\n",
       "      <td>75</td>\n",
       "      <td>167</td>\n",
       "      <td>0</td>\n",
       "      <td>large_airport</td>\n",
       "      <td>...</td>\n",
       "      <td>2.0</td>\n",
       "      <td>large_airport</td>\n",
       "      <td>97.0</td>\n",
       "      <td>5.0</td>\n",
       "      <td>ONT</td>\n",
       "      <td>2723002.0</td>\n",
       "      <td>IAH</td>\n",
       "      <td>21905309.0</td>\n",
       "      <td>1934.0</td>\n",
       "      <td>short</td>\n",
       "    </tr>\n",
       "    <tr>\n",
       "      <th>...</th>\n",
       "      <td>...</td>\n",
       "      <td>...</td>\n",
       "      <td>...</td>\n",
       "      <td>...</td>\n",
       "      <td>...</td>\n",
       "      <td>...</td>\n",
       "      <td>...</td>\n",
       "      <td>...</td>\n",
       "      <td>...</td>\n",
       "      <td>...</td>\n",
       "      <td>...</td>\n",
       "      <td>...</td>\n",
       "      <td>...</td>\n",
       "      <td>...</td>\n",
       "      <td>...</td>\n",
       "      <td>...</td>\n",
       "      <td>...</td>\n",
       "      <td>...</td>\n",
       "      <td>...</td>\n",
       "      <td>...</td>\n",
       "      <td>...</td>\n",
       "    </tr>\n",
       "    <tr>\n",
       "      <th>518551</th>\n",
       "      <td>538750</td>\n",
       "      <td>WN</td>\n",
       "      <td>2601</td>\n",
       "      <td>LAS</td>\n",
       "      <td>SMF</td>\n",
       "      <td>5</td>\n",
       "      <td>1230</td>\n",
       "      <td>85</td>\n",
       "      <td>1</td>\n",
       "      <td>large_airport</td>\n",
       "      <td>...</td>\n",
       "      <td>4.0</td>\n",
       "      <td>large_airport</td>\n",
       "      <td>27.0</td>\n",
       "      <td>2.0</td>\n",
       "      <td>LAS</td>\n",
       "      <td>24728361.0</td>\n",
       "      <td>SMF</td>\n",
       "      <td>6454413.0</td>\n",
       "      <td>1967.0</td>\n",
       "      <td>short</td>\n",
       "    </tr>\n",
       "    <tr>\n",
       "      <th>518552</th>\n",
       "      <td>538783</td>\n",
       "      <td>WN</td>\n",
       "      <td>1936</td>\n",
       "      <td>SMF</td>\n",
       "      <td>SAN</td>\n",
       "      <td>5</td>\n",
       "      <td>1235</td>\n",
       "      <td>85</td>\n",
       "      <td>1</td>\n",
       "      <td>large_airport</td>\n",
       "      <td>...</td>\n",
       "      <td>2.0</td>\n",
       "      <td>large_airport</td>\n",
       "      <td>17.0</td>\n",
       "      <td>1.0</td>\n",
       "      <td>SMF</td>\n",
       "      <td>6454413.0</td>\n",
       "      <td>SAN</td>\n",
       "      <td>12648692.0</td>\n",
       "      <td>1967.0</td>\n",
       "      <td>short</td>\n",
       "    </tr>\n",
       "    <tr>\n",
       "      <th>518553</th>\n",
       "      <td>538810</td>\n",
       "      <td>WN</td>\n",
       "      <td>2629</td>\n",
       "      <td>LAS</td>\n",
       "      <td>RNO</td>\n",
       "      <td>5</td>\n",
       "      <td>1240</td>\n",
       "      <td>75</td>\n",
       "      <td>1</td>\n",
       "      <td>large_airport</td>\n",
       "      <td>...</td>\n",
       "      <td>4.0</td>\n",
       "      <td>large_airport</td>\n",
       "      <td>4415.0</td>\n",
       "      <td>3.0</td>\n",
       "      <td>LAS</td>\n",
       "      <td>24728361.0</td>\n",
       "      <td>RNO</td>\n",
       "      <td>2162250.0</td>\n",
       "      <td>1967.0</td>\n",
       "      <td>short</td>\n",
       "    </tr>\n",
       "    <tr>\n",
       "      <th>518554</th>\n",
       "      <td>538833</td>\n",
       "      <td>WN</td>\n",
       "      <td>1226</td>\n",
       "      <td>SFO</td>\n",
       "      <td>LAX</td>\n",
       "      <td>5</td>\n",
       "      <td>1245</td>\n",
       "      <td>75</td>\n",
       "      <td>1</td>\n",
       "      <td>large_airport</td>\n",
       "      <td>...</td>\n",
       "      <td>4.0</td>\n",
       "      <td>large_airport</td>\n",
       "      <td>125.0</td>\n",
       "      <td>4.0</td>\n",
       "      <td>SFO</td>\n",
       "      <td>27779230.0</td>\n",
       "      <td>LAX</td>\n",
       "      <td>42939104.0</td>\n",
       "      <td>1967.0</td>\n",
       "      <td>short</td>\n",
       "    </tr>\n",
       "    <tr>\n",
       "      <th>518555</th>\n",
       "      <td>538834</td>\n",
       "      <td>WN</td>\n",
       "      <td>2370</td>\n",
       "      <td>LAX</td>\n",
       "      <td>SFO</td>\n",
       "      <td>5</td>\n",
       "      <td>1245</td>\n",
       "      <td>75</td>\n",
       "      <td>1</td>\n",
       "      <td>large_airport</td>\n",
       "      <td>...</td>\n",
       "      <td>4.0</td>\n",
       "      <td>large_airport</td>\n",
       "      <td>13.0</td>\n",
       "      <td>4.0</td>\n",
       "      <td>LAX</td>\n",
       "      <td>42939104.0</td>\n",
       "      <td>SFO</td>\n",
       "      <td>27779230.0</td>\n",
       "      <td>1967.0</td>\n",
       "      <td>short</td>\n",
       "    </tr>\n",
       "  </tbody>\n",
       "</table>\n",
       "<p>518556 rows × 21 columns</p>\n",
       "</div>"
      ],
      "text/plain": [
       "            id Airline  Flight AirportFrom AirportTo  DayOfWeek  Time  Length  \\\n",
       "0            1      CO     269         SFO       IAH          3    15     205   \n",
       "1            6      CO    1094         LAX       IAH          3    30     181   \n",
       "2           11      CO     223         ANC       SEA          3    49     201   \n",
       "3           18      CO    1496         LAS       IAH          3    60     162   \n",
       "4           20      CO     507         ONT       IAH          3    75     167   \n",
       "...        ...     ...     ...         ...       ...        ...   ...     ...   \n",
       "518551  538750      WN    2601         LAS       SMF          5  1230      85   \n",
       "518552  538783      WN    1936         SMF       SAN          5  1235      85   \n",
       "518553  538810      WN    2629         LAS       RNO          5  1240      75   \n",
       "518554  538833      WN    1226         SFO       LAX          5  1245      75   \n",
       "518555  538834      WN    2370         LAX       SFO          5  1245      75   \n",
       "\n",
       "        Delay type_source_airport  ...  runway_count_source_airport  \\\n",
       "0           1       large_airport  ...                          4.0   \n",
       "1           1       large_airport  ...                          4.0   \n",
       "2           1       large_airport  ...                          3.0   \n",
       "3           0       large_airport  ...                          4.0   \n",
       "4           0       large_airport  ...                          2.0   \n",
       "...       ...                 ...  ...                          ...   \n",
       "518551      1       large_airport  ...                          4.0   \n",
       "518552      1       large_airport  ...                          2.0   \n",
       "518553      1       large_airport  ...                          4.0   \n",
       "518554      1       large_airport  ...                          4.0   \n",
       "518555      1       large_airport  ...                          4.0   \n",
       "\n",
       "        type_dest_airport elevation_ft_dest_airport  \\\n",
       "0           large_airport                      97.0   \n",
       "1           large_airport                      97.0   \n",
       "2           large_airport                     433.0   \n",
       "3           large_airport                      97.0   \n",
       "4           large_airport                      97.0   \n",
       "...                   ...                       ...   \n",
       "518551      large_airport                      27.0   \n",
       "518552      large_airport                      17.0   \n",
       "518553      large_airport                    4415.0   \n",
       "518554      large_airport                     125.0   \n",
       "518555      large_airport                      13.0   \n",
       "\n",
       "        runway_count_dest_airport  iata_code_x data_2019_source_airport  \\\n",
       "0                             5.0          SFO               27779230.0   \n",
       "1                             5.0          LAX               42939104.0   \n",
       "2                             4.0          ANC                2713843.0   \n",
       "3                             5.0          LAS               24728361.0   \n",
       "4                             5.0          ONT                2723002.0   \n",
       "...                           ...          ...                      ...   \n",
       "518551                        2.0          LAS               24728361.0   \n",
       "518552                        1.0          SMF                6454413.0   \n",
       "518553                        3.0          LAS               24728361.0   \n",
       "518554                        4.0          SFO               27779230.0   \n",
       "518555                        4.0          LAX               42939104.0   \n",
       "\n",
       "        iata_code_y data_2019_dest_airport  Founded  duration  \n",
       "0               IAH             21905309.0   1934.0     short  \n",
       "1               IAH             21905309.0   1934.0     short  \n",
       "2               SEA             25001762.0   1934.0     short  \n",
       "3               IAH             21905309.0   1934.0     short  \n",
       "4               IAH             21905309.0   1934.0     short  \n",
       "...             ...                    ...      ...       ...  \n",
       "518551          SMF              6454413.0   1967.0     short  \n",
       "518552          SAN             12648692.0   1967.0     short  \n",
       "518553          RNO              2162250.0   1967.0     short  \n",
       "518554          LAX             42939104.0   1967.0     short  \n",
       "518555          SFO             27779230.0   1967.0     short  \n",
       "\n",
       "[518556 rows x 21 columns]"
      ]
     },
     "execution_count": 104,
     "metadata": {},
     "output_type": "execute_result"
    }
   ],
   "source": [
    "combined_data_pax"
   ]
  },
  {
   "cell_type": "code",
   "execution_count": 105,
   "id": "ae0989f8-30ad-4943-bf9a-31cb737cf88b",
   "metadata": {
    "id": "ae0989f8-30ad-4943-bf9a-31cb737cf88b"
   },
   "outputs": [],
   "source": [
    "s1 = combined_data_pax[combined_data_pax.Delay == 1].runway_count_source_airport\n",
    "s2 = combined_data_pax[combined_data_pax.Delay == 0].runway_count_source_airport"
   ]
  },
  {
   "cell_type": "code",
   "execution_count": 106,
   "id": "216a853e-d524-4244-851b-1b340b2e7331",
   "metadata": {
    "colab": {
     "base_uri": "https://localhost:8080/"
    },
    "id": "216a853e-d524-4244-851b-1b340b2e7331",
    "outputId": "56e1f18b-1c69-419c-b53d-4d1fb2ec8332"
   },
   "outputs": [
    {
     "name": "stdout",
     "output_type": "stream",
     "text": [
      "reject null\n"
     ]
    }
   ],
   "source": [
    "t, p = stats.ttest_ind(s1, s2)\n",
    "if p < 0.05:\n",
    "    result = 'reject null'\n",
    "else :\n",
    "    result = 'fail to reject null'\n",
    "print(result)"
   ]
  },
  {
   "cell_type": "code",
   "execution_count": 107,
   "id": "81f31e0b-065a-4f97-9753-4703d900bb7b",
   "metadata": {
    "id": "81f31e0b-065a-4f97-9753-4703d900bb7b"
   },
   "outputs": [],
   "source": [
    "s1 = combined_data_pax[combined_data_pax.Delay == 1].runway_count_dest_airport\n",
    "s2 = combined_data_pax[combined_data_pax.Delay == 0].runway_count_dest_airport"
   ]
  },
  {
   "cell_type": "code",
   "execution_count": 108,
   "id": "39c68fde-3f4d-436a-8011-6db42fc2d782",
   "metadata": {
    "colab": {
     "base_uri": "https://localhost:8080/"
    },
    "id": "39c68fde-3f4d-436a-8011-6db42fc2d782",
    "outputId": "b72d8fb8-e102-462e-9fc0-ce913ac94767"
   },
   "outputs": [
    {
     "name": "stdout",
     "output_type": "stream",
     "text": [
      "reject null\n"
     ]
    }
   ],
   "source": [
    "t, p = stats.ttest_ind(s1, s2)\n",
    "if p < 0.05:\n",
    "    result = 'reject null'\n",
    "else :\n",
    "    result = 'fail to reject null'\n",
    "print(result)"
   ]
  },
  {
   "cell_type": "code",
   "execution_count": 109,
   "id": "4EiR9XCw2q3n",
   "metadata": {
    "colab": {
     "base_uri": "https://localhost:8080/"
    },
    "id": "4EiR9XCw2q3n",
    "outputId": "44b01906-63b0-4a51-97ab-61881742cad2"
   },
   "outputs": [
    {
     "data": {
      "text/plain": [
       "Index(['id', 'Airline', 'Flight', 'AirportFrom', 'AirportTo', 'DayOfWeek',\n",
       "       'Time', 'Length', 'Delay', 'type_source_airport',\n",
       "       'elevation_ft_source_airport', 'runway_count_source_airport',\n",
       "       'type_dest_airport', 'elevation_ft_dest_airport',\n",
       "       'runway_count_dest_airport', 'iata_code_x', 'data_2019_source_airport',\n",
       "       'iata_code_y', 'data_2019_dest_airport', 'Founded', 'duration'],\n",
       "      dtype='object')"
      ]
     },
     "execution_count": 109,
     "metadata": {},
     "output_type": "execute_result"
    }
   ],
   "source": [
    "combined_data_pax.columns"
   ]
  },
  {
   "cell_type": "code",
   "execution_count": 110,
   "id": "6j3GLpeS145C",
   "metadata": {
    "colab": {
     "base_uri": "https://localhost:8080/",
     "height": 406
    },
    "id": "6j3GLpeS145C",
    "outputId": "f3742c08-837e-4556-d117-3884c17855c0"
   },
   "outputs": [
    {
     "name": "stderr",
     "output_type": "stream",
     "text": [
      "/tmp/ipykernel_71/2729550883.py:3: FutureWarning: The default value of numeric_only in DataFrame.corr is deprecated. In a future version, it will default to False. Select only valid columns or specify the value of numeric_only to silence this warning.\n",
      "  correlation_matix = combined_data_pax.drop(columns = ['DayOfWeek', 'Time', 'Length', 'Delay','type_source_airport','type_dest_airport']).corr()\n"
     ]
    },
    {
     "data": {
      "image/png": "[encoded data removed]",
      "text/plain": [
       "<Figure size 432x288 with 2 Axes>"
      ]
     },
     "metadata": {
      "needs_background": "light"
     },
     "output_type": "display_data"
    }
   ],
   "source": [
    "# Find correlation matrix amongst predictors of flight delay. Create a heatmap to visualize. Share your findings.\n",
    "\n",
    "correlation_matix = combined_data_pax.drop(columns = ['DayOfWeek', 'Time', 'Length', 'Delay','type_source_airport','type_dest_airport']).corr()\n",
    "\n",
    "sns.heatmap(correlation_matix, cmap='Blues',linecolor='white', linewidths=2)\n",
    "plt.show()"
   ]
  },
  {
   "cell_type": "markdown",
   "id": "cc906543-3ac2-4013-82dd-d763ffcafb76",
   "metadata": {
    "id": "cc906543-3ac2-4013-82dd-d763ffcafb76"
   },
   "source": [
    "## Conclusion : avg runway count at destination airport for delayed filghts < avg runway count at destination airport for delayed filghts for Incoming flights"
   ]
  },
  {
   "cell_type": "markdown",
   "id": "e86a092a-9e22-4c1f-93a6-ebad214283e2",
   "metadata": {
    "id": "e86a092a-9e22-4c1f-93a6-ebad214283e2"
   },
   "source": [
    "## Has length, duration of flight, anything to do with flight delays!"
   ]
  },
  {
   "cell_type": "raw",
   "id": "deeda3ef-a032-48c2-8377-f77eeaa91210",
   "metadata": {
    "id": "deeda3ef-a032-48c2-8377-f77eeaa91210"
   },
   "source": [
    "# t test :\n",
    "H0 : avg duration for delayed filghts - avg duration for non delayed flights = 0 \n",
    "Ha : avg duration for delayed filghts - avg duration for non delayed flights != 0 "
   ]
  },
  {
   "cell_type": "code",
   "execution_count": 111,
   "id": "9ec10be1-25da-4ea9-b37a-8bfc44a356fa",
   "metadata": {
    "id": "9ec10be1-25da-4ea9-b37a-8bfc44a356fa",
    "tags": []
   },
   "outputs": [],
   "source": [
    "s1 = combined_data_pax[combined_data_pax.Delay == 1].Length\n",
    "s2 = combined_data_pax[combined_data_pax.Delay == 0].Length"
   ]
  },
  {
   "cell_type": "code",
   "execution_count": 112,
   "id": "8d800651-ec80-4135-82e4-c3ee0f495ebd",
   "metadata": {
    "id": "8d800651-ec80-4135-82e4-c3ee0f495ebd",
    "tags": []
   },
   "outputs": [],
   "source": [
    "t, p = stats.ttest_ind(s1, s2)"
   ]
  },
  {
   "cell_type": "code",
   "execution_count": 113,
   "id": "22c0a417-9f3d-4070-980a-a4091f4015a2",
   "metadata": {
    "colab": {
     "base_uri": "https://localhost:8080/"
    },
    "id": "22c0a417-9f3d-4070-980a-a4091f4015a2",
    "outputId": "26095d45-8c6e-401e-d18a-74935cbcc293",
    "tags": []
   },
   "outputs": [
    {
     "name": "stdout",
     "output_type": "stream",
     "text": [
      "reject null\n"
     ]
    }
   ],
   "source": [
    "if p < 0.05:\n",
    "    result = 'reject null'\n",
    "else :\n",
    "    result = 'fail to reject null'\n",
    "print(result)"
   ]
  },
  {
   "cell_type": "code",
   "execution_count": 114,
   "id": "e0ccb652-8e25-4aeb-b094-774f5dbbfc17",
   "metadata": {
    "id": "e0ccb652-8e25-4aeb-b094-774f5dbbfc17",
    "tags": []
   },
   "outputs": [],
   "source": [
    "# there is isgnificant difference"
   ]
  },
  {
   "cell_type": "code",
   "execution_count": 115,
   "id": "e9f05188-471b-4397-a183-f4420c8f0c71",
   "metadata": {
    "colab": {
     "base_uri": "https://localhost:8080/",
     "height": 0
    },
    "id": "e9f05188-471b-4397-a183-f4420c8f0c71",
    "outputId": "c873bd46-2c66-4f31-d1ef-22419b036b16",
    "tags": []
   },
   "outputs": [
    {
     "data": {
      "text/html": [
       "<div>\n",
       "<style scoped>\n",
       "    .dataframe tbody tr th:only-of-type {\n",
       "        vertical-align: middle;\n",
       "    }\n",
       "\n",
       "    .dataframe tbody tr th {\n",
       "        vertical-align: top;\n",
       "    }\n",
       "\n",
       "    .dataframe thead th {\n",
       "        text-align: right;\n",
       "    }\n",
       "</style>\n",
       "<table border=\"1\" class=\"dataframe\">\n",
       "  <thead>\n",
       "    <tr style=\"text-align: right;\">\n",
       "      <th>Delay</th>\n",
       "      <th>0</th>\n",
       "      <th>1</th>\n",
       "    </tr>\n",
       "    <tr>\n",
       "      <th>duration</th>\n",
       "      <th></th>\n",
       "      <th></th>\n",
       "    </tr>\n",
       "  </thead>\n",
       "  <tbody>\n",
       "    <tr>\n",
       "      <th>short</th>\n",
       "      <td>255324</td>\n",
       "      <td>204474</td>\n",
       "    </tr>\n",
       "    <tr>\n",
       "      <th>medium</th>\n",
       "      <td>28991</td>\n",
       "      <td>29208</td>\n",
       "    </tr>\n",
       "    <tr>\n",
       "      <th>long</th>\n",
       "      <td>252</td>\n",
       "      <td>307</td>\n",
       "    </tr>\n",
       "  </tbody>\n",
       "</table>\n",
       "</div>"
      ],
      "text/plain": [
       "Delay          0       1\n",
       "duration                \n",
       "short     255324  204474\n",
       "medium     28991   29208\n",
       "long         252     307"
      ]
     },
     "execution_count": 115,
     "metadata": {},
     "output_type": "execute_result"
    }
   ],
   "source": [
    "cs = pd.crosstab(combined_data_pax.duration, combined_data_pax.Delay)\n",
    "cs"
   ]
  },
  {
   "cell_type": "code",
   "execution_count": 116,
   "id": "b698ea5a-9a07-44aa-8a34-2080a5fdb972",
   "metadata": {
    "colab": {
     "base_uri": "https://localhost:8080/"
    },
    "id": "b698ea5a-9a07-44aa-8a34-2080a5fdb972",
    "outputId": "935c526a-24e5-4de4-9a49-192b9f8abd77",
    "tags": []
   },
   "outputs": [
    {
     "name": "stdout",
     "output_type": "stream",
     "text": [
      "reject null\n"
     ]
    }
   ],
   "source": [
    "chi, p, df, ex = stats.chi2_contingency(cs)\n",
    "if p < 0.05:\n",
    "    result = 'reject null'\n",
    "else :\n",
    "    result = 'fail to reject null'\n",
    "print(result)"
   ]
  },
  {
   "cell_type": "raw",
   "id": "cef0911d-98be-42c1-89c7-25ffc8cf62ae",
   "metadata": {
    "id": "cef0911d-98be-42c1-89c7-25ffc8cf62ae"
   },
   "source": [
    "# t test :\n",
    "H0 : avg duration for delayed filghts - avg duration for non delayed flights <= 0 \n",
    "Ha : avg duration for delayed filghts - avg duration for non delayed flights > 0 "
   ]
  },
  {
   "cell_type": "code",
   "execution_count": 117,
   "id": "8071d1fb-035e-4f60-affc-f716d582b38a",
   "metadata": {
    "colab": {
     "base_uri": "https://localhost:8080/"
    },
    "id": "8071d1fb-035e-4f60-affc-f716d582b38a",
    "outputId": "6739de8c-2142-45f2-c6e2-2a0229da5adb",
    "tags": []
   },
   "outputs": [
    {
     "name": "stdout",
     "output_type": "stream",
     "text": [
      "reject null\n"
     ]
    }
   ],
   "source": [
    "t, p = stats.ttest_ind(s1, s2)\n",
    "if p < 0.05:\n",
    "    result = 'reject null'\n",
    "else :\n",
    "    result = 'fail to reject null'\n",
    "print(result)"
   ]
  },
  {
   "cell_type": "markdown",
   "id": "ce974515-064e-4102-b984-1cbb08733d66",
   "metadata": {
    "id": "ce974515-064e-4102-b984-1cbb08733d66",
    "tags": []
   },
   "source": [
    "### Conclusion : avg duration for delayed filghts and non Delayed flights are significantly different.\n",
    "        - avg duration of flights is less for non delayed flights\n",
    "        - short duration flights get delayed less. "
   ]
  },
  {
   "cell_type": "markdown",
   "id": "ea89a94c-9159-4abd-9ad3-27054ef51d1c",
   "metadata": {
    "id": "ea89a94c-9159-4abd-9ad3-27054ef51d1c"
   },
   "source": [
    "## check info of dat"
   ]
  },
  {
   "cell_type": "code",
   "execution_count": 118,
   "id": "b062ec51-42de-4f85-9f7c-78643673f95a",
   "metadata": {
    "colab": {
     "base_uri": "https://localhost:8080/",
     "height": 0
    },
    "id": "b062ec51-42de-4f85-9f7c-78643673f95a",
    "outputId": "e8c7f9ea-5821-49bc-a1a6-8683b4e9eb5f"
   },
   "outputs": [
    {
     "data": {
      "text/html": [
       "<div>\n",
       "<style scoped>\n",
       "    .dataframe tbody tr th:only-of-type {\n",
       "        vertical-align: middle;\n",
       "    }\n",
       "\n",
       "    .dataframe tbody tr th {\n",
       "        vertical-align: top;\n",
       "    }\n",
       "\n",
       "    .dataframe thead th {\n",
       "        text-align: right;\n",
       "    }\n",
       "</style>\n",
       "<table border=\"1\" class=\"dataframe\">\n",
       "  <thead>\n",
       "    <tr style=\"text-align: right;\">\n",
       "      <th></th>\n",
       "      <th>id</th>\n",
       "      <th>Airline</th>\n",
       "      <th>Flight</th>\n",
       "      <th>AirportFrom</th>\n",
       "      <th>AirportTo</th>\n",
       "      <th>DayOfWeek</th>\n",
       "      <th>Time</th>\n",
       "      <th>Length</th>\n",
       "      <th>Delay</th>\n",
       "      <th>type_source_airport</th>\n",
       "      <th>...</th>\n",
       "      <th>runway_count_source_airport</th>\n",
       "      <th>type_dest_airport</th>\n",
       "      <th>elevation_ft_dest_airport</th>\n",
       "      <th>runway_count_dest_airport</th>\n",
       "      <th>iata_code_x</th>\n",
       "      <th>data_2019_source_airport</th>\n",
       "      <th>iata_code_y</th>\n",
       "      <th>data_2019_dest_airport</th>\n",
       "      <th>Founded</th>\n",
       "      <th>duration</th>\n",
       "    </tr>\n",
       "  </thead>\n",
       "  <tbody>\n",
       "    <tr>\n",
       "      <th>0</th>\n",
       "      <td>1</td>\n",
       "      <td>CO</td>\n",
       "      <td>269</td>\n",
       "      <td>SFO</td>\n",
       "      <td>IAH</td>\n",
       "      <td>3</td>\n",
       "      <td>15</td>\n",
       "      <td>205</td>\n",
       "      <td>1</td>\n",
       "      <td>large_airport</td>\n",
       "      <td>...</td>\n",
       "      <td>4.0</td>\n",
       "      <td>large_airport</td>\n",
       "      <td>97.0</td>\n",
       "      <td>5.0</td>\n",
       "      <td>SFO</td>\n",
       "      <td>27779230.0</td>\n",
       "      <td>IAH</td>\n",
       "      <td>21905309.0</td>\n",
       "      <td>1934.0</td>\n",
       "      <td>short</td>\n",
       "    </tr>\n",
       "    <tr>\n",
       "      <th>1</th>\n",
       "      <td>6</td>\n",
       "      <td>CO</td>\n",
       "      <td>1094</td>\n",
       "      <td>LAX</td>\n",
       "      <td>IAH</td>\n",
       "      <td>3</td>\n",
       "      <td>30</td>\n",
       "      <td>181</td>\n",
       "      <td>1</td>\n",
       "      <td>large_airport</td>\n",
       "      <td>...</td>\n",
       "      <td>4.0</td>\n",
       "      <td>large_airport</td>\n",
       "      <td>97.0</td>\n",
       "      <td>5.0</td>\n",
       "      <td>LAX</td>\n",
       "      <td>42939104.0</td>\n",
       "      <td>IAH</td>\n",
       "      <td>21905309.0</td>\n",
       "      <td>1934.0</td>\n",
       "      <td>short</td>\n",
       "    </tr>\n",
       "  </tbody>\n",
       "</table>\n",
       "<p>2 rows × 21 columns</p>\n",
       "</div>"
      ],
      "text/plain": [
       "   id Airline  Flight AirportFrom AirportTo  DayOfWeek  Time  Length  Delay  \\\n",
       "0   1      CO     269         SFO       IAH          3    15     205      1   \n",
       "1   6      CO    1094         LAX       IAH          3    30     181      1   \n",
       "\n",
       "  type_source_airport  ...  runway_count_source_airport  type_dest_airport  \\\n",
       "0       large_airport  ...                          4.0      large_airport   \n",
       "1       large_airport  ...                          4.0      large_airport   \n",
       "\n",
       "  elevation_ft_dest_airport  runway_count_dest_airport  iata_code_x  \\\n",
       "0                      97.0                        5.0          SFO   \n",
       "1                      97.0                        5.0          LAX   \n",
       "\n",
       "  data_2019_source_airport  iata_code_y data_2019_dest_airport  Founded  \\\n",
       "0               27779230.0          IAH             21905309.0   1934.0   \n",
       "1               42939104.0          IAH             21905309.0   1934.0   \n",
       "\n",
       "   duration  \n",
       "0     short  \n",
       "1     short  \n",
       "\n",
       "[2 rows x 21 columns]"
      ]
     },
     "execution_count": 118,
     "metadata": {},
     "output_type": "execute_result"
    }
   ],
   "source": [
    "combined_data_pax.head(2)"
   ]
  },
  {
   "cell_type": "code",
   "execution_count": null,
   "id": "47cc8394-d0a5-4490-9d9c-dff8428ebfa5",
   "metadata": {
    "id": "47cc8394-d0a5-4490-9d9c-dff8428ebfa5"
   },
   "outputs": [],
   "source": []
  },
  {
   "cell_type": "code",
   "execution_count": 119,
   "id": "09ce850f-9775-4ccd-b1c6-f3140843385b",
   "metadata": {
    "colab": {
     "base_uri": "https://localhost:8080/"
    },
    "id": "09ce850f-9775-4ccd-b1c6-f3140843385b",
    "outputId": "e9ab472e-85c4-4706-a404-19697c93745c"
   },
   "outputs": [
    {
     "data": {
      "text/plain": [
       "Index(['id', 'Airline', 'Flight', 'AirportFrom', 'AirportTo', 'DayOfWeek',\n",
       "       'Time', 'Length', 'Delay', 'type_source_airport',\n",
       "       'elevation_ft_source_airport', 'runway_count_source_airport',\n",
       "       'type_dest_airport', 'elevation_ft_dest_airport',\n",
       "       'runway_count_dest_airport', 'iata_code_x', 'data_2019_source_airport',\n",
       "       'iata_code_y', 'data_2019_dest_airport', 'Founded', 'duration'],\n",
       "      dtype='object')"
      ]
     },
     "execution_count": 119,
     "metadata": {},
     "output_type": "execute_result"
    }
   ],
   "source": [
    "combined_data_pax.columns"
   ]
  },
  {
   "cell_type": "code",
   "execution_count": 120,
   "id": "e3d93ad3-7911-4b02-b947-b67963650893",
   "metadata": {
    "id": "e3d93ad3-7911-4b02-b947-b67963650893"
   },
   "outputs": [],
   "source": [
    "combined_data_pax.to_csv('combined_data_pax.csv', index=False)"
   ]
  },
  {
   "cell_type": "markdown",
   "id": "b08be446-8b5b-4589-83f2-69d6a748af93",
   "metadata": {
    "id": "b08be446-8b5b-4589-83f2-69d6a748af93"
   },
   "source": [
    "## 6.\tUse Onehotencoder and Ordinalencoder to deal with categorical variables."
   ]
  },
  {
   "cell_type": "code",
   "execution_count": 121,
   "id": "8f99dc95-7334-4224-ac77-9df75ff3d237",
   "metadata": {
    "colab": {
     "base_uri": "https://localhost:8080/"
    },
    "id": "8f99dc95-7334-4224-ac77-9df75ff3d237",
    "outputId": "2b68285d-66ae-420d-bf1e-22ea3a6ec37c"
   },
   "outputs": [
    {
     "data": {
      "text/plain": [
       "id                                 0\n",
       "Airline                            0\n",
       "Flight                             0\n",
       "AirportFrom                        0\n",
       "AirportTo                          0\n",
       "DayOfWeek                          0\n",
       "Time                               0\n",
       "Length                             0\n",
       "Delay                              0\n",
       "type_source_airport                0\n",
       "elevation_ft_source_airport        0\n",
       "runway_count_source_airport        0\n",
       "type_dest_airport                  0\n",
       "elevation_ft_dest_airport          0\n",
       "runway_count_dest_airport          0\n",
       "iata_code_x                    85001\n",
       "data_2019_source_airport        1173\n",
       "iata_code_y                    84949\n",
       "data_2019_dest_airport          1166\n",
       "Founded                            0\n",
       "duration                           0\n",
       "dtype: int64"
      ]
     },
     "execution_count": 121,
     "metadata": {},
     "output_type": "execute_result"
    }
   ],
   "source": [
    "combined_data_pax.isna().sum()"
   ]
  },
  {
   "cell_type": "code",
   "execution_count": 122,
   "id": "fa8c5d33-3e6f-4538-b9b2-7d46804f0805",
   "metadata": {
    "id": "fa8c5d33-3e6f-4538-b9b2-7d46804f0805"
   },
   "outputs": [],
   "source": [
    "combined_data_pax.dropna(inplace = True)"
   ]
  },
  {
   "cell_type": "code",
   "execution_count": 123,
   "id": "48303d74-bd03-4f35-b288-0dced4b9388d",
   "metadata": {
    "id": "48303d74-bd03-4f35-b288-0dced4b9388d"
   },
   "outputs": [],
   "source": [
    "combined_data_pax.drop(columns = ['id', 'Flight',  'duration'], inplace = True)"
   ]
  },
  {
   "cell_type": "code",
   "execution_count": 124,
   "id": "f5591cf9-6085-4ef0-ad39-61f893ba53d2",
   "metadata": {
    "colab": {
     "base_uri": "https://localhost:8080/",
     "height": 0
    },
    "id": "f5591cf9-6085-4ef0-ad39-61f893ba53d2",
    "outputId": "7f977a66-5b72-4a6e-d2b7-326c576a5801"
   },
   "outputs": [
    {
     "data": {
      "text/html": [
       "<div>\n",
       "<style scoped>\n",
       "    .dataframe tbody tr th:only-of-type {\n",
       "        vertical-align: middle;\n",
       "    }\n",
       "\n",
       "    .dataframe tbody tr th {\n",
       "        vertical-align: top;\n",
       "    }\n",
       "\n",
       "    .dataframe thead th {\n",
       "        text-align: right;\n",
       "    }\n",
       "</style>\n",
       "<table border=\"1\" class=\"dataframe\">\n",
       "  <thead>\n",
       "    <tr style=\"text-align: right;\">\n",
       "      <th></th>\n",
       "      <th>Airline</th>\n",
       "      <th>AirportFrom</th>\n",
       "      <th>AirportTo</th>\n",
       "      <th>DayOfWeek</th>\n",
       "      <th>Time</th>\n",
       "      <th>Length</th>\n",
       "      <th>Delay</th>\n",
       "      <th>type_source_airport</th>\n",
       "      <th>elevation_ft_source_airport</th>\n",
       "      <th>runway_count_source_airport</th>\n",
       "      <th>type_dest_airport</th>\n",
       "      <th>elevation_ft_dest_airport</th>\n",
       "      <th>runway_count_dest_airport</th>\n",
       "      <th>iata_code_x</th>\n",
       "      <th>data_2019_source_airport</th>\n",
       "      <th>iata_code_y</th>\n",
       "      <th>data_2019_dest_airport</th>\n",
       "      <th>Founded</th>\n",
       "    </tr>\n",
       "  </thead>\n",
       "  <tbody>\n",
       "    <tr>\n",
       "      <th>0</th>\n",
       "      <td>CO</td>\n",
       "      <td>SFO</td>\n",
       "      <td>IAH</td>\n",
       "      <td>3</td>\n",
       "      <td>15</td>\n",
       "      <td>205</td>\n",
       "      <td>1</td>\n",
       "      <td>large_airport</td>\n",
       "      <td>13.0</td>\n",
       "      <td>4.0</td>\n",
       "      <td>large_airport</td>\n",
       "      <td>97.0</td>\n",
       "      <td>5.0</td>\n",
       "      <td>SFO</td>\n",
       "      <td>27779230.0</td>\n",
       "      <td>IAH</td>\n",
       "      <td>21905309.0</td>\n",
       "      <td>1934.0</td>\n",
       "    </tr>\n",
       "    <tr>\n",
       "      <th>1</th>\n",
       "      <td>CO</td>\n",
       "      <td>LAX</td>\n",
       "      <td>IAH</td>\n",
       "      <td>3</td>\n",
       "      <td>30</td>\n",
       "      <td>181</td>\n",
       "      <td>1</td>\n",
       "      <td>large_airport</td>\n",
       "      <td>125.0</td>\n",
       "      <td>4.0</td>\n",
       "      <td>large_airport</td>\n",
       "      <td>97.0</td>\n",
       "      <td>5.0</td>\n",
       "      <td>LAX</td>\n",
       "      <td>42939104.0</td>\n",
       "      <td>IAH</td>\n",
       "      <td>21905309.0</td>\n",
       "      <td>1934.0</td>\n",
       "    </tr>\n",
       "  </tbody>\n",
       "</table>\n",
       "</div>"
      ],
      "text/plain": [
       "  Airline AirportFrom AirportTo  DayOfWeek  Time  Length  Delay  \\\n",
       "0      CO         SFO       IAH          3    15     205      1   \n",
       "1      CO         LAX       IAH          3    30     181      1   \n",
       "\n",
       "  type_source_airport  elevation_ft_source_airport  \\\n",
       "0       large_airport                         13.0   \n",
       "1       large_airport                        125.0   \n",
       "\n",
       "   runway_count_source_airport type_dest_airport  elevation_ft_dest_airport  \\\n",
       "0                          4.0     large_airport                       97.0   \n",
       "1                          4.0     large_airport                       97.0   \n",
       "\n",
       "   runway_count_dest_airport iata_code_x  data_2019_source_airport  \\\n",
       "0                        5.0         SFO                27779230.0   \n",
       "1                        5.0         LAX                42939104.0   \n",
       "\n",
       "  iata_code_y  data_2019_dest_airport  Founded  \n",
       "0         IAH              21905309.0   1934.0  \n",
       "1         IAH              21905309.0   1934.0  "
      ]
     },
     "execution_count": 124,
     "metadata": {},
     "output_type": "execute_result"
    }
   ],
   "source": [
    "combined_data_pax.head(2)"
   ]
  },
  {
   "cell_type": "code",
   "execution_count": 125,
   "id": "bca41ec4-9b33-401d-a78a-ec9c1c1af99c",
   "metadata": {
    "colab": {
     "base_uri": "https://localhost:8080/"
    },
    "id": "bca41ec4-9b33-401d-a78a-ec9c1c1af99c",
    "outputId": "e8b45971-0de6-48b6-b477-1473b01e951f"
   },
   "outputs": [
    {
     "data": {
      "text/plain": [
       "array(['large_airport', 'medium_airport'], dtype=object)"
      ]
     },
     "execution_count": 125,
     "metadata": {},
     "output_type": "execute_result"
    }
   ],
   "source": [
    "combined_data_pax.type_dest_airport.unique()"
   ]
  },
  {
   "cell_type": "code",
   "execution_count": 126,
   "id": "a24e2a48-563e-4f43-b142-c8b5d7945e79",
   "metadata": {
    "colab": {
     "base_uri": "https://localhost:8080/"
    },
    "id": "a24e2a48-563e-4f43-b142-c8b5d7945e79",
    "outputId": "fdc286ba-548c-4b2c-a57f-0d73fdb4e3c0"
   },
   "outputs": [
    {
     "data": {
      "text/html": [
       "<style>#sk-container-id-1 {color: black;}#sk-container-id-1 pre{padding: 0;}#sk-container-id-1 div.sk-toggleable {background-color: white;}#sk-container-id-1 label.sk-toggleable__label {cursor: pointer;display: block;width: 100%;margin-bottom: 0;padding: 0.3em;box-sizing: border-box;text-align: center;}#sk-container-id-1 label.sk-toggleable__label-arrow:before {content: \"▸\";float: left;margin-right: 0.25em;color: #696969;}#sk-container-id-1 label.sk-toggleable__label-arrow:hover:before {color: black;}#sk-container-id-1 div.sk-estimator:hover label.sk-toggleable__label-arrow:before {color: black;}#sk-container-id-1 div.sk-toggleable__content {max-height: 0;max-width: 0;overflow: hidden;text-align: left;background-color: #f0f8ff;}#sk-container-id-1 div.sk-toggleable__content pre {margin: 0.2em;color: black;border-radius: 0.25em;background-color: #f0f8ff;}#sk-container-id-1 input.sk-toggleable__control:checked~div.sk-toggleable__content {max-height: 200px;max-width: 100%;overflow: auto;}#sk-container-id-1 input.sk-toggleable__control:checked~label.sk-toggleable__label-arrow:before {content: \"▾\";}#sk-container-id-1 div.sk-estimator input.sk-toggleable__control:checked~label.sk-toggleable__label {background-color: #d4ebff;}#sk-container-id-1 div.sk-label input.sk-toggleable__control:checked~label.sk-toggleable__label {background-color: #d4ebff;}#sk-container-id-1 input.sk-hidden--visually {border: 0;clip: rect(1px 1px 1px 1px);clip: rect(1px, 1px, 1px, 1px);height: 1px;margin: -1px;overflow: hidden;padding: 0;position: absolute;width: 1px;}#sk-container-id-1 div.sk-estimator {font-family: monospace;background-color: #f0f8ff;border: 1px dotted black;border-radius: 0.25em;box-sizing: border-box;margin-bottom: 0.5em;}#sk-container-id-1 div.sk-estimator:hover {background-color: #d4ebff;}#sk-container-id-1 div.sk-parallel-item::after {content: \"\";width: 100%;border-bottom: 1px solid gray;flex-grow: 1;}#sk-container-id-1 div.sk-label:hover label.sk-toggleable__label {background-color: #d4ebff;}#sk-container-id-1 div.sk-serial::before {content: \"\";position: absolute;border-left: 1px solid gray;box-sizing: border-box;top: 0;bottom: 0;left: 50%;z-index: 0;}#sk-container-id-1 div.sk-serial {display: flex;flex-direction: column;align-items: center;background-color: white;padding-right: 0.2em;padding-left: 0.2em;position: relative;}#sk-container-id-1 div.sk-item {position: relative;z-index: 1;}#sk-container-id-1 div.sk-parallel {display: flex;align-items: stretch;justify-content: center;background-color: white;position: relative;}#sk-container-id-1 div.sk-item::before, #sk-container-id-1 div.sk-parallel-item::before {content: \"\";position: absolute;border-left: 1px solid gray;box-sizing: border-box;top: 0;bottom: 0;left: 50%;z-index: -1;}#sk-container-id-1 div.sk-parallel-item {display: flex;flex-direction: column;z-index: 1;position: relative;background-color: white;}#sk-container-id-1 div.sk-parallel-item:first-child::after {align-self: flex-end;width: 50%;}#sk-container-id-1 div.sk-parallel-item:last-child::after {align-self: flex-start;width: 50%;}#sk-container-id-1 div.sk-parallel-item:only-child::after {width: 0;}#sk-container-id-1 div.sk-dashed-wrapped {border: 1px dashed gray;margin: 0 0.4em 0.5em 0.4em;box-sizing: border-box;padding-bottom: 0.4em;background-color: white;}#sk-container-id-1 div.sk-label label {font-family: monospace;font-weight: bold;display: inline-block;line-height: 1.2em;}#sk-container-id-1 div.sk-label-container {text-align: center;}#sk-container-id-1 div.sk-container {/* jupyter's `normalize.less` sets `[hidden] { display: none; }` but bootstrap.min.css set `[hidden] { display: none !important; }` so we also need the `!important` here to be able to override the default hidden behavior on the sphinx rendered scikit-learn.org. See: https://github.com/scikit-learn/scikit-learn/issues/21755 */display: inline-block !important;position: relative;}#sk-container-id-1 div.sk-text-repr-fallback {display: none;}</style><div id=\"sk-container-id-1\" class=\"sk-top-container\"><div class=\"sk-text-repr-fallback\"><pre>OrdinalEncoder(categories=[[&#x27;medium_airport&#x27;, &#x27;large_airport&#x27;],\n",
       "                           [&#x27;medium_airport&#x27;, &#x27;large_airport&#x27;]])</pre><b>In a Jupyter environment, please rerun this cell to show the HTML representation or trust the notebook. <br />On GitHub, the HTML representation is unable to render, please try loading this page with nbviewer.org.</b></div><div class=\"sk-container\" hidden><div class=\"sk-item\"><div class=\"sk-estimator sk-toggleable\"><input class=\"sk-toggleable__control sk-hidden--visually\" id=\"sk-estimator-id-1\" type=\"checkbox\" checked><label for=\"sk-estimator-id-1\" class=\"sk-toggleable__label sk-toggleable__label-arrow\">OrdinalEncoder</label><div class=\"sk-toggleable__content\"><pre>OrdinalEncoder(categories=[[&#x27;medium_airport&#x27;, &#x27;large_airport&#x27;],\n",
       "                           [&#x27;medium_airport&#x27;, &#x27;large_airport&#x27;]])</pre></div></div></div></div></div>"
      ],
      "text/plain": [
       "OrdinalEncoder(categories=[['medium_airport', 'large_airport'],\n",
       "                           ['medium_airport', 'large_airport']])"
      ]
     },
     "execution_count": 126,
     "metadata": {},
     "output_type": "execute_result"
    }
   ],
   "source": [
    "ordinal = OrdinalEncoder(categories=[['medium_airport', 'large_airport'],['medium_airport', 'large_airport']])\n",
    "ordinal.fit(combined_data_pax[['type_source_airport', 'type_dest_airport']])"
   ]
  },
  {
   "cell_type": "code",
   "execution_count": 127,
   "id": "ebb9368d-fef1-4118-9565-69a3edfa6ae9",
   "metadata": {
    "id": "ebb9368d-fef1-4118-9565-69a3edfa6ae9"
   },
   "outputs": [],
   "source": [
    "combined_data_pax[['type_source_airport', 'type_dest_airport']] = ordinal.transform(combined_data_pax[['type_source_airport', 'type_dest_airport']])"
   ]
  },
  {
   "cell_type": "code",
   "execution_count": 128,
   "id": "8cdeaa5e-d37d-4fd7-b8f5-4b720c4d1c7c",
   "metadata": {
    "id": "8cdeaa5e-d37d-4fd7-b8f5-4b720c4d1c7c"
   },
   "outputs": [],
   "source": [
    "model_data = combined_data_pax.drop(columns = ['Airline', 'AirportFrom', 'AirportTo'])"
   ]
  },
  {
   "cell_type": "code",
   "execution_count": 129,
   "id": "3d481885-4cfb-4c7a-8063-1cd82c2bcc92",
   "metadata": {
    "colab": {
     "base_uri": "https://localhost:8080/"
    },
    "id": "3d481885-4cfb-4c7a-8063-1cd82c2bcc92",
    "outputId": "c183086f-81fd-483a-aefc-f987d0774f22"
   },
   "outputs": [
    {
     "data": {
      "text/plain": [
       "(349772, 15)"
      ]
     },
     "execution_count": 129,
     "metadata": {},
     "output_type": "execute_result"
    }
   ],
   "source": [
    "model_data.shape"
   ]
  },
  {
   "cell_type": "code",
   "execution_count": 130,
   "id": "fa2a0b53-de6f-4fc2-b762-bcaf72d1dc2d",
   "metadata": {
    "colab": {
     "base_uri": "https://localhost:8080/"
    },
    "id": "fa2a0b53-de6f-4fc2-b762-bcaf72d1dc2d",
    "outputId": "6b5af4cb-b369-47f8-9ad2-0ac0c8d82025"
   },
   "outputs": [
    {
     "data": {
      "text/plain": [
       "(349772, 141)"
      ]
     },
     "execution_count": 130,
     "metadata": {},
     "output_type": "execute_result"
    }
   ],
   "source": [
    "dummy = pd.get_dummies(model_data)\n",
    "dummy.shape"
   ]
  },
  {
   "cell_type": "code",
   "execution_count": 131,
   "id": "7c6d775e-c698-4ce7-bae6-1a02c46a241c",
   "metadata": {
    "colab": {
     "base_uri": "https://localhost:8080/"
    },
    "id": "7c6d775e-c698-4ce7-bae6-1a02c46a241c",
    "outputId": "244ec61b-d468-45f6-bad4-a21be0771c7c"
   },
   "outputs": [
    {
     "data": {
      "text/plain": [
       "(518556, 9)"
      ]
     },
     "execution_count": 131,
     "metadata": {},
     "output_type": "execute_result"
    }
   ],
   "source": [
    "airlines.shape"
   ]
  },
  {
   "cell_type": "code",
   "execution_count": 132,
   "id": "d5d9d748-f3df-4c20-80c5-9eea5ef45123",
   "metadata": {
    "id": "d5d9d748-f3df-4c20-80c5-9eea5ef45123"
   },
   "outputs": [],
   "source": [
    "dummy.Founded = 2022 - dummy.Founded"
   ]
  },
  {
   "cell_type": "code",
   "execution_count": 133,
   "id": "bc193053-abc8-40fd-9b51-46b5f2d6a800",
   "metadata": {
    "colab": {
     "base_uri": "https://localhost:8080/",
     "height": 0
    },
    "id": "bc193053-abc8-40fd-9b51-46b5f2d6a800",
    "outputId": "06964c09-ee52-48b4-b563-fc4b2aff7f18"
   },
   "outputs": [
    {
     "data": {
      "text/html": [
       "<div>\n",
       "<style scoped>\n",
       "    .dataframe tbody tr th:only-of-type {\n",
       "        vertical-align: middle;\n",
       "    }\n",
       "\n",
       "    .dataframe tbody tr th {\n",
       "        vertical-align: top;\n",
       "    }\n",
       "\n",
       "    .dataframe thead th {\n",
       "        text-align: right;\n",
       "    }\n",
       "</style>\n",
       "<table border=\"1\" class=\"dataframe\">\n",
       "  <thead>\n",
       "    <tr style=\"text-align: right;\">\n",
       "      <th></th>\n",
       "      <th>DayOfWeek</th>\n",
       "      <th>Time</th>\n",
       "      <th>Length</th>\n",
       "      <th>Delay</th>\n",
       "      <th>type_source_airport</th>\n",
       "      <th>elevation_ft_source_airport</th>\n",
       "      <th>runway_count_source_airport</th>\n",
       "      <th>type_dest_airport</th>\n",
       "      <th>elevation_ft_dest_airport</th>\n",
       "      <th>runway_count_dest_airport</th>\n",
       "      <th>...</th>\n",
       "      <th>iata_code_y_SAT</th>\n",
       "      <th>iata_code_y_SEA</th>\n",
       "      <th>iata_code_y_SFO</th>\n",
       "      <th>iata_code_y_SJC</th>\n",
       "      <th>iata_code_y_SJU</th>\n",
       "      <th>iata_code_y_SLC</th>\n",
       "      <th>iata_code_y_SMF</th>\n",
       "      <th>iata_code_y_SNA</th>\n",
       "      <th>iata_code_y_STL</th>\n",
       "      <th>iata_code_y_TPA</th>\n",
       "    </tr>\n",
       "  </thead>\n",
       "  <tbody>\n",
       "    <tr>\n",
       "      <th>0</th>\n",
       "      <td>3</td>\n",
       "      <td>15</td>\n",
       "      <td>205</td>\n",
       "      <td>1</td>\n",
       "      <td>1.0</td>\n",
       "      <td>13.0</td>\n",
       "      <td>4.0</td>\n",
       "      <td>1.0</td>\n",
       "      <td>97.0</td>\n",
       "      <td>5.0</td>\n",
       "      <td>...</td>\n",
       "      <td>0</td>\n",
       "      <td>0</td>\n",
       "      <td>0</td>\n",
       "      <td>0</td>\n",
       "      <td>0</td>\n",
       "      <td>0</td>\n",
       "      <td>0</td>\n",
       "      <td>0</td>\n",
       "      <td>0</td>\n",
       "      <td>0</td>\n",
       "    </tr>\n",
       "    <tr>\n",
       "      <th>1</th>\n",
       "      <td>3</td>\n",
       "      <td>30</td>\n",
       "      <td>181</td>\n",
       "      <td>1</td>\n",
       "      <td>1.0</td>\n",
       "      <td>125.0</td>\n",
       "      <td>4.0</td>\n",
       "      <td>1.0</td>\n",
       "      <td>97.0</td>\n",
       "      <td>5.0</td>\n",
       "      <td>...</td>\n",
       "      <td>0</td>\n",
       "      <td>0</td>\n",
       "      <td>0</td>\n",
       "      <td>0</td>\n",
       "      <td>0</td>\n",
       "      <td>0</td>\n",
       "      <td>0</td>\n",
       "      <td>0</td>\n",
       "      <td>0</td>\n",
       "      <td>0</td>\n",
       "    </tr>\n",
       "  </tbody>\n",
       "</table>\n",
       "<p>2 rows × 141 columns</p>\n",
       "</div>"
      ],
      "text/plain": [
       "   DayOfWeek  Time  Length  Delay  type_source_airport  \\\n",
       "0          3    15     205      1                  1.0   \n",
       "1          3    30     181      1                  1.0   \n",
       "\n",
       "   elevation_ft_source_airport  runway_count_source_airport  \\\n",
       "0                         13.0                          4.0   \n",
       "1                        125.0                          4.0   \n",
       "\n",
       "   type_dest_airport  elevation_ft_dest_airport  runway_count_dest_airport  \\\n",
       "0                1.0                       97.0                        5.0   \n",
       "1                1.0                       97.0                        5.0   \n",
       "\n",
       "   ...  iata_code_y_SAT  iata_code_y_SEA  iata_code_y_SFO  iata_code_y_SJC  \\\n",
       "0  ...                0                0                0                0   \n",
       "1  ...                0                0                0                0   \n",
       "\n",
       "   iata_code_y_SJU  iata_code_y_SLC  iata_code_y_SMF  iata_code_y_SNA  \\\n",
       "0                0                0                0                0   \n",
       "1                0                0                0                0   \n",
       "\n",
       "   iata_code_y_STL  iata_code_y_TPA  \n",
       "0                0                0  \n",
       "1                0                0  \n",
       "\n",
       "[2 rows x 141 columns]"
      ]
     },
     "execution_count": 133,
     "metadata": {},
     "output_type": "execute_result"
    }
   ],
   "source": [
    "dummy.head(2)"
   ]
  },
  {
   "cell_type": "raw",
   "id": "c7979299-714c-438d-b742-465a59e8883c",
   "metadata": {
    "id": "c7979299-714c-438d-b742-465a59e8883c"
   },
   "source": [
    "8.\tModel Building:\n",
    "\n",
    "I.\tUse logistic regression(use stochastic gradient descent optimizer)  and decision tree models\n",
    "II.\tUse stratified 5-fold method to build the models and validate\n",
    "III.\tMake sure you use standardization effectively ensuring no data leakage\n",
    "IV.\tPipelines need to leveraged to have a cleaner code\n",
    "V.\tUse randomized search CV for Hyperparameter tuning. For CV, use k-fold. \n",
    "VI.\tKeep a few data points(10%) away for the prediction purposes. \n",
    "VII.\tFinal prediction has to be done based on voting(majority class by 5 models created using stratified 5-fold method\n",
    "VIII.\tCompare the results of logistic regression and decision tree classifier"
   ]
  },
  {
   "cell_type": "code",
   "execution_count": 134,
   "id": "b2938293-836d-40b8-b2d2-2bfe4ac6e8a1",
   "metadata": {
    "id": "b2938293-836d-40b8-b2d2-2bfe4ac6e8a1"
   },
   "outputs": [],
   "source": [
    "model_data.reset_index(drop = True, inplace = True)"
   ]
  },
  {
   "cell_type": "code",
   "execution_count": 135,
   "id": "ec4d1845-4c8d-48bf-8d4c-6c0750a0b0ff",
   "metadata": {
    "id": "ec4d1845-4c8d-48bf-8d4c-6c0750a0b0ff"
   },
   "outputs": [],
   "source": [
    "np.random.seed(12)\n",
    "deploy_idx = np.random.choice(model_data.index, replace = False, size = 5000)"
   ]
  },
  {
   "cell_type": "code",
   "execution_count": 136,
   "id": "e03ea35f-8d56-493e-a394-09bc1a62d6df",
   "metadata": {
    "id": "e03ea35f-8d56-493e-a394-09bc1a62d6df"
   },
   "outputs": [],
   "source": [
    "deploy = model_data.loc[deploy_idx]"
   ]
  },
  {
   "cell_type": "code",
   "execution_count": 137,
   "id": "db01943c-24f6-4b4a-9a5f-332d84a90d08",
   "metadata": {
    "id": "db01943c-24f6-4b4a-9a5f-332d84a90d08"
   },
   "outputs": [],
   "source": [
    "X_deploy = deploy.drop(columns = 'Delay')"
   ]
  },
  {
   "cell_type": "code",
   "execution_count": 138,
   "id": "063d2c52-6f11-48fc-97a7-0b5dc42b1adb",
   "metadata": {
    "id": "063d2c52-6f11-48fc-97a7-0b5dc42b1adb"
   },
   "outputs": [],
   "source": [
    "model_dev = model_data.loc[~model_data.index.isin(deploy.index)]"
   ]
  },
  {
   "cell_type": "code",
   "execution_count": 139,
   "id": "d8475aff-72ca-41fc-be9b-daef855a19cd",
   "metadata": {
    "id": "d8475aff-72ca-41fc-be9b-daef855a19cd"
   },
   "outputs": [],
   "source": [
    "deploy.reset_index(drop = True, inplace = True)\n",
    "model_dev.reset_index(drop = True, inplace = True)"
   ]
  },
  {
   "cell_type": "code",
   "execution_count": 140,
   "id": "a0c42740-942b-4497-aa20-d8212a44f45e",
   "metadata": {},
   "outputs": [],
   "source": [
    "dummy.dropna(inplace=True)"
   ]
  },
  {
   "cell_type": "code",
   "execution_count": 141,
   "id": "8b3e2a48-86f6-448f-98d0-02888cc86cd8",
   "metadata": {
    "id": "8b3e2a48-86f6-448f-98d0-02888cc86cd8"
   },
   "outputs": [],
   "source": [
    "X = dummy.drop(columns = 'Delay')\n",
    "y = dummy.Delay"
   ]
  },
  {
   "cell_type": "markdown",
   "id": "b99be558-201a-4a13-bdfa-e60ac64290af",
   "metadata": {},
   "source": [
    "### Split data into train and test\n",
    "### Standardise data\n"
   ]
  },
  {
   "cell_type": "code",
   "execution_count": 142,
   "id": "3760423c-5a0f-4280-ad8a-7e3ee13ce64b",
   "metadata": {},
   "outputs": [],
   "source": [
    "from sklearn.model_selection import train_test_split\n",
    "from sklearn.preprocessing import StandardScaler"
   ]
  },
  {
   "cell_type": "code",
   "execution_count": 143,
   "id": "fa4ebd83-0202-4868-a05c-3b92221780f1",
   "metadata": {},
   "outputs": [],
   "source": [
    "x_train,x_test,y_train,y_test = train_test_split(X,y,stratify=y,random_state=0)"
   ]
  },
  {
   "cell_type": "code",
   "execution_count": 144,
   "id": "921d0333-faf8-4ef9-b944-c41d307c360c",
   "metadata": {},
   "outputs": [],
   "source": [
    "st = StandardScaler()\n",
    "x_train_std = st.fit_transform(x_train)\n",
    "x_test_std = st.transform(x_test)"
   ]
  },
  {
   "cell_type": "markdown",
   "id": "d00f403e-38f3-4d96-ba21-8d6b2e211776",
   "metadata": {
    "colab": {
     "base_uri": "https://localhost:8080/"
    },
    "id": "f840919c-7f36-47ad-9482-5ffa3af1828c",
    "outputId": "0f608ef9-6834-426e-8a83-3892d9786132",
    "tags": []
   },
   "source": [
    "### Apply logistic regression (use stochastic gradient descent optimizer) and decision tree models\n"
   ]
  },
  {
   "cell_type": "code",
   "execution_count": 145,
   "id": "5597391d-aeae-432f-a1af-0df2315daed5",
   "metadata": {
    "colab": {
     "base_uri": "https://localhost:8080/"
    },
    "id": "5597391d-aeae-432f-a1af-0df2315daed5",
    "outputId": "295ab6c8-ccf2-4b06-d834-2016ef56b872"
   },
   "outputs": [],
   "source": [
    "from sklearn.linear_model import SGDClassifier"
   ]
  },
  {
   "cell_type": "code",
   "execution_count": 146,
   "id": "d27b826d-b953-420c-b845-a6d6c77df255",
   "metadata": {},
   "outputs": [
    {
     "data": {
      "text/html": [
       "<style>#sk-container-id-2 {color: black;}#sk-container-id-2 pre{padding: 0;}#sk-container-id-2 div.sk-toggleable {background-color: white;}#sk-container-id-2 label.sk-toggleable__label {cursor: pointer;display: block;width: 100%;margin-bottom: 0;padding: 0.3em;box-sizing: border-box;text-align: center;}#sk-container-id-2 label.sk-toggleable__label-arrow:before {content: \"▸\";float: left;margin-right: 0.25em;color: #696969;}#sk-container-id-2 label.sk-toggleable__label-arrow:hover:before {color: black;}#sk-container-id-2 div.sk-estimator:hover label.sk-toggleable__label-arrow:before {color: black;}#sk-container-id-2 div.sk-toggleable__content {max-height: 0;max-width: 0;overflow: hidden;text-align: left;background-color: #f0f8ff;}#sk-container-id-2 div.sk-toggleable__content pre {margin: 0.2em;color: black;border-radius: 0.25em;background-color: #f0f8ff;}#sk-container-id-2 input.sk-toggleable__control:checked~div.sk-toggleable__content {max-height: 200px;max-width: 100%;overflow: auto;}#sk-container-id-2 input.sk-toggleable__control:checked~label.sk-toggleable__label-arrow:before {content: \"▾\";}#sk-container-id-2 div.sk-estimator input.sk-toggleable__control:checked~label.sk-toggleable__label {background-color: #d4ebff;}#sk-container-id-2 div.sk-label input.sk-toggleable__control:checked~label.sk-toggleable__label {background-color: #d4ebff;}#sk-container-id-2 input.sk-hidden--visually {border: 0;clip: rect(1px 1px 1px 1px);clip: rect(1px, 1px, 1px, 1px);height: 1px;margin: -1px;overflow: hidden;padding: 0;position: absolute;width: 1px;}#sk-container-id-2 div.sk-estimator {font-family: monospace;background-color: #f0f8ff;border: 1px dotted black;border-radius: 0.25em;box-sizing: border-box;margin-bottom: 0.5em;}#sk-container-id-2 div.sk-estimator:hover {background-color: #d4ebff;}#sk-container-id-2 div.sk-parallel-item::after {content: \"\";width: 100%;border-bottom: 1px solid gray;flex-grow: 1;}#sk-container-id-2 div.sk-label:hover label.sk-toggleable__label {background-color: #d4ebff;}#sk-container-id-2 div.sk-serial::before {content: \"\";position: absolute;border-left: 1px solid gray;box-sizing: border-box;top: 0;bottom: 0;left: 50%;z-index: 0;}#sk-container-id-2 div.sk-serial {display: flex;flex-direction: column;align-items: center;background-color: white;padding-right: 0.2em;padding-left: 0.2em;position: relative;}#sk-container-id-2 div.sk-item {position: relative;z-index: 1;}#sk-container-id-2 div.sk-parallel {display: flex;align-items: stretch;justify-content: center;background-color: white;position: relative;}#sk-container-id-2 div.sk-item::before, #sk-container-id-2 div.sk-parallel-item::before {content: \"\";position: absolute;border-left: 1px solid gray;box-sizing: border-box;top: 0;bottom: 0;left: 50%;z-index: -1;}#sk-container-id-2 div.sk-parallel-item {display: flex;flex-direction: column;z-index: 1;position: relative;background-color: white;}#sk-container-id-2 div.sk-parallel-item:first-child::after {align-self: flex-end;width: 50%;}#sk-container-id-2 div.sk-parallel-item:last-child::after {align-self: flex-start;width: 50%;}#sk-container-id-2 div.sk-parallel-item:only-child::after {width: 0;}#sk-container-id-2 div.sk-dashed-wrapped {border: 1px dashed gray;margin: 0 0.4em 0.5em 0.4em;box-sizing: border-box;padding-bottom: 0.4em;background-color: white;}#sk-container-id-2 div.sk-label label {font-family: monospace;font-weight: bold;display: inline-block;line-height: 1.2em;}#sk-container-id-2 div.sk-label-container {text-align: center;}#sk-container-id-2 div.sk-container {/* jupyter's `normalize.less` sets `[hidden] { display: none; }` but bootstrap.min.css set `[hidden] { display: none !important; }` so we also need the `!important` here to be able to override the default hidden behavior on the sphinx rendered scikit-learn.org. See: https://github.com/scikit-learn/scikit-learn/issues/21755 */display: inline-block !important;position: relative;}#sk-container-id-2 div.sk-text-repr-fallback {display: none;}</style><div id=\"sk-container-id-2\" class=\"sk-top-container\"><div class=\"sk-text-repr-fallback\"><pre>SGDClassifier()</pre><b>In a Jupyter environment, please rerun this cell to show the HTML representation or trust the notebook. <br />On GitHub, the HTML representation is unable to render, please try loading this page with nbviewer.org.</b></div><div class=\"sk-container\" hidden><div class=\"sk-item\"><div class=\"sk-estimator sk-toggleable\"><input class=\"sk-toggleable__control sk-hidden--visually\" id=\"sk-estimator-id-2\" type=\"checkbox\" checked><label for=\"sk-estimator-id-2\" class=\"sk-toggleable__label sk-toggleable__label-arrow\">SGDClassifier</label><div class=\"sk-toggleable__content\"><pre>SGDClassifier()</pre></div></div></div></div></div>"
      ],
      "text/plain": [
       "SGDClassifier()"
      ]
     },
     "execution_count": 146,
     "metadata": {},
     "output_type": "execute_result"
    }
   ],
   "source": [
    "sgdcModel = SGDClassifier()\n",
    "sgdcModel.fit(x_train_std,y_train)"
   ]
  },
  {
   "cell_type": "code",
   "execution_count": 147,
   "id": "00080820-97e8-44ab-99fb-7df08faa90bb",
   "metadata": {},
   "outputs": [
    {
     "data": {
      "text/plain": [
       "0.5979476153989837"
      ]
     },
     "execution_count": 147,
     "metadata": {},
     "output_type": "execute_result"
    }
   ],
   "source": [
    "# train score\n",
    "sgdcModel.score(x_train_std,y_train)"
   ]
  },
  {
   "cell_type": "code",
   "execution_count": 148,
   "id": "85cf540c-a1f9-43ec-aed3-b7cf6fc50274",
   "metadata": {},
   "outputs": [
    {
     "data": {
      "text/plain": [
       "0.5984241162814633"
      ]
     },
     "execution_count": 148,
     "metadata": {},
     "output_type": "execute_result"
    }
   ],
   "source": [
    "# train score\n",
    "sgdcModel.score(x_test_std,y_test)"
   ]
  },
  {
   "cell_type": "markdown",
   "id": "c01ad585-764b-4429-b228-da2acd9e2b9c",
   "metadata": {},
   "source": [
    "### Accuracy report"
   ]
  },
  {
   "cell_type": "code",
   "execution_count": 149,
   "id": "c6b414df-2259-4095-82c9-036487157802",
   "metadata": {},
   "outputs": [],
   "source": [
    "from sklearn.metrics import classification_report"
   ]
  },
  {
   "cell_type": "code",
   "execution_count": 150,
   "id": "134d93e0-bfab-4a93-af92-b7697856df72",
   "metadata": {},
   "outputs": [],
   "source": [
    "y_train_pred_sgd = sgdcModel.predict(x_train_std)\n",
    "y_test_pred_sgd = sgdcModel.predict(x_test_std)"
   ]
  },
  {
   "cell_type": "code",
   "execution_count": 151,
   "id": "d3ad971f-1534-49da-800e-e44821bb0f1e",
   "metadata": {},
   "outputs": [
    {
     "name": "stdout",
     "output_type": "stream",
     "text": [
      "              precision    recall  f1-score   support\n",
      "\n",
      "           0       0.60      0.67      0.64    137227\n",
      "           1       0.59      0.52      0.55    125102\n",
      "\n",
      "    accuracy                           0.60    262329\n",
      "   macro avg       0.60      0.59      0.59    262329\n",
      "weighted avg       0.60      0.60      0.60    262329\n",
      "\n",
      "              precision    recall  f1-score   support\n",
      "\n",
      "           0       0.60      0.67      0.64     45743\n",
      "           1       0.59      0.52      0.55     41700\n",
      "\n",
      "    accuracy                           0.60     87443\n",
      "   macro avg       0.60      0.59      0.59     87443\n",
      "weighted avg       0.60      0.60      0.60     87443\n",
      "\n"
     ]
    }
   ],
   "source": [
    "print(classification_report(y_train,y_train_pred_sgd))\n",
    "\n",
    "print(classification_report(y_test,y_test_pred_sgd))"
   ]
  },
  {
   "cell_type": "markdown",
   "id": "9d59ad0e-574e-4bcd-b707-1ccb934c64e8",
   "metadata": {},
   "source": [
    "### Decision Tree Model"
   ]
  },
  {
   "cell_type": "code",
   "execution_count": 152,
   "id": "74487032-a122-4fbb-8531-bb795c731cde",
   "metadata": {},
   "outputs": [],
   "source": [
    "from sklearn.tree import DecisionTreeClassifier"
   ]
  },
  {
   "cell_type": "code",
   "execution_count": 153,
   "id": "88452ccf-0df3-476e-8f41-d4a0d6cadf1a",
   "metadata": {},
   "outputs": [
    {
     "name": "stdout",
     "output_type": "stream",
     "text": [
      "              precision    recall  f1-score   support\n",
      "\n",
      "           0       0.78      0.93      0.85    137227\n",
      "           1       0.90      0.71      0.79    125102\n",
      "\n",
      "    accuracy                           0.82    262329\n",
      "   macro avg       0.84      0.82      0.82    262329\n",
      "weighted avg       0.84      0.82      0.82    262329\n",
      "\n",
      "              precision    recall  f1-score   support\n",
      "\n",
      "           0       0.61      0.70      0.65     45743\n",
      "           1       0.60      0.50      0.55     41700\n",
      "\n",
      "    accuracy                           0.60     87443\n",
      "   macro avg       0.60      0.60      0.60     87443\n",
      "weighted avg       0.60      0.60      0.60     87443\n",
      "\n"
     ]
    }
   ],
   "source": [
    "dtModel = DecisionTreeClassifier()\n",
    "\n",
    "dtModel.fit(x_train,y_train)\n",
    "\n",
    "# train Score\n",
    "dtModel.score(x_train,y_train)\n",
    "\n",
    "#test score\n",
    "dtModel.score(x_test,y_test)\n",
    "\n",
    "y_train_pred_dt = dtModel.predict(x_train)\n",
    "y_test_pred_dt = dtModel.predict(x_test)\n",
    "\n",
    "print(classification_report(y_train,y_train_pred_dt))\n",
    "\n",
    "print(classification_report(y_test,y_test_pred_dt))"
   ]
  },
  {
   "cell_type": "markdown",
   "id": "d7b92a59-6688-4e67-b134-18af925dab2c",
   "metadata": {},
   "source": [
    "### Decision tree is overfitted"
   ]
  },
  {
   "cell_type": "code",
   "execution_count": 154,
   "id": "5d02067f-86b8-4510-9445-549577bcdb14",
   "metadata": {},
   "outputs": [
    {
     "name": "stdout",
     "output_type": "stream",
     "text": [
      "              precision    recall  f1-score   support\n",
      "\n",
      "           0       0.72      0.79      0.75    137227\n",
      "           1       0.74      0.67      0.70    125102\n",
      "\n",
      "    accuracy                           0.73    262329\n",
      "   macro avg       0.73      0.73      0.73    262329\n",
      "weighted avg       0.73      0.73      0.73    262329\n",
      "\n",
      "              precision    recall  f1-score   support\n",
      "\n",
      "           0       0.65      0.70      0.67     45743\n",
      "           1       0.64      0.58      0.61     41700\n",
      "\n",
      "    accuracy                           0.64     87443\n",
      "   macro avg       0.64      0.64      0.64     87443\n",
      "weighted avg       0.64      0.64      0.64     87443\n",
      "\n"
     ]
    }
   ],
   "source": [
    "dtModel = DecisionTreeClassifier(min_samples_split=12,min_samples_leaf=12) # try different values \n",
    "\n",
    "dtModel.fit(x_train,y_train)\n",
    "\n",
    "# train Score\n",
    "dtModel.score(x_train,y_train)\n",
    "\n",
    "#test score\n",
    "dtModel.score(x_test,y_test)\n",
    "\n",
    "y_train_pred_dt = dtModel.predict(x_train)\n",
    "y_test_pred_dt = dtModel.predict(x_test)\n",
    "\n",
    "print(classification_report(y_train,y_train_pred_dt))\n",
    "\n",
    "print(classification_report(y_test,y_test_pred_dt))"
   ]
  },
  {
   "cell_type": "raw",
   "id": "71ac9965-174a-48ed-be24-3dacc1b97f23",
   "metadata": {
    "id": "71ac9965-174a-48ed-be24-3dacc1b97f23"
   },
   "source": [
    "9.\tUse Gradient Boosting classifier for the model building,Compare all the methods and share your learnings."
   ]
  },
  {
   "cell_type": "code",
   "execution_count": 155,
   "id": "40a69fbf-2247-4ecb-a80b-7b21fd1f83e4",
   "metadata": {
    "colab": {
     "base_uri": "https://localhost:8080/"
    },
    "id": "40a69fbf-2247-4ecb-a80b-7b21fd1f83e4",
    "outputId": "ca357491-6fc9-4370-d326-fa20f5d1078e"
   },
   "outputs": [],
   "source": [
    "from sklearn.ensemble import GradientBoostingRegressor"
   ]
  },
  {
   "cell_type": "code",
   "execution_count": 156,
   "id": "562307cf-428a-4c1e-a907-b13ea0502945",
   "metadata": {},
   "outputs": [
    {
     "data": {
      "text/html": [
       "<style>#sk-container-id-3 {color: black;}#sk-container-id-3 pre{padding: 0;}#sk-container-id-3 div.sk-toggleable {background-color: white;}#sk-container-id-3 label.sk-toggleable__label {cursor: pointer;display: block;width: 100%;margin-bottom: 0;padding: 0.3em;box-sizing: border-box;text-align: center;}#sk-container-id-3 label.sk-toggleable__label-arrow:before {content: \"▸\";float: left;margin-right: 0.25em;color: #696969;}#sk-container-id-3 label.sk-toggleable__label-arrow:hover:before {color: black;}#sk-container-id-3 div.sk-estimator:hover label.sk-toggleable__label-arrow:before {color: black;}#sk-container-id-3 div.sk-toggleable__content {max-height: 0;max-width: 0;overflow: hidden;text-align: left;background-color: #f0f8ff;}#sk-container-id-3 div.sk-toggleable__content pre {margin: 0.2em;color: black;border-radius: 0.25em;background-color: #f0f8ff;}#sk-container-id-3 input.sk-toggleable__control:checked~div.sk-toggleable__content {max-height: 200px;max-width: 100%;overflow: auto;}#sk-container-id-3 input.sk-toggleable__control:checked~label.sk-toggleable__label-arrow:before {content: \"▾\";}#sk-container-id-3 div.sk-estimator input.sk-toggleable__control:checked~label.sk-toggleable__label {background-color: #d4ebff;}#sk-container-id-3 div.sk-label input.sk-toggleable__control:checked~label.sk-toggleable__label {background-color: #d4ebff;}#sk-container-id-3 input.sk-hidden--visually {border: 0;clip: rect(1px 1px 1px 1px);clip: rect(1px, 1px, 1px, 1px);height: 1px;margin: -1px;overflow: hidden;padding: 0;position: absolute;width: 1px;}#sk-container-id-3 div.sk-estimator {font-family: monospace;background-color: #f0f8ff;border: 1px dotted black;border-radius: 0.25em;box-sizing: border-box;margin-bottom: 0.5em;}#sk-container-id-3 div.sk-estimator:hover {background-color: #d4ebff;}#sk-container-id-3 div.sk-parallel-item::after {content: \"\";width: 100%;border-bottom: 1px solid gray;flex-grow: 1;}#sk-container-id-3 div.sk-label:hover label.sk-toggleable__label {background-color: #d4ebff;}#sk-container-id-3 div.sk-serial::before {content: \"\";position: absolute;border-left: 1px solid gray;box-sizing: border-box;top: 0;bottom: 0;left: 50%;z-index: 0;}#sk-container-id-3 div.sk-serial {display: flex;flex-direction: column;align-items: center;background-color: white;padding-right: 0.2em;padding-left: 0.2em;position: relative;}#sk-container-id-3 div.sk-item {position: relative;z-index: 1;}#sk-container-id-3 div.sk-parallel {display: flex;align-items: stretch;justify-content: center;background-color: white;position: relative;}#sk-container-id-3 div.sk-item::before, #sk-container-id-3 div.sk-parallel-item::before {content: \"\";position: absolute;border-left: 1px solid gray;box-sizing: border-box;top: 0;bottom: 0;left: 50%;z-index: -1;}#sk-container-id-3 div.sk-parallel-item {display: flex;flex-direction: column;z-index: 1;position: relative;background-color: white;}#sk-container-id-3 div.sk-parallel-item:first-child::after {align-self: flex-end;width: 50%;}#sk-container-id-3 div.sk-parallel-item:last-child::after {align-self: flex-start;width: 50%;}#sk-container-id-3 div.sk-parallel-item:only-child::after {width: 0;}#sk-container-id-3 div.sk-dashed-wrapped {border: 1px dashed gray;margin: 0 0.4em 0.5em 0.4em;box-sizing: border-box;padding-bottom: 0.4em;background-color: white;}#sk-container-id-3 div.sk-label label {font-family: monospace;font-weight: bold;display: inline-block;line-height: 1.2em;}#sk-container-id-3 div.sk-label-container {text-align: center;}#sk-container-id-3 div.sk-container {/* jupyter's `normalize.less` sets `[hidden] { display: none; }` but bootstrap.min.css set `[hidden] { display: none !important; }` so we also need the `!important` here to be able to override the default hidden behavior on the sphinx rendered scikit-learn.org. See: https://github.com/scikit-learn/scikit-learn/issues/21755 */display: inline-block !important;position: relative;}#sk-container-id-3 div.sk-text-repr-fallback {display: none;}</style><div id=\"sk-container-id-3\" class=\"sk-top-container\"><div class=\"sk-text-repr-fallback\"><pre>GradientBoostingRegressor()</pre><b>In a Jupyter environment, please rerun this cell to show the HTML representation or trust the notebook. <br />On GitHub, the HTML representation is unable to render, please try loading this page with nbviewer.org.</b></div><div class=\"sk-container\" hidden><div class=\"sk-item\"><div class=\"sk-estimator sk-toggleable\"><input class=\"sk-toggleable__control sk-hidden--visually\" id=\"sk-estimator-id-3\" type=\"checkbox\" checked><label for=\"sk-estimator-id-3\" class=\"sk-toggleable__label sk-toggleable__label-arrow\">GradientBoostingRegressor</label><div class=\"sk-toggleable__content\"><pre>GradientBoostingRegressor()</pre></div></div></div></div></div>"
      ],
      "text/plain": [
       "GradientBoostingRegressor()"
      ]
     },
     "execution_count": 156,
     "metadata": {},
     "output_type": "execute_result"
    }
   ],
   "source": [
    "gbmodel = GradientBoostingRegressor()\n",
    "gbmodel.fit(x_train,y_train)"
   ]
  },
  {
   "cell_type": "code",
   "execution_count": 157,
   "id": "a53c4ab2-2281-4a33-94f7-40e056b28e3c",
   "metadata": {},
   "outputs": [
    {
     "name": "stdout",
     "output_type": "stream",
     "text": [
      "[1.56380565e-02 2.99486898e-01 4.01268392e-02 0.00000000e+00\n",
      " 1.84954034e-02 2.41557682e-02 0.00000000e+00 8.72237069e-03\n",
      " 3.77336530e-03 1.85768628e-02 5.03400046e-03 4.02016537e-01\n",
      " 0.00000000e+00 0.00000000e+00 1.15823037e-04 0.00000000e+00\n",
      " 0.00000000e+00 0.00000000e+00 0.00000000e+00 6.67197363e-04\n",
      " 0.00000000e+00 1.99087674e-03 0.00000000e+00 7.67567565e-05\n",
      " 1.23645493e-02 0.00000000e+00 0.00000000e+00 1.51649888e-03\n",
      " 9.69921881e-03 0.00000000e+00 0.00000000e+00 0.00000000e+00\n",
      " 0.00000000e+00 0.00000000e+00 8.81862351e-04 3.52066492e-04\n",
      " 0.00000000e+00 1.67387780e-04 0.00000000e+00 0.00000000e+00\n",
      " 0.00000000e+00 1.90580081e-03 0.00000000e+00 2.95469193e-03\n",
      " 0.00000000e+00 0.00000000e+00 2.26044321e-02 0.00000000e+00\n",
      " 0.00000000e+00 0.00000000e+00 0.00000000e+00 0.00000000e+00\n",
      " 9.13229642e-03 1.45307761e-03 0.00000000e+00 0.00000000e+00\n",
      " 3.53111876e-03 0.00000000e+00 0.00000000e+00 7.89199788e-03\n",
      " 7.77901365e-03 0.00000000e+00 0.00000000e+00 0.00000000e+00\n",
      " 3.56256481e-04 0.00000000e+00 0.00000000e+00 0.00000000e+00\n",
      " 2.19017613e-03 0.00000000e+00 0.00000000e+00 3.90277224e-04\n",
      " 2.28432622e-03 0.00000000e+00 2.01841733e-04 6.27928865e-04\n",
      " 0.00000000e+00 0.00000000e+00 0.00000000e+00 0.00000000e+00\n",
      " 0.00000000e+00 0.00000000e+00 0.00000000e+00 2.71731452e-03\n",
      " 1.69927741e-04 0.00000000e+00 0.00000000e+00 0.00000000e+00\n",
      " 2.43248248e-02 0.00000000e+00 0.00000000e+00 0.00000000e+00\n",
      " 1.41493662e-02 0.00000000e+00 3.34470459e-04 0.00000000e+00\n",
      " 2.52772723e-04 0.00000000e+00 0.00000000e+00 3.49299440e-04\n",
      " 0.00000000e+00 1.00038825e-03 0.00000000e+00 0.00000000e+00\n",
      " 8.28737601e-04 1.26496360e-03 0.00000000e+00 1.07612387e-03\n",
      " 0.00000000e+00 3.71755337e-04 2.43086007e-03 0.00000000e+00\n",
      " 2.13814967e-04 0.00000000e+00 0.00000000e+00 0.00000000e+00\n",
      " 0.00000000e+00 0.00000000e+00 0.00000000e+00 0.00000000e+00\n",
      " 0.00000000e+00 0.00000000e+00 3.98802386e-04 1.13619433e-02\n",
      " 4.67436456e-03 1.55931768e-04 0.00000000e+00 0.00000000e+00\n",
      " 0.00000000e+00 0.00000000e+00 0.00000000e+00 0.00000000e+00\n",
      " 4.03021317e-03 0.00000000e+00 7.79917181e-04 1.72524762e-03\n",
      " 0.00000000e+00 0.00000000e+00 2.27385338e-04 0.00000000e+00]\n"
     ]
    }
   ],
   "source": [
    "print(gbmodel.feature_importances_)"
   ]
  },
  {
   "cell_type": "code",
   "execution_count": 158,
   "id": "7a22ac08-6e38-4b08-94a8-2e45f10749c0",
   "metadata": {},
   "outputs": [
    {
     "data": {
      "text/html": [
       "<div>\n",
       "<style scoped>\n",
       "    .dataframe tbody tr th:only-of-type {\n",
       "        vertical-align: middle;\n",
       "    }\n",
       "\n",
       "    .dataframe tbody tr th {\n",
       "        vertical-align: top;\n",
       "    }\n",
       "\n",
       "    .dataframe thead th {\n",
       "        text-align: right;\n",
       "    }\n",
       "</style>\n",
       "<table border=\"1\" class=\"dataframe\">\n",
       "  <thead>\n",
       "    <tr style=\"text-align: right;\">\n",
       "      <th></th>\n",
       "      <th>Features</th>\n",
       "      <th>Importance</th>\n",
       "    </tr>\n",
       "  </thead>\n",
       "  <tbody>\n",
       "    <tr>\n",
       "      <th>11</th>\n",
       "      <td>Founded</td>\n",
       "      <td>0.402017</td>\n",
       "    </tr>\n",
       "    <tr>\n",
       "      <th>1</th>\n",
       "      <td>Time</td>\n",
       "      <td>0.299487</td>\n",
       "    </tr>\n",
       "    <tr>\n",
       "      <th>2</th>\n",
       "      <td>Length</td>\n",
       "      <td>0.040127</td>\n",
       "    </tr>\n",
       "    <tr>\n",
       "      <th>88</th>\n",
       "      <td>iata_code_y_CLT</td>\n",
       "      <td>0.024325</td>\n",
       "    </tr>\n",
       "    <tr>\n",
       "      <th>5</th>\n",
       "      <td>runway_count_source_airport</td>\n",
       "      <td>0.024156</td>\n",
       "    </tr>\n",
       "    <tr>\n",
       "      <th>...</th>\n",
       "      <td>...</td>\n",
       "      <td>...</td>\n",
       "    </tr>\n",
       "    <tr>\n",
       "      <th>55</th>\n",
       "      <td>iata_code_x_ONT</td>\n",
       "      <td>0.000000</td>\n",
       "    </tr>\n",
       "    <tr>\n",
       "      <th>54</th>\n",
       "      <td>iata_code_x_OMA</td>\n",
       "      <td>0.000000</td>\n",
       "    </tr>\n",
       "    <tr>\n",
       "      <th>51</th>\n",
       "      <td>iata_code_x_MSY</td>\n",
       "      <td>0.000000</td>\n",
       "    </tr>\n",
       "    <tr>\n",
       "      <th>50</th>\n",
       "      <td>iata_code_x_MSP</td>\n",
       "      <td>0.000000</td>\n",
       "    </tr>\n",
       "    <tr>\n",
       "      <th>139</th>\n",
       "      <td>iata_code_y_TPA</td>\n",
       "      <td>0.000000</td>\n",
       "    </tr>\n",
       "  </tbody>\n",
       "</table>\n",
       "<p>140 rows × 2 columns</p>\n",
       "</div>"
      ],
      "text/plain": [
       "                        Features  Importance\n",
       "11                       Founded    0.402017\n",
       "1                           Time    0.299487\n",
       "2                         Length    0.040127\n",
       "88               iata_code_y_CLT    0.024325\n",
       "5    runway_count_source_airport    0.024156\n",
       "..                           ...         ...\n",
       "55               iata_code_x_ONT    0.000000\n",
       "54               iata_code_x_OMA    0.000000\n",
       "51               iata_code_x_MSY    0.000000\n",
       "50               iata_code_x_MSP    0.000000\n",
       "139              iata_code_y_TPA    0.000000\n",
       "\n",
       "[140 rows x 2 columns]"
      ]
     },
     "execution_count": 158,
     "metadata": {},
     "output_type": "execute_result"
    }
   ],
   "source": [
    "pd.DataFrame({'Features':gbmodel.feature_names_in_,'Importance':gbmodel.feature_importances_}).sort_values(\"Importance\",ascending=False)"
   ]
  },
  {
   "cell_type": "code",
   "execution_count": 159,
   "id": "52fda07f-61b4-4ad3-afd2-ce5808671ef4",
   "metadata": {},
   "outputs": [
    {
     "data": {
      "text/plain": [
       "0.10945666158862555"
      ]
     },
     "execution_count": 159,
     "metadata": {},
     "output_type": "execute_result"
    }
   ],
   "source": [
    "gbmodel.score(x_train,y_train)"
   ]
  },
  {
   "cell_type": "code",
   "execution_count": 160,
   "id": "1e741cc4-12f9-443f-9c76-9948f25e49b5",
   "metadata": {},
   "outputs": [
    {
     "data": {
      "text/plain": [
       "0.10417735013457807"
      ]
     },
     "execution_count": 160,
     "metadata": {},
     "output_type": "execute_result"
    }
   ],
   "source": [
    "gbmodel.score(x_test,y_test)"
   ]
  }
 ],
 "metadata": {
  "colab": {
   "collapsed_sections": [
    "83847867-6233-453e-983b-892c5ff08360",
    "b6cc7cd6-7374-4daf-8cf1-708cb1f9795a",
    "f911d00e-f80d-45d0-a455-eb2648a15e1b",
    "81dab424-5769-4d62-90e8-58b0c6a32e80",
    "d27f7624-161f-4795-8fa0-60dfd04f95da",
    "e7ffffba-c474-4c00-864e-0bad926f8521",
    "28e1a26d-4f34-4788-b108-9b3658400664",
    "deeda3ef-a032-48c2-8377-f77eeaa91210",
    "cef0911d-98be-42c1-89c7-25ffc8cf62ae",
    "ce974515-064e-4102-b984-1cbb08733d66",
    "a7b10333-64b5-4dbc-aa11-94870beadf23",
    "37dd1645-6a45-4e5a-b901-3362dc085fc1",
    "a8078080-147b-435d-866d-24efee004a0a",
    "fd1a1922-230d-41fc-9a85-6f53a51cf33a",
    "ea89a94c-9159-4abd-9ad3-27054ef51d1c",
    "f05bda4a-1818-45ea-83ec-7ba4ab905bed",
    "9275ca05-191f-4d54-acea-eb84347478a3",
    "a6771312-0f04-4d52-9068-fae2c19a18b9",
    "b08be446-8b5b-4589-83f2-69d6a748af93"
   ],
   "provenance": []
  },
  "kernelspec": {
   "display_name": "Python 3 (ipykernel)",
   "language": "python",
   "name": "python3"
  },
  "language_info": {
   "codemirror_mode": {
    "name": "ipython",
    "version": 3
   },
   "file_extension": ".py",
   "mimetype": "text/x-python",
   "name": "python",
   "nbconvert_exporter": "python",
   "pygments_lexer": "ipython3",
   "version": "3.11.5"
  }
 },
 "nbformat": 4,
 "nbformat_minor": 5
}
